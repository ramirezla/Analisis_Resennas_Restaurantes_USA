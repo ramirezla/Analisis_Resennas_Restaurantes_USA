{
 "cells": [
  {
   "cell_type": "markdown",
   "id": "f5656024-c6fa-484c-b51f-52f454729c7f",
   "metadata": {},
   "source": [
    "<h1 align=\"center\"> <span style=\"font-size: 20px;\"> Proyecto Final Grupo Nº 7 </span> <br>\n",
    "    <align=\"center\"> <span style=\"font-size: 15px;\">  Proyecto Yelp & Google Maps - Reviewa y Recomendaciones</span><br>         \n",
    "<align=\"center\"> <span style=\"font-size: 15px;\">@utores:  Javier Castro, Luca Ramallo, Luis Ramírez, Lesmen García.</span> <br>\n",
    "  <a href=\"https://github.com/lesmengp/Proyecto-Final-Grupo-07.git\">GitHub: <span style=\"font-size: 20px;\">Proyecto Yelp & Google Maps</span></a> \n",
    "</h1>"
   ]
  },
  {
   "cell_type": "markdown",
   "id": "c9f9026c-7da9-47b1-9867-037461592c79",
   "metadata": {},
   "source": [
    "<h1 align=\"center\">Análisis de sentimientos utilizando Cloud Natural Language API"
   ]
  },
  {
   "cell_type": "markdown",
   "id": "b37b0f31-aeea-47a7-a59f-ae4c3db3a301",
   "metadata": {},
   "source": [
    "# Elegir el modelo\n",
    "\n",
    "Existen diversos modelos que podemos elegir de acuerdo al objetivo que tengamos: utilizaremos algoritmos de clasificación, predicción, regresión lineal, clustering (ejemplo k-means ó k-nearest neighbor),  Deep Learning (ej: red neuronal), bayesiano, etc y podrá haber variantes si lo que vamos a procesar son imágenes, sonido, texto, valores numéricos. \n",
    "\n",
    "En la siguiente tabla veremos algunos modelos y sus aplicaciones\n",
    "\n",
    "| Modelo | Aplicaciones (Ejemplo de uso) |\n",
    "| --------- | --------- |\n",
    "| Logistic Regression | Predicción de precios de inmuebles |\n",
    "| Fully connected networks | Clasificación |\n",
    "| Convolutional Neural Networks | Procesamiento de imágenes para poder encontrar gatitos en las fotos |\n",
    "| Recurrent Neural Networks | Reconocimiento de Voz |\n",
    "| Random Forest | Detección de Fraude |\n",
    "| Reinforcement Learning | Enseñarle a la máquina a jugar videojuegos y vencer! |\n",
    "| Generative Models | Creación de imágenes |\n",
    "| K-means Crear | Clusters a partir de datos sin etiquetar. Segmentar audiencias o Inventarios |\n",
    "| k-Nearest Neighbors | motores de recomendación (por similitud/cercanía) |\n",
    "| Bayesian Clasifiers | Clasificación de emails: Spam o no |"
   ]
  },
  {
   "cell_type": "markdown",
   "id": "fc7b02f9-5f7f-4db0-b4ff-9c00bde8f446",
   "metadata": {},
   "source": [
    "## Analisis de Sentimiento\n",
    "\n",
    "Enable: \"Google developers console API activation\"<br>\n",
    "  \n",
    "Cloud Natural Language API<br>\n",
    "Google Enterprise API<br>\n",
    "Provides natural language understanding technologies, such as sentiment analysis, entity…<br>\n",
    "\n",
    "Descripción general<br>\n",
    "Provides natural language understanding technologies, such as sentiment analysis, entity recognition, entity sentiment analysis, and other text annotations, to developers."
   ]
  },
  {
   "cell_type": "markdown",
   "id": "3219ff50-7750-4490-bcf5-b2beca0894ce",
   "metadata": {},
   "source": [
    "### Se importan las librerias"
   ]
  },
  {
   "cell_type": "code",
   "execution_count": 1,
   "id": "7c6c9ce2-81b3-4a6e-bf97-f7332c9e51d2",
   "metadata": {},
   "outputs": [],
   "source": [
    "import pandas as pd\n",
    "import numpy as np\n",
    "\n",
    "from google.cloud import language_v2\n",
    "from google.cloud import bigquery"
   ]
  },
  {
   "cell_type": "markdown",
   "id": "3273b4bd-217c-4646-b3f4-5dbfd9afdfaa",
   "metadata": {},
   "source": [
    "### Se obtienen los datos para analizar."
   ]
  },
  {
   "cell_type": "code",
   "execution_count": 2,
   "id": "3021d688-4ff5-4a8d-aac7-08af8a65ed1b",
   "metadata": {},
   "outputs": [
    {
     "data": {
      "text/html": [
       "<div>\n",
       "<style scoped>\n",
       "    .dataframe tbody tr th:only-of-type {\n",
       "        vertical-align: middle;\n",
       "    }\n",
       "\n",
       "    .dataframe tbody tr th {\n",
       "        vertical-align: top;\n",
       "    }\n",
       "\n",
       "    .dataframe thead th {\n",
       "        text-align: right;\n",
       "    }\n",
       "</style>\n",
       "<table border=\"1\" class=\"dataframe\">\n",
       "  <thead>\n",
       "    <tr style=\"text-align: right;\">\n",
       "      <th></th>\n",
       "      <th>review_id</th>\n",
       "      <th>stars</th>\n",
       "      <th>useful</th>\n",
       "      <th>cool</th>\n",
       "      <th>text</th>\n",
       "      <th>categories</th>\n",
       "    </tr>\n",
       "  </thead>\n",
       "  <tbody>\n",
       "    <tr>\n",
       "      <th>0</th>\n",
       "      <td>jUbE2mpzEVQsVteLttNH9w</td>\n",
       "      <td>1</td>\n",
       "      <td>14</td>\n",
       "      <td>0</td>\n",
       "      <td>Springfield Psychological is supposed to be aw...</td>\n",
       "      <td>Health &amp; Medical, Doctors, Psychologists, Psyc...</td>\n",
       "    </tr>\n",
       "    <tr>\n",
       "      <th>1</th>\n",
       "      <td>wRPjm8ORJawrE6LaPu_f5w</td>\n",
       "      <td>1</td>\n",
       "      <td>13</td>\n",
       "      <td>0</td>\n",
       "      <td>BEWARE!!! I would NOT use this company!!! Plea...</td>\n",
       "      <td>Siding, Home Cleaning, Windows Installation, R...</td>\n",
       "    </tr>\n",
       "    <tr>\n",
       "      <th>2</th>\n",
       "      <td>pPNcPEPKA3gDp9vEhIgILA</td>\n",
       "      <td>1</td>\n",
       "      <td>16</td>\n",
       "      <td>1</td>\n",
       "      <td>Bert Smith= Scavengers. \\n\\n I brought my 2015...</td>\n",
       "      <td>Auto Parts &amp; Supplies, Car Dealers, Automotive...</td>\n",
       "    </tr>\n",
       "    <tr>\n",
       "      <th>3</th>\n",
       "      <td>W9rET6IMVP9Voe79XxsKhQ</td>\n",
       "      <td>1</td>\n",
       "      <td>16</td>\n",
       "      <td>1</td>\n",
       "      <td>My wife had a terrible experience.  The doctor...</td>\n",
       "      <td>Dermatologists, Doctors, Skin Care, Health &amp; M...</td>\n",
       "    </tr>\n",
       "    <tr>\n",
       "      <th>4</th>\n",
       "      <td>60ZBxAVojcXV34j_gBkQZA</td>\n",
       "      <td>1</td>\n",
       "      <td>14</td>\n",
       "      <td>3</td>\n",
       "      <td>Not gonna lie, this place is located in a real...</td>\n",
       "      <td>Restaurants, Japanese, Ramen</td>\n",
       "    </tr>\n",
       "  </tbody>\n",
       "</table>\n",
       "</div>"
      ],
      "text/plain": [
       "                review_id  stars  useful  cool  \\\n",
       "0  jUbE2mpzEVQsVteLttNH9w      1      14     0   \n",
       "1  wRPjm8ORJawrE6LaPu_f5w      1      13     0   \n",
       "2  pPNcPEPKA3gDp9vEhIgILA      1      16     1   \n",
       "3  W9rET6IMVP9Voe79XxsKhQ      1      16     1   \n",
       "4  60ZBxAVojcXV34j_gBkQZA      1      14     3   \n",
       "\n",
       "                                                text  \\\n",
       "0  Springfield Psychological is supposed to be aw...   \n",
       "1  BEWARE!!! I would NOT use this company!!! Plea...   \n",
       "2  Bert Smith= Scavengers. \\n\\n I brought my 2015...   \n",
       "3  My wife had a terrible experience.  The doctor...   \n",
       "4  Not gonna lie, this place is located in a real...   \n",
       "\n",
       "                                          categories  \n",
       "0  Health & Medical, Doctors, Psychologists, Psyc...  \n",
       "1  Siding, Home Cleaning, Windows Installation, R...  \n",
       "2  Auto Parts & Supplies, Car Dealers, Automotive...  \n",
       "3  Dermatologists, Doctors, Skin Care, Health & M...  \n",
       "4                       Restaurants, Japanese, Ramen  "
      ]
     },
     "execution_count": 2,
     "metadata": {},
     "output_type": "execute_result"
    }
   ],
   "source": [
    "client = bigquery.Client()\n",
    "sql = \"\"\"\n",
    "      SELECT yr.review_id, yr.stars, yr.useful, yr.cool, yr.text, yb.categories \n",
    "        FROM `eternal-empire-399016.gmy_bq.df_yelp_reviews` AS yr\n",
    "        INNER JOIN `eternal-empire-399016.gmy_bq.df_yelp_business` AS yb \n",
    "          ON yr.business_id = yb.business_id\n",
    "        LIMIT 1000\n",
    "      \"\"\"\n",
    "df_yelp_reviews_business = client.query(sql).to_dataframe()\n",
    "df_yelp_reviews_business.head(5)"
   ]
  },
  {
   "cell_type": "markdown",
   "id": "e7e05ca6-c0c7-4c06-9c16-3800a5bc273a",
   "metadata": {},
   "source": [
    "### Información importante\n",
    "\n",
    "El análisis de opiniones intenta determinar la actitud general (positiva o negativa) y se representa mediante \n",
    "valores numéricos de score y magnitude\n",
    "\n",
    "La siguiente tabla muestra algunos valores de muestra y cómo interpretarlos:\n",
    "\n",
    "| Opinión | Valores de muestra | Rango usado |\n",
    "| --------- | --------- | --------- |\n",
    "| Claramente positiva | \"score\": 0.8, \"magnitude\": 3.0 | score > 0.7 |\n",
    "| Neutral | \"score\": 0.1, \"magnitude\": 0.0 | 0.1 < score < 0.7 |\n",
    "| Mixto | \"score\": 0.0, \"magnitude\": 4.0 | -0.5 < score < 0.0 |\n",
    "| Claramente negativa | \"score\": -0.6, \"magnitude\": 4.0 | -0.6 < score |  \n",
    "\n",
    "* Las opiniones \"claramente positivas\" y \"claramente negativas\" varían según los clientes y los casos, Por ejemplo, puedes definir un umbral de cualquier puntuación superior a 0.25 como claramente positivo, y luego modificar el umbral de puntuación a 0.15 después de revisar tus datos y resultados y descubrir que las puntuaciones de 0.15 a 0.25 también deben considerarse positivas."
   ]
  },
  {
   "cell_type": "markdown",
   "id": "7fdf2c2b-9d88-4089-bcda-a3deee9a1dea",
   "metadata": {
    "jupyter": {
     "source_hidden": true
    },
    "tags": []
   },
   "source": [
    "### Funcion para el analisis de sentimiento\n",
    "\n",
    "Entrada: text_to_analyze"
   ]
  },
  {
   "cell_type": "code",
   "execution_count": 7,
   "id": "1c4ae472-3da9-49a9-8999-5ddc222fc870",
   "metadata": {
    "jupyter": {
     "source_hidden": true
    },
    "tags": []
   },
   "outputs": [],
   "source": [
    "text_to_analyze = ''\n",
    "\n",
    "def sample_analyze_sentiment(texto_analizar: str = text_to_analyze) -> None:\n",
    "    \"\"\"\n",
    "    Analyzes Sentiment in a string.\n",
    "\n",
    "    Args:\n",
    "      text_content: The text content to analyze.\n",
    "    \"\"\"\n",
    "    print(texto_analizar)\n",
    "    client = language_v2.LanguageServiceClient()\n",
    "\n",
    "    # Available types: PLAIN_TEXT, HTML\n",
    "    document_type_in_plain_text = language_v2.Document.Type.PLAIN_TEXT\n",
    "\n",
    "    # Optional. If not specified, the language is automatically detected.\n",
    "    # For list of supported languages:\n",
    "    # https://cloud.google.com/natural-language/docs/languages\n",
    "    language_code = \"en\"\n",
    "    document = {\n",
    "        \"content\": texto_analizar,\n",
    "        \"type_\": document_type_in_plain_text,\n",
    "        \"language_code\": language_code,\n",
    "    }\n",
    "    ##print(document)\n",
    "    # Available values: NONE, UTF8, UTF16, UTF32\n",
    "    # See https://cloud.google.com/natural-language/docs/reference/rest/v2/EncodingType.\n",
    "    encoding_type = language_v2.EncodingType.UTF8\n",
    "\n",
    "    response = client.analyze_sentiment(\n",
    "        request={\"document\": document, \"encoding_type\": encoding_type}\n",
    "    )\n",
    "    \n",
    "    ##print(response)\n",
    "    # Get overall sentiment of the input document\n",
    "    print(f\"Document sentiment score: {response.document_sentiment.score}\")\n",
    "    print(f\"Document sentiment magnitude: {response.document_sentiment.magnitude}\")\n",
    "    # Get sentiment for all sentences in the document\n",
    "    for sentence in response.sentences:\n",
    "        print(f\"Sentence text: {sentence.text.content}\")\n",
    "        print(f\"Sentence sentiment score: {sentence.sentiment.score}\")\n",
    "        print(f\"Sentence sentiment magnitude: {sentence.sentiment.magnitude}\")\n",
    "\n",
    "    # Get the language of the text, which will be the same as\n",
    "    # the language specified in the request or, if not specified,\n",
    "    # the automatically-detected language.\n",
    "    print(f\"Language of the text: {response.language_code}\")"
   ]
  },
  {
   "cell_type": "markdown",
   "id": "771346ad-05f4-4e19-9e7d-8e03f106a7c8",
   "metadata": {
    "jupyter": {
     "source_hidden": true
    },
    "tags": []
   },
   "source": [
    "### Ejemplo sencillo con un solo dato.\n",
    "Se imprime la informacion y el sentimiento general del texto completo y se analiza cada frase del texto."
   ]
  },
  {
   "cell_type": "code",
   "execution_count": 6,
   "id": "2c6400e0-9bbb-428c-9bbe-a1cfa5feb695",
   "metadata": {
    "collapsed": true,
    "jupyter": {
     "outputs_hidden": true,
     "source_hidden": true
    },
    "tags": []
   },
   "outputs": [
    {
     "name": "stdout",
     "output_type": "stream",
     "text": [
      "Over the past ten years grocery stores have evolved to include an organic section and it's popularity has sky rocketed. Enter Publix Greenwise market, a new concept from our friends in Lakeland. \n",
      "Much like whole foods, sprouts, and others Publix enters the full organic scene with a bang. \n",
      "I love the layout, decor and size of this place, it's a great look. It has all you'd expect from a Publix and more. I loved the cheese selection and olive bar. The craft beer selection is awesome and they have a florida section to support local breweries. \n",
      "There is a coffee shop up front that looked kinda busy, i should grab a java next time.\n",
      "I found everything i wanted to craft a great meal and it was market price. \n",
      "Will I keep coming back? Probably not, my normal Publix has all the greenwise I need. Is it a cool, trendy new Publix? Yes.\n",
      "A nice addition to the Lutz/Odessa area.\n",
      "Document sentiment score: 0.7089999914169312\n",
      "Document sentiment magnitude: 11.394000053405762\n",
      "Sentence text: Over the past ten years grocery stores have evolved to include an organic section and it's popularity has sky rocketed.\n",
      "Sentence sentiment score: 0.8029999732971191\n",
      "Sentence sentiment magnitude: 0.843999981880188\n",
      "Sentence text: Enter Publix Greenwise market, a new concept from our friends in Lakeland.\n",
      "Sentence sentiment score: 0.6069999933242798\n",
      "Sentence sentiment magnitude: 0.6589999794960022\n",
      "Sentence text: Much like whole foods, sprouts, and others Publix enters the full organic scene with a bang.\n",
      "Sentence sentiment score: 0.9440000057220459\n",
      "Sentence sentiment magnitude: 0.9670000076293945\n",
      "Sentence text: I love the layout, decor and size of this place, it's a great look.\n",
      "Sentence sentiment score: 0.9179999828338623\n",
      "Sentence sentiment magnitude: 0.9800000190734863\n",
      "Sentence text: It has all you'd expect from a Publix and more.\n",
      "Sentence sentiment score: 0.9549999833106995\n",
      "Sentence sentiment magnitude: 0.9909999966621399\n",
      "Sentence text: I loved the cheese selection and olive bar.\n",
      "Sentence sentiment score: 0.9340000152587891\n",
      "Sentence sentiment magnitude: 0.9860000014305115\n",
      "Sentence text: The craft beer selection is awesome and they have a florida section to support local breweries.\n",
      "Sentence sentiment score: 0.9459999799728394\n",
      "Sentence sentiment magnitude: 0.9850000143051147\n",
      "Sentence text: There is a coffee shop up front that looked kinda busy, i should grab a java next time.\n",
      "Sentence sentiment score: 0.5550000071525574\n",
      "Sentence sentiment magnitude: 0.7749999761581421\n",
      "Sentence text: I found everything i wanted to craft a great meal and it was market price.\n",
      "Sentence sentiment score: 0.9620000123977661\n",
      "Sentence sentiment magnitude: 0.9919999837875366\n",
      "Sentence text: Will I keep coming back?\n",
      "Sentence sentiment score: 0.5130000114440918\n",
      "Sentence sentiment magnitude: 0.7179999947547913\n",
      "Sentence text: Probably not, my normal Publix has all the greenwise I need.\n",
      "Sentence sentiment score: 0.34200000762939453\n",
      "Sentence sentiment magnitude: 0.8500000238418579\n",
      "Sentence text: Is it a cool, trendy new Publix?\n",
      "Sentence sentiment score: 0.3700000047683716\n",
      "Sentence sentiment magnitude: 0.46799999475479126\n",
      "Sentence text: Yes.\n",
      "Sentence sentiment score: 0.15600000321865082\n",
      "Sentence sentiment magnitude: 0.1979999989271164\n",
      "Sentence text: A nice addition to the Lutz/Odessa area.\n",
      "Sentence sentiment score: 0.9309999942779541\n",
      "Sentence sentiment magnitude: 0.9810000061988831\n",
      "Language of the text: en\n"
     ]
    }
   ],
   "source": [
    "sample_analyze_sentiment(df_yelp_reviews_business.iloc[0,4])\n",
    "##sample_analyze_sentiment(\"I am so happy and joyful.\")"
   ]
  },
  {
   "cell_type": "markdown",
   "id": "02072858-d2f0-4751-887b-fd820391bf3d",
   "metadata": {},
   "source": [
    "### Funcion para el analisis de sentimiento.\n",
    "- Entrada:<br> \n",
    "    - text_to_analyze: Contiene el texto a analizar.<br>\n",
    "- Salida:\n",
    "    - score\n",
    "    - magnitude\n",
    "    \n",
    "| Opinión | Valores de muestra | Rango usado |\n",
    "| --------- | --------- | --------- |\n",
    "| Claramente positiva | \"score\": 0.8, \"magnitude\": 3.0 | score > 0.7 |\n",
    "| Neutral | \"score\": 0.1, \"magnitude\": 0.0 | 0.1 < score < 0.7 |\n",
    "| Mixto | \"score\": 0.0, \"magnitude\": 4.0 | -0.5 < score < 0.0 |\n",
    "| Claramente negativa | \"score\": -0.6, \"magnitude\": 4.0 | -0.6 < score |    "
   ]
  },
  {
   "cell_type": "code",
   "execution_count": 6,
   "id": "536761cf-9d33-43ae-9112-e4ca42b31ca9",
   "metadata": {},
   "outputs": [],
   "source": [
    "text_to_analyze = ''\n",
    "\n",
    "def analisis_sentimento(texto_analizar: str = text_to_analyze) -> None:\n",
    "    ##print(texto_analizar)\n",
    "    client = language_v2.LanguageServiceClient()\n",
    "\n",
    "    # Available types: PLAIN_TEXT, HTML\n",
    "    document_type_in_plain_text = language_v2.Document.Type.PLAIN_TEXT\n",
    "\n",
    "    # Optional. If not specified, the language is automatically detected.\n",
    "    # For list of supported languages:\n",
    "    # https://cloud.google.com/natural-language/docs/languages\n",
    "    language_code = \"en\"\n",
    "    document = {\n",
    "        \"content\": texto_analizar,\n",
    "        \"type_\": document_type_in_plain_text,\n",
    "        \"language_code\": language_code,\n",
    "    }\n",
    "    ##print(document)\n",
    "    # Available values: NONE, UTF8, UTF16, UTF32\n",
    "    # See https://cloud.google.com/natural-language/docs/reference/rest/v2/EncodingType.\n",
    "    encoding_type = language_v2.EncodingType.UTF8\n",
    "\n",
    "    response = client.analyze_sentiment(\n",
    "        request={\"document\": document, \"encoding_type\": encoding_type}\n",
    "    )\n",
    "    score = response.document_sentiment.score\n",
    "    magnitude = response.document_sentiment.magnitude\n",
    "    ##print(f\"Document sentiment score: {score}\")\n",
    "    ##print(f\"Document sentiment magnitude: {magnitude}\")\n",
    "    \n",
    "#79  ->  0.06700000166893005 0.13300000131130219 \n",
    "#343  ->  -0.008999999612569809 2.8550000190734863 \n",
    "#389  ->  0.08100000023841858 1.9700000286102295 \n",
    "#677  ->  0.05000000074505806 2.1570000648498535 \n",
    "#810  ->  0.008999999612569809 2.0290000438690186 \n",
    "#932  ->  -0.004999999888241291 2.871000051498413 \n",
    "#946  ->  0.08900000154972076 0.9539999961853027 \n",
    "#969  ->  -0.035999998450279236 1.9010000228881836 \n",
    "    \n",
    "    sentimiento = \"\"\n",
    "    if ((score > 0.7) & (magnitude > 3.0)):\n",
    "        sentimiento = \"Claramente positiva\"\n",
    "    elif ((score < -0.1) & (magnitude > 0.5)):\n",
    "        sentimiento = \"Claramente negativa\"\n",
    "    elif ((score > -0.1) & (magnitude < 3)):\n",
    "        sentimiento = \"Neutral\"\n",
    "    elif ((score > -0.15) & (magnitude > 3.0)):\n",
    "        sentimiento = \"Mixto\"     \n",
    "    \n",
    "    return score, magnitude, sentimiento\n",
    "    #return sentimiento"
   ]
  },
  {
   "cell_type": "code",
   "execution_count": 7,
   "id": "2ce3550b-4530-4fc3-b1f9-f2c44261bafd",
   "metadata": {},
   "outputs": [
    {
     "name": "stdout",
     "output_type": "stream",
     "text": [
      "Springfield Psychological is supposed to be aware of mental health issues and implications.  Covered by insurance yet treated rudely when told I have to self pay as they were unable to get through to Aetna.  I called Aetna and got through immediately.  Continue to get constant bills for a service that is covered and my copay payment complete.  Terrible customer service.  In this area I would expect kindness and compassion.  Not ever going back.  \n",
      "\n",
      "Trying to find the managing partners for this group but their name is no where to be found.\n"
     ]
    },
    {
     "ename": "PermissionDenied",
     "evalue": "403 Cloud Natural Language API has not been used in project 503520319484 before or it is disabled. Enable it by visiting https://console.developers.google.com/apis/api/language.googleapis.com/overview?project=503520319484 then retry. If you enabled this API recently, wait a few minutes for the action to propagate to our systems and retry. [links {\n  description: \"Google developers console API activation\"\n  url: \"https://console.developers.google.com/apis/api/language.googleapis.com/overview?project=503520319484\"\n}\n, reason: \"SERVICE_DISABLED\"\ndomain: \"googleapis.com\"\nmetadata {\n  key: \"consumer\"\n  value: \"projects/503520319484\"\n}\nmetadata {\n  key: \"service\"\n  value: \"language.googleapis.com\"\n}\n]",
     "output_type": "error",
     "traceback": [
      "\u001b[0;31m---------------------------------------------------------------------------\u001b[0m",
      "\u001b[0;31m_InactiveRpcError\u001b[0m                         Traceback (most recent call last)",
      "File \u001b[0;32m/opt/conda/lib/python3.10/site-packages/google/api_core/grpc_helpers.py:65\u001b[0m, in \u001b[0;36m_wrap_unary_errors.<locals>.error_remapped_callable\u001b[0;34m(*args, **kwargs)\u001b[0m\n\u001b[1;32m     64\u001b[0m \u001b[38;5;28;01mtry\u001b[39;00m:\n\u001b[0;32m---> 65\u001b[0m     \u001b[38;5;28;01mreturn\u001b[39;00m \u001b[43mcallable_\u001b[49m\u001b[43m(\u001b[49m\u001b[38;5;241;43m*\u001b[39;49m\u001b[43margs\u001b[49m\u001b[43m,\u001b[49m\u001b[43m \u001b[49m\u001b[38;5;241;43m*\u001b[39;49m\u001b[38;5;241;43m*\u001b[39;49m\u001b[43mkwargs\u001b[49m\u001b[43m)\u001b[49m\n\u001b[1;32m     66\u001b[0m \u001b[38;5;28;01mexcept\u001b[39;00m grpc\u001b[38;5;241m.\u001b[39mRpcError \u001b[38;5;28;01mas\u001b[39;00m exc:\n",
      "File \u001b[0;32m/opt/conda/lib/python3.10/site-packages/grpc/_channel.py:1161\u001b[0m, in \u001b[0;36m_UnaryUnaryMultiCallable.__call__\u001b[0;34m(self, request, timeout, metadata, credentials, wait_for_ready, compression)\u001b[0m\n\u001b[1;32m   1155\u001b[0m (\n\u001b[1;32m   1156\u001b[0m     state,\n\u001b[1;32m   1157\u001b[0m     call,\n\u001b[1;32m   1158\u001b[0m ) \u001b[38;5;241m=\u001b[39m \u001b[38;5;28mself\u001b[39m\u001b[38;5;241m.\u001b[39m_blocking(\n\u001b[1;32m   1159\u001b[0m     request, timeout, metadata, credentials, wait_for_ready, compression\n\u001b[1;32m   1160\u001b[0m )\n\u001b[0;32m-> 1161\u001b[0m \u001b[38;5;28;01mreturn\u001b[39;00m \u001b[43m_end_unary_response_blocking\u001b[49m\u001b[43m(\u001b[49m\u001b[43mstate\u001b[49m\u001b[43m,\u001b[49m\u001b[43m \u001b[49m\u001b[43mcall\u001b[49m\u001b[43m,\u001b[49m\u001b[43m \u001b[49m\u001b[38;5;28;43;01mFalse\u001b[39;49;00m\u001b[43m,\u001b[49m\u001b[43m \u001b[49m\u001b[38;5;28;43;01mNone\u001b[39;49;00m\u001b[43m)\u001b[49m\n",
      "File \u001b[0;32m/opt/conda/lib/python3.10/site-packages/grpc/_channel.py:1004\u001b[0m, in \u001b[0;36m_end_unary_response_blocking\u001b[0;34m(state, call, with_call, deadline)\u001b[0m\n\u001b[1;32m   1003\u001b[0m \u001b[38;5;28;01melse\u001b[39;00m:\n\u001b[0;32m-> 1004\u001b[0m     \u001b[38;5;28;01mraise\u001b[39;00m _InactiveRpcError(state)\n",
      "\u001b[0;31m_InactiveRpcError\u001b[0m: <_InactiveRpcError of RPC that terminated with:\n\tstatus = StatusCode.PERMISSION_DENIED\n\tdetails = \"Cloud Natural Language API has not been used in project 503520319484 before or it is disabled. Enable it by visiting https://console.developers.google.com/apis/api/language.googleapis.com/overview?project=503520319484 then retry. If you enabled this API recently, wait a few minutes for the action to propagate to our systems and retry.\"\n\tdebug_error_string = \"UNKNOWN:Error received from peer ipv4:172.217.203.95:443 {grpc_message:\"Cloud Natural Language API has not been used in project 503520319484 before or it is disabled. Enable it by visiting https://console.developers.google.com/apis/api/language.googleapis.com/overview?project=503520319484 then retry. If you enabled this API recently, wait a few minutes for the action to propagate to our systems and retry.\", grpc_status:7, created_time:\"2023-10-15T14:16:51.067375132+00:00\"}\"\n>",
      "\nThe above exception was the direct cause of the following exception:\n",
      "\u001b[0;31mPermissionDenied\u001b[0m                          Traceback (most recent call last)",
      "Cell \u001b[0;32mIn[7], line 2\u001b[0m\n\u001b[1;32m      1\u001b[0m \u001b[38;5;28mprint\u001b[39m(df_yelp_reviews_business\u001b[38;5;241m.\u001b[39miloc[\u001b[38;5;241m0\u001b[39m,\u001b[38;5;241m4\u001b[39m])\n\u001b[0;32m----> 2\u001b[0m \u001b[38;5;28mprint\u001b[39m(\u001b[43manalisis_sentimento\u001b[49m\u001b[43m(\u001b[49m\u001b[43mdf_yelp_reviews_business\u001b[49m\u001b[38;5;241;43m.\u001b[39;49m\u001b[43miloc\u001b[49m\u001b[43m[\u001b[49m\u001b[38;5;241;43m1\u001b[39;49m\u001b[43m,\u001b[49m\u001b[38;5;241;43m4\u001b[39;49m\u001b[43m]\u001b[49m\u001b[43m)\u001b[49m)\n",
      "Cell \u001b[0;32mIn[6], line 24\u001b[0m, in \u001b[0;36manalisis_sentimento\u001b[0;34m(texto_analizar)\u001b[0m\n\u001b[1;32m     19\u001b[0m \u001b[38;5;66;03m##print(document)\u001b[39;00m\n\u001b[1;32m     20\u001b[0m \u001b[38;5;66;03m# Available values: NONE, UTF8, UTF16, UTF32\u001b[39;00m\n\u001b[1;32m     21\u001b[0m \u001b[38;5;66;03m# See https://cloud.google.com/natural-language/docs/reference/rest/v2/EncodingType.\u001b[39;00m\n\u001b[1;32m     22\u001b[0m encoding_type \u001b[38;5;241m=\u001b[39m language_v2\u001b[38;5;241m.\u001b[39mEncodingType\u001b[38;5;241m.\u001b[39mUTF8\n\u001b[0;32m---> 24\u001b[0m response \u001b[38;5;241m=\u001b[39m \u001b[43mclient\u001b[49m\u001b[38;5;241;43m.\u001b[39;49m\u001b[43manalyze_sentiment\u001b[49m\u001b[43m(\u001b[49m\n\u001b[1;32m     25\u001b[0m \u001b[43m    \u001b[49m\u001b[43mrequest\u001b[49m\u001b[38;5;241;43m=\u001b[39;49m\u001b[43m{\u001b[49m\u001b[38;5;124;43m\"\u001b[39;49m\u001b[38;5;124;43mdocument\u001b[39;49m\u001b[38;5;124;43m\"\u001b[39;49m\u001b[43m:\u001b[49m\u001b[43m \u001b[49m\u001b[43mdocument\u001b[49m\u001b[43m,\u001b[49m\u001b[43m \u001b[49m\u001b[38;5;124;43m\"\u001b[39;49m\u001b[38;5;124;43mencoding_type\u001b[39;49m\u001b[38;5;124;43m\"\u001b[39;49m\u001b[43m:\u001b[49m\u001b[43m \u001b[49m\u001b[43mencoding_type\u001b[49m\u001b[43m}\u001b[49m\n\u001b[1;32m     26\u001b[0m \u001b[43m\u001b[49m\u001b[43m)\u001b[49m\n\u001b[1;32m     27\u001b[0m score \u001b[38;5;241m=\u001b[39m response\u001b[38;5;241m.\u001b[39mdocument_sentiment\u001b[38;5;241m.\u001b[39mscore\n\u001b[1;32m     28\u001b[0m magnitude \u001b[38;5;241m=\u001b[39m response\u001b[38;5;241m.\u001b[39mdocument_sentiment\u001b[38;5;241m.\u001b[39mmagnitude\n",
      "File \u001b[0;32m/opt/conda/lib/python3.10/site-packages/google/cloud/language_v2/services/language_service/client.py:522\u001b[0m, in \u001b[0;36mLanguageServiceClient.analyze_sentiment\u001b[0;34m(self, request, document, encoding_type, retry, timeout, metadata)\u001b[0m\n\u001b[1;32m    519\u001b[0m rpc \u001b[38;5;241m=\u001b[39m \u001b[38;5;28mself\u001b[39m\u001b[38;5;241m.\u001b[39m_transport\u001b[38;5;241m.\u001b[39m_wrapped_methods[\u001b[38;5;28mself\u001b[39m\u001b[38;5;241m.\u001b[39m_transport\u001b[38;5;241m.\u001b[39manalyze_sentiment]\n\u001b[1;32m    521\u001b[0m \u001b[38;5;66;03m# Send the request.\u001b[39;00m\n\u001b[0;32m--> 522\u001b[0m response \u001b[38;5;241m=\u001b[39m \u001b[43mrpc\u001b[49m\u001b[43m(\u001b[49m\n\u001b[1;32m    523\u001b[0m \u001b[43m    \u001b[49m\u001b[43mrequest\u001b[49m\u001b[43m,\u001b[49m\n\u001b[1;32m    524\u001b[0m \u001b[43m    \u001b[49m\u001b[43mretry\u001b[49m\u001b[38;5;241;43m=\u001b[39;49m\u001b[43mretry\u001b[49m\u001b[43m,\u001b[49m\n\u001b[1;32m    525\u001b[0m \u001b[43m    \u001b[49m\u001b[43mtimeout\u001b[49m\u001b[38;5;241;43m=\u001b[39;49m\u001b[43mtimeout\u001b[49m\u001b[43m,\u001b[49m\n\u001b[1;32m    526\u001b[0m \u001b[43m    \u001b[49m\u001b[43mmetadata\u001b[49m\u001b[38;5;241;43m=\u001b[39;49m\u001b[43mmetadata\u001b[49m\u001b[43m,\u001b[49m\n\u001b[1;32m    527\u001b[0m \u001b[43m\u001b[49m\u001b[43m)\u001b[49m\n\u001b[1;32m    529\u001b[0m \u001b[38;5;66;03m# Done; return the response.\u001b[39;00m\n\u001b[1;32m    530\u001b[0m \u001b[38;5;28;01mreturn\u001b[39;00m response\n",
      "File \u001b[0;32m/opt/conda/lib/python3.10/site-packages/google/api_core/gapic_v1/method.py:113\u001b[0m, in \u001b[0;36m_GapicCallable.__call__\u001b[0;34m(self, timeout, retry, *args, **kwargs)\u001b[0m\n\u001b[1;32m    110\u001b[0m     metadata\u001b[38;5;241m.\u001b[39mextend(\u001b[38;5;28mself\u001b[39m\u001b[38;5;241m.\u001b[39m_metadata)\n\u001b[1;32m    111\u001b[0m     kwargs[\u001b[38;5;124m\"\u001b[39m\u001b[38;5;124mmetadata\u001b[39m\u001b[38;5;124m\"\u001b[39m] \u001b[38;5;241m=\u001b[39m metadata\n\u001b[0;32m--> 113\u001b[0m \u001b[38;5;28;01mreturn\u001b[39;00m \u001b[43mwrapped_func\u001b[49m\u001b[43m(\u001b[49m\u001b[38;5;241;43m*\u001b[39;49m\u001b[43margs\u001b[49m\u001b[43m,\u001b[49m\u001b[43m \u001b[49m\u001b[38;5;241;43m*\u001b[39;49m\u001b[38;5;241;43m*\u001b[39;49m\u001b[43mkwargs\u001b[49m\u001b[43m)\u001b[49m\n",
      "File \u001b[0;32m/opt/conda/lib/python3.10/site-packages/google/api_core/retry.py:349\u001b[0m, in \u001b[0;36mRetry.__call__.<locals>.retry_wrapped_func\u001b[0;34m(*args, **kwargs)\u001b[0m\n\u001b[1;32m    345\u001b[0m target \u001b[38;5;241m=\u001b[39m functools\u001b[38;5;241m.\u001b[39mpartial(func, \u001b[38;5;241m*\u001b[39margs, \u001b[38;5;241m*\u001b[39m\u001b[38;5;241m*\u001b[39mkwargs)\n\u001b[1;32m    346\u001b[0m sleep_generator \u001b[38;5;241m=\u001b[39m exponential_sleep_generator(\n\u001b[1;32m    347\u001b[0m     \u001b[38;5;28mself\u001b[39m\u001b[38;5;241m.\u001b[39m_initial, \u001b[38;5;28mself\u001b[39m\u001b[38;5;241m.\u001b[39m_maximum, multiplier\u001b[38;5;241m=\u001b[39m\u001b[38;5;28mself\u001b[39m\u001b[38;5;241m.\u001b[39m_multiplier\n\u001b[1;32m    348\u001b[0m )\n\u001b[0;32m--> 349\u001b[0m \u001b[38;5;28;01mreturn\u001b[39;00m \u001b[43mretry_target\u001b[49m\u001b[43m(\u001b[49m\n\u001b[1;32m    350\u001b[0m \u001b[43m    \u001b[49m\u001b[43mtarget\u001b[49m\u001b[43m,\u001b[49m\n\u001b[1;32m    351\u001b[0m \u001b[43m    \u001b[49m\u001b[38;5;28;43mself\u001b[39;49m\u001b[38;5;241;43m.\u001b[39;49m\u001b[43m_predicate\u001b[49m\u001b[43m,\u001b[49m\n\u001b[1;32m    352\u001b[0m \u001b[43m    \u001b[49m\u001b[43msleep_generator\u001b[49m\u001b[43m,\u001b[49m\n\u001b[1;32m    353\u001b[0m \u001b[43m    \u001b[49m\u001b[38;5;28;43mself\u001b[39;49m\u001b[38;5;241;43m.\u001b[39;49m\u001b[43m_timeout\u001b[49m\u001b[43m,\u001b[49m\n\u001b[1;32m    354\u001b[0m \u001b[43m    \u001b[49m\u001b[43mon_error\u001b[49m\u001b[38;5;241;43m=\u001b[39;49m\u001b[43mon_error\u001b[49m\u001b[43m,\u001b[49m\n\u001b[1;32m    355\u001b[0m \u001b[43m\u001b[49m\u001b[43m)\u001b[49m\n",
      "File \u001b[0;32m/opt/conda/lib/python3.10/site-packages/google/api_core/retry.py:191\u001b[0m, in \u001b[0;36mretry_target\u001b[0;34m(target, predicate, sleep_generator, timeout, on_error, **kwargs)\u001b[0m\n\u001b[1;32m    189\u001b[0m \u001b[38;5;28;01mfor\u001b[39;00m sleep \u001b[38;5;129;01min\u001b[39;00m sleep_generator:\n\u001b[1;32m    190\u001b[0m     \u001b[38;5;28;01mtry\u001b[39;00m:\n\u001b[0;32m--> 191\u001b[0m         \u001b[38;5;28;01mreturn\u001b[39;00m \u001b[43mtarget\u001b[49m\u001b[43m(\u001b[49m\u001b[43m)\u001b[49m\n\u001b[1;32m    193\u001b[0m     \u001b[38;5;66;03m# pylint: disable=broad-except\u001b[39;00m\n\u001b[1;32m    194\u001b[0m     \u001b[38;5;66;03m# This function explicitly must deal with broad exceptions.\u001b[39;00m\n\u001b[1;32m    195\u001b[0m     \u001b[38;5;28;01mexcept\u001b[39;00m \u001b[38;5;167;01mException\u001b[39;00m \u001b[38;5;28;01mas\u001b[39;00m exc:\n",
      "File \u001b[0;32m/opt/conda/lib/python3.10/site-packages/google/api_core/timeout.py:120\u001b[0m, in \u001b[0;36mTimeToDeadlineTimeout.__call__.<locals>.func_with_timeout\u001b[0;34m(*args, **kwargs)\u001b[0m\n\u001b[1;32m    117\u001b[0m     \u001b[38;5;66;03m# Avoid setting negative timeout\u001b[39;00m\n\u001b[1;32m    118\u001b[0m     kwargs[\u001b[38;5;124m\"\u001b[39m\u001b[38;5;124mtimeout\u001b[39m\u001b[38;5;124m\"\u001b[39m] \u001b[38;5;241m=\u001b[39m \u001b[38;5;28mmax\u001b[39m(\u001b[38;5;241m0\u001b[39m, \u001b[38;5;28mself\u001b[39m\u001b[38;5;241m.\u001b[39m_timeout \u001b[38;5;241m-\u001b[39m time_since_first_attempt)\n\u001b[0;32m--> 120\u001b[0m \u001b[38;5;28;01mreturn\u001b[39;00m \u001b[43mfunc\u001b[49m\u001b[43m(\u001b[49m\u001b[38;5;241;43m*\u001b[39;49m\u001b[43margs\u001b[49m\u001b[43m,\u001b[49m\u001b[43m \u001b[49m\u001b[38;5;241;43m*\u001b[39;49m\u001b[38;5;241;43m*\u001b[39;49m\u001b[43mkwargs\u001b[49m\u001b[43m)\u001b[49m\n",
      "File \u001b[0;32m/opt/conda/lib/python3.10/site-packages/google/api_core/grpc_helpers.py:67\u001b[0m, in \u001b[0;36m_wrap_unary_errors.<locals>.error_remapped_callable\u001b[0;34m(*args, **kwargs)\u001b[0m\n\u001b[1;32m     65\u001b[0m     \u001b[38;5;28;01mreturn\u001b[39;00m callable_(\u001b[38;5;241m*\u001b[39margs, \u001b[38;5;241m*\u001b[39m\u001b[38;5;241m*\u001b[39mkwargs)\n\u001b[1;32m     66\u001b[0m \u001b[38;5;28;01mexcept\u001b[39;00m grpc\u001b[38;5;241m.\u001b[39mRpcError \u001b[38;5;28;01mas\u001b[39;00m exc:\n\u001b[0;32m---> 67\u001b[0m     \u001b[38;5;28;01mraise\u001b[39;00m exceptions\u001b[38;5;241m.\u001b[39mfrom_grpc_error(exc) \u001b[38;5;28;01mfrom\u001b[39;00m \u001b[38;5;21;01mexc\u001b[39;00m\n",
      "\u001b[0;31mPermissionDenied\u001b[0m: 403 Cloud Natural Language API has not been used in project 503520319484 before or it is disabled. Enable it by visiting https://console.developers.google.com/apis/api/language.googleapis.com/overview?project=503520319484 then retry. If you enabled this API recently, wait a few minutes for the action to propagate to our systems and retry. [links {\n  description: \"Google developers console API activation\"\n  url: \"https://console.developers.google.com/apis/api/language.googleapis.com/overview?project=503520319484\"\n}\n, reason: \"SERVICE_DISABLED\"\ndomain: \"googleapis.com\"\nmetadata {\n  key: \"consumer\"\n  value: \"projects/503520319484\"\n}\nmetadata {\n  key: \"service\"\n  value: \"language.googleapis.com\"\n}\n]"
     ]
    }
   ],
   "source": [
    "print(df_yelp_reviews_business.iloc[1,4])\n",
    "print(analisis_sentimento(df_yelp_reviews_business.iloc[1,4]))"
   ]
  },
  {
   "cell_type": "markdown",
   "id": "4dc8ed18-711b-408c-9f81-dfa50a363c6a",
   "metadata": {},
   "source": [
    "### Resultado:\n",
    "Can I make a suggestion? Close and never open again. Slow service and the servers were rude. They can't split checks because they need that mandatory gratuity. We ordered drinks and waited 15 minutes for them to arrive, and the philly cheese steak is nothing more than bread, cheese, and ground beef. A toddler could cook this dish and have it come out better. Also, the crab cakes are cold and buns are soggy. And when our party got there we were treated as an inconvenience as we were sat in the back corner of the restaurant and barely waited on.<br>\n",
    "Just don't go here. Unless you want a headache and shitty 90s music.\n",
    "\n",
    "Document sentiment score: -0.8069999814033508<br>\n",
    "Document sentiment magnitude: 8.833000183105469<br>\n",
    "(-0.8069999814033508, 8.833000183105469, 'Claramente negativa')\n"
   ]
  },
  {
   "cell_type": "code",
   "execution_count": 69,
   "id": "38acb74d-83cf-45f5-b052-36cf88992460",
   "metadata": {},
   "outputs": [
    {
     "ename": "KeyError",
     "evalue": "('score', 'magnitude', 'sentimiento')",
     "output_type": "error",
     "traceback": [
      "\u001b[0;31m---------------------------------------------------------------------------\u001b[0m",
      "\u001b[0;31mKeyError\u001b[0m                                  Traceback (most recent call last)",
      "File \u001b[0;32m/opt/conda/lib/python3.10/site-packages/pandas/core/indexes/base.py:3653\u001b[0m, in \u001b[0;36mIndex.get_loc\u001b[0;34m(self, key)\u001b[0m\n\u001b[1;32m   3652\u001b[0m \u001b[38;5;28;01mtry\u001b[39;00m:\n\u001b[0;32m-> 3653\u001b[0m     \u001b[38;5;28;01mreturn\u001b[39;00m \u001b[38;5;28;43mself\u001b[39;49m\u001b[38;5;241;43m.\u001b[39;49m\u001b[43m_engine\u001b[49m\u001b[38;5;241;43m.\u001b[39;49m\u001b[43mget_loc\u001b[49m\u001b[43m(\u001b[49m\u001b[43mcasted_key\u001b[49m\u001b[43m)\u001b[49m\n\u001b[1;32m   3654\u001b[0m \u001b[38;5;28;01mexcept\u001b[39;00m \u001b[38;5;167;01mKeyError\u001b[39;00m \u001b[38;5;28;01mas\u001b[39;00m err:\n",
      "File \u001b[0;32m/opt/conda/lib/python3.10/site-packages/pandas/_libs/index.pyx:147\u001b[0m, in \u001b[0;36mpandas._libs.index.IndexEngine.get_loc\u001b[0;34m()\u001b[0m\n",
      "File \u001b[0;32m/opt/conda/lib/python3.10/site-packages/pandas/_libs/index.pyx:176\u001b[0m, in \u001b[0;36mpandas._libs.index.IndexEngine.get_loc\u001b[0;34m()\u001b[0m\n",
      "File \u001b[0;32mpandas/_libs/hashtable_class_helper.pxi:7080\u001b[0m, in \u001b[0;36mpandas._libs.hashtable.PyObjectHashTable.get_item\u001b[0;34m()\u001b[0m\n",
      "File \u001b[0;32mpandas/_libs/hashtable_class_helper.pxi:7088\u001b[0m, in \u001b[0;36mpandas._libs.hashtable.PyObjectHashTable.get_item\u001b[0;34m()\u001b[0m\n",
      "\u001b[0;31mKeyError\u001b[0m: ('score', 'magnitude', 'sentimiento')",
      "\nThe above exception was the direct cause of the following exception:\n",
      "\u001b[0;31mKeyError\u001b[0m                                  Traceback (most recent call last)",
      "Cell \u001b[0;32mIn[71], line 16\u001b[0m\n\u001b[1;32m     13\u001b[0m df_yelp_reviews_business[\u001b[38;5;124m'\u001b[39m\u001b[38;5;124msentimiento\u001b[39m\u001b[38;5;124m'\u001b[39m] \u001b[38;5;241m=\u001b[39m sentimiento\n\u001b[1;32m     15\u001b[0m \u001b[38;5;66;03m# Agregar los datos al DataFrame\u001b[39;00m\n\u001b[0;32m---> 16\u001b[0m df \u001b[38;5;241m=\u001b[39m pd\u001b[38;5;241m.\u001b[39mconcat([df, \u001b[43mdf_yelp_reviews_business\u001b[49m\u001b[43m[\u001b[49m\u001b[38;5;124;43m'\u001b[39;49m\u001b[38;5;124;43mscore\u001b[39;49m\u001b[38;5;124;43m'\u001b[39;49m\u001b[43m,\u001b[49m\u001b[38;5;124;43m'\u001b[39;49m\u001b[38;5;124;43mmagnitude\u001b[39;49m\u001b[38;5;124;43m'\u001b[39;49m\u001b[43m,\u001b[49m\u001b[38;5;124;43m'\u001b[39;49m\u001b[38;5;124;43msentimiento\u001b[39;49m\u001b[38;5;124;43m'\u001b[39;49m\u001b[43m]\u001b[49m], ignore_index\u001b[38;5;241m=\u001b[39m\u001b[38;5;28;01mTrue\u001b[39;00m) \n",
      "File \u001b[0;32m/opt/conda/lib/python3.10/site-packages/pandas/core/frame.py:3761\u001b[0m, in \u001b[0;36mDataFrame.__getitem__\u001b[0;34m(self, key)\u001b[0m\n\u001b[1;32m   3759\u001b[0m \u001b[38;5;28;01mif\u001b[39;00m \u001b[38;5;28mself\u001b[39m\u001b[38;5;241m.\u001b[39mcolumns\u001b[38;5;241m.\u001b[39mnlevels \u001b[38;5;241m>\u001b[39m \u001b[38;5;241m1\u001b[39m:\n\u001b[1;32m   3760\u001b[0m     \u001b[38;5;28;01mreturn\u001b[39;00m \u001b[38;5;28mself\u001b[39m\u001b[38;5;241m.\u001b[39m_getitem_multilevel(key)\n\u001b[0;32m-> 3761\u001b[0m indexer \u001b[38;5;241m=\u001b[39m \u001b[38;5;28;43mself\u001b[39;49m\u001b[38;5;241;43m.\u001b[39;49m\u001b[43mcolumns\u001b[49m\u001b[38;5;241;43m.\u001b[39;49m\u001b[43mget_loc\u001b[49m\u001b[43m(\u001b[49m\u001b[43mkey\u001b[49m\u001b[43m)\u001b[49m\n\u001b[1;32m   3762\u001b[0m \u001b[38;5;28;01mif\u001b[39;00m is_integer(indexer):\n\u001b[1;32m   3763\u001b[0m     indexer \u001b[38;5;241m=\u001b[39m [indexer]\n",
      "File \u001b[0;32m/opt/conda/lib/python3.10/site-packages/pandas/core/indexes/base.py:3655\u001b[0m, in \u001b[0;36mIndex.get_loc\u001b[0;34m(self, key)\u001b[0m\n\u001b[1;32m   3653\u001b[0m     \u001b[38;5;28;01mreturn\u001b[39;00m \u001b[38;5;28mself\u001b[39m\u001b[38;5;241m.\u001b[39m_engine\u001b[38;5;241m.\u001b[39mget_loc(casted_key)\n\u001b[1;32m   3654\u001b[0m \u001b[38;5;28;01mexcept\u001b[39;00m \u001b[38;5;167;01mKeyError\u001b[39;00m \u001b[38;5;28;01mas\u001b[39;00m err:\n\u001b[0;32m-> 3655\u001b[0m     \u001b[38;5;28;01mraise\u001b[39;00m \u001b[38;5;167;01mKeyError\u001b[39;00m(key) \u001b[38;5;28;01mfrom\u001b[39;00m \u001b[38;5;21;01merr\u001b[39;00m\n\u001b[1;32m   3656\u001b[0m \u001b[38;5;28;01mexcept\u001b[39;00m \u001b[38;5;167;01mTypeError\u001b[39;00m:\n\u001b[1;32m   3657\u001b[0m     \u001b[38;5;66;03m# If we have a listlike key, _check_indexing_error will raise\u001b[39;00m\n\u001b[1;32m   3658\u001b[0m     \u001b[38;5;66;03m#  InvalidIndexError. Otherwise we fall through and re-raise\u001b[39;00m\n\u001b[1;32m   3659\u001b[0m     \u001b[38;5;66;03m#  the TypeError.\u001b[39;00m\n\u001b[1;32m   3660\u001b[0m     \u001b[38;5;28mself\u001b[39m\u001b[38;5;241m.\u001b[39m_check_indexing_error(key)\n",
      "\u001b[0;31mKeyError\u001b[0m: ('score', 'magnitude', 'sentimiento')"
     ]
    }
   ],
   "source": [
    "##df_yelp_reviews_business['score'] = 0.0\n",
    "##df_yelp_reviews_business['magnitude'] = 0.0\n",
    "##df_yelp_reviews_business['sentimiento'] = ''\n",
    "df = pd.DataFrame()\n",
    "for i,fila in df_yelp_reviews_business.iterrows():\n",
    "    score, magnitud, sentimiento = analisis_sentimento(fila['text'])\n",
    "    ##if(sentimiento == ''):\n",
    "    ##    print(i, ' -> ', score, magnitud, fila['text'])\n",
    "    \n",
    "    # Agregar la columna sentimiento\n",
    "    ##df_yelp_reviews_business['score'] = score\n",
    "    ##df_yelp_reviews_business['magnitude'] = magnitud\n",
    "    df_yelp_reviews_business['sentimiento'] = sentimiento\n",
    "        \n",
    "    # Agregar los datos al DataFrame\n",
    "    df = pd.concat([df, df_yelp_reviews_business], ignore_index=True) \n"
   ]
  },
  {
   "cell_type": "code",
   "execution_count": 70,
   "id": "f07bda5a-8797-4b68-911a-9b02927a9af4",
   "metadata": {},
   "outputs": [
    {
     "name": "stdout",
     "output_type": "stream",
     "text": [
      "1 subniveles\n",
      "['Claramente negativa']\n"
     ]
    }
   ],
   "source": [
    "print(len(df['sentimiento'].unique()), 'subniveles')\n",
    "print(df['sentimiento'].unique())"
   ]
  },
  {
   "cell_type": "code",
   "execution_count": 68,
   "id": "f2e25fa2-94e2-4384-80b8-68b8421ae65c",
   "metadata": {},
   "outputs": [
    {
     "data": {
      "text/html": [
       "<div>\n",
       "<style scoped>\n",
       "    .dataframe tbody tr th:only-of-type {\n",
       "        vertical-align: middle;\n",
       "    }\n",
       "\n",
       "    .dataframe tbody tr th {\n",
       "        vertical-align: top;\n",
       "    }\n",
       "\n",
       "    .dataframe thead th {\n",
       "        text-align: right;\n",
       "    }\n",
       "</style>\n",
       "<table border=\"1\" class=\"dataframe\">\n",
       "  <thead>\n",
       "    <tr style=\"text-align: right;\">\n",
       "      <th></th>\n",
       "      <th>review_id</th>\n",
       "      <th>stars</th>\n",
       "      <th>useful</th>\n",
       "      <th>cool</th>\n",
       "      <th>text</th>\n",
       "      <th>categories</th>\n",
       "      <th>score</th>\n",
       "      <th>magnitude</th>\n",
       "      <th>sentimiento</th>\n",
       "    </tr>\n",
       "  </thead>\n",
       "  <tbody>\n",
       "    <tr>\n",
       "      <th>999995</th>\n",
       "      <td>TWrGEh6w4NoBcQK2E1lHew</td>\n",
       "      <td>1</td>\n",
       "      <td>6</td>\n",
       "      <td>0</td>\n",
       "      <td>I have been a patient for quite a while. What ...</td>\n",
       "      <td>Skin Care, Health &amp; Medical, Beauty &amp; Spas, La...</td>\n",
       "      <td>-0.373</td>\n",
       "      <td>12.548</td>\n",
       "      <td>Claramente negativa</td>\n",
       "    </tr>\n",
       "    <tr>\n",
       "      <th>999996</th>\n",
       "      <td>D2Y0bbNphX_BZyMZoQlbgA</td>\n",
       "      <td>1</td>\n",
       "      <td>6</td>\n",
       "      <td>0</td>\n",
       "      <td>I like the daily grind but consistently when w...</td>\n",
       "      <td>Restaurants, Sandwiches, Breakfast &amp; Brunch, C...</td>\n",
       "      <td>-0.373</td>\n",
       "      <td>12.548</td>\n",
       "      <td>Claramente negativa</td>\n",
       "    </tr>\n",
       "    <tr>\n",
       "      <th>999997</th>\n",
       "      <td>oH2UlKxLZmtD59dOtW50_Q</td>\n",
       "      <td>1</td>\n",
       "      <td>6</td>\n",
       "      <td>0</td>\n",
       "      <td>I ordered something online from these guys, an...</td>\n",
       "      <td>Active Life, Sporting Goods, Local Services, B...</td>\n",
       "      <td>-0.373</td>\n",
       "      <td>12.548</td>\n",
       "      <td>Claramente negativa</td>\n",
       "    </tr>\n",
       "    <tr>\n",
       "      <th>999998</th>\n",
       "      <td>k2bHBt3Z_caBdBZRFeisNQ</td>\n",
       "      <td>1</td>\n",
       "      <td>6</td>\n",
       "      <td>0</td>\n",
       "      <td>You were not forthright from the begining, you...</td>\n",
       "      <td>Real Estate, Apartments, Home Services, Proper...</td>\n",
       "      <td>-0.373</td>\n",
       "      <td>12.548</td>\n",
       "      <td>Claramente negativa</td>\n",
       "    </tr>\n",
       "    <tr>\n",
       "      <th>999999</th>\n",
       "      <td>Ju8NoIPKUWIyNo0JKHR8Tg</td>\n",
       "      <td>1</td>\n",
       "      <td>6</td>\n",
       "      <td>0</td>\n",
       "      <td>Very disappointed in the food, wait, and servi...</td>\n",
       "      <td>Breakfast &amp; Brunch, Burgers, Sandwiches, Resta...</td>\n",
       "      <td>-0.373</td>\n",
       "      <td>12.548</td>\n",
       "      <td>Claramente negativa</td>\n",
       "    </tr>\n",
       "  </tbody>\n",
       "</table>\n",
       "</div>"
      ],
      "text/plain": [
       "                     review_id  stars  useful  cool  \\\n",
       "999995  TWrGEh6w4NoBcQK2E1lHew      1       6     0   \n",
       "999996  D2Y0bbNphX_BZyMZoQlbgA      1       6     0   \n",
       "999997  oH2UlKxLZmtD59dOtW50_Q      1       6     0   \n",
       "999998  k2bHBt3Z_caBdBZRFeisNQ      1       6     0   \n",
       "999999  Ju8NoIPKUWIyNo0JKHR8Tg      1       6     0   \n",
       "\n",
       "                                                     text  \\\n",
       "999995  I have been a patient for quite a while. What ...   \n",
       "999996  I like the daily grind but consistently when w...   \n",
       "999997  I ordered something online from these guys, an...   \n",
       "999998  You were not forthright from the begining, you...   \n",
       "999999  Very disappointed in the food, wait, and servi...   \n",
       "\n",
       "                                               categories  score  magnitude  \\\n",
       "999995  Skin Care, Health & Medical, Beauty & Spas, La... -0.373     12.548   \n",
       "999996  Restaurants, Sandwiches, Breakfast & Brunch, C... -0.373     12.548   \n",
       "999997  Active Life, Sporting Goods, Local Services, B... -0.373     12.548   \n",
       "999998  Real Estate, Apartments, Home Services, Proper... -0.373     12.548   \n",
       "999999  Breakfast & Brunch, Burgers, Sandwiches, Resta... -0.373     12.548   \n",
       "\n",
       "                sentimiento  \n",
       "999995  Claramente negativa  \n",
       "999996  Claramente negativa  \n",
       "999997  Claramente negativa  \n",
       "999998  Claramente negativa  \n",
       "999999  Claramente negativa  "
      ]
     },
     "execution_count": 68,
     "metadata": {},
     "output_type": "execute_result"
    }
   ],
   "source": [
    "df.tail()"
   ]
  },
  {
   "cell_type": "code",
   "execution_count": null,
   "id": "776c139b-ce21-4105-9552-a946c71a4d05",
   "metadata": {},
   "outputs": [],
   "source": []
  }
 ],
 "metadata": {
  "environment": {
   "kernel": "conda-root-py",
   "name": "workbench-notebooks.m111",
   "type": "gcloud",
   "uri": "gcr.io/deeplearning-platform-release/workbench-notebooks:m111"
  },
  "kernelspec": {
   "display_name": "Python 3",
   "language": "python",
   "name": "conda-root-py"
  },
  "language_info": {
   "codemirror_mode": {
    "name": "ipython",
    "version": 3
   },
   "file_extension": ".py",
   "mimetype": "text/x-python",
   "name": "python",
   "nbconvert_exporter": "python",
   "pygments_lexer": "ipython3",
   "version": "3.10.12"
  }
 },
 "nbformat": 4,
 "nbformat_minor": 5
}
