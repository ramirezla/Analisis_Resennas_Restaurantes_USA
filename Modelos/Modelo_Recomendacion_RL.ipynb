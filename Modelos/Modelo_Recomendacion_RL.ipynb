{
 "cells": [
  {
   "cell_type": "markdown",
   "id": "58f09bf3-28c6-426a-aad7-66b8399c4598",
   "metadata": {},
   "source": [
    "<h1 align=\"center\"> <span style=\"font-size: 20px;\"> Proyecto Final Grupo Nº 7 </span> <br>\n",
    "    <align=\"center\"> <span style=\"font-size: 15px;\">  Proyecto Yelp & Google Maps - Reviewa y Recomendaciones</span><br>         \n",
    "<align=\"center\"> <span style=\"font-size: 15px;\">@utores:  Javier Castro, Luca Ramallo, Luis Ramírez, Lesmen García.</span> <br>\n",
    "  <a href=\"https://github.com/lesmengp/Proyecto-Final-Grupo-07.git\">GitHub: <span style=\"font-size: 20px;\">Proyecto Yelp & Google Maps</span></a> \n",
    "</h1>"
   ]
  },
  {
   "cell_type": "markdown",
   "id": "8c445df4-e49c-41cd-9fb0-9e23f2f136cc",
   "metadata": {},
   "source": [
    "# Modelo de ML con Regresión Logística."
   ]
  },
  {
   "cell_type": "markdown",
   "id": "5110ba5d-24c5-4913-b565-4c8fe2c203d2",
   "metadata": {},
   "source": [
    "### Target = Promedios de Estrellas"
   ]
  },
  {
   "cell_type": "markdown",
   "id": "cffcfa70-13ed-4d0c-95a9-d67fc902ca48",
   "metadata": {},
   "source": [
    "### Librerías a Utilizar:"
   ]
  },
  {
   "cell_type": "code",
   "execution_count": 1,
   "id": "01436269-4bf5-467c-b5a0-18051690a8ff",
   "metadata": {},
   "outputs": [],
   "source": [
    "import pandas as pd\n",
    "import numpy as np\n",
    "from datetime import datetime\n",
    "import matplotlib.pyplot as plt\n",
    "import seaborn as sns\n",
    "import os\n",
    "import io\n",
    "import json\n",
    "import gcsfs\n",
    "import ast\n",
    "from textblob import TextBlob   #0.17.1\n",
    "import pandas as pd\n",
    "import folium\n",
    "import webbrowser\n",
    "import textwrap\n",
    "from folium.plugins import MarkerCluster"
   ]
  },
  {
   "cell_type": "code",
   "execution_count": 2,
   "id": "c8e96506-d8c0-4a8e-80f2-f1e0c0df43e2",
   "metadata": {},
   "outputs": [],
   "source": [
    "import pandas as pd\n",
    "import pylab as pl\n",
    "import numpy as np\n",
    "import scipy.optimize as opt\n",
    "from sklearn import preprocessing\n",
    "%matplotlib inline \n",
    "import matplotlib.pyplot as plt"
   ]
  },
  {
   "cell_type": "markdown",
   "id": "6abcc65d-1d48-4928-91a0-c04ebf8f8257",
   "metadata": {},
   "source": [
    "### Cargando Dataset Consolidado Final para ML: 'Consolidado_Businees_Review_Tip.parquet'"
   ]
  },
  {
   "cell_type": "code",
   "execution_count": 3,
   "id": "431ec688-94ba-4ce4-a89e-69e071c55dc1",
   "metadata": {},
   "outputs": [
    {
     "data": {
      "text/html": [
       "<div>\n",
       "<style scoped>\n",
       "    .dataframe tbody tr th:only-of-type {\n",
       "        vertical-align: middle;\n",
       "    }\n",
       "\n",
       "    .dataframe tbody tr th {\n",
       "        vertical-align: top;\n",
       "    }\n",
       "\n",
       "    .dataframe thead th {\n",
       "        text-align: right;\n",
       "    }\n",
       "</style>\n",
       "<table border=\"1\" class=\"dataframe\">\n",
       "  <thead>\n",
       "    <tr style=\"text-align: right;\">\n",
       "      <th></th>\n",
       "      <th>business_id</th>\n",
       "      <th>name</th>\n",
       "      <th>address</th>\n",
       "      <th>city</th>\n",
       "      <th>state</th>\n",
       "      <th>latitude</th>\n",
       "      <th>longitude</th>\n",
       "      <th>stars</th>\n",
       "      <th>review_count</th>\n",
       "      <th>Categorias</th>\n",
       "      <th>...</th>\n",
       "      <th>T_S_P_Review</th>\n",
       "      <th>T_S_Neutros_Review</th>\n",
       "      <th>T_S_N_Review</th>\n",
       "      <th>Total_useful</th>\n",
       "      <th>Total_funny</th>\n",
       "      <th>Total_cool</th>\n",
       "      <th>Total_Sentimientos_Tip</th>\n",
       "      <th>T_S_P_Tip</th>\n",
       "      <th>T_S_Neutros_Tip</th>\n",
       "      <th>T_S_N_Tip</th>\n",
       "    </tr>\n",
       "  </thead>\n",
       "  <tbody>\n",
       "    <tr>\n",
       "      <th>0</th>\n",
       "      <td>MTSW4McQd7CbVtyjqoe9mw</td>\n",
       "      <td>St Honore Pastries</td>\n",
       "      <td>935 Race St</td>\n",
       "      <td>Philadelphia</td>\n",
       "      <td>CA</td>\n",
       "      <td>39.955505</td>\n",
       "      <td>-75.155564</td>\n",
       "      <td>4.0</td>\n",
       "      <td>80</td>\n",
       "      <td>Restaurants</td>\n",
       "      <td>...</td>\n",
       "      <td>82</td>\n",
       "      <td>0</td>\n",
       "      <td>5</td>\n",
       "      <td>131</td>\n",
       "      <td>47</td>\n",
       "      <td>95</td>\n",
       "      <td>10</td>\n",
       "      <td>0</td>\n",
       "      <td>0</td>\n",
       "      <td>0</td>\n",
       "    </tr>\n",
       "    <tr>\n",
       "      <th>1</th>\n",
       "      <td>mWMc6_wTdE0EUBKIGXDVfA</td>\n",
       "      <td>Perkiomen Valley Brewery</td>\n",
       "      <td>101 Walnut St</td>\n",
       "      <td>Green Lane</td>\n",
       "      <td>MO</td>\n",
       "      <td>40.338183</td>\n",
       "      <td>-75.471659</td>\n",
       "      <td>4.5</td>\n",
       "      <td>13</td>\n",
       "      <td>Food</td>\n",
       "      <td>...</td>\n",
       "      <td>12</td>\n",
       "      <td>0</td>\n",
       "      <td>1</td>\n",
       "      <td>2</td>\n",
       "      <td>0</td>\n",
       "      <td>0</td>\n",
       "      <td>1</td>\n",
       "      <td>0</td>\n",
       "      <td>0</td>\n",
       "      <td>0</td>\n",
       "    </tr>\n",
       "    <tr>\n",
       "      <th>2</th>\n",
       "      <td>CF33F8-E6oudUQ46HnavjQ</td>\n",
       "      <td>Sonic Drive-In</td>\n",
       "      <td>615 S Main St</td>\n",
       "      <td>Ashland City</td>\n",
       "      <td>AZ</td>\n",
       "      <td>36.269593</td>\n",
       "      <td>-87.058943</td>\n",
       "      <td>2.0</td>\n",
       "      <td>6</td>\n",
       "      <td>Food</td>\n",
       "      <td>...</td>\n",
       "      <td>3</td>\n",
       "      <td>1</td>\n",
       "      <td>2</td>\n",
       "      <td>0</td>\n",
       "      <td>0</td>\n",
       "      <td>0</td>\n",
       "      <td>2</td>\n",
       "      <td>0</td>\n",
       "      <td>0</td>\n",
       "      <td>0</td>\n",
       "    </tr>\n",
       "    <tr>\n",
       "      <th>3</th>\n",
       "      <td>bBDDEgkFA1Otx9Lfe7BZUQ</td>\n",
       "      <td>Sonic Drive-In</td>\n",
       "      <td>2312 Dickerson Pike</td>\n",
       "      <td>Nashville</td>\n",
       "      <td>MO</td>\n",
       "      <td>36.208102</td>\n",
       "      <td>-86.768170</td>\n",
       "      <td>1.5</td>\n",
       "      <td>10</td>\n",
       "      <td>Restaurants</td>\n",
       "      <td>...</td>\n",
       "      <td>7</td>\n",
       "      <td>0</td>\n",
       "      <td>3</td>\n",
       "      <td>2</td>\n",
       "      <td>2</td>\n",
       "      <td>0</td>\n",
       "      <td>2</td>\n",
       "      <td>0</td>\n",
       "      <td>0</td>\n",
       "      <td>0</td>\n",
       "    </tr>\n",
       "    <tr>\n",
       "      <th>4</th>\n",
       "      <td>eEOYSgkmpB90uNA7lDOMRA</td>\n",
       "      <td>Vietnamese Food Truck</td>\n",
       "      <td></td>\n",
       "      <td>Tampa Bay</td>\n",
       "      <td>MO</td>\n",
       "      <td>27.955269</td>\n",
       "      <td>-82.456320</td>\n",
       "      <td>4.0</td>\n",
       "      <td>10</td>\n",
       "      <td>Restaurants</td>\n",
       "      <td>...</td>\n",
       "      <td>10</td>\n",
       "      <td>0</td>\n",
       "      <td>1</td>\n",
       "      <td>29</td>\n",
       "      <td>5</td>\n",
       "      <td>17</td>\n",
       "      <td>1</td>\n",
       "      <td>0</td>\n",
       "      <td>0</td>\n",
       "      <td>0</td>\n",
       "    </tr>\n",
       "    <tr>\n",
       "      <th>...</th>\n",
       "      <td>...</td>\n",
       "      <td>...</td>\n",
       "      <td>...</td>\n",
       "      <td>...</td>\n",
       "      <td>...</td>\n",
       "      <td>...</td>\n",
       "      <td>...</td>\n",
       "      <td>...</td>\n",
       "      <td>...</td>\n",
       "      <td>...</td>\n",
       "      <td>...</td>\n",
       "      <td>...</td>\n",
       "      <td>...</td>\n",
       "      <td>...</td>\n",
       "      <td>...</td>\n",
       "      <td>...</td>\n",
       "      <td>...</td>\n",
       "      <td>...</td>\n",
       "      <td>...</td>\n",
       "      <td>...</td>\n",
       "      <td>...</td>\n",
       "    </tr>\n",
       "    <tr>\n",
       "      <th>44631</th>\n",
       "      <td>cM6V90ExQD6KMSU3rRB5ZA</td>\n",
       "      <td>Dutch Bros Coffee</td>\n",
       "      <td>1181 N Milwaukee St</td>\n",
       "      <td>Boise</td>\n",
       "      <td>ID</td>\n",
       "      <td>43.615401</td>\n",
       "      <td>-116.284689</td>\n",
       "      <td>4.0</td>\n",
       "      <td>33</td>\n",
       "      <td>Restaurants</td>\n",
       "      <td>...</td>\n",
       "      <td>29</td>\n",
       "      <td>1</td>\n",
       "      <td>4</td>\n",
       "      <td>34</td>\n",
       "      <td>14</td>\n",
       "      <td>18</td>\n",
       "      <td>9</td>\n",
       "      <td>0</td>\n",
       "      <td>0</td>\n",
       "      <td>0</td>\n",
       "    </tr>\n",
       "    <tr>\n",
       "      <th>44632</th>\n",
       "      <td>1jx1sfgjgVg0nM6n3p0xWA</td>\n",
       "      <td>Savaya Coffee Market</td>\n",
       "      <td>11177 N Oracle Rd</td>\n",
       "      <td>Oro Valley</td>\n",
       "      <td>PA</td>\n",
       "      <td>32.409552</td>\n",
       "      <td>-110.943073</td>\n",
       "      <td>4.5</td>\n",
       "      <td>41</td>\n",
       "      <td>Food</td>\n",
       "      <td>...</td>\n",
       "      <td>41</td>\n",
       "      <td>0</td>\n",
       "      <td>2</td>\n",
       "      <td>86</td>\n",
       "      <td>5</td>\n",
       "      <td>20</td>\n",
       "      <td>36</td>\n",
       "      <td>0</td>\n",
       "      <td>0</td>\n",
       "      <td>0</td>\n",
       "    </tr>\n",
       "    <tr>\n",
       "      <th>44633</th>\n",
       "      <td>WnT9NIzQgLlILjPT0kEcsQ</td>\n",
       "      <td>Adelita Taqueria &amp; Restaurant</td>\n",
       "      <td>1108 S 9th St</td>\n",
       "      <td>Philadelphia</td>\n",
       "      <td>MO</td>\n",
       "      <td>39.935982</td>\n",
       "      <td>-75.158665</td>\n",
       "      <td>4.5</td>\n",
       "      <td>35</td>\n",
       "      <td>Restaurants</td>\n",
       "      <td>...</td>\n",
       "      <td>34</td>\n",
       "      <td>0</td>\n",
       "      <td>1</td>\n",
       "      <td>24</td>\n",
       "      <td>9</td>\n",
       "      <td>9</td>\n",
       "      <td>4</td>\n",
       "      <td>0</td>\n",
       "      <td>0</td>\n",
       "      <td>0</td>\n",
       "    </tr>\n",
       "    <tr>\n",
       "      <th>44634</th>\n",
       "      <td>2O2K6SXPWv56amqxCECd4w</td>\n",
       "      <td>The Plum Pit</td>\n",
       "      <td>4405 Pennell Rd</td>\n",
       "      <td>Aston</td>\n",
       "      <td>PA</td>\n",
       "      <td>39.856185</td>\n",
       "      <td>-75.427725</td>\n",
       "      <td>4.5</td>\n",
       "      <td>14</td>\n",
       "      <td>Restaurants</td>\n",
       "      <td>...</td>\n",
       "      <td>12</td>\n",
       "      <td>0</td>\n",
       "      <td>2</td>\n",
       "      <td>21</td>\n",
       "      <td>5</td>\n",
       "      <td>15</td>\n",
       "      <td>1</td>\n",
       "      <td>0</td>\n",
       "      <td>0</td>\n",
       "      <td>0</td>\n",
       "    </tr>\n",
       "    <tr>\n",
       "      <th>44635</th>\n",
       "      <td>hn9Toz3s-Ei3uZPt7esExA</td>\n",
       "      <td>West Side Kebab House</td>\n",
       "      <td>2470 Guardian Road NW</td>\n",
       "      <td>Edmonton</td>\n",
       "      <td>NJ</td>\n",
       "      <td>53.509649</td>\n",
       "      <td>-113.675999</td>\n",
       "      <td>4.5</td>\n",
       "      <td>18</td>\n",
       "      <td>Restaurants</td>\n",
       "      <td>...</td>\n",
       "      <td>16</td>\n",
       "      <td>0</td>\n",
       "      <td>2</td>\n",
       "      <td>8</td>\n",
       "      <td>1</td>\n",
       "      <td>6</td>\n",
       "      <td>3</td>\n",
       "      <td>0</td>\n",
       "      <td>0</td>\n",
       "      <td>0</td>\n",
       "    </tr>\n",
       "  </tbody>\n",
       "</table>\n",
       "<p>44636 rows × 45 columns</p>\n",
       "</div>"
      ],
      "text/plain": [
       "                  business_id                           name  \\\n",
       "0      MTSW4McQd7CbVtyjqoe9mw             St Honore Pastries   \n",
       "1      mWMc6_wTdE0EUBKIGXDVfA       Perkiomen Valley Brewery   \n",
       "2      CF33F8-E6oudUQ46HnavjQ                 Sonic Drive-In   \n",
       "3      bBDDEgkFA1Otx9Lfe7BZUQ                 Sonic Drive-In   \n",
       "4      eEOYSgkmpB90uNA7lDOMRA          Vietnamese Food Truck   \n",
       "...                       ...                            ...   \n",
       "44631  cM6V90ExQD6KMSU3rRB5ZA              Dutch Bros Coffee   \n",
       "44632  1jx1sfgjgVg0nM6n3p0xWA           Savaya Coffee Market   \n",
       "44633  WnT9NIzQgLlILjPT0kEcsQ  Adelita Taqueria & Restaurant   \n",
       "44634  2O2K6SXPWv56amqxCECd4w                   The Plum Pit   \n",
       "44635  hn9Toz3s-Ei3uZPt7esExA          West Side Kebab House   \n",
       "\n",
       "                     address          city state   latitude   longitude  \\\n",
       "0                935 Race St  Philadelphia    CA  39.955505  -75.155564   \n",
       "1              101 Walnut St    Green Lane    MO  40.338183  -75.471659   \n",
       "2              615 S Main St  Ashland City    AZ  36.269593  -87.058943   \n",
       "3        2312 Dickerson Pike     Nashville    MO  36.208102  -86.768170   \n",
       "4                                Tampa Bay    MO  27.955269  -82.456320   \n",
       "...                      ...           ...   ...        ...         ...   \n",
       "44631    1181 N Milwaukee St         Boise    ID  43.615401 -116.284689   \n",
       "44632      11177 N Oracle Rd    Oro Valley    PA  32.409552 -110.943073   \n",
       "44633          1108 S 9th St  Philadelphia    MO  39.935982  -75.158665   \n",
       "44634        4405 Pennell Rd         Aston    PA  39.856185  -75.427725   \n",
       "44635  2470 Guardian Road NW      Edmonton    NJ  53.509649 -113.675999   \n",
       "\n",
       "       stars  review_count   Categorias  ... T_S_P_Review T_S_Neutros_Review  \\\n",
       "0        4.0            80  Restaurants  ...           82                  0   \n",
       "1        4.5            13         Food  ...           12                  0   \n",
       "2        2.0             6         Food  ...            3                  1   \n",
       "3        1.5            10  Restaurants  ...            7                  0   \n",
       "4        4.0            10  Restaurants  ...           10                  0   \n",
       "...      ...           ...          ...  ...          ...                ...   \n",
       "44631    4.0            33  Restaurants  ...           29                  1   \n",
       "44632    4.5            41         Food  ...           41                  0   \n",
       "44633    4.5            35  Restaurants  ...           34                  0   \n",
       "44634    4.5            14  Restaurants  ...           12                  0   \n",
       "44635    4.5            18  Restaurants  ...           16                  0   \n",
       "\n",
       "      T_S_N_Review Total_useful Total_funny Total_cool Total_Sentimientos_Tip  \\\n",
       "0                5          131          47         95                     10   \n",
       "1                1            2           0          0                      1   \n",
       "2                2            0           0          0                      2   \n",
       "3                3            2           2          0                      2   \n",
       "4                1           29           5         17                      1   \n",
       "...            ...          ...         ...        ...                    ...   \n",
       "44631            4           34          14         18                      9   \n",
       "44632            2           86           5         20                     36   \n",
       "44633            1           24           9          9                      4   \n",
       "44634            2           21           5         15                      1   \n",
       "44635            2            8           1          6                      3   \n",
       "\n",
       "      T_S_P_Tip T_S_Neutros_Tip T_S_N_Tip  \n",
       "0             0               0         0  \n",
       "1             0               0         0  \n",
       "2             0               0         0  \n",
       "3             0               0         0  \n",
       "4             0               0         0  \n",
       "...         ...             ...       ...  \n",
       "44631         0               0         0  \n",
       "44632         0               0         0  \n",
       "44633         0               0         0  \n",
       "44634         0               0         0  \n",
       "44635         0               0         0  \n",
       "\n",
       "[44636 rows x 45 columns]"
      ]
     },
     "execution_count": 3,
     "metadata": {},
     "output_type": "execute_result"
    }
   ],
   "source": [
    "### Cargando DataSets Consolidado para Análisis de ML: 'Consolidado_Businees_Review_Tip.parquet'\n",
    "# Ruta completa en Cloud Storage\n",
    "#ruta_eda_datalike = \"gs://gmy/Datasets_ML/df_ML_promedios_Final.parquet\"\n",
    "ruta_eda_datalike = \"gs://gmy/Datasets_ML/NuevosDatasetsML/Consolidado_Businees_Review_Tip.parquet\"\n",
    "\n",
    "# Lee el archivo Parquet directamente en un DataFrame de pandas\n",
    "df_ML = pd.read_parquet(ruta_eda_datalike, storage_options={\"project\": \"Proyecto Final - Henry\"})\n",
    "df_ML\n"
   ]
  },
  {
   "cell_type": "code",
   "execution_count": 4,
   "id": "5d6031c0-c4e4-4874-bb43-5ce37877cf50",
   "metadata": {},
   "outputs": [],
   "source": [
    "df = df_ML.copy()"
   ]
  },
  {
   "cell_type": "code",
   "execution_count": 5,
   "id": "85d09618-174a-4e4d-ab89-0eecb96e4975",
   "metadata": {},
   "outputs": [
    {
     "data": {
      "text/plain": [
       "Index(['business_id', 'name', 'address', 'city', 'state', 'latitude',\n",
       "       'longitude', 'stars', 'review_count', 'Categorias', 'SubCategorias',\n",
       "       'RestaurantsTakeOut', 'BusinessAcceptsCreditCards',\n",
       "       'RestaurantsDelivery', 'OutdoorSeating', 'BikeParking',\n",
       "       'RestaurantsReservations', 'WiFi', 'HasTV', 'GoodForKids',\n",
       "       'RestaurantsGoodForGroups', 'Monday', 'Tuesday', 'Wednesday',\n",
       "       'Thursday', 'Friday', 'Saturday', 'Sunday', 'Total_UnaEstrella',\n",
       "       'Total_DosEstrellas', 'Total_TresEstrellas', 'Total_CuatroEstrellas',\n",
       "       'Total_CincoEstrellas', 'Total_Estrellas', 'Total_Sentimientos_Reviews',\n",
       "       'T_S_P_Review', 'T_S_Neutros_Review', 'T_S_N_Review', 'Total_useful',\n",
       "       'Total_funny', 'Total_cool', 'Total_Sentimientos_Tip', 'T_S_P_Tip',\n",
       "       'T_S_Neutros_Tip', 'T_S_N_Tip'],\n",
       "      dtype='object')"
      ]
     },
     "execution_count": 5,
     "metadata": {},
     "output_type": "execute_result"
    }
   ],
   "source": [
    "df.columns"
   ]
  },
  {
   "cell_type": "code",
   "execution_count": 6,
   "id": "66b761b7-97aa-455c-b030-776100fe567c",
   "metadata": {},
   "outputs": [
    {
     "data": {
      "text/plain": [
       "['name',\n",
       " 'city',\n",
       " 'state',\n",
       " 'stars',\n",
       " 'review_count',\n",
       " 'Categorias',\n",
       " 'SubCategorias',\n",
       " 'Total_Estrellas',\n",
       " 'Total_CincoEstrellas',\n",
       " 'T_S_P_Review',\n",
       " 'Total_useful',\n",
       " 'Total_funny',\n",
       " 'Total_cool',\n",
       " 'T_S_P_Tip',\n",
       " 'latitude',\n",
       " 'longitude']"
      ]
     },
     "execution_count": 6,
     "metadata": {},
     "output_type": "execute_result"
    }
   ],
   "source": [
    "Columnas_Modelo_RLogistica = ['name', 'city', 'state', \n",
    "                 'stars', 'review_count', 'Categorias', 'SubCategorias',\n",
    "                 'Total_Estrellas', 'Total_CincoEstrellas' , \n",
    "                 'T_S_P_Review',\n",
    "                 'Total_useful', 'Total_funny', 'Total_cool', \n",
    "                 'T_S_P_Tip',\n",
    "                 'latitude', 'longitude']\n",
    "Columnas_Modelo_RLogistica"
   ]
  },
  {
   "cell_type": "code",
   "execution_count": 8,
   "id": "3636d4ea-8f14-4ab1-acb4-4a92cec75466",
   "metadata": {},
   "outputs": [],
   "source": [
    "df_Modelo_ML = df[Columnas_Modelo_RLogistica]"
   ]
  },
  {
   "cell_type": "code",
   "execution_count": 9,
   "id": "4d48ed34-3cff-4133-80c2-f18a1007ed20",
   "metadata": {},
   "outputs": [],
   "source": [
    "filtro_categorias_Restaurants = df_Modelo_ML[(df_Modelo_ML['Categorias'] == 'Restaurants') | (df['Categorias'] == 'Food')]\n"
   ]
  },
  {
   "cell_type": "code",
   "execution_count": 10,
   "id": "a5c389dc-143d-484f-a608-fcba25627ec8",
   "metadata": {},
   "outputs": [
    {
     "data": {
      "text/plain": [
       "(42692, 16)"
      ]
     },
     "execution_count": 10,
     "metadata": {},
     "output_type": "execute_result"
    }
   ],
   "source": [
    "filtro_categorias_Restaurants.shape"
   ]
  },
  {
   "cell_type": "code",
   "execution_count": 11,
   "id": "1817603c-c75e-463e-a49f-d06e923127b9",
   "metadata": {},
   "outputs": [
    {
     "data": {
      "text/plain": [
       "name                    0\n",
       "city                    0\n",
       "state                   0\n",
       "stars                   0\n",
       "review_count            0\n",
       "Categorias              0\n",
       "SubCategorias           0\n",
       "Total_Estrellas         0\n",
       "Total_CincoEstrellas    0\n",
       "T_S_P_Review            0\n",
       "Total_useful            0\n",
       "Total_funny             0\n",
       "Total_cool              0\n",
       "T_S_P_Tip               0\n",
       "latitude                0\n",
       "longitude               0\n",
       "dtype: int64"
      ]
     },
     "execution_count": 11,
     "metadata": {},
     "output_type": "execute_result"
    }
   ],
   "source": [
    "filtro_categorias_Restaurants.isna().sum()"
   ]
  },
  {
   "cell_type": "code",
   "execution_count": 12,
   "id": "22506684-b99f-4fd3-967a-9122d946d3b4",
   "metadata": {},
   "outputs": [
    {
     "data": {
      "text/plain": [
       "(42692, 16)"
      ]
     },
     "execution_count": 12,
     "metadata": {},
     "output_type": "execute_result"
    }
   ],
   "source": [
    "filtro_categorias_Restaurants.shape"
   ]
  },
  {
   "cell_type": "code",
   "execution_count": 14,
   "id": "e484dff6-5e05-41ca-bb4d-8f5148f35833",
   "metadata": {},
   "outputs": [
    {
     "name": "stderr",
     "output_type": "stream",
     "text": [
      "/var/tmp/ipykernel_104404/3456828581.py:3: SettingWithCopyWarning: \n",
      "A value is trying to be set on a copy of a slice from a DataFrame.\n",
      "Try using .loc[row_indexer,col_indexer] = value instead\n",
      "\n",
      "See the caveats in the documentation: https://pandas.pydata.org/pandas-docs/stable/user_guide/indexing.html#returning-a-view-versus-a-copy\n",
      "  filtro_categorias_Restaurants['stars_Target'] = filtro_categorias_Restaurants['stars'].apply(lambda x: 1 if x >= 4 else 0)\n"
     ]
    },
    {
     "data": {
      "text/html": [
       "<div>\n",
       "<style scoped>\n",
       "    .dataframe tbody tr th:only-of-type {\n",
       "        vertical-align: middle;\n",
       "    }\n",
       "\n",
       "    .dataframe tbody tr th {\n",
       "        vertical-align: top;\n",
       "    }\n",
       "\n",
       "    .dataframe thead th {\n",
       "        text-align: right;\n",
       "    }\n",
       "</style>\n",
       "<table border=\"1\" class=\"dataframe\">\n",
       "  <thead>\n",
       "    <tr style=\"text-align: right;\">\n",
       "      <th></th>\n",
       "      <th>stars</th>\n",
       "      <th>stars_Target</th>\n",
       "    </tr>\n",
       "  </thead>\n",
       "  <tbody>\n",
       "    <tr>\n",
       "      <th>0</th>\n",
       "      <td>4.0</td>\n",
       "      <td>1</td>\n",
       "    </tr>\n",
       "    <tr>\n",
       "      <th>1</th>\n",
       "      <td>4.5</td>\n",
       "      <td>1</td>\n",
       "    </tr>\n",
       "    <tr>\n",
       "      <th>2</th>\n",
       "      <td>2.0</td>\n",
       "      <td>0</td>\n",
       "    </tr>\n",
       "    <tr>\n",
       "      <th>3</th>\n",
       "      <td>1.5</td>\n",
       "      <td>0</td>\n",
       "    </tr>\n",
       "    <tr>\n",
       "      <th>4</th>\n",
       "      <td>4.0</td>\n",
       "      <td>1</td>\n",
       "    </tr>\n",
       "    <tr>\n",
       "      <th>...</th>\n",
       "      <td>...</td>\n",
       "      <td>...</td>\n",
       "    </tr>\n",
       "    <tr>\n",
       "      <th>44631</th>\n",
       "      <td>4.0</td>\n",
       "      <td>1</td>\n",
       "    </tr>\n",
       "    <tr>\n",
       "      <th>44632</th>\n",
       "      <td>4.5</td>\n",
       "      <td>1</td>\n",
       "    </tr>\n",
       "    <tr>\n",
       "      <th>44633</th>\n",
       "      <td>4.5</td>\n",
       "      <td>1</td>\n",
       "    </tr>\n",
       "    <tr>\n",
       "      <th>44634</th>\n",
       "      <td>4.5</td>\n",
       "      <td>1</td>\n",
       "    </tr>\n",
       "    <tr>\n",
       "      <th>44635</th>\n",
       "      <td>4.5</td>\n",
       "      <td>1</td>\n",
       "    </tr>\n",
       "  </tbody>\n",
       "</table>\n",
       "<p>42692 rows × 2 columns</p>\n",
       "</div>"
      ],
      "text/plain": [
       "       stars  stars_Target\n",
       "0        4.0             1\n",
       "1        4.5             1\n",
       "2        2.0             0\n",
       "3        1.5             0\n",
       "4        4.0             1\n",
       "...      ...           ...\n",
       "44631    4.0             1\n",
       "44632    4.5             1\n",
       "44633    4.5             1\n",
       "44634    4.5             1\n",
       "44635    4.5             1\n",
       "\n",
       "[42692 rows x 2 columns]"
      ]
     },
     "execution_count": 14,
     "metadata": {},
     "output_type": "execute_result"
    }
   ],
   "source": [
    "### Normalizando Columna de estrellas 'stars'\n",
    "# Crea una nueva columna 'binario' con valores 1 si 'valor' es mayor o igual a 4, de lo contrario, 0\n",
    "filtro_categorias_Restaurants['stars_Target'] = filtro_categorias_Restaurants['stars'].apply(lambda x: 1 if x >= 4 else 0)\n",
    "\n",
    "filtro_categorias_Restaurants[['stars','stars_Target']]"
   ]
  },
  {
   "cell_type": "code",
   "execution_count": 15,
   "id": "9f3a130f-f449-4d65-8984-5499134b3864",
   "metadata": {},
   "outputs": [
    {
     "data": {
      "text/plain": [
       "Index(['name', 'city', 'state', 'stars', 'review_count', 'Categorias',\n",
       "       'SubCategorias', 'Total_Estrellas', 'Total_CincoEstrellas',\n",
       "       'T_S_P_Review', 'Total_useful', 'Total_funny', 'Total_cool',\n",
       "       'T_S_P_Tip', 'latitude', 'longitude', 'stars_Target'],\n",
       "      dtype='object')"
      ]
     },
     "execution_count": 15,
     "metadata": {},
     "output_type": "execute_result"
    }
   ],
   "source": [
    "filtro_categorias_Restaurants.columns"
   ]
  },
  {
   "cell_type": "code",
   "execution_count": null,
   "id": "caa600e7-4d48-402d-a63c-f420592dd4ac",
   "metadata": {},
   "outputs": [],
   "source": []
  },
  {
   "cell_type": "code",
   "execution_count": 19,
   "id": "cb8f11ce-0906-4a83-b42f-f4d884030039",
   "metadata": {},
   "outputs": [],
   "source": [
    "ColumnasModelo_ML = [\n",
    "    'review_count',\n",
    "    'Total_Estrellas',\n",
    "    'Total_CincoEstrellas',\n",
    "    'T_S_P_Review',\n",
    "    'Total_useful',\n",
    "    'Total_funny',\n",
    "    'Total_cool',\n",
    "    'T_S_P_Tip']"
   ]
  },
  {
   "cell_type": "code",
   "execution_count": 21,
   "id": "80006bfd-8733-4643-86ba-22e6c3f523ad",
   "metadata": {},
   "outputs": [],
   "source": [
    "### Defenimos las variables 'X' nuestro modelo\n",
    "X = np.asarray(filtro_categorias_Restaurants[ColumnasModelo_ML])\n"
   ]
  },
  {
   "cell_type": "code",
   "execution_count": 22,
   "id": "0c3a708c-86dc-42f4-83f6-8b669a38a607",
   "metadata": {},
   "outputs": [],
   "source": [
    "y = np.asarray(filtro_categorias_Restaurants['stars_Target'])"
   ]
  },
  {
   "cell_type": "code",
   "execution_count": 23,
   "id": "1a72b818-10ee-4be4-9b1a-88b823f98a12",
   "metadata": {},
   "outputs": [],
   "source": [
    "### Normalizando el Dataset del Modelo de ML\n",
    "from sklearn import preprocessing\n",
    "\n",
    "X = preprocessing.StandardScaler().fit(X).transform(X)"
   ]
  },
  {
   "cell_type": "code",
   "execution_count": 24,
   "id": "2183c19d-c7b6-45b9-8ac7-2256825e4294",
   "metadata": {},
   "outputs": [],
   "source": [
    "## Train/Test dataset\n",
    "from sklearn.linear_model import LogisticRegression\n",
    "from sklearn.model_selection import train_test_split\n",
    "from sklearn.metrics import accuracy_score\n",
    "\n",
    "X_train, X_test, y_train, y_test = train_test_split( X, y, test_size=0.2, random_state=4)"
   ]
  },
  {
   "cell_type": "code",
   "execution_count": 25,
   "id": "caacf815-0de4-4e3c-b0de-6c6916ff5c2d",
   "metadata": {},
   "outputs": [
    {
     "data": {
      "text/html": [
       "<style>#sk-container-id-1 {color: black;}#sk-container-id-1 pre{padding: 0;}#sk-container-id-1 div.sk-toggleable {background-color: white;}#sk-container-id-1 label.sk-toggleable__label {cursor: pointer;display: block;width: 100%;margin-bottom: 0;padding: 0.3em;box-sizing: border-box;text-align: center;}#sk-container-id-1 label.sk-toggleable__label-arrow:before {content: \"▸\";float: left;margin-right: 0.25em;color: #696969;}#sk-container-id-1 label.sk-toggleable__label-arrow:hover:before {color: black;}#sk-container-id-1 div.sk-estimator:hover label.sk-toggleable__label-arrow:before {color: black;}#sk-container-id-1 div.sk-toggleable__content {max-height: 0;max-width: 0;overflow: hidden;text-align: left;background-color: #f0f8ff;}#sk-container-id-1 div.sk-toggleable__content pre {margin: 0.2em;color: black;border-radius: 0.25em;background-color: #f0f8ff;}#sk-container-id-1 input.sk-toggleable__control:checked~div.sk-toggleable__content {max-height: 200px;max-width: 100%;overflow: auto;}#sk-container-id-1 input.sk-toggleable__control:checked~label.sk-toggleable__label-arrow:before {content: \"▾\";}#sk-container-id-1 div.sk-estimator input.sk-toggleable__control:checked~label.sk-toggleable__label {background-color: #d4ebff;}#sk-container-id-1 div.sk-label input.sk-toggleable__control:checked~label.sk-toggleable__label {background-color: #d4ebff;}#sk-container-id-1 input.sk-hidden--visually {border: 0;clip: rect(1px 1px 1px 1px);clip: rect(1px, 1px, 1px, 1px);height: 1px;margin: -1px;overflow: hidden;padding: 0;position: absolute;width: 1px;}#sk-container-id-1 div.sk-estimator {font-family: monospace;background-color: #f0f8ff;border: 1px dotted black;border-radius: 0.25em;box-sizing: border-box;margin-bottom: 0.5em;}#sk-container-id-1 div.sk-estimator:hover {background-color: #d4ebff;}#sk-container-id-1 div.sk-parallel-item::after {content: \"\";width: 100%;border-bottom: 1px solid gray;flex-grow: 1;}#sk-container-id-1 div.sk-label:hover label.sk-toggleable__label {background-color: #d4ebff;}#sk-container-id-1 div.sk-serial::before {content: \"\";position: absolute;border-left: 1px solid gray;box-sizing: border-box;top: 0;bottom: 0;left: 50%;z-index: 0;}#sk-container-id-1 div.sk-serial {display: flex;flex-direction: column;align-items: center;background-color: white;padding-right: 0.2em;padding-left: 0.2em;position: relative;}#sk-container-id-1 div.sk-item {position: relative;z-index: 1;}#sk-container-id-1 div.sk-parallel {display: flex;align-items: stretch;justify-content: center;background-color: white;position: relative;}#sk-container-id-1 div.sk-item::before, #sk-container-id-1 div.sk-parallel-item::before {content: \"\";position: absolute;border-left: 1px solid gray;box-sizing: border-box;top: 0;bottom: 0;left: 50%;z-index: -1;}#sk-container-id-1 div.sk-parallel-item {display: flex;flex-direction: column;z-index: 1;position: relative;background-color: white;}#sk-container-id-1 div.sk-parallel-item:first-child::after {align-self: flex-end;width: 50%;}#sk-container-id-1 div.sk-parallel-item:last-child::after {align-self: flex-start;width: 50%;}#sk-container-id-1 div.sk-parallel-item:only-child::after {width: 0;}#sk-container-id-1 div.sk-dashed-wrapped {border: 1px dashed gray;margin: 0 0.4em 0.5em 0.4em;box-sizing: border-box;padding-bottom: 0.4em;background-color: white;}#sk-container-id-1 div.sk-label label {font-family: monospace;font-weight: bold;display: inline-block;line-height: 1.2em;}#sk-container-id-1 div.sk-label-container {text-align: center;}#sk-container-id-1 div.sk-container {/* jupyter's `normalize.less` sets `[hidden] { display: none; }` but bootstrap.min.css set `[hidden] { display: none !important; }` so we also need the `!important` here to be able to override the default hidden behavior on the sphinx rendered scikit-learn.org. See: https://github.com/scikit-learn/scikit-learn/issues/21755 */display: inline-block !important;position: relative;}#sk-container-id-1 div.sk-text-repr-fallback {display: none;}</style><div id=\"sk-container-id-1\" class=\"sk-top-container\"><div class=\"sk-text-repr-fallback\"><pre>LogisticRegression()</pre><b>In a Jupyter environment, please rerun this cell to show the HTML representation or trust the notebook. <br />On GitHub, the HTML representation is unable to render, please try loading this page with nbviewer.org.</b></div><div class=\"sk-container\" hidden><div class=\"sk-item\"><div class=\"sk-estimator sk-toggleable\"><input class=\"sk-toggleable__control sk-hidden--visually\" id=\"sk-estimator-id-1\" type=\"checkbox\" checked><label for=\"sk-estimator-id-1\" class=\"sk-toggleable__label sk-toggleable__label-arrow\">LogisticRegression</label><div class=\"sk-toggleable__content\"><pre>LogisticRegression()</pre></div></div></div></div></div>"
      ],
      "text/plain": [
       "LogisticRegression()"
      ]
     },
     "execution_count": 25,
     "metadata": {},
     "output_type": "execute_result"
    }
   ],
   "source": [
    "### Modeling (Logistic Regression with Scikit-learn)\n",
    "from sklearn.linear_model import LogisticRegression\n",
    "from sklearn.metrics import confusion_matrix\n",
    "\n",
    "#LR = LogisticRegression(C=0.01, solver='liblinear').fit(X_train,y_train)\n",
    "#LR\n",
    "\n",
    "# Crear un modelo de regresión logística\n",
    "model = LogisticRegression()\n",
    "\n",
    "# Entrenar el modelo con los datos de entrenamiento\n",
    "model.fit(X_train, y_train)"
   ]
  },
  {
   "cell_type": "code",
   "execution_count": 26,
   "id": "d3d02d34-d792-4866-8db3-61f761fa19da",
   "metadata": {},
   "outputs": [],
   "source": [
    "# Predeciendo con el conjunto de prueba\n",
    "y_pred = model.predict(X_test)"
   ]
  },
  {
   "cell_type": "code",
   "execution_count": 27,
   "id": "2ebd4ecc-0f87-449e-8f1c-d710da012912",
   "metadata": {},
   "outputs": [
    {
     "data": {
      "text/plain": [
       "0.8431450808221912"
      ]
     },
     "execution_count": 27,
     "metadata": {},
     "output_type": "execute_result"
    }
   ],
   "source": [
    "### ### jaccard index\n",
    "from sklearn.metrics import jaccard_score\n",
    "\n",
    "jaccard_score(y_test, y_pred, pos_label=0)"
   ]
  },
  {
   "cell_type": "code",
   "execution_count": 28,
   "id": "edb9e015-77ab-4877-baaa-71d411b0e212",
   "metadata": {},
   "outputs": [
    {
     "name": "stdout",
     "output_type": "stream",
     "text": [
      "Precisión del modelo de regresión logística: 0.9079517507904907\n"
     ]
    }
   ],
   "source": [
    "# Calcular la precisión del modelo\n",
    "accuracy = accuracy_score(y_test, y_pred)\n",
    "\n",
    "print(\"Precisión del modelo de regresión logística:\", accuracy)"
   ]
  },
  {
   "cell_type": "code",
   "execution_count": 29,
   "id": "c12d0921-fc30-475d-aee9-79238722b8e6",
   "metadata": {},
   "outputs": [
    {
     "name": "stdout",
     "output_type": "stream",
     "text": [
      "[[3528  543]\n",
      " [ 243 4225]]\n"
     ]
    }
   ],
   "source": [
    "### confusion matrix\n",
    "\n",
    "from sklearn.metrics import classification_report, confusion_matrix\n",
    "import itertools\n",
    "\n",
    "def plot_confusion_matrix(cm, classes,\n",
    "                          normalize=False,\n",
    "                          title='Confusion matrix',\n",
    "                          cmap=plt.cm.Blues):\n",
    "    \"\"\"\n",
    "    This function prints and plots the confusion matrix.\n",
    "    Normalization can be applied by setting `normalize=True`.\n",
    "    \"\"\"\n",
    "    if normalize:\n",
    "        cm = cm.astype('float') / cm.sum(axis=1)[:, np.newaxis]\n",
    "        print(\"Normalized confusion matrix\")\n",
    "    else:\n",
    "        print('Confusion matrix, without normalization')\n",
    "\n",
    "    print(cm)\n",
    "\n",
    "    plt.imshow(cm, interpolation='nearest', cmap=cmap)\n",
    "    plt.title(title)\n",
    "    plt.colorbar()\n",
    "    tick_marks = np.arange(len(classes))\n",
    "    plt.xticks(tick_marks, classes, rotation=45)\n",
    "    plt.yticks(tick_marks, classes)\n",
    "\n",
    "    fmt = '.2f' if normalize else 'd'\n",
    "    thresh = cm.max() / 2.\n",
    "    for i, j in itertools.product(range(cm.shape[0]), range(cm.shape[1])):\n",
    "        plt.text(j, i, format(cm[i, j], fmt),\n",
    "                 horizontalalignment=\"center\",\n",
    "                 color=\"white\" if cm[i, j] > thresh else \"black\")\n",
    "\n",
    "    plt.tight_layout()\n",
    "    plt.ylabel('True label')\n",
    "    plt.xlabel('Predicted label')\n",
    "print(confusion_matrix(y_test, y_pred, labels=[1,0]))"
   ]
  },
  {
   "cell_type": "code",
   "execution_count": 30,
   "id": "581bfb87-0e44-4bd9-92a7-42212c085b8e",
   "metadata": {},
   "outputs": [
    {
     "name": "stdout",
     "output_type": "stream",
     "text": [
      "Confusion matrix, without normalization\n",
      "[[3528  543]\n",
      " [ 243 4225]]\n"
     ]
    },
    {
     "data": {
      "image/png": "[encoded data removed]",
      "text/plain": [
       "<Figure size 640x480 with 2 Axes>"
      ]
     },
     "metadata": {},
     "output_type": "display_data"
    }
   ],
   "source": [
    "# Compute confusion matrix\n",
    "cnf_matrix = confusion_matrix(y_test, y_pred, labels=[1,0])\n",
    "np.set_printoptions(precision=2)\n",
    "\n",
    "\n",
    "# Plot non-normalized confusion matrix\n",
    "plt.figure()\n",
    "plot_confusion_matrix(cnf_matrix, classes=['stars_Target=1','stars_Target=0'],normalize= False,  title='Confusion matrix')"
   ]
  },
  {
   "cell_type": "code",
   "execution_count": 31,
   "id": "cfe5e65c-4390-40d2-91a4-b5a3fd047924",
   "metadata": {},
   "outputs": [
    {
     "name": "stdout",
     "output_type": "stream",
     "text": [
      "              precision    recall  f1-score   support\n",
      "\n",
      "           0       0.89      0.95      0.91      4468\n",
      "           1       0.94      0.87      0.90      4071\n",
      "\n",
      "    accuracy                           0.91      8539\n",
      "   macro avg       0.91      0.91      0.91      8539\n",
      "weighted avg       0.91      0.91      0.91      8539\n",
      "\n"
     ]
    }
   ],
   "source": [
    "print (classification_report(y_test, y_pred))"
   ]
  },
  {
   "cell_type": "code",
   "execution_count": 32,
   "id": "83221560-f941-4ebd-a070-bc4e56456666",
   "metadata": {},
   "outputs": [
    {
     "name": "stdout",
     "output_type": "stream",
     "text": [
      "Número de casos que se clasificaron correctamente como positivos =  3528\n",
      "Número de casos que se clasificaron correctamente como negativos =  4225\n",
      "Número de casos que se clasificaron incorrectamente como positivos\n",
      "   cuando en realidad son negativos =  243\n",
      "Número de casos que se clasificaron incorrectamente como negativos\n",
      "   cuando en realidad son positivos =  543\n"
     ]
    }
   ],
   "source": [
    "# Calcular la matriz de confusión\n",
    "conf_matrix = confusion_matrix(y_test, y_pred)\n",
    "\n",
    "# Obtener los valores individuales de la matriz de confusión\n",
    "TP = conf_matrix[1, 1]  # Verdaderos positivos\n",
    "TN = conf_matrix[0, 0]  # Verdaderos negativos\n",
    "FP = conf_matrix[0, 1]  # Falsos positivos\n",
    "FN = conf_matrix[1, 0]  # Falsos negativos\n",
    "\n",
    "print(\"Número de casos que se clasificaron correctamente como positivos = \", TP)\n",
    "print(\"Número de casos que se clasificaron correctamente como negativos = \", TN)\n",
    "print(\"Número de casos que se clasificaron incorrectamente como positivos\\n   cuando en realidad son negativos = \", FP)\n",
    "print(\"Número de casos que se clasificaron incorrectamente como negativos\\n   cuando en realidad son positivos = \", FN)"
   ]
  },
  {
   "cell_type": "code",
   "execution_count": null,
   "id": "acb06519-87dc-440d-ad40-2cc628867d08",
   "metadata": {},
   "outputs": [],
   "source": []
  },
  {
   "cell_type": "markdown",
   "id": "671de227-ed7a-4387-95a7-5e76bfc4aaf6",
   "metadata": {},
   "source": [
    "### FIN"
   ]
  },
  {
   "cell_type": "code",
   "execution_count": 41,
   "id": "a2eebbf2-6036-45e9-b73f-981729e79b7e",
   "metadata": {},
   "outputs": [
    {
     "name": "stdout",
     "output_type": "stream",
     "text": [
      "Predicción Nuevos Datos =  [1]\n"
     ]
    },
    {
     "name": "stderr",
     "output_type": "stream",
     "text": [
      "/opt/conda/lib/python3.10/site-packages/sklearn/base.py:457: UserWarning: X has feature names, but LogisticRegression was fitted without feature names\n",
      "  warnings.warn(\n"
     ]
    }
   ],
   "source": [
    "# Entrenar el modelo con los datos de entrenamiento\n",
    "model.fit(X_train, y_train)\n",
    "\n",
    "### Predecir en el Nuevos Datos\n",
    "### Cargando los Datos\n",
    "\n",
    "nuevos_datos = pd.DataFrame({    \n",
    "    'review_count': [67],\n",
    "    'Total_Estrellas': [2300],\n",
    "    'Total_CincoEstrellas': [0],\n",
    "    'T_S_P_Review': [2600],\n",
    "    'Total_useful': [450],\n",
    "    'Total_funny': [100],\n",
    "    'Total_cool': [126],\n",
    "    'T_S_P_Tip': [1000]\n",
    "})\n",
    "\n",
    "\n",
    "# Realizar la predicción en los datos editados\n",
    "prediccion_datos_nuevos = model.predict(nuevos_datos)\n",
    "print(\"Predicción Nuevos Datos = \", prediccion_datos_nuevos)\n"
   ]
  },
  {
   "cell_type": "code",
   "execution_count": null,
   "id": "8ae97946-5359-4a72-89e7-4796132c9d59",
   "metadata": {},
   "outputs": [],
   "source": []
  }
 ],
 "metadata": {
  "environment": {
   "kernel": "conda-root-py",
   "name": "workbench-notebooks.m111",
   "type": "gcloud",
   "uri": "gcr.io/deeplearning-platform-release/workbench-notebooks:m111"
  },
  "kernelspec": {
   "display_name": "Python 3",
   "language": "python",
   "name": "conda-root-py"
  },
  "language_info": {
   "codemirror_mode": {
    "name": "ipython",
    "version": 3
   },
   "file_extension": ".py",
   "mimetype": "text/x-python",
   "name": "python",
   "nbconvert_exporter": "python",
   "pygments_lexer": "ipython3",
   "version": "3.10.12"
  }
 },
 "nbformat": 4,
 "nbformat_minor": 5
}
