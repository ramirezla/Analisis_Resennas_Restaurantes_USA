{
 "cells": [
  {
   "cell_type": "markdown",
   "id": "58f09bf3-28c6-426a-aad7-66b8399c4598",
   "metadata": {},
   "source": [
    "<h1 align=\"center\"> <span style=\"font-size: 20px;\"> Proyecto Final Grupo Nº 7 </span> <br>\n",
    "    <align=\"center\"> <span style=\"font-size: 15px;\">  Proyecto Yelp & Google Maps - Reviewa y Recomendaciones</span><br>         \n",
    "<align=\"center\"> <span style=\"font-size: 15px;\">@utores:  Javier Castro, Luca Ramallo, Luis Ramírez, Lesmen García.</span> <br>\n",
    "  <a href=\"https://github.com/lesmengp/Proyecto-Final-Grupo-07.git\">GitHub: <span style=\"font-size: 20px;\">Proyecto Yelp & Google Maps</span></a> \n",
    "</h1>"
   ]
  },
  {
   "cell_type": "markdown",
   "id": "8c445df4-e49c-41cd-9fb0-9e23f2f136cc",
   "metadata": {},
   "source": [
    "# Modelo de ML con Regresión Logística."
   ]
  },
  {
   "cell_type": "markdown",
   "id": "5110ba5d-24c5-4913-b565-4c8fe2c203d2",
   "metadata": {},
   "source": [
    "### Target = Promedios de Estrellas"
   ]
  },
  {
   "cell_type": "markdown",
   "id": "cffcfa70-13ed-4d0c-95a9-d67fc902ca48",
   "metadata": {},
   "source": [
    "### Librerías a Utilizar:"
   ]
  },
  {
   "cell_type": "markdown",
   "id": "6abcc65d-1d48-4928-91a0-c04ebf8f8257",
   "metadata": {},
   "source": [
    "### Cargando Dataset Consolidado Final para ML: 'df_ML_promedios_Final.parquet'"
   ]
  },
  {
   "cell_type": "code",
   "execution_count": 59,
   "id": "431ec688-94ba-4ce4-a89e-69e071c55dc1",
   "metadata": {},
   "outputs": [],
   "source": [
    "\n"
   ]
  },
  {
   "cell_type": "markdown",
   "id": "d82beb66-290a-4c7e-b7d4-982beaf5fd95",
   "metadata": {},
   "source": []
  },
  {
   "cell_type": "code",
   "execution_count": 82,
   "id": "3fffabbc-a6a1-4320-82e4-38e9235cf5b8",
   "metadata": {},
   "outputs": [
    {
     "name": "stderr",
     "output_type": "stream",
     "text": [
      "/var/tmp/ipykernel_103703/710722128.py:43: SettingWithCopyWarning: \n",
      "A value is trying to be set on a copy of a slice from a DataFrame.\n",
      "Try using .loc[row_indexer,col_indexer] = value instead\n",
      "\n",
      "See the caveats in the documentation: https://pandas.pydata.org/pandas-docs/stable/user_guide/indexing.html#returning-a-view-versus-a-copy\n",
      "  df_ml['stars_Target'] = df_ml['stars'].apply(lambda x: 1 if x >= 4 else 0)\n"
     ]
    },
    {
     "name": "stdout",
     "output_type": "stream",
     "text": [
      "Predicción Nuevos Datos =  [1]\n"
     ]
    },
    {
     "name": "stderr",
     "output_type": "stream",
     "text": [
      "/opt/conda/lib/python3.10/site-packages/sklearn/base.py:457: UserWarning: X has feature names, but LogisticRegression was fitted without feature names\n",
      "  warnings.warn(\n"
     ]
    }
   ],
   "source": [
    "import pandas as pd\n",
    "import numpy as np\n",
    "from datetime import datetime\n",
    "import matplotlib.pyplot as plt\n",
    "import seaborn as sns\n",
    "import os\n",
    "import io\n",
    "import json\n",
    "import gcsfs\n",
    "import scipy.optimize as opt\n",
    "from sklearn import preprocessing### Seleccionando Variables\n",
    "\n",
    "### Cargando DataSets Consolidado para Análisis de ML: 'df_business_yelp_ML.parquet'\n",
    "# Ruta completa en Cloud Storage\n",
    "ruta_eda_datalike = \"gs://gmy/Datasets_ML/df_ML_promedios_Final.parquet\"\n",
    "# Lee el archivo Parquet directamente en un DataFrame de pandas\n",
    "df_ML_promedios_Final = pd.read_parquet(ruta_eda_datalike, storage_options={\"project\": \"Proyecto Final - Henry\"})\n",
    "\n",
    "\n",
    "# Variables Númericas\n",
    "columnas_numericas = ['stars', 'review_count', \n",
    "        'RestaurantsTakeOut', 'BusinessAcceptsCreditCards',\n",
    "        'RestaurantsDelivery', 'OutdoorSeating', 'BikeParking',\n",
    "        'RestaurantsReservations', 'WiFi', 'HasTV', \n",
    "        'promedio_sentimientos_positivos', \n",
    "        'promedio_sentimientos_negativos',\n",
    "        'Promedio_useful', 'Promedio_funny', 'Promedio_cool',\n",
    "        'promedio_sentimientos_positivosTip',\n",
    "        'promedio_sentimientos_negativosTip', \n",
    "        'promedio_compliment_count_Tip',\n",
    "        'A_M_Monday', 'A_T_Monday', 'A_N_Monday', \n",
    "        'A_M_Tuesday', 'A_T_Tuesday', 'A_N_Tuesday',\n",
    "        'A_M_Wednesday', 'A_T_Wednesday', 'A_N_Wednesday',\n",
    "        'A_M_Thursday', 'A_T_Thursday', 'A_N_Thursday',\n",
    "        'A_M_Friday', 'A_T_Friday', 'A_N_Friday',\n",
    "        'A_M_Saturday', 'A_T_Saturday', 'A_N_Saturday',\n",
    "        'A_M_Sunday', 'A_T_Sunday', 'A_N_Sunday']\n",
    "\n",
    "df_ml = df_ML_promedios_Final[columnas_numericas]\n",
    "\n",
    "### Normalizando Columna de estrellas 'stars'\n",
    "# Crea una nueva columna 'binario' con valores 1 si 'valor' es mayor o igual a 4, de lo contrario, 0\n",
    "df_ml['stars_Target'] = df_ml['stars'].apply(lambda x: 1 if x >= 4 else 0)\n",
    "\n",
    "ColumnasModelo_ML = ['review_count', 'RestaurantsTakeOut',\n",
    "       'BusinessAcceptsCreditCards', 'RestaurantsDelivery', 'OutdoorSeating',\n",
    "       'BikeParking', 'RestaurantsReservations', 'WiFi', 'HasTV',\n",
    "       'promedio_sentimientos_positivos', 'promedio_sentimientos_negativos',\n",
    "       'Promedio_useful', 'Promedio_funny', 'Promedio_cool',\n",
    "       'promedio_sentimientos_positivosTip',\n",
    "       'promedio_sentimientos_negativosTip', 'promedio_compliment_count_Tip',\n",
    "       'A_M_Monday', 'A_T_Monday', 'A_N_Monday', 'A_M_Tuesday', 'A_T_Tuesday',\n",
    "       'A_N_Tuesday', 'A_M_Wednesday', 'A_T_Wednesday', 'A_N_Wednesday',\n",
    "       'A_M_Thursday', 'A_T_Thursday', 'A_N_Thursday', 'A_M_Friday',\n",
    "       'A_T_Friday', 'A_N_Friday', 'A_M_Saturday', 'A_T_Saturday',\n",
    "       'A_N_Saturday', 'A_M_Sunday', 'A_T_Sunday', 'A_N_Sunday',\n",
    "        ]\n",
    "\n",
    "### Defenimos las variables 'X' nuestro modelo\n",
    "X = np.asarray(df_ml[ColumnasModelo_ML])\n",
    "y = np.asarray(df_ml['stars_Target'])\n",
    "\n",
    "\n",
    "### Normalizando el Dataset del Modelo de ML\n",
    "from sklearn import preprocessing\n",
    "X = preprocessing.StandardScaler().fit(X).transform(X)\n",
    "\n",
    "\n",
    "## Train/Test dataset\n",
    "from sklearn.linear_model import LogisticRegression\n",
    "from sklearn.model_selection import train_test_split\n",
    "from sklearn.metrics import accuracy_score\n",
    "X_train, X_test, y_train, y_test = train_test_split( X, y, test_size=0.2, random_state=4)\n",
    "\n",
    "\n",
    "### Modeling (Logistic Regression\n",
    "from sklearn.linear_model import LogisticRegression\n",
    "from sklearn.metrics import confusion_matrix\n",
    "\n",
    "# Crear un modelo de regresión logística\n",
    "model = LogisticRegression()\n",
    "\n",
    "# Entrenar el modelo con los datos de entrenamiento\n",
    "model.fit(X_train, y_train)\n",
    "\n",
    "### Predecir en el Nuevos Datos\n",
    "### Cargando los Datos\n",
    "\n",
    "nuevos_datos = pd.DataFrame({\n",
    "    'review_count': [18], \n",
    "    'RestaurantsTakeOut': [0],\n",
    "    'BusinessAcceptsCreditCards': [0], \n",
    "    'RestaurantsDelivery': [0], \n",
    "    'OutdoorSeating': [0],\n",
    "    'BikeParking': [0], \n",
    "    'RestaurantsReservations': [0], \n",
    "    'WiFi': [0], \n",
    "    'HasTV': [0],\n",
    "    'promedio_sentimientos_positivos': [1], \n",
    "    'promedio_sentimientos_negativos': [1],\n",
    "    'Promedio_useful': [1.4], \n",
    "    'Promedio_funny': [0.876], \n",
    "    'Promedio_cool': [0.77754],\n",
    "    'promedio_sentimientos_positivosTip': [1],\n",
    "    'promedio_sentimientos_negativosTip': [1], \n",
    "    'promedio_compliment_count_Tip': [0],\n",
    "    'A_M_Monday': [1], \n",
    "    'A_T_Monday': [0], \n",
    "    'A_N_Monday': [0], \n",
    "    'A_M_Tuesday': [1], \n",
    "    'A_T_Tuesday': [0],\n",
    "    'A_N_Tuesday': [0], \n",
    "    'A_M_Wednesday': [0], \n",
    "    'A_T_Wednesday': [0], \n",
    "    'A_N_Wednesday': [1],\n",
    "    'A_M_Thursday': [1], \n",
    "    'A_T_Thursday': [1], \n",
    "    'A_N_Thursday': [1], \n",
    "    'A_M_Friday': [1],\n",
    "    'A_T_Friday': [0], \n",
    "    'A_N_Friday': [0], \n",
    "    'A_M_Saturday': [0], \n",
    "    'A_T_Saturday': [1],\n",
    "    'A_N_Saturday': [0], \n",
    "    'A_M_Sunday': [0], \n",
    "    'A_T_Sunday': [1], \n",
    "    'A_N_Sunday': [0],\n",
    "})\n",
    "\n",
    "\n",
    "# Realizar la predicción en los datos editados\n",
    "prediccion_datos_nuevos = model.predict(nuevos_datos)\n",
    "print(\"Predicción Nuevos Datos = \", prediccion_datos_nuevos)\n"
   ]
  },
  {
   "cell_type": "code",
   "execution_count": null,
   "id": "980b566a-dde1-4ed0-bc87-e2668b8210ac",
   "metadata": {},
   "outputs": [],
   "source": []
  },
  {
   "cell_type": "code",
   "execution_count": 78,
   "id": "eddbeabd-f366-4203-a91e-f8f0c8c26ddb",
   "metadata": {},
   "outputs": [
    {
     "data": {
      "text/html": [
       "<div>\n",
       "<style scoped>\n",
       "    .dataframe tbody tr th:only-of-type {\n",
       "        vertical-align: middle;\n",
       "    }\n",
       "\n",
       "    .dataframe tbody tr th {\n",
       "        vertical-align: top;\n",
       "    }\n",
       "\n",
       "    .dataframe thead th {\n",
       "        text-align: right;\n",
       "    }\n",
       "</style>\n",
       "<table border=\"1\" class=\"dataframe\">\n",
       "  <thead>\n",
       "    <tr style=\"text-align: right;\">\n",
       "      <th></th>\n",
       "      <th>0</th>\n",
       "    </tr>\n",
       "  </thead>\n",
       "  <tbody>\n",
       "    <tr>\n",
       "      <th>business_id</th>\n",
       "      <td>MTSW4McQd7CbVtyjqoe9mw</td>\n",
       "    </tr>\n",
       "    <tr>\n",
       "      <th>name</th>\n",
       "      <td>St Honore Pastries</td>\n",
       "    </tr>\n",
       "    <tr>\n",
       "      <th>address</th>\n",
       "      <td>935 Race St</td>\n",
       "    </tr>\n",
       "    <tr>\n",
       "      <th>city</th>\n",
       "      <td>Philadelphia</td>\n",
       "    </tr>\n",
       "    <tr>\n",
       "      <th>state</th>\n",
       "      <td>CA</td>\n",
       "    </tr>\n",
       "    <tr>\n",
       "      <th>...</th>\n",
       "      <td>...</td>\n",
       "    </tr>\n",
       "    <tr>\n",
       "      <th>A_N_Saturday</th>\n",
       "      <td>0</td>\n",
       "    </tr>\n",
       "    <tr>\n",
       "      <th>A_M_Sunday</th>\n",
       "      <td>1</td>\n",
       "    </tr>\n",
       "    <tr>\n",
       "      <th>A_T_Sunday</th>\n",
       "      <td>0</td>\n",
       "    </tr>\n",
       "    <tr>\n",
       "      <th>A_N_Sunday</th>\n",
       "      <td>0</td>\n",
       "    </tr>\n",
       "    <tr>\n",
       "      <th>Total_Horas_Semana</th>\n",
       "      <td>94.0</td>\n",
       "    </tr>\n",
       "  </tbody>\n",
       "</table>\n",
       "<p>61 rows × 1 columns</p>\n",
       "</div>"
      ],
      "text/plain": [
       "                                         0\n",
       "business_id         MTSW4McQd7CbVtyjqoe9mw\n",
       "name                    St Honore Pastries\n",
       "address                        935 Race St\n",
       "city                          Philadelphia\n",
       "state                                   CA\n",
       "...                                    ...\n",
       "A_N_Saturday                             0\n",
       "A_M_Sunday                               1\n",
       "A_T_Sunday                               0\n",
       "A_N_Sunday                               0\n",
       "Total_Horas_Semana                    94.0\n",
       "\n",
       "[61 rows x 1 columns]"
      ]
     },
     "execution_count": 78,
     "metadata": {},
     "output_type": "execute_result"
    }
   ],
   "source": [
    "df_ML_promedios_Final.head(1).T"
   ]
  },
  {
   "cell_type": "code",
   "execution_count": null,
   "id": "69a6bbd9-e29a-4b60-a90f-c537d227774e",
   "metadata": {},
   "outputs": [],
   "source": []
  },
  {
   "cell_type": "code",
   "execution_count": null,
   "id": "c92c681f-84fd-499c-bcf3-8a7b352eff59",
   "metadata": {},
   "outputs": [],
   "source": []
  },
  {
   "cell_type": "code",
   "execution_count": null,
   "id": "0313c361-93a5-4beb-9be9-2733b3ddfff2",
   "metadata": {},
   "outputs": [],
   "source": []
  },
  {
   "cell_type": "code",
   "execution_count": null,
   "id": "4a9bee82-3b86-4cd0-8e19-f451d66ea2ed",
   "metadata": {},
   "outputs": [],
   "source": []
  },
  {
   "cell_type": "markdown",
   "id": "64a61f3f-f9ad-45b3-ae20-d7f2270641ad",
   "metadata": {},
   "source": [
    "### Evaluación del Modelo"
   ]
  },
  {
   "cell_type": "markdown",
   "id": "3adfe572-ec07-4113-b477-0a500d297c01",
   "metadata": {},
   "source": [
    "### jaccard index\n",
    "\n",
    "Let's try the jaccard index for accuracy evaluation. we can define jaccard as the size of the intersection divided by the size of the union of the two label sets. If the entire set of predicted labels for a sample strictly matches with the true set of labels, then the subset accuracy is 1.0; otherwise it is 0.0."
   ]
  },
  {
   "cell_type": "code",
   "execution_count": 65,
   "id": "57a3e0ce-4384-45c8-afda-7a61494e11ae",
   "metadata": {},
   "outputs": [
    {
     "data": {
      "text/plain": [
       "0.7450912250217202"
      ]
     },
     "execution_count": 65,
     "metadata": {},
     "output_type": "execute_result"
    }
   ],
   "source": [
    "from sklearn.metrics import jaccard_score\n",
    "\n",
    "jaccard_score(y_test, y_pred, pos_label=0)"
   ]
  },
  {
   "cell_type": "code",
   "execution_count": 66,
   "id": "8de6727a-3c04-49d7-9188-fa66db93ddee",
   "metadata": {},
   "outputs": [
    {
     "name": "stdout",
     "output_type": "stream",
     "text": [
      "Precisión del modelo de regresión logística: 0.8513225904530253\n"
     ]
    }
   ],
   "source": [
    "# Calcular la precisión del modelo\n",
    "accuracy = accuracy_score(y_test, y_pred)\n",
    "\n",
    "print(\"Precisión del modelo de regresión logística:\", accuracy)"
   ]
  },
  {
   "cell_type": "markdown",
   "id": "bac00be1-5c22-4f44-a8ed-ddade46cea60",
   "metadata": {},
   "source": [
    "### confusion matrix\n",
    "\n",
    "Another way of looking at the accuracy of the classifier is to look at **confusion matrix**."
   ]
  },
  {
   "cell_type": "code",
   "execution_count": 29,
   "id": "7452c313-cf6a-40dc-a13b-f0dd467e383e",
   "metadata": {},
   "outputs": [
    {
     "name": "stdout",
     "output_type": "stream",
     "text": [
      "[[4112  576]\n",
      " [ 891 4288]]\n"
     ]
    }
   ],
   "source": [
    "from sklearn.metrics import classification_report, confusion_matrix\n",
    "import itertools\n",
    "\n",
    "def plot_confusion_matrix(cm, classes,\n",
    "                          normalize=False,\n",
    "                          title='Confusion matrix',\n",
    "                          cmap=plt.cm.Blues):\n",
    "    \"\"\"\n",
    "    This function prints and plots the confusion matrix.\n",
    "    Normalization can be applied by setting `normalize=True`.\n",
    "    \"\"\"\n",
    "    if normalize:\n",
    "        cm = cm.astype('float') / cm.sum(axis=1)[:, np.newaxis]\n",
    "        print(\"Normalized confusion matrix\")\n",
    "    else:\n",
    "        print('Confusion matrix, without normalization')\n",
    "\n",
    "    print(cm)\n",
    "\n",
    "    plt.imshow(cm, interpolation='nearest', cmap=cmap)\n",
    "    plt.title(title)\n",
    "    plt.colorbar()\n",
    "    tick_marks = np.arange(len(classes))\n",
    "    plt.xticks(tick_marks, classes, rotation=45)\n",
    "    plt.yticks(tick_marks, classes)\n",
    "\n",
    "    fmt = '.2f' if normalize else 'd'\n",
    "    thresh = cm.max() / 2.\n",
    "    for i, j in itertools.product(range(cm.shape[0]), range(cm.shape[1])):\n",
    "        plt.text(j, i, format(cm[i, j], fmt),\n",
    "                 horizontalalignment=\"center\",\n",
    "                 color=\"white\" if cm[i, j] > thresh else \"black\")\n",
    "\n",
    "    plt.tight_layout()\n",
    "    plt.ylabel('True label')\n",
    "    plt.xlabel('Predicted label')\n",
    "print(confusion_matrix(y_test, y_pred, labels=[1,0]))"
   ]
  },
  {
   "cell_type": "code",
   "execution_count": 67,
   "id": "0f30191f-dec1-4e31-ab80-3865534040d2",
   "metadata": {},
   "outputs": [
    {
     "name": "stdout",
     "output_type": "stream",
     "text": [
      "Confusion matrix, without normalization\n",
      "[[4112  576]\n",
      " [ 891 4288]]\n"
     ]
    },
    {
     "data": {
      "image/png": "[encoded data removed]",
      "text/plain": [
       "<Figure size 640x480 with 2 Axes>"
      ]
     },
     "metadata": {},
     "output_type": "display_data"
    }
   ],
   "source": [
    "# Compute confusion matrix\n",
    "cnf_matrix = confusion_matrix(y_test, y_pred, labels=[1,0])\n",
    "np.set_printoptions(precision=2)\n",
    "\n",
    "\n",
    "# Plot non-normalized confusion matrix\n",
    "plt.figure()\n",
    "plot_confusion_matrix(cnf_matrix, classes=['stars_Target=1','stars_Target=0'],normalize= False,  title='Confusion matrix')"
   ]
  },
  {
   "cell_type": "code",
   "execution_count": 68,
   "id": "e88f21c0-0943-4160-8da7-dc5462138409",
   "metadata": {},
   "outputs": [
    {
     "name": "stdout",
     "output_type": "stream",
     "text": [
      "              precision    recall  f1-score   support\n",
      "\n",
      "           0       0.88      0.83      0.85      5179\n",
      "           1       0.82      0.88      0.85      4688\n",
      "\n",
      "    accuracy                           0.85      9867\n",
      "   macro avg       0.85      0.85      0.85      9867\n",
      "weighted avg       0.85      0.85      0.85      9867\n",
      "\n"
     ]
    }
   ],
   "source": [
    "print (classification_report(y_test, y_pred))"
   ]
  },
  {
   "cell_type": "code",
   "execution_count": 69,
   "id": "820fd518-1b93-4084-8581-5d6bfacdc8e9",
   "metadata": {},
   "outputs": [
    {
     "name": "stdout",
     "output_type": "stream",
     "text": [
      "Número de casos que se clasificaron correctamente como positivos =  4112\n",
      "Número de casos que se clasificaron correctamente como negativos =  4288\n",
      "Número de casos que se clasificaron incorrectamente como positivos\n",
      "   cuando en realidad son negativos =  891\n",
      "Número de casos que se clasificaron incorrectamente como negativos\n",
      "   cuando en realidad son positivos =  576\n"
     ]
    }
   ],
   "source": [
    "# Calcular la matriz de confusión\n",
    "conf_matrix = confusion_matrix(y_test, y_pred)\n",
    "\n",
    "# Obtener los valores individuales de la matriz de confusión\n",
    "TP = conf_matrix[1, 1]  # Verdaderos positivos\n",
    "TN = conf_matrix[0, 0]  # Verdaderos negativos\n",
    "FP = conf_matrix[0, 1]  # Falsos positivos\n",
    "FN = conf_matrix[1, 0]  # Falsos negativos\n",
    "\n",
    "print(\"Número de casos que se clasificaron correctamente como positivos = \", TP)\n",
    "print(\"Número de casos que se clasificaron correctamente como negativos = \", TN)\n",
    "print(\"Número de casos que se clasificaron incorrectamente como positivos\\n   cuando en realidad son negativos = \", FP)\n",
    "print(\"Número de casos que se clasificaron incorrectamente como negativos\\n   cuando en realidad son positivos = \", FN)"
   ]
  },
  {
   "cell_type": "code",
   "execution_count": 33,
   "id": "23a39245-9ef1-49b9-bc6c-5fd0e0b0c5bf",
   "metadata": {},
   "outputs": [
    {
     "data": {
      "text/plain": [
       "0.3504278482797817"
      ]
     },
     "execution_count": 33,
     "metadata": {},
     "output_type": "execute_result"
    }
   ],
   "source": [
    "from sklearn.metrics import log_loss\n",
    "log_loss(y_test, y_pred_prob)"
   ]
  },
  {
   "cell_type": "code",
   "execution_count": null,
   "id": "e99ee099-ea41-4c09-aaa0-0c61e2b79685",
   "metadata": {},
   "outputs": [],
   "source": []
  },
  {
   "cell_type": "markdown",
   "id": "5bc25da4-8b4d-4c6e-8e17-06b9ee9673b8",
   "metadata": {},
   "source": [
    "### Fin"
   ]
  },
  {
   "cell_type": "code",
   "execution_count": null,
   "id": "c376b0bc-5c2d-478f-b8ab-bea308438370",
   "metadata": {},
   "outputs": [],
   "source": []
  }
 ],
 "metadata": {
  "environment": {
   "kernel": "conda-root-py",
   "name": "workbench-notebooks.m111",
   "type": "gcloud",
   "uri": "gcr.io/deeplearning-platform-release/workbench-notebooks:m111"
  },
  "kernelspec": {
   "display_name": "Python 3",
   "language": "python",
   "name": "conda-root-py"
  },
  "language_info": {
   "codemirror_mode": {
    "name": "ipython",
    "version": 3
   },
   "file_extension": ".py",
   "mimetype": "text/x-python",
   "name": "python",
   "nbconvert_exporter": "python",
   "pygments_lexer": "ipython3",
   "version": "3.10.12"
  }
 },
 "nbformat": 4,
 "nbformat_minor": 5
}
