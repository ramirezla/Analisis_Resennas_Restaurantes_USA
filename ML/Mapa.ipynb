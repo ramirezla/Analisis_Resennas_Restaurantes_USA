{
 "cells": [
  {
   "cell_type": "markdown",
   "id": "58f09bf3-28c6-426a-aad7-66b8399c4598",
   "metadata": {},
   "source": [
    "<h1 align=\"center\"> <span style=\"font-size: 20px;\"> Proyecto Final Grupo Nº 7 </span> <br>\n",
    "    <align=\"center\"> <span style=\"font-size: 15px;\">  Proyecto Yelp & Google Maps - Reviewa y Recomendaciones</span><br>         \n",
    "<align=\"center\"> <span style=\"font-size: 15px;\">@utores:  Javier Castro, Luca Ramallo, Luis Ramírez, Lesmen García.</span> <br>\n",
    "  <a href=\"https://github.com/lesmengp/Proyecto-Final-Grupo-07.git\">GitHub: <span style=\"font-size: 20px;\">Proyecto Yelp & Google Maps</span></a> \n",
    "</h1>"
   ]
  },
  {
   "cell_type": "markdown",
   "id": "8c445df4-e49c-41cd-9fb0-9e23f2f136cc",
   "metadata": {},
   "source": [
    "# Mapa Reseñas"
   ]
  },
  {
   "cell_type": "markdown",
   "id": "cffcfa70-13ed-4d0c-95a9-d67fc902ca48",
   "metadata": {},
   "source": [
    "### Librerías a Utilizar:"
   ]
  },
  {
   "cell_type": "code",
   "execution_count": 1,
   "id": "01436269-4bf5-467c-b5a0-18051690a8ff",
   "metadata": {},
   "outputs": [],
   "source": [
    "import pandas as pd\n",
    "import numpy as np\n",
    "import os\n",
    "import io\n",
    "import json\n",
    "import gcsfs\n",
    "import pandas as pd\n",
    "import folium\n",
    "import webbrowser\n",
    "import textwrap\n",
    "from folium.plugins import MarkerCluster"
   ]
  },
  {
   "cell_type": "markdown",
   "id": "6abcc65d-1d48-4928-91a0-c04ebf8f8257",
   "metadata": {},
   "source": [
    "### Cargando Dataset Consolidado Final para ML: 'df_ML_promedios_Final.parquet'"
   ]
  },
  {
   "cell_type": "code",
   "execution_count": 4,
   "id": "431ec688-94ba-4ce4-a89e-69e071c55dc1",
   "metadata": {},
   "outputs": [
    {
     "name": "stdout",
     "output_type": "stream",
     "text": [
      "<class 'pandas.core.frame.DataFrame'>\n",
      "RangeIndex: 49334 entries, 0 to 49333\n",
      "Data columns (total 61 columns):\n",
      " #   Column                              Non-Null Count  Dtype  \n",
      "---  ------                              --------------  -----  \n",
      " 0   business_id                         49334 non-null  object \n",
      " 1   name                                49334 non-null  object \n",
      " 2   address                             49334 non-null  object \n",
      " 3   city                                49334 non-null  object \n",
      " 4   state                               49334 non-null  object \n",
      " 5   postal_code                         49334 non-null  object \n",
      " 6   latitude                            49334 non-null  float64\n",
      " 7   longitude                           49334 non-null  float64\n",
      " 8   stars                               49334 non-null  float64\n",
      " 9   review_count                        49334 non-null  int16  \n",
      " 10  is_open                             49334 non-null  int8   \n",
      " 11  RestaurantsTakeOut                  49334 non-null  int64  \n",
      " 12  BusinessParking                     45627 non-null  object \n",
      " 13  BusinessAcceptsCreditCards          49334 non-null  int64  \n",
      " 14  RestaurantsDelivery                 49334 non-null  int64  \n",
      " 15  RestaurantsPriceRange2              44103 non-null  object \n",
      " 16  OutdoorSeating                      49334 non-null  int64  \n",
      " 17  BikeParking                         49334 non-null  int64  \n",
      " 18  RestaurantsReservations             49334 non-null  int64  \n",
      " 19  WiFi                                49334 non-null  int64  \n",
      " 20  HasTV                               49334 non-null  int64  \n",
      " 21  Monday                              49334 non-null  float64\n",
      " 22  Tuesday                             49334 non-null  float64\n",
      " 23  Wednesday                           49334 non-null  float64\n",
      " 24  Thursday                            49334 non-null  float64\n",
      " 25  Friday                              49334 non-null  float64\n",
      " 26  Saturday                            49334 non-null  float64\n",
      " 27  Sunday                              49334 non-null  float64\n",
      " 28  average_stars                       49334 non-null  float64\n",
      " 29  total_sentimientos                  49334 non-null  int64  \n",
      " 30  promedio_sentimientos_positivos     49334 non-null  float64\n",
      " 31  promedio_sentimientos_negativos     49334 non-null  float64\n",
      " 32  Promedio_useful                     49334 non-null  float64\n",
      " 33  Promedio_funny                      49334 non-null  float64\n",
      " 34  Promedio_cool                       49334 non-null  float64\n",
      " 35  total_sentimientosTip               49334 non-null  int64  \n",
      " 36  promedio_sentimientos_positivosTip  49334 non-null  float64\n",
      " 37  promedio_sentimientos_negativosTip  49334 non-null  float64\n",
      " 38  promedio_compliment_count_Tip       49334 non-null  float64\n",
      " 39  A_M_Monday                          49334 non-null  int64  \n",
      " 40  A_T_Monday                          49334 non-null  int64  \n",
      " 41  A_N_Monday                          49334 non-null  int64  \n",
      " 42  A_M_Tuesday                         49334 non-null  int64  \n",
      " 43  A_T_Tuesday                         49334 non-null  int64  \n",
      " 44  A_N_Tuesday                         49334 non-null  int64  \n",
      " 45  A_M_Wednesday                       49334 non-null  int64  \n",
      " 46  A_T_Wednesday                       49334 non-null  int64  \n",
      " 47  A_N_Wednesday                       49334 non-null  int64  \n",
      " 48  A_M_Thursday                        49334 non-null  int64  \n",
      " 49  A_T_Thursday                        49334 non-null  int64  \n",
      " 50  A_N_Thursday                        49334 non-null  int64  \n",
      " 51  A_M_Friday                          49334 non-null  int64  \n",
      " 52  A_T_Friday                          49334 non-null  int64  \n",
      " 53  A_N_Friday                          49334 non-null  int64  \n",
      " 54  A_M_Saturday                        49334 non-null  int64  \n",
      " 55  A_T_Saturday                        49334 non-null  int64  \n",
      " 56  A_N_Saturday                        49334 non-null  int64  \n",
      " 57  A_M_Sunday                          49334 non-null  int64  \n",
      " 58  A_T_Sunday                          49334 non-null  int64  \n",
      " 59  A_N_Sunday                          49334 non-null  int64  \n",
      " 60  Total_Horas_Semana                  49334 non-null  float64\n",
      "dtypes: float64(20), int16(1), int64(31), int8(1), object(8)\n",
      "memory usage: 22.3+ MB\n"
     ]
    }
   ],
   "source": [
    "### Cargando DataSets Consolidado para Análisis de ML: 'df_business_yelp_ML.parquet'\n",
    "# Ruta completa en Cloud Storage\n",
    "ruta_eda_datalike = \"gs://gmy/Datasets_ML/df_ML_promedios_Final.parquet\"\n",
    "\n",
    "# Lee el archivo Parquet directamente en un DataFrame de pandas\n",
    "df_ML_promedios_Final = pd.read_parquet(ruta_eda_datalike, storage_options={\"project\": \"Proyecto Final - Henry\"})\n",
    "df_ML_promedios_Final.info()"
   ]
  },
  {
   "cell_type": "code",
   "execution_count": 5,
   "id": "d6507128-aeda-4fc5-b9d2-d4f97678a871",
   "metadata": {},
   "outputs": [
    {
     "data": {
      "text/plain": [
       "Index(['business_id', 'name', 'address', 'city', 'state', 'postal_code',\n",
       "       'latitude', 'longitude', 'stars', 'review_count', 'is_open',\n",
       "       'RestaurantsTakeOut', 'BusinessParking', 'BusinessAcceptsCreditCards',\n",
       "       'RestaurantsDelivery', 'RestaurantsPriceRange2', 'OutdoorSeating',\n",
       "       'BikeParking', 'RestaurantsReservations', 'WiFi', 'HasTV', 'Monday',\n",
       "       'Tuesday', 'Wednesday', 'Thursday', 'Friday', 'Saturday', 'Sunday',\n",
       "       'average_stars', 'total_sentimientos',\n",
       "       'promedio_sentimientos_positivos', 'promedio_sentimientos_negativos',\n",
       "       'Promedio_useful', 'Promedio_funny', 'Promedio_cool',\n",
       "       'total_sentimientosTip', 'promedio_sentimientos_positivosTip',\n",
       "       'promedio_sentimientos_negativosTip', 'promedio_compliment_count_Tip',\n",
       "       'A_M_Monday', 'A_T_Monday', 'A_N_Monday', 'A_M_Tuesday', 'A_T_Tuesday',\n",
       "       'A_N_Tuesday', 'A_M_Wednesday', 'A_T_Wednesday', 'A_N_Wednesday',\n",
       "       'A_M_Thursday', 'A_T_Thursday', 'A_N_Thursday', 'A_M_Friday',\n",
       "       'A_T_Friday', 'A_N_Friday', 'A_M_Saturday', 'A_T_Saturday',\n",
       "       'A_N_Saturday', 'A_M_Sunday', 'A_T_Sunday', 'A_N_Sunday',\n",
       "       'Total_Horas_Semana'],\n",
       "      dtype='object')"
      ]
     },
     "execution_count": 5,
     "metadata": {},
     "output_type": "execute_result"
    }
   ],
   "source": [
    "df_ML_promedios_Final.columns"
   ]
  },
  {
   "cell_type": "code",
   "execution_count": null,
   "id": "28bff724-e7c1-4f78-8c3c-adf32bbd1988",
   "metadata": {},
   "outputs": [],
   "source": []
  },
  {
   "cell_type": "markdown",
   "id": "56ddfb33-ba59-48ee-9f9c-2385424b75bf",
   "metadata": {},
   "source": [
    "### Graficando el Mapa de los 54789 Registros del DataSets de ML"
   ]
  },
  {
   "cell_type": "code",
   "execution_count": null,
   "id": "0871dc5f-7ebe-4a33-8e8e-46f8ff2c940e",
   "metadata": {},
   "outputs": [],
   "source": [
    "import pandas as pd\n",
    "import folium\n",
    "import webbrowser\n",
    "import textwrap\n",
    "from folium.plugins import MarkerCluster\n",
    "\n",
    "\n",
    "map = folium.Map(location=[df_ML_promedios_Final.latitude.mean(), df_ML_promedios_Final.longitude.mean()], \n",
    "                zoom_start=7, control_scale=True)\n",
    "\n",
    "marker_cluster = MarkerCluster().add_to(map)\n",
    "\n",
    "title = 'Proyecto Yelp & Google Maps - Reseñas y Recomendaciones </br> Proyecto Final Grupo Nº 7 </br>@utores: Javier Castro, Luca Ramallo, Luis Ramírez, Lesmen García'\n",
    "title_html = '<h3 align=\"center\" style=\"font-size:16px\"><b>{}</b></h3>'.format(title)\n",
    "\n",
    "\n",
    "#Loop through each row in the dataframe\n",
    "for i,row in df_ML_promedios_Final.iterrows():\n",
    "    \n",
    "# ['business_id', 'name', 'address', 'city', 'state', 'postal_code',\n",
    "#       'latitude', 'longitude', 'stars', 'review_count', 'is_open',\n",
    "#       'RestaurantsTakeOut', 'BusinessParking', 'BusinessAcceptsCreditCards',\n",
    "#       'RestaurantsDelivery', 'RestaurantsPriceRange2', 'OutdoorSeating',\n",
    "#       'BikeParking', 'RestaurantsReservations', 'WiFi', 'HasTV', 'Monday',\n",
    "#       'Tuesday', 'Wednesday', 'Thursday', 'Friday', 'Saturday', 'Sunday',\n",
    "#       'average_stars', 'total_sentimientos',\n",
    "#       'promedio_sentimientos_positivos', 'promedio_sentimientos_negativos',\n",
    "#       'Promedio_useful', 'Promedio_funny', 'Promedio_cool',\n",
    "#       'total_sentimientosTip', 'promedio_sentimientos_positivosTip',\n",
    "#       'promedio_sentimientos_negativosTip', 'promedio_compliment_count_Tip',\n",
    "#       'A_M_Monday', 'A_T_Monday', 'A_N_Monday', 'A_M_Tuesday', 'A_T_Tuesday',\n",
    "#       'A_N_Tuesday', 'A_M_Wednesday', 'A_T_Wednesday', 'A_N_Wednesday',\n",
    "#       'A_M_Thursday', 'A_T_Thursday', 'A_N_Thursday', 'A_M_Friday',\n",
    "#       'A_T_Friday', 'A_N_Friday', 'A_M_Saturday', 'A_T_Saturday',\n",
    "#       'A_N_Saturday', 'A_M_Sunday', 'A_T_Sunday', 'A_N_Sunday',\n",
    "#       'Total_Horas_Semana']\n",
    "\n",
    "        \n",
    "    # Formatting the text1\n",
    "    text1 = f\"Name: <strong>{row['name']}</strong></br> \\\n",
    "    Address: <strong>{row['address']}</strong></br> \\\n",
    "    City: <strong>{row['city']}</strong></br> \\\n",
    "    State: <strong>{row['state']}</strong></br>  \\\n",
    "    Postal_Code: <strong>{row['postal_code']}</strong></br> \\\n",
    "    Stars: <strong>{row['stars']}</strong></br> \\\n",
    "    Average_stars: <strong>{row['average_stars']}</strong></br> \\\n",
    "    Total_Reseñas: <strong>{row['total_sentimientos']}</strong></br> \\\n",
    "    Promedio_Sentimientos_Pos: <strong>{row['promedio_sentimientos_positivos']}</strong></br> \\\n",
    "    Promedio_Sentimientos_Neg: <strong>{row['promedio_sentimientos_positivos']}</strong></br> \\\n",
    "    Promedio_Useful: <strong>{row['Promedio_useful']}</strong></br> \\\n",
    "    Promedio_Funny: <strong>{row['Promedio_funny']}</strong></br> \\\n",
    "    Promedio_Cool: <strong>{row['Promedio_cool']}</strong></br> \\\n",
    "    promedio_sentimientos_positivosTip: <strong>{row['promedio_sentimientos_positivosTip']}</strong></br> \\\n",
    "    promedio_sentimientos_negativosTip: <strong>{row['promedio_sentimientos_negativosTip']}</strong></br> \\\n",
    "    promedio_compliment_count_Tip: <strong>{row['promedio_compliment_count_Tip']}</strong></br> \\\n",
    "    total_sentimientosTip: <strong>{row['total_sentimientosTip']}</strong></br> \\\n",
    "    </br> \"\n",
    "\n",
    "    # Formatting the text2 = ATRIBUTOS\n",
    "    text2 = f\"RestaurantsTakeOut: <strong>{row['RestaurantsTakeOut']}</strong></br>\\\n",
    "    BusinessParking: <strong>{row['BusinessParking']}</strong></br> \\\n",
    "    BusinessAcceptsCreditCards: <strong>{row['BusinessAcceptsCreditCards']}</strong></br> \\\n",
    "    RestaurantsDelivery: <strong>{row['RestaurantsDelivery']}</strong></br> \\\n",
    "    RestaurantsPriceRange2: <strong>{row['RestaurantsPriceRange2']}</strong></br> \\\n",
    "    OutdoorSeating: <strong>{row['OutdoorSeating']}</strong></br> \\\n",
    "    BikeParking: <strong>{row['BikeParking']} </strong></br>\\\n",
    "    RestaurantsReservations: <strong>{row['RestaurantsReservations']}</strong></br> \\\n",
    "    WiFi: <strong>{row['WiFi']}</strong></br> \\\n",
    "    HasTV: <strong>{row['HasTV']}</strong></br> \\\n",
    "    </br>\"\n",
    "        \n",
    "\n",
    "    #Initialise the popup using the iframe\n",
    "    text2 = folium.Popup(text2, min_width=300, max_width=450)  # Size Text2    OC_FechaCierreIncidente\n",
    "    \n",
    "    \n",
    "    folium.Marker(location=[row['latitude'],row['longitude']],\n",
    "                popup = text2, tooltip =  text1,\n",
    "                icon=folium.Icon( prefix='fa') ).add_to(marker_cluster)  \n",
    "\n",
    "map.get_root().html.add_child(folium.Element(title_html))\n",
    "#map.save(\"MapaPF_Grupo07.html\")    \n",
    "map"
   ]
  },
  {
   "cell_type": "markdown",
   "id": "5bc25da4-8b4d-4c6e-8e17-06b9ee9673b8",
   "metadata": {},
   "source": [
    "### Fin"
   ]
  },
  {
   "cell_type": "code",
   "execution_count": null,
   "id": "559ba290-931b-42de-b966-e7f86b5b2908",
   "metadata": {},
   "outputs": [],
   "source": []
  }
 ],
 "metadata": {
  "environment": {
   "kernel": "conda-root-py",
   "name": "workbench-notebooks.m111",
   "type": "gcloud",
   "uri": "gcr.io/deeplearning-platform-release/workbench-notebooks:m111"
  },
  "kernelspec": {
   "display_name": "Python 3",
   "language": "python",
   "name": "conda-root-py"
  },
  "language_info": {
   "codemirror_mode": {
    "name": "ipython",
    "version": 3
   },
   "file_extension": ".py",
   "mimetype": "text/x-python",
   "name": "python",
   "nbconvert_exporter": "python",
   "pygments_lexer": "ipython3",
   "version": "3.10.12"
  }
 },
 "nbformat": 4,
 "nbformat_minor": 5
}
