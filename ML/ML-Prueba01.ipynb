{
 "cells": [
  {
   "cell_type": "markdown",
   "id": "58f09bf3-28c6-426a-aad7-66b8399c4598",
   "metadata": {},
   "source": [
    "<h1 align=\"center\"> <span style=\"font-size: 20px;\"> Proyecto Final Grupo Nº 7 </span> <br>\n",
    "    <align=\"center\"> <span style=\"font-size: 15px;\">  Proyecto Yelp & Google Maps - Reviewa y Recomendaciones</span><br>         \n",
    "<align=\"center\"> <span style=\"font-size: 15px;\">@utores:  Javier Castro, Luca Ramallo, Luis Ramírez, Lesmen García.</span> <br>\n",
    "  <a href=\"https://github.com/lesmengp/Proyecto-Final-Grupo-07.git\">GitHub: <span style=\"font-size: 20px;\">Proyecto Yelp & Google Maps</span></a> \n",
    "</h1>"
   ]
  },
  {
   "cell_type": "markdown",
   "id": "cffcfa70-13ed-4d0c-95a9-d67fc902ca48",
   "metadata": {},
   "source": [
    "### Librerías a Utilizar:"
   ]
  },
  {
   "cell_type": "code",
   "execution_count": 1,
   "id": "01436269-4bf5-467c-b5a0-18051690a8ff",
   "metadata": {},
   "outputs": [],
   "source": [
    "import pandas as pd\n",
    "import numpy as np\n",
    "from datetime import datetime\n",
    "import matplotlib.pyplot as plt\n",
    "import seaborn as sns\n",
    "import os\n",
    "import io\n",
    "import json\n",
    "import gcsfs"
   ]
  },
  {
   "cell_type": "code",
   "execution_count": 3,
   "id": "a3d83c6a-7bd0-40c0-a3b6-6ab5c4de4735",
   "metadata": {},
   "outputs": [
    {
     "name": "stdout",
     "output_type": "stream",
     "text": [
      "Requirement already satisfied: nltk in /opt/conda/lib/python3.10/site-packages (3.8.1)\n",
      "Requirement already satisfied: click in /opt/conda/lib/python3.10/site-packages (from nltk) (8.1.7)\n",
      "Requirement already satisfied: joblib in /opt/conda/lib/python3.10/site-packages (from nltk) (1.3.2)\n",
      "Requirement already satisfied: regex>=2021.8.3 in /opt/conda/lib/python3.10/site-packages (from nltk) (2023.10.3)\n",
      "Requirement already satisfied: tqdm in /opt/conda/lib/python3.10/site-packages (from nltk) (4.66.1)\n"
     ]
    }
   ],
   "source": [
    "!pip install nltk"
   ]
  },
  {
   "cell_type": "code",
   "execution_count": 4,
   "id": "6b6fa3de-66ef-41bf-8754-682c6cc8dd18",
   "metadata": {},
   "outputs": [
    {
     "name": "stderr",
     "output_type": "stream",
     "text": [
      "[nltk_data] Downloading package vader_lexicon to\n",
      "[nltk_data]     /home/jupyter/nltk_data...\n",
      "[nltk_data]   Package vader_lexicon is already up-to-date!\n"
     ]
    },
    {
     "data": {
      "text/plain": [
       "True"
      ]
     },
     "execution_count": 4,
     "metadata": {},
     "output_type": "execute_result"
    }
   ],
   "source": [
    "import nltk\n",
    "nltk.download('vader_lexicon')   # VADER es una Biblioteca que ya contirnr algunas reglas para el Analisis de Sentimientos. Asigna puntuaciones"
   ]
  },
  {
   "cell_type": "code",
   "execution_count": 5,
   "id": "4cb7d232-39bd-478d-a94b-1d7774b57f55",
   "metadata": {},
   "outputs": [],
   "source": [
    "from nltk.sentiment import SentimentIntensityAnalyzer  # Nos da una probabilidad si el mensaje es negativo, neutro o positivo. "
   ]
  },
  {
   "cell_type": "code",
   "execution_count": 6,
   "id": "0bd56abe-4d75-4955-9aba-7baee58385a1",
   "metadata": {},
   "outputs": [],
   "source": [
    "sia = SentimentIntensityAnalyzer() # Se instancia el modelo"
   ]
  },
  {
   "cell_type": "code",
   "execution_count": 7,
   "id": "3ebfa30d-962b-4026-9335-1fb24ea16349",
   "metadata": {},
   "outputs": [],
   "source": [
    "f1 = \"I love this place\"\n",
    "f2 = \"I hate this restaurants\"\n",
    "f3 = \"I have nothing to say\""
   ]
  },
  {
   "cell_type": "code",
   "execution_count": 8,
   "id": "695a601a-890e-45c1-9334-e844dd817c56",
   "metadata": {},
   "outputs": [],
   "source": [
    "def AnalizarSentimiento(texto):\n",
    "    sia = SentimentIntensityAnalyzer() # Se instancia el modelo\n",
    "    sentimiento = sia.polarity_scores(texto)[\"compound\"]\n",
    "    \n",
    "    if sentimiento > 0.1:\n",
    "        return \"Sentimiento Positivo\"\n",
    "    else:\n",
    "        if sentimiento < 0:\n",
    "            return \"Sentimiento Negativo\"\n",
    "        else:\n",
    "            return \"Sentimiento Neutro\""
   ]
  },
  {
   "cell_type": "code",
   "execution_count": 9,
   "id": "e6db7385-7ed7-4614-b6c6-dc35f856dbda",
   "metadata": {},
   "outputs": [
    {
     "name": "stdout",
     "output_type": "stream",
     "text": [
      "Resultado Analisis de Sentimiento:  Sentimiento Positivo\n"
     ]
    }
   ],
   "source": [
    "ResultadoSentimiento = AnalizarSentimiento(f1)\n",
    "print(\"Resultado Analisis de Sentimiento: \",ResultadoSentimiento )"
   ]
  },
  {
   "cell_type": "code",
   "execution_count": 10,
   "id": "34614384-8564-4232-9b6c-8c05197a58a2",
   "metadata": {},
   "outputs": [
    {
     "name": "stdout",
     "output_type": "stream",
     "text": [
      "Resultado Analisis de Sentimiento:  Sentimiento Negativo\n"
     ]
    }
   ],
   "source": [
    "ResultadoSentimiento = AnalizarSentimiento(f2)\n",
    "print(\"Resultado Analisis de Sentimiento: \",ResultadoSentimiento )"
   ]
  },
  {
   "cell_type": "code",
   "execution_count": 11,
   "id": "a3a0176c-9cab-4bbb-81c5-4d1cb5d6bafc",
   "metadata": {},
   "outputs": [
    {
     "name": "stdout",
     "output_type": "stream",
     "text": [
      "Resultado Analisis de Sentimiento:  Sentimiento Neutro\n"
     ]
    }
   ],
   "source": [
    "ResultadoSentimiento = AnalizarSentimiento(f3)\n",
    "print(\"Resultado Analisis de Sentimiento: \",ResultadoSentimiento )"
   ]
  },
  {
   "cell_type": "code",
   "execution_count": null,
   "id": "021bb769-c0ca-4de2-877b-3de4850fe624",
   "metadata": {},
   "outputs": [],
   "source": []
  }
 ],
 "metadata": {
  "environment": {
   "kernel": "conda-root-py",
   "name": "workbench-notebooks.m111",
   "type": "gcloud",
   "uri": "gcr.io/deeplearning-platform-release/workbench-notebooks:m111"
  },
  "kernelspec": {
   "display_name": "Python 3",
   "language": "python",
   "name": "conda-root-py"
  },
  "language_info": {
   "codemirror_mode": {
    "name": "ipython",
    "version": 3
   },
   "file_extension": ".py",
   "mimetype": "text/x-python",
   "name": "python",
   "nbconvert_exporter": "python",
   "pygments_lexer": "ipython3",
   "version": "3.10.12"
  }
 },
 "nbformat": 4,
 "nbformat_minor": 5
}
