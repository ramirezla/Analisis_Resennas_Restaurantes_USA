{
 "cells": [
  {
   "cell_type": "markdown",
   "id": "555edd81-caec-4d56-916a-2c24c50783e1",
   "metadata": {},
   "source": [
    "<h1 align=\"center\"> <span style=\"font-size: 20px;\"> Proyecto Final Grupo Nº 7 </span> <br>\n",
    "    <align=\"center\"> <span style=\"font-size: 15px;\">  Proyecto Yelp & Google Maps - Reviewa y Recomendaciones</span><br>         \n",
    "<align=\"center\"> <span style=\"font-size: 15px;\">@utores:  Javier Castro, Luca Ramallo, Luis Ramírez, Lesmen García.</span> <br>\n",
    "  <a href=\"https://github.com/lesmengp/Proyecto-Final-Grupo-07.git\">GitHub: <span style=\"font-size: 20px;\">Proyecto Yelp & Google Maps</span></a> \n",
    "</h1>"
   ]
  },
  {
   "cell_type": "markdown",
   "id": "e7c518d2-7ab1-49b2-a77e-4386b9f2a5af",
   "metadata": {},
   "source": [
    "### Librerías a Utilizar:"
   ]
  },
  {
   "cell_type": "code",
   "execution_count": 1,
   "id": "45f57b36-33aa-4cd0-a44f-ec80af3ddb28",
   "metadata": {},
   "outputs": [],
   "source": [
    "import pandas as pd\n",
    "import numpy as np\n",
    "from datetime import datetime\n",
    "import matplotlib.pyplot as plt\n",
    "import seaborn as sns\n",
    "import os\n",
    "import io\n",
    "import json\n",
    "import gcsfs"
   ]
  },
  {
   "cell_type": "code",
   "execution_count": 3,
   "id": "341481ad-bfdc-48cc-bc98-41bc794e7db1",
   "metadata": {},
   "outputs": [
    {
     "name": "stderr",
     "output_type": "stream",
     "text": [
      "[nltk_data] Downloading package vader_lexicon to\n",
      "[nltk_data]     /home/jupyter/nltk_data...\n",
      "[nltk_data]   Package vader_lexicon is already up-to-date!\n"
     ]
    },
    {
     "data": {
      "text/plain": [
       "True"
      ]
     },
     "execution_count": 3,
     "metadata": {},
     "output_type": "execute_result"
    }
   ],
   "source": [
    "import nltk\n",
    "nltk.download('vader_lexicon')   # VADER es una Biblioteca que ya contirnr algunas reglas para el Analisis de Sentimientos. Asigna puntuaciones"
   ]
  },
  {
   "cell_type": "code",
   "execution_count": 4,
   "id": "0b2cc187-ba3a-477c-883e-3f932101a7a1",
   "metadata": {},
   "outputs": [],
   "source": [
    "from nltk.sentiment import SentimentIntensityAnalyzer  # Nos da una probabilidad si el mensaje es negativo, neutro o positivo. "
   ]
  },
  {
   "cell_type": "code",
   "execution_count": 5,
   "id": "7345d068-6197-48f6-b810-4a657125e132",
   "metadata": {},
   "outputs": [],
   "source": [
    "sia = SentimentIntensityAnalyzer() # Se instancia el modelo"
   ]
  },
  {
   "cell_type": "code",
   "execution_count": 5,
   "id": "0a742a5a-3cd4-43e6-af2a-4e99d2d6698d",
   "metadata": {},
   "outputs": [
    {
     "name": "stdout",
     "output_type": "stream",
     "text": [
      "<class 'pandas.core.frame.DataFrame'>\n",
      "RangeIndex: 2742210 entries, 0 to 2742209\n",
      "Data columns (total 8 columns):\n",
      " #   Column       Dtype \n",
      "---  ------       ----- \n",
      " 0   review_id    object\n",
      " 1   user_id      object\n",
      " 2   business_id  object\n",
      " 3   stars        int64 \n",
      " 4   useful       int64 \n",
      " 5   cool         int64 \n",
      " 6   text         object\n",
      " 7   date         object\n",
      "dtypes: int64(3), object(5)\n",
      "memory usage: 167.4+ MB\n"
     ]
    }
   ],
   "source": [
    "### Cargando el ETL del Dataset 'yelp_bussines'\n",
    "# Ruta completa en Cloud Storage\n",
    "ruta_eda_datalike = \"gs://gmy/eda/yelp_reviews.parquet\"\n",
    "\n",
    "# Lee el archivo Parquet directamente en un DataFrame de pandas\n",
    "yelp_reviews = pd.read_parquet(ruta_eda_datalike, storage_options={\"project\": \"Proyecto Final - Henry\"})\n",
    "yelp_reviews.info()"
   ]
  },
  {
   "cell_type": "code",
   "execution_count": 12,
   "id": "908d684a-2b92-4624-b242-0d985c8d9a15",
   "metadata": {},
   "outputs": [],
   "source": [
    "def AnalizarSentimiento(texto):\n",
    "    sia = SentimentIntensityAnalyzer() # Se instancia el modelo\n",
    "    sentimiento = sia.polarity_scores(texto)[\"compound\"]\n",
    "    \n",
    "    if sentimiento > 0.1:\n",
    "        return \"Sentimiento Positivo\"\n",
    "    else:\n",
    "        if sentimiento < 0:\n",
    "            return \"Sentimiento Negativo\"\n",
    "        else:\n",
    "            return \"Sentimiento Neutro\""
   ]
  },
  {
   "cell_type": "code",
   "execution_count": 7,
   "id": "3ee7e5c6-54a1-4455-95ac-90475bea905d",
   "metadata": {},
   "outputs": [],
   "source": [
    "f1 = \"I love this place\"\n",
    "f2 = \"I hate this restaurants\"\n",
    "f3 = \"I have nothing to say\"\n",
    "f4= \"La comida de este restaurante es buena\"\n",
    "f5 = \"Volvería a comer a este restaurante\""
   ]
  },
  {
   "cell_type": "code",
   "execution_count": 18,
   "id": "cf78a648-aa6b-481e-b654-0eed8cc9403e",
   "metadata": {},
   "outputs": [
    {
     "name": "stdout",
     "output_type": "stream",
     "text": [
      "{'neg': 0.0, 'neu': 0.323, 'pos': 0.677, 'compound': 0.6369}\n",
      "Resultado:  Sentimiento Positivo\n"
     ]
    }
   ],
   "source": [
    "f = f1 # Seleccionando Frase para analizar\n",
    "resultadoSentimiento = sia.polarity_scores(f)\n",
    "print(resultadoSentimiento)\n",
    "print(\"Resultado: \", AnalizarSentimiento(f))"
   ]
  },
  {
   "cell_type": "code",
   "execution_count": 19,
   "id": "e8b73f10-d9f1-448b-8ad5-4c58c822d1a8",
   "metadata": {},
   "outputs": [
    {
     "name": "stdout",
     "output_type": "stream",
     "text": [
      "{'neg': 0.649, 'neu': 0.351, 'pos': 0.0, 'compound': -0.5719}\n",
      "Resultado:  Sentimiento Negativo\n"
     ]
    }
   ],
   "source": [
    "f = f2 # Seleccionando Frase para analizar\n",
    "resultadoSentimiento = sia.polarity_scores(f)\n",
    "print(resultadoSentimiento)\n",
    "print(\"Resultado: \", AnalizarSentimiento(f))"
   ]
  },
  {
   "cell_type": "code",
   "execution_count": 20,
   "id": "2d30e6cd-b13c-42c6-86d8-6d741a5a910c",
   "metadata": {},
   "outputs": [
    {
     "name": "stdout",
     "output_type": "stream",
     "text": [
      "{'neg': 0.0, 'neu': 1.0, 'pos': 0.0, 'compound': 0.0}\n",
      "Resultado:  Sentimiento Neutro\n"
     ]
    }
   ],
   "source": [
    "f = f3 # Seleccionando Frase para analizar\n",
    "resultadoSentimiento = sia.polarity_scores(f)\n",
    "print(resultadoSentimiento)\n",
    "print(\"Resultado: \", AnalizarSentimiento(f))"
   ]
  },
  {
   "cell_type": "markdown",
   "id": "5db87dfb-125d-4f0a-8598-9e5de991d51a",
   "metadata": {},
   "source": [
    "### El siguiente texto deberia arrojar un sentimiento positivo y no lo hace."
   ]
  },
  {
   "cell_type": "code",
   "execution_count": 24,
   "id": "639a7769-20dd-406a-98c2-037b7f065881",
   "metadata": {},
   "outputs": [
    {
     "name": "stdout",
     "output_type": "stream",
     "text": [
      "{'neg': 0.0, 'neu': 1.0, 'pos': 0.0, 'compound': 0.0}\n",
      "Resultado:  Sentimiento Neutro\n"
     ]
    }
   ],
   "source": [
    "f4= \"La comida de este restaurante es buena\"     # Deberia clasificarla como POSITIVO\n",
    "# Esta frase representa una opinión explícita, el párrafo indica que es una frase positiva.\n",
    "f = f4 # Seleccionando Frase para analizar\n",
    "resultadoSentimiento = sia.polarity_scores(f)\n",
    "print(resultadoSentimiento)\n",
    "print(\"Resultado: \", AnalizarSentimiento(f))"
   ]
  },
  {
   "cell_type": "markdown",
   "id": "1b8ae048-eacf-4ff6-95fc-4404f4c26a92",
   "metadata": {},
   "source": [
    "### El siguiente texto deberia arrojar un sentimiento positivo y no lo hace."
   ]
  },
  {
   "cell_type": "code",
   "execution_count": 26,
   "id": "39b20517-c2df-4586-8dbc-079da0dba0f0",
   "metadata": {},
   "outputs": [
    {
     "name": "stdout",
     "output_type": "stream",
     "text": [
      "{'neg': 0.0, 'neu': 1.0, 'pos': 0.0, 'compound': 0.0}\n",
      "Resultado:  Sentimiento Neutro\n"
     ]
    }
   ],
   "source": [
    "f5 = \"Volvería a comer a este restaurante\"    # Deberia clasificarla como POSITIVO\n",
    "#  Esta frase representa una opinión implícita, es decir, en la frase no se ve ninguna palabra que indique\n",
    "#  positividad, pero la connotación de la misma es claramente positiva\n",
    "f = f5 # Seleccionando Frase para analizar\n",
    "resultadoSentimiento = sia.polarity_scores(f)\n",
    "print(resultadoSentimiento)\n",
    "print(\"Resultado: \", AnalizarSentimiento(f))"
   ]
  },
  {
   "cell_type": "markdown",
   "id": "ad53f3d1-3d38-4c9c-9917-b0af2a6347eb",
   "metadata": {},
   "source": [
    "### En resumen este modelo de NLTK con VADE no clasifica bien!!!!"
   ]
  },
  {
   "cell_type": "code",
   "execution_count": 27,
   "id": "d6c250c7-a469-4d6b-8099-e6d931500c5a",
   "metadata": {},
   "outputs": [
    {
     "name": "stdout",
     "output_type": "stream",
     "text": [
      "{'neg': 0.0, 'neu': 0.676, 'pos': 0.324, 'compound': 0.34}\n",
      "Resultado:  Sentimiento Positivo\n"
     ]
    }
   ],
   "source": [
    "f6 = \"Me ha gustado mucho este restaurante\"    # Deberia clasificarla como POSITIVO\n",
    "#  Esta frase representa una opinión implícita, es decir, en la frase no se ve ninguna palabra que indique\n",
    "#  positividad, pero la connotación de la misma es claramente positiva\n",
    "f = f6 # Seleccionando Frase para analizar\n",
    "resultadoSentimiento = sia.polarity_scores(f)\n",
    "print(resultadoSentimiento)\n",
    "print(\"Resultado: \", AnalizarSentimiento(f))"
   ]
  },
  {
   "cell_type": "code",
   "execution_count": null,
   "id": "3cf26e4d-5c75-4cff-ad23-dbd83996a874",
   "metadata": {},
   "outputs": [],
   "source": []
  },
  {
   "cell_type": "code",
   "execution_count": 11,
   "id": "9877760e-b4d4-45c6-97e2-f27cf3ac4ade",
   "metadata": {},
   "outputs": [
    {
     "data": {
      "text/plain": [
       "0          If you decide to eat here, just be aware it is...\n",
       "1          I was really between 3 and 4 stars for this on...\n",
       "2          My boyfriend and I tried this deli for the fir...\n",
       "3          Amazing biscuits and (fill in the blank). Grea...\n",
       "4          The cafe was extremely cute. We came at 8am an...\n",
       "                                 ...                        \n",
       "2742205    I've stayed here before and had no issues with...\n",
       "2742206    This was my first time here and omg it was ama...\n",
       "2742207    The service was great the food was fantastic t...\n",
       "2742208    Great food, great people, local bar with stron...\n",
       "2742209    I like this place! Staff are always friendly a...\n",
       "Name: text, Length: 2742210, dtype: object"
      ]
     },
     "execution_count": 11,
     "metadata": {},
     "output_type": "execute_result"
    }
   ],
   "source": [
    "yelp_reviews['text']"
   ]
  },
  {
   "cell_type": "code",
   "execution_count": 12,
   "id": "1670fc99-0492-410b-8898-ae7be56226c8",
   "metadata": {},
   "outputs": [
    {
     "data": {
      "text/plain": [
       "(2742210, 8)"
      ]
     },
     "execution_count": 12,
     "metadata": {},
     "output_type": "execute_result"
    }
   ],
   "source": [
    "yelp_reviews.shape"
   ]
  },
  {
   "cell_type": "code",
   "execution_count": null,
   "id": "85ee33a4-1bfb-413a-93fd-f2429fdf30c1",
   "metadata": {},
   "outputs": [],
   "source": [
    "### Este Funcion empiza pero no finaliza. Debe ser por la cantidad de Registros\n",
    "#    yelp_reviews['Sentimiento'] = yelp_reviews['text'].apply(AnalizarSentimiento)"
   ]
  },
  {
   "cell_type": "code",
   "execution_count": null,
   "id": "396f9e10-9c2b-4cd6-af76-1ace59629ce2",
   "metadata": {},
   "outputs": [],
   "source": []
  }
 ],
 "metadata": {
  "environment": {
   "kernel": "conda-root-py",
   "name": "workbench-notebooks.m111",
   "type": "gcloud",
   "uri": "gcr.io/deeplearning-platform-release/workbench-notebooks:m111"
  },
  "kernelspec": {
   "display_name": "Python 3",
   "language": "python",
   "name": "conda-root-py"
  },
  "language_info": {
   "codemirror_mode": {
    "name": "ipython",
    "version": 3
   },
   "file_extension": ".py",
   "mimetype": "text/x-python",
   "name": "python",
   "nbconvert_exporter": "python",
   "pygments_lexer": "ipython3",
   "version": "3.10.12"
  }
 },
 "nbformat": 4,
 "nbformat_minor": 5
}
