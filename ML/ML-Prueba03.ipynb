{
 "cells": [
  {
   "cell_type": "markdown",
   "id": "69111d04-6b1e-461f-a255-2c9e38ec4165",
   "metadata": {},
   "source": [
    "<h1 align=\"center\"> <span style=\"font-size: 20px;\"> Proyecto Final Grupo Nº 7 </span> <br>\n",
    "    <align=\"center\"> <span style=\"font-size: 15px;\">  Proyecto Yelp & Google Maps - Reseñas y Recomendaciones</span><br>         \n",
    "<align=\"center\"> <span style=\"font-size: 15px;\">@utores:  Javier Castro, Luca Ramallo, Luis Ramírez, Lesmen García.</span> <br>\n",
    "  <a href=\"https://github.com/lesmengp/Proyecto-Final-Grupo-07.git\">GitHub: <span style=\"font-size: 20px;\">Proyecto Yelp & Google Maps</span></a> \n",
    "</h1>"
   ]
  },
  {
   "cell_type": "markdown",
   "id": "8f1f564f-0b1e-4bf8-9e12-b51ea1c8f4a6",
   "metadata": {},
   "source": [
    "### Librerías a Utilizar:"
   ]
  },
  {
   "cell_type": "code",
   "execution_count": null,
   "id": "815cdd0e-f599-44d0-b159-76b4dd981483",
   "metadata": {},
   "outputs": [],
   "source": [
    "!pip install google.cloud"
   ]
  },
  {
   "cell_type": "code",
   "execution_count": null,
   "id": "cee624f8-f21a-46f5-b7af-ad49fcd0018c",
   "metadata": {},
   "outputs": [],
   "source": [
    "import pandas as pd\n",
    "import numpy as np\n",
    "from datetime import datetime\n",
    "import matplotlib.pyplot as plt\n",
    "import seaborn as sns\n",
    "import os\n",
    "import io\n",
    "import json\n",
    "import gcsfs"
   ]
  },
  {
   "cell_type": "markdown",
   "id": "33426c42-d6d8-47a3-8418-deeec751e6b6",
   "metadata": {},
   "source": [
    "## Ejemplos de Análisis de Sentimientos con NLTK y VADER, desde BigQuery"
   ]
  },
  {
   "cell_type": "markdown",
   "id": "d29dbc89-d192-44b9-ba4f-753b3f4b1564",
   "metadata": {},
   "source": [
    "### Cargando desde BigQuery el Dataset: df_yelp_reviews"
   ]
  },
  {
   "cell_type": "code",
   "execution_count": 61,
   "id": "139c4a5d-b831-4091-bdf1-c7bc269513d4",
   "metadata": {},
   "outputs": [
    {
     "data": {
      "text/html": [
       "<div>\n",
       "<style scoped>\n",
       "    .dataframe tbody tr th:only-of-type {\n",
       "        vertical-align: middle;\n",
       "    }\n",
       "\n",
       "    .dataframe tbody tr th {\n",
       "        vertical-align: top;\n",
       "    }\n",
       "\n",
       "    .dataframe thead th {\n",
       "        text-align: right;\n",
       "    }\n",
       "</style>\n",
       "<table border=\"1\" class=\"dataframe\">\n",
       "  <thead>\n",
       "    <tr style=\"text-align: right;\">\n",
       "      <th></th>\n",
       "      <th>review_id</th>\n",
       "      <th>user_id</th>\n",
       "      <th>business_id</th>\n",
       "      <th>stars</th>\n",
       "      <th>useful</th>\n",
       "      <th>cool</th>\n",
       "      <th>text</th>\n",
       "      <th>date</th>\n",
       "    </tr>\n",
       "  </thead>\n",
       "  <tbody>\n",
       "    <tr>\n",
       "      <th>0</th>\n",
       "      <td>7ADnyQu_R0J5RXsplp4yRw</td>\n",
       "      <td>huj0zcSIIy7FkZAE3WYvwA</td>\n",
       "      <td>n4PdRDOWgBOhke7AqCW3FA</td>\n",
       "      <td>1</td>\n",
       "      <td>2</td>\n",
       "      <td>0</td>\n",
       "      <td>This place is absolutely horrible. Food took 1...</td>\n",
       "      <td>2018-01-01</td>\n",
       "    </tr>\n",
       "    <tr>\n",
       "      <th>1</th>\n",
       "      <td>9bwn1x6aa-d-s24RTZybaA</td>\n",
       "      <td>TBkyvXeENnwx9Mf_inWU-w</td>\n",
       "      <td>zuGpUPcfws1FeupSkt8WVw</td>\n",
       "      <td>1</td>\n",
       "      <td>0</td>\n",
       "      <td>0</td>\n",
       "      <td>If I could rate this place lower I would. I we...</td>\n",
       "      <td>2018-01-01</td>\n",
       "    </tr>\n",
       "    <tr>\n",
       "      <th>2</th>\n",
       "      <td>nTu-Rl3hP7L6ucsf_f252A</td>\n",
       "      <td>EZdGX7ok9PDhW6Xy0kM-gg</td>\n",
       "      <td>qVTTPVz4W91yJiQMrK-R1A</td>\n",
       "      <td>1</td>\n",
       "      <td>0</td>\n",
       "      <td>0</td>\n",
       "      <td>Interesting that a few months ago this was a t...</td>\n",
       "      <td>2018-01-01</td>\n",
       "    </tr>\n",
       "    <tr>\n",
       "      <th>3</th>\n",
       "      <td>Ibv8SQHib6lQ5-tP8NLQzw</td>\n",
       "      <td>9wp7Wbuxoqs1T-t5rOwo3g</td>\n",
       "      <td>317lIGWVcxcVWdVo6ZKHwg</td>\n",
       "      <td>1</td>\n",
       "      <td>4</td>\n",
       "      <td>1</td>\n",
       "      <td>Wow...New Years day and what a mess. Lines are...</td>\n",
       "      <td>2018-01-01</td>\n",
       "    </tr>\n",
       "    <tr>\n",
       "      <th>4</th>\n",
       "      <td>MpuNFagYZBRaA0_GP5cDtA</td>\n",
       "      <td>qsq5BYe1bTrQiqu5NmbnOQ</td>\n",
       "      <td>M7Y338g9JFs_0fNR1RA82w</td>\n",
       "      <td>1</td>\n",
       "      <td>0</td>\n",
       "      <td>0</td>\n",
       "      <td>I went on New Year's Day and I understand not ...</td>\n",
       "      <td>2018-01-01</td>\n",
       "    </tr>\n",
       "  </tbody>\n",
       "</table>\n",
       "</div>"
      ],
      "text/plain": [
       "                review_id                 user_id             business_id  \\\n",
       "0  7ADnyQu_R0J5RXsplp4yRw  huj0zcSIIy7FkZAE3WYvwA  n4PdRDOWgBOhke7AqCW3FA   \n",
       "1  9bwn1x6aa-d-s24RTZybaA  TBkyvXeENnwx9Mf_inWU-w  zuGpUPcfws1FeupSkt8WVw   \n",
       "2  nTu-Rl3hP7L6ucsf_f252A  EZdGX7ok9PDhW6Xy0kM-gg  qVTTPVz4W91yJiQMrK-R1A   \n",
       "3  Ibv8SQHib6lQ5-tP8NLQzw  9wp7Wbuxoqs1T-t5rOwo3g  317lIGWVcxcVWdVo6ZKHwg   \n",
       "4  MpuNFagYZBRaA0_GP5cDtA  qsq5BYe1bTrQiqu5NmbnOQ  M7Y338g9JFs_0fNR1RA82w   \n",
       "\n",
       "   stars  useful  cool                                               text  \\\n",
       "0      1       2     0  This place is absolutely horrible. Food took 1...   \n",
       "1      1       0     0  If I could rate this place lower I would. I we...   \n",
       "2      1       0     0  Interesting that a few months ago this was a t...   \n",
       "3      1       4     1  Wow...New Years day and what a mess. Lines are...   \n",
       "4      1       0     0  I went on New Year's Day and I understand not ...   \n",
       "\n",
       "         date  \n",
       "0  2018-01-01  \n",
       "1  2018-01-01  \n",
       "2  2018-01-01  \n",
       "3  2018-01-01  \n",
       "4  2018-01-01  "
      ]
     },
     "execution_count": 61,
     "metadata": {},
     "output_type": "execute_result"
    }
   ],
   "source": [
    "from google.cloud import bigquery\n",
    "client = bigquery.Client()\n",
    "sql = \"\"\"\n",
    "    SELECT * FROM `eternal-empire-399016.gmy_bq.df_yelp_reviews` LIMIT 1000000\n",
    "\"\"\"\n",
    "df_yelp_reviews = client.query(sql).to_dataframe()\n",
    "df_yelp_reviews.head(5)"
   ]
  },
  {
   "cell_type": "code",
   "execution_count": 1,
   "id": "37f3a566-bdb0-470e-84dc-ee329ef141ba",
   "metadata": {},
   "outputs": [
    {
     "data": {
      "text/html": [
       "<div>\n",
       "<style scoped>\n",
       "    .dataframe tbody tr th:only-of-type {\n",
       "        vertical-align: middle;\n",
       "    }\n",
       "\n",
       "    .dataframe tbody tr th {\n",
       "        vertical-align: top;\n",
       "    }\n",
       "\n",
       "    .dataframe thead th {\n",
       "        text-align: right;\n",
       "    }\n",
       "</style>\n",
       "<table border=\"1\" class=\"dataframe\">\n",
       "  <thead>\n",
       "    <tr style=\"text-align: right;\">\n",
       "      <th></th>\n",
       "      <th>review_id</th>\n",
       "      <th>user_id</th>\n",
       "      <th>business_id</th>\n",
       "      <th>stars</th>\n",
       "      <th>useful</th>\n",
       "      <th>cool</th>\n",
       "      <th>text</th>\n",
       "      <th>date</th>\n",
       "    </tr>\n",
       "  </thead>\n",
       "  <tbody>\n",
       "    <tr>\n",
       "      <th>0</th>\n",
       "      <td>a4y-vnBF6wra6o5q_14kRQ</td>\n",
       "      <td>3UFFy3y9sYiVFJCJoaROgw</td>\n",
       "      <td>pcqHaOUL50eh7CYBqQ1XEA</td>\n",
       "      <td>5</td>\n",
       "      <td>7</td>\n",
       "      <td>1</td>\n",
       "      <td>Sauce on the Side originates from Missouri. St...</td>\n",
       "      <td>2019-08-04</td>\n",
       "    </tr>\n",
       "    <tr>\n",
       "      <th>1</th>\n",
       "      <td>CI-L5IQCxJjP5jZf0hRERQ</td>\n",
       "      <td>y_nRpTpmsteDzhdGKLnXiw</td>\n",
       "      <td>ssk6Q7dOtOBP-8ovssi1jw</td>\n",
       "      <td>5</td>\n",
       "      <td>7</td>\n",
       "      <td>5</td>\n",
       "      <td>We always enjoyed our dine in experiences here...</td>\n",
       "      <td>2020-11-02</td>\n",
       "    </tr>\n",
       "    <tr>\n",
       "      <th>2</th>\n",
       "      <td>kdiUyAbEToh8gTFTs8CRSg</td>\n",
       "      <td>OIDpKC2p61qVO_spPqw1qA</td>\n",
       "      <td>368cyArdo0P0aDUOhhE4PA</td>\n",
       "      <td>5</td>\n",
       "      <td>13</td>\n",
       "      <td>10</td>\n",
       "      <td>I'm not even exaggerating a little bit when I ...</td>\n",
       "      <td>2019-11-28</td>\n",
       "    </tr>\n",
       "    <tr>\n",
       "      <th>3</th>\n",
       "      <td>GHi343ONGwc4bU0hho5ecw</td>\n",
       "      <td>61yERKmEa_0mkZYy_3PNAg</td>\n",
       "      <td>6cnHwjHLcAtIuMN0C6Kpbw</td>\n",
       "      <td>5</td>\n",
       "      <td>7</td>\n",
       "      <td>3</td>\n",
       "      <td>This was such a fun event! I love that it was ...</td>\n",
       "      <td>2019-06-13</td>\n",
       "    </tr>\n",
       "    <tr>\n",
       "      <th>4</th>\n",
       "      <td>k8vCNrNvFk6LI0_bxmqJuA</td>\n",
       "      <td>-t16WTKzFVzbC3sJ2EW3Uw</td>\n",
       "      <td>b36EeutJRvowZMr9TpQm0w</td>\n",
       "      <td>5</td>\n",
       "      <td>10</td>\n",
       "      <td>5</td>\n",
       "      <td>Oat Milk? In Reno? At a drive thru? Color me a...</td>\n",
       "      <td>2020-07-24</td>\n",
       "    </tr>\n",
       "  </tbody>\n",
       "</table>\n",
       "</div>"
      ],
      "text/plain": [
       "                review_id                 user_id             business_id  \\\n",
       "0  a4y-vnBF6wra6o5q_14kRQ  3UFFy3y9sYiVFJCJoaROgw  pcqHaOUL50eh7CYBqQ1XEA   \n",
       "1  CI-L5IQCxJjP5jZf0hRERQ  y_nRpTpmsteDzhdGKLnXiw  ssk6Q7dOtOBP-8ovssi1jw   \n",
       "2  kdiUyAbEToh8gTFTs8CRSg  OIDpKC2p61qVO_spPqw1qA  368cyArdo0P0aDUOhhE4PA   \n",
       "3  GHi343ONGwc4bU0hho5ecw  61yERKmEa_0mkZYy_3PNAg  6cnHwjHLcAtIuMN0C6Kpbw   \n",
       "4  k8vCNrNvFk6LI0_bxmqJuA  -t16WTKzFVzbC3sJ2EW3Uw  b36EeutJRvowZMr9TpQm0w   \n",
       "\n",
       "   stars  useful  cool                                               text  \\\n",
       "0      5       7     1  Sauce on the Side originates from Missouri. St...   \n",
       "1      5       7     5  We always enjoyed our dine in experiences here...   \n",
       "2      5      13    10  I'm not even exaggerating a little bit when I ...   \n",
       "3      5       7     3  This was such a fun event! I love that it was ...   \n",
       "4      5      10     5  Oat Milk? In Reno? At a drive thru? Color me a...   \n",
       "\n",
       "         date  \n",
       "0  2019-08-04  \n",
       "1  2020-11-02  \n",
       "2  2019-11-28  \n",
       "3  2019-06-13  \n",
       "4  2020-07-24  "
      ]
     },
     "execution_count": 1,
     "metadata": {},
     "output_type": "execute_result"
    }
   ],
   "source": [
    "from google.cloud import bigquery\n",
    "client = bigquery.Client()\n",
    "sql = \"\"\"\n",
    "    SELECT * FROM `eternal-empire-399016.gmy_bq.df_yelp_reviews`\n",
    "\"\"\"\n",
    "df_yelp_reviews = client.query(sql).to_dataframe()\n",
    "df_yelp_reviews.head(5)"
   ]
  },
  {
   "cell_type": "code",
   "execution_count": 3,
   "id": "fc49bd37-6bac-44db-85c9-c7e794df6205",
   "metadata": {},
   "outputs": [
    {
     "data": {
      "text/plain": [
       "(2713751, 8)"
      ]
     },
     "execution_count": 3,
     "metadata": {},
     "output_type": "execute_result"
    }
   ],
   "source": [
    "df_yelp_reviews.shape"
   ]
  },
  {
   "cell_type": "code",
   "execution_count": 4,
   "id": "8fd0ccd4-489b-4ef1-8ecd-47ed7fcaa413",
   "metadata": {},
   "outputs": [
    {
     "data": {
      "text/plain": [
       "Index(['review_id', 'user_id', 'business_id', 'stars', 'useful', 'cool',\n",
       "       'text', 'date'],\n",
       "      dtype='object')"
      ]
     },
     "execution_count": 4,
     "metadata": {},
     "output_type": "execute_result"
    }
   ],
   "source": [
    "df_yelp_reviews.columns"
   ]
  },
  {
   "cell_type": "code",
   "execution_count": 63,
   "id": "efca0a10-86a8-45e8-963a-7a80bea193b6",
   "metadata": {},
   "outputs": [
    {
     "data": {
      "text/html": [
       "<div>\n",
       "<style scoped>\n",
       "    .dataframe tbody tr th:only-of-type {\n",
       "        vertical-align: middle;\n",
       "    }\n",
       "\n",
       "    .dataframe tbody tr th {\n",
       "        vertical-align: top;\n",
       "    }\n",
       "\n",
       "    .dataframe thead th {\n",
       "        text-align: right;\n",
       "    }\n",
       "</style>\n",
       "<table border=\"1\" class=\"dataframe\">\n",
       "  <thead>\n",
       "    <tr style=\"text-align: right;\">\n",
       "      <th></th>\n",
       "      <th>review_id</th>\n",
       "      <th>user_id</th>\n",
       "      <th>business_id</th>\n",
       "      <th>stars</th>\n",
       "      <th>useful</th>\n",
       "      <th>cool</th>\n",
       "      <th>text</th>\n",
       "      <th>date</th>\n",
       "    </tr>\n",
       "  </thead>\n",
       "  <tbody>\n",
       "    <tr>\n",
       "      <th>346728</th>\n",
       "      <td>LBTUHdqcVLOcpmBJucMRTg</td>\n",
       "      <td>EGS2AMsxME0HWAWDZhDFiA</td>\n",
       "      <td>_I9SL8ycMEJBJiV4bGYPnA</td>\n",
       "      <td>1</td>\n",
       "      <td>0</td>\n",
       "      <td>0</td>\n",
       "      <td>This hotel is filthy. There were cigarette bur...</td>\n",
       "      <td>2019-06-22</td>\n",
       "    </tr>\n",
       "    <tr>\n",
       "      <th>403792</th>\n",
       "      <td>IyMZMVawFoAc9N-uVQSNHw</td>\n",
       "      <td>1FGmmjOsyyzS1_AsOIv6KA</td>\n",
       "      <td>QvB0NRTGDplwnfPZGq8chw</td>\n",
       "      <td>2</td>\n",
       "      <td>4</td>\n",
       "      <td>1</td>\n",
       "      <td>The food was mediocre after having paid 15.00 ...</td>\n",
       "      <td>2018-05-19</td>\n",
       "    </tr>\n",
       "    <tr>\n",
       "      <th>972402</th>\n",
       "      <td>v9MjveLpqqXET0z1zc7iOw</td>\n",
       "      <td>mXNMLwOoIuN559fmD8d2ig</td>\n",
       "      <td>rjDbYdgCIDZcdJs25xIAIQ</td>\n",
       "      <td>1</td>\n",
       "      <td>0</td>\n",
       "      <td>0</td>\n",
       "      <td>Was considering going here until online not on...</td>\n",
       "      <td>2018-07-17</td>\n",
       "    </tr>\n",
       "    <tr>\n",
       "      <th>315357</th>\n",
       "      <td>nxeoILAxuxUA8bN3_LouZA</td>\n",
       "      <td>6SrDnjcBVhRrin85tbwDFA</td>\n",
       "      <td>ClC5I3aOLhK4WcVPOJMYIA</td>\n",
       "      <td>5</td>\n",
       "      <td>0</td>\n",
       "      <td>0</td>\n",
       "      <td>Traditional steakhouse. Love the dark wood amb...</td>\n",
       "      <td>2021-03-13</td>\n",
       "    </tr>\n",
       "    <tr>\n",
       "      <th>180883</th>\n",
       "      <td>4d-6Qm7CNyT74PsKYssZ4g</td>\n",
       "      <td>7b2SEu7IoNHknIkwUV2hWg</td>\n",
       "      <td>dEHHpeN5XDXLhMBGNzrl8g</td>\n",
       "      <td>4</td>\n",
       "      <td>0</td>\n",
       "      <td>0</td>\n",
       "      <td>What can I say that hasn't already been said. ...</td>\n",
       "      <td>2018-05-20</td>\n",
       "    </tr>\n",
       "  </tbody>\n",
       "</table>\n",
       "</div>"
      ],
      "text/plain": [
       "                     review_id                 user_id  \\\n",
       "346728  LBTUHdqcVLOcpmBJucMRTg  EGS2AMsxME0HWAWDZhDFiA   \n",
       "403792  IyMZMVawFoAc9N-uVQSNHw  1FGmmjOsyyzS1_AsOIv6KA   \n",
       "972402  v9MjveLpqqXET0z1zc7iOw  mXNMLwOoIuN559fmD8d2ig   \n",
       "315357  nxeoILAxuxUA8bN3_LouZA  6SrDnjcBVhRrin85tbwDFA   \n",
       "180883  4d-6Qm7CNyT74PsKYssZ4g  7b2SEu7IoNHknIkwUV2hWg   \n",
       "\n",
       "                   business_id  stars  useful  cool  \\\n",
       "346728  _I9SL8ycMEJBJiV4bGYPnA      1       0     0   \n",
       "403792  QvB0NRTGDplwnfPZGq8chw      2       4     1   \n",
       "972402  rjDbYdgCIDZcdJs25xIAIQ      1       0     0   \n",
       "315357  ClC5I3aOLhK4WcVPOJMYIA      5       0     0   \n",
       "180883  dEHHpeN5XDXLhMBGNzrl8g      4       0     0   \n",
       "\n",
       "                                                     text        date  \n",
       "346728  This hotel is filthy. There were cigarette bur...  2019-06-22  \n",
       "403792  The food was mediocre after having paid 15.00 ...  2018-05-19  \n",
       "972402  Was considering going here until online not on...  2018-07-17  \n",
       "315357  Traditional steakhouse. Love the dark wood amb...  2021-03-13  \n",
       "180883  What can I say that hasn't already been said. ...  2018-05-20  "
      ]
     },
     "execution_count": 63,
     "metadata": {},
     "output_type": "execute_result"
    }
   ],
   "source": [
    "df_yelp_reviews.sample(5)"
   ]
  },
  {
   "cell_type": "code",
   "execution_count": 5,
   "id": "57e8d912-3805-4874-9999-2abff65cddec",
   "metadata": {},
   "outputs": [
    {
     "name": "stderr",
     "output_type": "stream",
     "text": [
      "[nltk_data] Downloading package vader_lexicon to\n",
      "[nltk_data]     /home/jupyter/nltk_data...\n",
      "[nltk_data]   Package vader_lexicon is already up-to-date!\n"
     ]
    }
   ],
   "source": [
    "import nltk\n",
    "nltk.download('vader_lexicon')   # VADER es una Biblioteca que ya contirnr algunas reglas para el Analisis de Sentimientos. Asigna puntuaciones\n",
    "from nltk.sentiment import SentimentIntensityAnalyzer  # Nos da una probabilidad si el mensaje es negativo, neutro o positivo. "
   ]
  },
  {
   "cell_type": "code",
   "execution_count": 6,
   "id": "34e4e17d-1202-4b00-acd3-1251c68ed576",
   "metadata": {},
   "outputs": [],
   "source": [
    "sia = SentimentIntensityAnalyzer() # Se instancia el modelo"
   ]
  },
  {
   "cell_type": "code",
   "execution_count": 7,
   "id": "42cd56d6-8f20-4510-a92d-51ce7f732afa",
   "metadata": {},
   "outputs": [],
   "source": [
    "def AnalizarSentimiento(texto):\n",
    "    sia = SentimentIntensityAnalyzer() # Se instancia el modelo\n",
    "    sentimiento = sia.polarity_scores(texto)[\"compound\"]\n",
    "    \n",
    "    if sentimiento > 0.1:\n",
    "        return \"Sentimiento Positivo\"\n",
    "    else:\n",
    "        if sentimiento < 0:\n",
    "            return \"Sentimiento Negativo\"\n",
    "        else:\n",
    "            return \"Sentimiento Neutro\""
   ]
  },
  {
   "cell_type": "code",
   "execution_count": 32,
   "id": "6302e79a-5ee9-417d-9426-1ad54d49e9a9",
   "metadata": {},
   "outputs": [
    {
     "data": {
      "text/plain": [
       "5"
      ]
     },
     "execution_count": 32,
     "metadata": {},
     "output_type": "execute_result"
    }
   ],
   "source": [
    "df = df_yelp_reviews.sample(5).copy()\n",
    "len(df)"
   ]
  },
  {
   "cell_type": "code",
   "execution_count": 33,
   "id": "b7457c3b-1a18-4987-8659-64b6b01a9330",
   "metadata": {},
   "outputs": [
    {
     "name": "stdout",
     "output_type": "stream",
     "text": [
      "<class 'pandas.core.frame.DataFrame'>\n",
      "Index: 5 entries, 568 to 738\n",
      "Data columns (total 8 columns):\n",
      " #   Column       Non-Null Count  Dtype \n",
      "---  ------       --------------  ----- \n",
      " 0   review_id    5 non-null      object\n",
      " 1   user_id      5 non-null      object\n",
      " 2   business_id  5 non-null      object\n",
      " 3   stars        5 non-null      Int64 \n",
      " 4   useful       5 non-null      Int64 \n",
      " 5   cool         5 non-null      Int64 \n",
      " 6   text         5 non-null      object\n",
      " 7   date         5 non-null      object\n",
      "dtypes: Int64(3), object(5)\n",
      "memory usage: 375.0+ bytes\n"
     ]
    }
   ],
   "source": [
    "df.info()"
   ]
  },
  {
   "cell_type": "markdown",
   "id": "58510786-a294-47b1-940a-b0dbfdacfe28",
   "metadata": {},
   "source": [
    "### Probando la Funcion de Sentimientos NLTK con VADER, con N registros aleatorios...!!!"
   ]
  },
  {
   "cell_type": "code",
   "execution_count": 8,
   "id": "307c0391-6a00-476c-8e0d-d35996a8afc6",
   "metadata": {},
   "outputs": [
    {
     "data": {
      "text/html": [
       "<div>\n",
       "<style scoped>\n",
       "    .dataframe tbody tr th:only-of-type {\n",
       "        vertical-align: middle;\n",
       "    }\n",
       "\n",
       "    .dataframe tbody tr th {\n",
       "        vertical-align: top;\n",
       "    }\n",
       "\n",
       "    .dataframe thead th {\n",
       "        text-align: right;\n",
       "    }\n",
       "</style>\n",
       "<table border=\"1\" class=\"dataframe\">\n",
       "  <thead>\n",
       "    <tr style=\"text-align: right;\">\n",
       "      <th></th>\n",
       "      <th>text</th>\n",
       "      <th>Sentimiento</th>\n",
       "    </tr>\n",
       "  </thead>\n",
       "  <tbody>\n",
       "    <tr>\n",
       "      <th>2446030</th>\n",
       "      <td>Was here to pick up a dozen of regular cupcake...</td>\n",
       "      <td>Sentimiento Positivo</td>\n",
       "    </tr>\n",
       "    <tr>\n",
       "      <th>2640775</th>\n",
       "      <td>I like my countertops, but everything else was...</td>\n",
       "      <td>Sentimiento Negativo</td>\n",
       "    </tr>\n",
       "    <tr>\n",
       "      <th>1418842</th>\n",
       "      <td>Not only is the staff fabulous during your app...</td>\n",
       "      <td>Sentimiento Positivo</td>\n",
       "    </tr>\n",
       "    <tr>\n",
       "      <th>984020</th>\n",
       "      <td>Food was good but the service was slow. They d...</td>\n",
       "      <td>Sentimiento Positivo</td>\n",
       "    </tr>\n",
       "    <tr>\n",
       "      <th>950902</th>\n",
       "      <td>I loved this place while we lived in Nash. I t...</td>\n",
       "      <td>Sentimiento Positivo</td>\n",
       "    </tr>\n",
       "    <tr>\n",
       "      <th>760844</th>\n",
       "      <td>Amber Indian Buffet re-opens in Castleton! We'...</td>\n",
       "      <td>Sentimiento Positivo</td>\n",
       "    </tr>\n",
       "    <tr>\n",
       "      <th>730444</th>\n",
       "      <td>Can't speak to the customer service is the kio...</td>\n",
       "      <td>Sentimiento Positivo</td>\n",
       "    </tr>\n",
       "    <tr>\n",
       "      <th>312292</th>\n",
       "      <td>Went in to discuss upgrading a set of rings. M...</td>\n",
       "      <td>Sentimiento Positivo</td>\n",
       "    </tr>\n",
       "    <tr>\n",
       "      <th>2639050</th>\n",
       "      <td>5 stars for MICKY!!! Oh and also the same for ...</td>\n",
       "      <td>Sentimiento Positivo</td>\n",
       "    </tr>\n",
       "    <tr>\n",
       "      <th>386573</th>\n",
       "      <td>If you are thinking of trying this place for T...</td>\n",
       "      <td>Sentimiento Negativo</td>\n",
       "    </tr>\n",
       "  </tbody>\n",
       "</table>\n",
       "</div>"
      ],
      "text/plain": [
       "                                                      text  \\\n",
       "2446030  Was here to pick up a dozen of regular cupcake...   \n",
       "2640775  I like my countertops, but everything else was...   \n",
       "1418842  Not only is the staff fabulous during your app...   \n",
       "984020   Food was good but the service was slow. They d...   \n",
       "950902   I loved this place while we lived in Nash. I t...   \n",
       "760844   Amber Indian Buffet re-opens in Castleton! We'...   \n",
       "730444   Can't speak to the customer service is the kio...   \n",
       "312292   Went in to discuss upgrading a set of rings. M...   \n",
       "2639050  5 stars for MICKY!!! Oh and also the same for ...   \n",
       "386573   If you are thinking of trying this place for T...   \n",
       "\n",
       "                  Sentimiento  \n",
       "2446030  Sentimiento Positivo  \n",
       "2640775  Sentimiento Negativo  \n",
       "1418842  Sentimiento Positivo  \n",
       "984020   Sentimiento Positivo  \n",
       "950902   Sentimiento Positivo  \n",
       "760844   Sentimiento Positivo  \n",
       "730444   Sentimiento Positivo  \n",
       "312292   Sentimiento Positivo  \n",
       "2639050  Sentimiento Positivo  \n",
       "386573   Sentimiento Negativo  "
      ]
     },
     "execution_count": 8,
     "metadata": {},
     "output_type": "execute_result"
    }
   ],
   "source": [
    "### Probando solo con 100 Registros\n",
    "N = 100000   # Número de Registro.\n",
    "df = df_yelp_reviews.sample(N).copy()   # Extrae Aleatoriamente N registros del Dataset original\n",
    "df['Sentimiento'] = df['text'].apply(AnalizarSentimiento)\n",
    "df[['text', 'Sentimiento']].head(10)"
   ]
  },
  {
   "cell_type": "markdown",
   "id": "ab89b884-5e6d-4985-b934-aadd2315afc4",
   "metadata": {},
   "source": [
    "### Tiempo de ejecuciòn del c\n",
    "### Inicio: 12:48\n",
    "### Fin: 12:59\n",
    "### Tardo 11 minutos"
   ]
  }
 ],
 "metadata": {
  "environment": {
   "kernel": "conda-root-py",
   "name": "workbench-notebooks.m111",
   "type": "gcloud",
   "uri": "gcr.io/deeplearning-platform-release/workbench-notebooks:m111"
  },
  "kernelspec": {
   "display_name": "Python 3",
   "language": "python",
   "name": "conda-root-py"
  },
  "language_info": {
   "codemirror_mode": {
    "name": "ipython",
    "version": 3
   },
   "file_extension": ".py",
   "mimetype": "text/x-python",
   "name": "python",
   "nbconvert_exporter": "python",
   "pygments_lexer": "ipython3",
   "version": "3.10.12"
  }
 },
 "nbformat": 4,
 "nbformat_minor": 5
}
