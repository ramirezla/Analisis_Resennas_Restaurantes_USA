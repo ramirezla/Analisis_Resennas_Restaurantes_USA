{
 "cells": [
  {
   "cell_type": "markdown",
   "id": "db53b0ca-89ee-4a10-9da9-6c067fe3ef76",
   "metadata": {},
   "source": [
    "<h1 align=\"center\"> <span style=\"font-size: 20px;\"> Proyecto Final Grupo Nº 7 </span> <br>\n",
    "    <align=\"center\"> <span style=\"font-size: 15px;\">  Proyecto Yelp & Google Maps - Reviewa y Recomendaciones</span><br>         \n",
    "<align=\"center\"> <span style=\"font-size: 15px;\">@utores:  Javier Castro, Luca Ramallo, Luis Ramírez, Lesmen García.</span> <br>\n",
    "  <a href=\"https://github.com/lesmengp/Proyecto-Final-Grupo-07.git\">GitHub: <span style=\"font-size: 20px;\">Proyecto Yelp & Google Maps</span></a> \n",
    "</h1>"
   ]
  },
  {
   "cell_type": "markdown",
   "id": "d3fdcf7f-d060-4525-9281-1065cb244576",
   "metadata": {},
   "source": [
    "# ETL en GCP"
   ]
  },
  {
   "cell_type": "markdown",
   "id": "a6345b97-b6cf-42bf-97df-c542c99438ff",
   "metadata": {},
   "source": [
    "### Librerías a Utilizar:"
   ]
  },
  {
   "cell_type": "code",
   "execution_count": 1,
   "id": "b07566af-8a6b-4a2f-be75-3aa93b2e0eee",
   "metadata": {},
   "outputs": [],
   "source": [
    "import pandas as pd\n",
    "import numpy as np\n",
    "from datetime import datetime\n",
    "import matplotlib.pyplot as plt\n",
    "import seaborn as sns\n",
    "import os\n",
    "import io\n",
    "import json\n",
    "import gcsfs"
   ]
  },
  {
   "cell_type": "markdown",
   "id": "251bae3a-4f92-4eb0-a7d1-8603c9cf2d9c",
   "metadata": {},
   "source": [
    "### Ubicación de los ETL en GCP: \n",
    "ruta_etl_datalike= \"gs://gmy/etl/\""
   ]
  },
  {
   "cell_type": "markdown",
   "id": "867f3654-cf55-4593-99f3-fa1c4c308efd",
   "metadata": {},
   "source": [
    "# ETL de los siguientes Datasets de Google Maps: \n",
    "### 1) metadata-sitios\n",
    "### 2) reviews-estados"
   ]
  },
  {
   "cell_type": "markdown",
   "id": "6edb0a54-5083-4287-bd6e-ef06f99f1e33",
   "metadata": {},
   "source": [
    "### 1) ETL del Dataset: metadata-sitios"
   ]
  },
  {
   "cell_type": "code",
   "execution_count": null,
   "id": "acb1369d-8f58-4822-98a6-e0edc40f83ae",
   "metadata": {},
   "outputs": [],
   "source": []
  },
  {
   "cell_type": "code",
   "execution_count": null,
   "id": "cc5acbdd-5655-4b63-9068-d8112eeafbdd",
   "metadata": {},
   "outputs": [],
   "source": []
  },
  {
   "cell_type": "code",
   "execution_count": null,
   "id": "e3d6d757-c8a9-453e-8444-558b70b881d0",
   "metadata": {},
   "outputs": [],
   "source": []
  },
  {
   "cell_type": "markdown",
   "id": "3c82e01b-285c-4411-bd13-008ccd1ea9c9",
   "metadata": {},
   "source": [
    "### 2) ETL del Dataset: reviews-estados"
   ]
  },
  {
   "cell_type": "code",
   "execution_count": null,
   "id": "baba3c44-c0bf-49ad-bee4-1995063270ba",
   "metadata": {},
   "outputs": [],
   "source": []
  },
  {
   "cell_type": "code",
   "execution_count": null,
   "id": "fc70c7b0-ce9b-469a-a811-06e0a8a9c88e",
   "metadata": {},
   "outputs": [],
   "source": []
  },
  {
   "cell_type": "code",
   "execution_count": null,
   "id": "dffdd654-ccb2-43e4-8e91-d987cffb737f",
   "metadata": {},
   "outputs": [],
   "source": []
  }
 ],
 "metadata": {
  "environment": {
   "kernel": "conda-root-py",
   "name": "workbench-notebooks.m111",
   "type": "gcloud",
   "uri": "gcr.io/deeplearning-platform-release/workbench-notebooks:m111"
  },
  "kernelspec": {
   "display_name": "Python 3",
   "language": "python",
   "name": "conda-root-py"
  },
  "language_info": {
   "codemirror_mode": {
    "name": "ipython",
    "version": 3
   },
   "file_extension": ".py",
   "mimetype": "text/x-python",
   "name": "python",
   "nbconvert_exporter": "python",
   "pygments_lexer": "ipython3",
   "version": "3.10.12"
  }
 },
 "nbformat": 4,
 "nbformat_minor": 5
}
