{
 "cells": [
  {
   "cell_type": "markdown",
   "id": "5ab613d8-d488-4dec-89ab-a4868b6bfdab",
   "metadata": {},
   "source": [
    "<h1 align=\"center\"> <span style=\"font-size: 20px;\"> Proyecto Final Grupo Nº 7 </span> <br>\n",
    "    <align=\"center\"> <span style=\"font-size: 15px;\">  Proyecto Yelp & Google Maps - Reseñas y Recomendaciones</span><br>         \n",
    "<align=\"center\"> <span style=\"font-size: 15px;\">@utores:  Javier Castro, Luca Ramallo, Luis Ramírez, Lesmen García.</span> <br>\n",
    "  <a href=\"https://github.com/lesmengp/Proyecto-Final-Grupo-07.git\">GitHub: <span style=\"font-size: 20px;\">Proyecto Yelp & Google Maps</span></a> \n",
    "</h1>"
   ]
  },
  {
   "cell_type": "markdown",
   "id": "5e8817a6-e5ae-436c-9090-0d122999a55e",
   "metadata": {},
   "source": [
    "### Librerías a Utilizar:"
   ]
  },
  {
   "cell_type": "code",
   "execution_count": 2,
   "id": "592649d6-1cc3-4a32-93a0-e321204cfc3a",
   "metadata": {},
   "outputs": [],
   "source": [
    "import pandas as pd\n",
    "import numpy as np\n",
    "from datetime import datetime\n",
    "import matplotlib.pyplot as plt\n",
    "import seaborn as sns\n",
    "import os\n",
    "import io\n",
    "import json\n",
    "import gcsfs\n",
    "import ast\n",
    "from textblob import TextBlob   #0.17.1"
   ]
  },
  {
   "cell_type": "code",
   "execution_count": 3,
   "id": "c314d02c-bee3-4b26-a3ae-ddc8406fd9a2",
   "metadata": {},
   "outputs": [
    {
     "name": "stdout",
     "output_type": "stream",
     "text": [
      "Requirement already satisfied: google.cloud in /opt/conda/lib/python3.10/site-packages (0.34.0)\n"
     ]
    }
   ],
   "source": [
    "!pip install google.cloud"
   ]
  },
  {
   "cell_type": "markdown",
   "id": "793cafbb-958a-4e91-8f7f-e12a91ee8b0d",
   "metadata": {},
   "source": [
    "### Ubicación de los ETL en GCP: \n",
    "ruta_etl_datalike= \"gs://gmy/etl/\""
   ]
  },
  {
   "cell_type": "markdown",
   "id": "975ed8fc-d834-42bd-9ef1-ab78e7cd960f",
   "metadata": {},
   "source": [
    "### Ubicación de los EDA en GCP: \n",
    "ruta_eda_datalike= \"gs://gmy/eda/\""
   ]
  },
  {
   "cell_type": "markdown",
   "id": "6fc405d9-9b33-4796-9c7b-5d2faa903da5",
   "metadata": {},
   "source": [
    "### Ubicación de los EDA en GCP: \n",
    "ruta_Graficas= \"gs://gmy/Graficas/\""
   ]
  },
  {
   "cell_type": "markdown",
   "id": "01bd8006-13db-421a-90f3-5243bebaa5c6",
   "metadata": {},
   "source": [
    "# Analisis Exploratorios de los Datos (EDA)"
   ]
  },
  {
   "cell_type": "markdown",
   "id": "f1b0f272-9bc4-4799-9bd1-93432aaea972",
   "metadata": {},
   "source": [
    "# EDA de los siguientes Datasets de Yelp: \n",
    "### 1) yelp_reviews\n",
    "### 2) yelp_business\n",
    "### 3) yelp_tip\n",
    "### 4) yelp_user"
   ]
  },
  {
   "cell_type": "markdown",
   "id": "d4d4ae54-81c5-4503-8f93-a4dc98aadd7f",
   "metadata": {},
   "source": [
    "### 1) EDA del Dataset: 'yelp_reviews'"
   ]
  },
  {
   "cell_type": "markdown",
   "id": "d56d5e4f-4289-4522-82e7-08db49d2c0d3",
   "metadata": {},
   "source": [
    "Cargando el ETL del Dataset 'yelp_reviews'<Br>\n",
    "El Dataset Original tiene un total de registros de: 6.9 Millones (5.6 GB)<Br>\n",
    "Al filtrar los últimos 5 años; el total de registros baja a: 700 mil ( MB)"
   ]
  },
  {
   "cell_type": "markdown",
   "id": "883188c7-63a5-44a7-9c50-f45a50f18a0b",
   "metadata": {},
   "source": [
    "### Cargando el ETL del Dataset 'yelp_review'"
   ]
  },
  {
   "cell_type": "code",
   "execution_count": 3,
   "id": "08839e83-112e-44b5-9fa9-1e52333a8d81",
   "metadata": {},
   "outputs": [
    {
     "name": "stdout",
     "output_type": "stream",
     "text": [
      "<class 'pandas.core.frame.DataFrame'>\n",
      "RangeIndex: 700000 entries, 0 to 699999\n",
      "Data columns (total 9 columns):\n",
      " #   Column       Non-Null Count   Dtype \n",
      "---  ------       --------------   ----- \n",
      " 0   review_id    700000 non-null  object\n",
      " 1   user_id      700000 non-null  object\n",
      " 2   business_id  700000 non-null  object\n",
      " 3   stars        700000 non-null  int64 \n",
      " 4   useful       700000 non-null  int64 \n",
      " 5   funny        700000 non-null  int64 \n",
      " 6   cool         700000 non-null  int64 \n",
      " 7   text         700000 non-null  object\n",
      " 8   date         700000 non-null  object\n",
      "dtypes: int64(4), object(5)\n",
      "memory usage: 48.1+ MB\n"
     ]
    }
   ],
   "source": [
    "### Cargando el ETL del Dataset 'yelp_review'\n",
    "# Ruta completa en Cloud Storage\n",
    "ruta_etl_datalike = \"gs://gmy/etl/yelp_reviews.csv\"\n",
    "\n",
    "# Lee el archivo Parquet directamente en un DataFrame de pandas\n",
    "yelp_reviews = pd.read_csv(ruta_etl_datalike, storage_options={\"project\": \"Proyecto Final - Henry\"})\n",
    "yelp_reviews.info()"
   ]
  },
  {
   "cell_type": "markdown",
   "id": "aeb1d36c-d69c-44e0-b002-0cd29d578e97",
   "metadata": {},
   "source": [
    "### Convertiendo la columna 'date' a formato fecha"
   ]
  },
  {
   "cell_type": "code",
   "execution_count": 4,
   "id": "c2983a90-0653-459c-bf1a-97a93896d71e",
   "metadata": {},
   "outputs": [
    {
     "name": "stdout",
     "output_type": "stream",
     "text": [
      "<class 'pandas.core.frame.DataFrame'>\n",
      "RangeIndex: 700000 entries, 0 to 699999\n",
      "Data columns (total 9 columns):\n",
      " #   Column       Non-Null Count   Dtype         \n",
      "---  ------       --------------   -----         \n",
      " 0   review_id    700000 non-null  object        \n",
      " 1   user_id      700000 non-null  object        \n",
      " 2   business_id  700000 non-null  object        \n",
      " 3   stars        700000 non-null  int64         \n",
      " 4   useful       700000 non-null  int64         \n",
      " 5   funny        700000 non-null  int64         \n",
      " 6   cool         700000 non-null  int64         \n",
      " 7   text         700000 non-null  object        \n",
      " 8   date         700000 non-null  datetime64[ns]\n",
      "dtypes: datetime64[ns](1), int64(4), object(4)\n",
      "memory usage: 48.1+ MB\n"
     ]
    }
   ],
   "source": [
    "### Convertiendo la columna 'yelping_since' en formato fecha\n",
    "yelp_reviews['date'] = pd.to_datetime(yelp_reviews['date'], format='%Y-%m-%d', errors='coerce')\n",
    "yelp_reviews.info()"
   ]
  },
  {
   "cell_type": "markdown",
   "id": "b2ba1169-5b85-469b-869c-5daae2c2cd0f",
   "metadata": {},
   "source": [
    "### 1. Análisis Valores Faltantes."
   ]
  },
  {
   "cell_type": "code",
   "execution_count": 5,
   "id": "50d5d0a6-5a67-4e3c-b45f-050362afe8c4",
   "metadata": {},
   "outputs": [
    {
     "data": {
      "text/plain": [
       "review_id      0\n",
       "user_id        0\n",
       "business_id    0\n",
       "stars          0\n",
       "useful         0\n",
       "funny          0\n",
       "cool           0\n",
       "text           0\n",
       "date           0\n",
       "dtype: int64"
      ]
     },
     "execution_count": 5,
     "metadata": {},
     "output_type": "execute_result"
    }
   ],
   "source": [
    "yelp_reviews.isna().sum()"
   ]
  },
  {
   "cell_type": "markdown",
   "id": "6ff0c675-b405-4612-8311-4fd35a76b00b",
   "metadata": {},
   "source": [
    "### 2. Análisis de Valores Outliers."
   ]
  },
  {
   "cell_type": "code",
   "execution_count": 5,
   "id": "1e018773-8ccf-4789-9281-47b6e1ecdf30",
   "metadata": {},
   "outputs": [
    {
     "data": {
      "image/png": "[encoded data removed]",
      "text/plain": [
       "<Figure size 1200x500 with 3 Axes>"
      ]
     },
     "metadata": {},
     "output_type": "display_data"
    }
   ],
   "source": [
    "### Gráficas de Cajas o Bigotes, para Visualizar los Valores Atípicos\n",
    "\n",
    "# Selecciona las variables\n",
    "DataSets = ['yelp_reviews']\n",
    "Columnas = ['stars', 'useful', 'cool']\n",
    "\n",
    "for dataset in DataSets:\n",
    "    df = globals()[dataset]\n",
    "\n",
    "    ColumnasAnalizar = df[Columnas]\n",
    "\n",
    "    # Crea subplots de diagramas de caja individuales para cada variable\n",
    "    plt.figure(figsize=(12, 5))\n",
    "    for i, column in enumerate(ColumnasAnalizar.columns, 1):\n",
    "        plt.subplot(1, 5, i)\n",
    "        sns.boxplot(data=ColumnasAnalizar[column], color='skyblue')\n",
    "\n",
    "        # Calcula la cantidad de valores atípicos\n",
    "        q1 = ColumnasAnalizar[column].quantile(0.25)\n",
    "        q3 = ColumnasAnalizar[column].quantile(0.75)\n",
    "        iqr = q3 - q1\n",
    "        outliers = ((ColumnasAnalizar[column] < q1 - 1.5 * iqr) | (ColumnasAnalizar[column] > q3 + 1.5 * iqr)).sum()\n",
    "\n",
    "        plt.title(f\"Columna:'{column}'\\nValores Atípicos: {outliers}\")\n",
    "        plt.xlabel(column)\n",
    "\n",
    "    plt.tight_layout()\n",
    "    #plt.savefig(\"../src/Graficas/CajasPOHLC.png\")  # Guardando la Gráfica para ser colocad en el README. \n",
    "    plt.show()"
   ]
  },
  {
   "cell_type": "code",
   "execution_count": 6,
   "id": "17b04fca-bc38-4c66-9e9e-5e1a7c1c1af7",
   "metadata": {},
   "outputs": [
    {
     "data": {
      "image/png": "[encoded data removed]",
      "text/plain": [
       "<Figure size 1200x500 with 3 Axes>"
      ]
     },
     "metadata": {},
     "output_type": "display_data"
    }
   ],
   "source": [
    "### Gráficas de Violín para Visualizar los Valores Atípicos\n",
    "\n",
    "# Selecciona las variables\n",
    "DataSets = ['yelp_reviews']\n",
    "Columnas = ['stars', 'useful', 'cool']\n",
    "\n",
    "for dataset in DataSets:\n",
    "    df = globals()[dataset]\n",
    "\n",
    "    ColumnasAnalizar = df[Columnas]\n",
    "\n",
    "    # Crea subplots de gráficas de violín individuales para cada variable\n",
    "    plt.figure(figsize=(12, 5))\n",
    "    for i, column in enumerate(ColumnasAnalizar.columns, 1):\n",
    "        plt.subplot(1, 5, i)\n",
    "        sns.violinplot(data=ColumnasAnalizar[column], color='skyblue', inner='box')\n",
    "\n",
    "        # Calcula la cantidad de valores atípicos\n",
    "        q1 = ColumnasAnalizar[column].quantile(0.25)\n",
    "        q3 = ColumnasAnalizar[column].quantile(0.75)\n",
    "        iqr = q3 - q1\n",
    "        outliers = ((ColumnasAnalizar[column] < q1 - 1.5 * iqr) | (ColumnasAnalizar[column] > q3 + 1.5 * iqr)).sum()\n",
    "\n",
    "        plt.title(f'Gráfica de {column}\\nValores Atípicos: {outliers}')\n",
    "        plt.xlabel(column)\n",
    "\n",
    "    plt.tight_layout()\n",
    "    #plt.savefig(\"../src/Graficas/ViolinPOHLC.png\")\n",
    "    plt.show()"
   ]
  },
  {
   "cell_type": "markdown",
   "id": "f94b940e-75b7-4e8d-9cd5-07f2e2ea84c9",
   "metadata": {},
   "source": [
    "### 3. Análisis de Correlaciones."
   ]
  },
  {
   "cell_type": "code",
   "execution_count": 7,
   "id": "57f65cf5-c665-433b-b05d-2aec667a730a",
   "metadata": {},
   "outputs": [
    {
     "data": {
      "image/png": "[encoded data removed]",
      "text/plain": [
       "<Figure size 1200x800 with 2 Axes>"
      ]
     },
     "metadata": {},
     "output_type": "display_data"
    }
   ],
   "source": [
    "# Selecciona las columnas numéricas para el análisis de correlación\n",
    "\n",
    "# Selecciona las variables\n",
    "DataSets = ['yelp_reviews']\n",
    "columnas_numericas = ['stars', 'useful', 'cool']\n",
    "\n",
    "for dataset in DataSets:\n",
    "    df = globals()[dataset]\n",
    "\n",
    "    # Filtra el DataFrame para incluir solo las columnas numéricas\n",
    "    df_numericas = df[columnas_numericas]\n",
    "\n",
    "    # Calcula la matriz de correlación\n",
    "    matriz_correlacion = df_numericas.corr()\n",
    "\n",
    "    # Crea un mapa de calor (heatmap) para visualizar la matriz de correlación\n",
    "    plt.figure(figsize=(12, 8))\n",
    "    sns.heatmap(matriz_correlacion, annot=True, cmap='coolwarm', center=0)\n",
    "    plt.title('Matriz de Correlación entre Métricas')\n",
    "    #plt.savefig(\"../src/Graficas/Correlaciones.png\")\n",
    "    plt.show()"
   ]
  },
  {
   "cell_type": "markdown",
   "id": "656996b6-43d0-4dab-bf7e-ed351c0d787e",
   "metadata": {},
   "source": [
    "Se puede observar una correlacion alta entre las variables 'cool' y 'useful'"
   ]
  },
  {
   "cell_type": "markdown",
   "id": "f79154ea-11eb-4102-a3a1-79f240da6dcb",
   "metadata": {},
   "source": [
    "### 4. Análisis de Sentimientos en la Columna 'text'"
   ]
  },
  {
   "cell_type": "code",
   "execution_count": 6,
   "id": "7d9fe10d-552b-45e2-a563-27f255a7f89e",
   "metadata": {},
   "outputs": [
    {
     "name": "stdout",
     "output_type": "stream",
     "text": [
      "<class 'pandas.core.frame.DataFrame'>\n",
      "RangeIndex: 700000 entries, 0 to 699999\n",
      "Data columns (total 9 columns):\n",
      " #   Column       Non-Null Count   Dtype         \n",
      "---  ------       --------------   -----         \n",
      " 0   review_id    700000 non-null  object        \n",
      " 1   user_id      700000 non-null  object        \n",
      " 2   business_id  700000 non-null  object        \n",
      " 3   stars        700000 non-null  int64         \n",
      " 4   useful       700000 non-null  int64         \n",
      " 5   funny        700000 non-null  int64         \n",
      " 6   cool         700000 non-null  int64         \n",
      " 7   text         700000 non-null  object        \n",
      " 8   date         700000 non-null  datetime64[ns]\n",
      "dtypes: datetime64[ns](1), int64(4), object(4)\n",
      "memory usage: 48.1+ MB\n"
     ]
    }
   ],
   "source": [
    "yelp_reviews.info()"
   ]
  },
  {
   "cell_type": "code",
   "execution_count": 7,
   "id": "35daf495-0e91-4115-bf9d-9e4f2d902f60",
   "metadata": {},
   "outputs": [
    {
     "data": {
      "text/plain": [
       "user_id\n",
       "wXdbkFZsfDR7utJvbWElyA    231\n",
       "vmUqcqMjlWoBM6qfmUXgyQ    167\n",
       "fr1Hz2acAb3OaL3l6DyKNg    163\n",
       "Sp2GV7D-_JLZMPQmDanzPQ    149\n",
       "vFd8aBLg1kFcd0kCkoi-xw    138\n",
       "                         ... \n",
       "T_xiLpqqHA2lVg65xd_ZUA      1\n",
       "iKcB2QO4zq-RBIFM4vMJZw      1\n",
       "knW8oSQJYmbbhCwPf49zmw      1\n",
       "YSiWhz6LRQXoXT1nJSKJNw      1\n",
       "Pz25TQRkx6C_8sh8WySICA      1\n",
       "Name: count, Length: 413760, dtype: int64"
      ]
     },
     "execution_count": 7,
     "metadata": {},
     "output_type": "execute_result"
    }
   ],
   "source": [
    "yelp_reviews['user_id'].value_counts()"
   ]
  },
  {
   "cell_type": "code",
   "execution_count": 11,
   "id": "24c6abe9-20a1-4137-98d3-55c42ca8c42c",
   "metadata": {},
   "outputs": [
    {
     "data": {
      "text/plain": [
       "business_id\n",
       "ac1AeYqs8Z4_e2X5M3if2A    3933\n",
       "_ab50qdWOk0DdB6XOrBitw    2571\n",
       "Zx7n8mdt8OzLRXVzolXNhQ    1640\n",
       "L5LLN0RafiV1Z9cddzvuCw    1506\n",
       "GBTPC53ZrG1ZBY3DT8Mbcw    1246\n",
       "                          ... \n",
       "hw0O24rFx1BU5ZLlKBZYNg       1\n",
       "yb3uiM0YiMnoO-_JpCY7IA       1\n",
       "cVQJx4H2dtmp_SfsLu2b2g       1\n",
       "bzemW777cjeRRhbU_hsNxA       1\n",
       "iGlLQF5evP_4CoIb1b8c0A       1\n",
       "Name: count, Length: 40192, dtype: int64"
      ]
     },
     "execution_count": 11,
     "metadata": {},
     "output_type": "execute_result"
    }
   ],
   "source": [
    "yelp_reviews['business_id'].value_counts()"
   ]
  },
  {
   "cell_type": "code",
   "execution_count": 12,
   "id": "9d2b772d-cbc7-4c5c-8f7e-215f9e872457",
   "metadata": {},
   "outputs": [
    {
     "data": {
      "text/plain": [
       "review_id\n",
       "KU_O5udG6zpxOg-VcAEodg    1\n",
       "RRc34tFpLbY5nl9fCL8edw    1\n",
       "bzTcuoFkapxmmMHXtF2ntw    1\n",
       "2vhCow7uBhOPfAlchQxbGQ    1\n",
       "AZ0PdKD1yWuCfz0x4ay_xA    1\n",
       "                         ..\n",
       "ITNPZtxOGhEf8tFUIIyV5A    1\n",
       "XnY-N7Zna614TGbMVe-YBA    1\n",
       "R104PTIYDiTkcyrhZg5_Ew    1\n",
       "Lpitdk0_yzkRS2Zq6YaBYQ    1\n",
       "SlaF_xhyOcYY2CshNSQEwA    1\n",
       "Name: count, Length: 700000, dtype: int64"
      ]
     },
     "execution_count": 12,
     "metadata": {},
     "output_type": "execute_result"
    }
   ],
   "source": [
    "yelp_reviews['review_id'].value_counts()"
   ]
  },
  {
   "cell_type": "markdown",
   "id": "094baccf-c08a-428b-8af7-2f76c7b537af",
   "metadata": {},
   "source": [
    "### Funcion para apalicar el Análisis de Sentimientos a la columna 'text'"
   ]
  },
  {
   "cell_type": "code",
   "execution_count": 8,
   "id": "69c3b048-c1dc-4bec-8ef2-2ac2f621f1bb",
   "metadata": {},
   "outputs": [],
   "source": [
    "### Funcion para apalicar el Análisis de Sentimientos a la columna 'text'\n",
    "\n",
    "from textblob import TextBlob   #0.17.1\n",
    "def analizar_sentimiento(texto):\n",
    "    analysis = TextBlob(texto)\n",
    "    # Puedes ajustar el umbral según tus necesidades\n",
    "    if analysis.sentiment.polarity > 0:\n",
    "        return '1'\n",
    "    elif analysis.sentiment.polarity == 0:\n",
    "        return '0'\n",
    "    else:\n",
    "        return '-1'\n"
   ]
  },
  {
   "cell_type": "markdown",
   "id": "f508ed61-d53f-41eb-8126-257cbfac5877",
   "metadata": {},
   "source": [
    "### Aplicando la función Análisis de Sentimientos"
   ]
  },
  {
   "cell_type": "code",
   "execution_count": 9,
   "id": "8ee56e48-bf89-40ae-ab78-4288f18f60ba",
   "metadata": {},
   "outputs": [],
   "source": [
    "### Aplicando la funciaón Análisis de Sentimientos\n",
    "yelp_reviews['sentimientoReviewTextBlob'] = yelp_reviews['text'].apply(analizar_sentimiento)"
   ]
  },
  {
   "cell_type": "code",
   "execution_count": 10,
   "id": "836b5c95-2f19-4fdd-8eec-9acb59a31b03",
   "metadata": {},
   "outputs": [
    {
     "data": {
      "text/html": [
       "<div>\n",
       "<style scoped>\n",
       "    .dataframe tbody tr th:only-of-type {\n",
       "        vertical-align: middle;\n",
       "    }\n",
       "\n",
       "    .dataframe tbody tr th {\n",
       "        vertical-align: top;\n",
       "    }\n",
       "\n",
       "    .dataframe thead th {\n",
       "        text-align: right;\n",
       "    }\n",
       "</style>\n",
       "<table border=\"1\" class=\"dataframe\">\n",
       "  <thead>\n",
       "    <tr style=\"text-align: right;\">\n",
       "      <th></th>\n",
       "      <th>review_id</th>\n",
       "      <th>user_id</th>\n",
       "      <th>business_id</th>\n",
       "      <th>stars</th>\n",
       "      <th>useful</th>\n",
       "      <th>funny</th>\n",
       "      <th>cool</th>\n",
       "      <th>text</th>\n",
       "      <th>date</th>\n",
       "      <th>sentimientoReviewTextBlob</th>\n",
       "    </tr>\n",
       "  </thead>\n",
       "  <tbody>\n",
       "    <tr>\n",
       "      <th>0</th>\n",
       "      <td>KU_O5udG6zpxOg-VcAEodg</td>\n",
       "      <td>mh_-eMZ6K5RLWhZyISBhwA</td>\n",
       "      <td>XQfwVwDr-v0ZS3_CbbE5Xw</td>\n",
       "      <td>3</td>\n",
       "      <td>0</td>\n",
       "      <td>0</td>\n",
       "      <td>0</td>\n",
       "      <td>If you decide to eat here, just be aware it is...</td>\n",
       "      <td>2018-07-07</td>\n",
       "      <td>1</td>\n",
       "    </tr>\n",
       "    <tr>\n",
       "      <th>1</th>\n",
       "      <td>lUUhg8ltDsUZ9h0xnwY4Dg</td>\n",
       "      <td>RreNy--tOmXMl1en0wiBOg</td>\n",
       "      <td>cPepkJeRMtHapc_b2Oe_dw</td>\n",
       "      <td>4</td>\n",
       "      <td>1</td>\n",
       "      <td>0</td>\n",
       "      <td>1</td>\n",
       "      <td>I was really between 3 and 4 stars for this on...</td>\n",
       "      <td>2018-07-17</td>\n",
       "      <td>1</td>\n",
       "    </tr>\n",
       "    <tr>\n",
       "      <th>2</th>\n",
       "      <td>JBWZmBy69VMggxj3eYn17Q</td>\n",
       "      <td>aFa96pz67TwOFu4Weq5Agg</td>\n",
       "      <td>kq5Ghhh14r-eCxlVmlyd8w</td>\n",
       "      <td>5</td>\n",
       "      <td>0</td>\n",
       "      <td>0</td>\n",
       "      <td>0</td>\n",
       "      <td>My boyfriend and I tried this deli for the fir...</td>\n",
       "      <td>2018-08-23</td>\n",
       "      <td>1</td>\n",
       "    </tr>\n",
       "    <tr>\n",
       "      <th>3</th>\n",
       "      <td>E9AB7V4z8xrt2uPF7T55FQ</td>\n",
       "      <td>iYY5Ii1LGpZCpXFkHlMefw</td>\n",
       "      <td>Zx7n8mdt8OzLRXVzolXNhQ</td>\n",
       "      <td>5</td>\n",
       "      <td>0</td>\n",
       "      <td>0</td>\n",
       "      <td>0</td>\n",
       "      <td>Amazing biscuits and (fill in the blank). Grea...</td>\n",
       "      <td>2018-04-27</td>\n",
       "      <td>1</td>\n",
       "    </tr>\n",
       "    <tr>\n",
       "      <th>4</th>\n",
       "      <td>A4n4YaE-owOVgTQcrVqHUw</td>\n",
       "      <td>S7bjj-L07JuRr-tpX1UZLw</td>\n",
       "      <td>I6L0Zxi5Ww0zEWSAVgngeQ</td>\n",
       "      <td>4</td>\n",
       "      <td>0</td>\n",
       "      <td>0</td>\n",
       "      <td>0</td>\n",
       "      <td>The cafe was extremely cute. We came at 8am an...</td>\n",
       "      <td>2018-07-07</td>\n",
       "      <td>1</td>\n",
       "    </tr>\n",
       "  </tbody>\n",
       "</table>\n",
       "</div>"
      ],
      "text/plain": [
       "                review_id                 user_id             business_id  \\\n",
       "0  KU_O5udG6zpxOg-VcAEodg  mh_-eMZ6K5RLWhZyISBhwA  XQfwVwDr-v0ZS3_CbbE5Xw   \n",
       "1  lUUhg8ltDsUZ9h0xnwY4Dg  RreNy--tOmXMl1en0wiBOg  cPepkJeRMtHapc_b2Oe_dw   \n",
       "2  JBWZmBy69VMggxj3eYn17Q  aFa96pz67TwOFu4Weq5Agg  kq5Ghhh14r-eCxlVmlyd8w   \n",
       "3  E9AB7V4z8xrt2uPF7T55FQ  iYY5Ii1LGpZCpXFkHlMefw  Zx7n8mdt8OzLRXVzolXNhQ   \n",
       "4  A4n4YaE-owOVgTQcrVqHUw  S7bjj-L07JuRr-tpX1UZLw  I6L0Zxi5Ww0zEWSAVgngeQ   \n",
       "\n",
       "   stars  useful  funny  cool  \\\n",
       "0      3       0      0     0   \n",
       "1      4       1      0     1   \n",
       "2      5       0      0     0   \n",
       "3      5       0      0     0   \n",
       "4      4       0      0     0   \n",
       "\n",
       "                                                text       date  \\\n",
       "0  If you decide to eat here, just be aware it is... 2018-07-07   \n",
       "1  I was really between 3 and 4 stars for this on... 2018-07-17   \n",
       "2  My boyfriend and I tried this deli for the fir... 2018-08-23   \n",
       "3  Amazing biscuits and (fill in the blank). Grea... 2018-04-27   \n",
       "4  The cafe was extremely cute. We came at 8am an... 2018-07-07   \n",
       "\n",
       "  sentimientoReviewTextBlob  \n",
       "0                         1  \n",
       "1                         1  \n",
       "2                         1  \n",
       "3                         1  \n",
       "4                         1  "
      ]
     },
     "execution_count": 10,
     "metadata": {},
     "output_type": "execute_result"
    }
   ],
   "source": [
    "yelp_reviews.head(5)"
   ]
  },
  {
   "cell_type": "code",
   "execution_count": 12,
   "id": "94c46793-1595-462e-8f4f-73c3a5ab347b",
   "metadata": {},
   "outputs": [
    {
     "data": {
      "text/plain": [
       "sentimientoReviewTextBlob\n",
       "1     596805\n",
       "-1     97558\n",
       "0       5637\n",
       "Name: count, dtype: int64"
      ]
     },
     "execution_count": 12,
     "metadata": {},
     "output_type": "execute_result"
    }
   ],
   "source": [
    "yelp_reviews['sentimientoReviewTextBlob'].value_counts()"
   ]
  },
  {
   "cell_type": "code",
   "execution_count": 13,
   "id": "831e40c7-1be0-4155-b365-898d67f8fb95",
   "metadata": {},
   "outputs": [
    {
     "name": "stdout",
     "output_type": "stream",
     "text": [
      "<class 'pandas.core.frame.DataFrame'>\n",
      "RangeIndex: 700000 entries, 0 to 699999\n",
      "Data columns (total 10 columns):\n",
      " #   Column                     Non-Null Count   Dtype         \n",
      "---  ------                     --------------   -----         \n",
      " 0   review_id                  700000 non-null  object        \n",
      " 1   user_id                    700000 non-null  object        \n",
      " 2   business_id                700000 non-null  object        \n",
      " 3   stars                      700000 non-null  int64         \n",
      " 4   useful                     700000 non-null  int64         \n",
      " 5   funny                      700000 non-null  int64         \n",
      " 6   cool                       700000 non-null  int64         \n",
      " 7   text                       700000 non-null  object        \n",
      " 8   date                       700000 non-null  datetime64[ns]\n",
      " 9   sentimientoReviewTextBlob  700000 non-null  object        \n",
      "dtypes: datetime64[ns](1), int64(4), object(5)\n",
      "memory usage: 53.4+ MB\n"
     ]
    }
   ],
   "source": [
    "yelp_reviews.info()"
   ]
  },
  {
   "cell_type": "code",
   "execution_count": 18,
   "id": "24a46035-20b0-4bef-9f63-aa49ebd7ab20",
   "metadata": {},
   "outputs": [],
   "source": [
    "# Configura pandas para mostrar el texto completo en la columna 'text'\n",
    "pd.set_option('display.max_colwidth', None)"
   ]
  },
  {
   "cell_type": "code",
   "execution_count": 21,
   "id": "f2954013-d1ec-4cc4-bf90-f289c2b0356e",
   "metadata": {},
   "outputs": [
    {
     "data": {
      "text/html": [
       "<div>\n",
       "<style scoped>\n",
       "    .dataframe tbody tr th:only-of-type {\n",
       "        vertical-align: middle;\n",
       "    }\n",
       "\n",
       "    .dataframe tbody tr th {\n",
       "        vertical-align: top;\n",
       "    }\n",
       "\n",
       "    .dataframe thead th {\n",
       "        text-align: right;\n",
       "    }\n",
       "</style>\n",
       "<table border=\"1\" class=\"dataframe\">\n",
       "  <thead>\n",
       "    <tr style=\"text-align: right;\">\n",
       "      <th></th>\n",
       "      <th>text</th>\n",
       "      <th>sentimientoReview</th>\n",
       "    </tr>\n",
       "  </thead>\n",
       "  <tbody>\n",
       "    <tr>\n",
       "      <th>0</th>\n",
       "      <td>If you decide to eat here, just be aware it is going to take about 2 hours from beginning to end. We have tried it multiple times, because I want to like it! I have been to it's other locations in NJ and never had a bad experience. \\n\\nThe food is good, but it takes a very long time to come out. The waitstaff is very young, but usually pleasant. We have just had too many experiences where we spent way too long waiting. We usually opt for another diner or restaurant on the weekends, in order to be done quicker.</td>\n",
       "      <td>1</td>\n",
       "    </tr>\n",
       "    <tr>\n",
       "      <th>1</th>\n",
       "      <td>I was really between 3 and 4 stars for this one. I LOVE the 96th street Naked Tchopstix so I was very excited to see this one which is closer to my house.\\nThe vibe is totally different as this is geared more to take out although they do have a decent size dining area. You order at the counter and they deliver it.\\nMy daughter and I tried the sushi bowl. You pick up a piece of paper and  select from a choice of proteins, vegetables, rice and toppings. I like the fact that it is on paper and you don't have to guess what things are or have to shout over the counter to tell the server what you want. The sushi bowl was good but not wonderful. The choices particularly of the vegetables seemed a little too limiting and I felt I had more rice than other food items. The sauces were tasty. My husband ordered the Maui roll which is my favorite roll at the 96th street location and this just was not up that standard. It was good but the quality and consistently was not as good as at 96th street. I would go back though and I think a lot of people would be happy with the sushi bowls. I do want to make a comment about the low reviews that people have given the place because of service. People - it is a sushi place - it isn't McDonalds- so it will be a bit slower. You are not going to order and get out of there in five minutes even though it is called express. As a healthy alternative to fast food in the area, it is worth the wait. Oh and try the bubble tea. I had the strawberry and it was quite yummy. Next time I am going to try the vanilla chai.</td>\n",
       "      <td>1</td>\n",
       "    </tr>\n",
       "    <tr>\n",
       "      <th>2</th>\n",
       "      <td>My boyfriend and I tried this deli for the first time today. I had a turkey, avocado &amp; bacon panini and he ha a buffalo chicken wrap. We will definitely be returning. The wait for food wasn't too long, which is always appreciated during lunch hour. There was SO much to choose from. They have salads, soup, macaroni, sandwiches and hot food. I love a deli that has many options to choose from!</td>\n",
       "      <td>1</td>\n",
       "    </tr>\n",
       "    <tr>\n",
       "      <th>3</th>\n",
       "      <td>Amazing biscuits and (fill in the blank). Great cocktails too. Highly recommended. A bit busy though.</td>\n",
       "      <td>1</td>\n",
       "    </tr>\n",
       "    <tr>\n",
       "      <th>4</th>\n",
       "      <td>The cafe was extremely cute. We came at 8am and they even had a jazz band playing at that time. I got the breakfast sandwich and it was delicious. I loved how they rolled the egg and put the bacon pieces inside. Great price for a filling breakfast!</td>\n",
       "      <td>1</td>\n",
       "    </tr>\n",
       "    <tr>\n",
       "      <th>...</th>\n",
       "      <td>...</td>\n",
       "      <td>...</td>\n",
       "    </tr>\n",
       "    <tr>\n",
       "      <th>699995</th>\n",
       "      <td>This was the second time we came to Precinct pizza. Sadly again the pizza was under cooked and limp. The cannoli was outstanding. \\nAdmittedly this was the first week of opening, so we will return again soon.\\n\\nWe returned after a couple of mounts after they have settled in, and I must say that their pizzas were outstanding as well as their garlic knots which are the size of little rolls. Outstanding!\\nWe will be returning again very soon.</td>\n",
       "      <td>1</td>\n",
       "    </tr>\n",
       "    <tr>\n",
       "      <th>699996</th>\n",
       "      <td>Just spent the weekend in Nashville for our hockey tournament at the Ford Ice Center. We really enjoyed our time here. Very nice, clean rink!  hope we play here again.</td>\n",
       "      <td>1</td>\n",
       "    </tr>\n",
       "    <tr>\n",
       "      <th>699997</th>\n",
       "      <td>best Indian food in St. Louis there is nothing close to their level \\n\\ntheir lunch special is my favorite but I also enjoy coming in for dinner \\n\\nthey make no comprises when it comes to quality</td>\n",
       "      <td>1</td>\n",
       "    </tr>\n",
       "    <tr>\n",
       "      <th>699998</th>\n",
       "      <td>The rice was super hard could possibly chip a tooth. The lo mein taste like just straight dough. The spring rolls were cold. The signs were confusing and difficult to see what food was what. Staffwas unfriendly when asking for assistance. Was in the place for 10 mins or less couldn't finish first plate. When we told them about the food they seems confused, explained they had been there for years, and yelled loudly to other workers in their native language about our complaints. I only give them one star because I cant choose to give no stars. Never go there. I'll never go back.</td>\n",
       "      <td>-1</td>\n",
       "    </tr>\n",
       "    <tr>\n",
       "      <th>699999</th>\n",
       "      <td>I walked in Thursday morning at 9 am as a walk-in and I was seated right away. The staff is very friendly . Hailey did my full set and gave me exactly what I wanted. She also worked fast, the whole appointment with dry time was about 45 minutes. I will be returning!</td>\n",
       "      <td>1</td>\n",
       "    </tr>\n",
       "  </tbody>\n",
       "</table>\n",
       "<p>700000 rows × 2 columns</p>\n",
       "</div>"
      ],
      "text/plain": [
       "                                                                                                                                                                                                                                                                                                                                                                                                                                                                                                                                                                                                                                                                                                                                                                                                                                                                                                                                                                                                                                                                                                                                                                                                                                                                                                                                                                                                                                                                                                                                                                                                                         text  \\\n",
       "0                                                                                                                                                                                                                                                                                                                                                                                                                                                                                                                                                                                                                                                                                                                                                                                                                                                                                                                                                                                                                                                                                         If you decide to eat here, just be aware it is going to take about 2 hours from beginning to end. We have tried it multiple times, because I want to like it! I have been to it's other locations in NJ and never had a bad experience. \\n\\nThe food is good, but it takes a very long time to come out. The waitstaff is very young, but usually pleasant. We have just had too many experiences where we spent way too long waiting. We usually opt for another diner or restaurant on the weekends, in order to be done quicker.   \n",
       "1       I was really between 3 and 4 stars for this one. I LOVE the 96th street Naked Tchopstix so I was very excited to see this one which is closer to my house.\\nThe vibe is totally different as this is geared more to take out although they do have a decent size dining area. You order at the counter and they deliver it.\\nMy daughter and I tried the sushi bowl. You pick up a piece of paper and  select from a choice of proteins, vegetables, rice and toppings. I like the fact that it is on paper and you don't have to guess what things are or have to shout over the counter to tell the server what you want. The sushi bowl was good but not wonderful. The choices particularly of the vegetables seemed a little too limiting and I felt I had more rice than other food items. The sauces were tasty. My husband ordered the Maui roll which is my favorite roll at the 96th street location and this just was not up that standard. It was good but the quality and consistently was not as good as at 96th street. I would go back though and I think a lot of people would be happy with the sushi bowls. I do want to make a comment about the low reviews that people have given the place because of service. People - it is a sushi place - it isn't McDonalds- so it will be a bit slower. You are not going to order and get out of there in five minutes even though it is called express. As a healthy alternative to fast food in the area, it is worth the wait. Oh and try the bubble tea. I had the strawberry and it was quite yummy. Next time I am going to try the vanilla chai.   \n",
       "2                                                                                                                                                                                                                                                                                                                                                                                                                                                                                                                                                                                                                                                                                                                                                                                                                                                                                                                                                                                                                                                                                                                                                                                                                   My boyfriend and I tried this deli for the first time today. I had a turkey, avocado & bacon panini and he ha a buffalo chicken wrap. We will definitely be returning. The wait for food wasn't too long, which is always appreciated during lunch hour. There was SO much to choose from. They have salads, soup, macaroni, sandwiches and hot food. I love a deli that has many options to choose from!   \n",
       "3                                                                                                                                                                                                                                                                                                                                                                                                                                                                                                                                                                                                                                                                                                                                                                                                                                                                                                                                                                                                                                                                                                                                                                                                                                                                                                                                                                                                                                                                                                                       Amazing biscuits and (fill in the blank). Great cocktails too. Highly recommended. A bit busy though.   \n",
       "4                                                                                                                                                                                                                                                                                                                                                                                                                                                                                                                                                                                                                                                                                                                                                                                                                                                                                                                                                                                                                                                                                                                                                                                                                                                                                                                                                                    The cafe was extremely cute. We came at 8am and they even had a jazz band playing at that time. I got the breakfast sandwich and it was delicious. I loved how they rolled the egg and put the bacon pieces inside. Great price for a filling breakfast!   \n",
       "...                                                                                                                                                                                                                                                                                                                                                                                                                                                                                                                                                                                                                                                                                                                                                                                                                                                                                                                                                                                                                                                                                                                                                                                                                                                                                                                                                                                                                                                                                                                                                                                                                       ...   \n",
       "699995                                                                                                                                                                                                                                                                                                                                                                                                                                                                                                                                                                                                                                                                                                                                                                                                                                                                                                                                                                                                                                                                                                                                                           This was the second time we came to Precinct pizza. Sadly again the pizza was under cooked and limp. The cannoli was outstanding. \\nAdmittedly this was the first week of opening, so we will return again soon.\\n\\nWe returned after a couple of mounts after they have settled in, and I must say that their pizzas were outstanding as well as their garlic knots which are the size of little rolls. Outstanding!\\nWe will be returning again very soon.   \n",
       "699996                                                                                                                                                                                                                                                                                                                                                                                                                                                                                                                                                                                                                                                                                                                                                                                                                                                                                                                                                                                                                                                                                                                                                                                                                                                                                                                                                                                                                                                Just spent the weekend in Nashville for our hockey tournament at the Ford Ice Center. We really enjoyed our time here. Very nice, clean rink!  hope we play here again.   \n",
       "699997                                                                                                                                                                                                                                                                                                                                                                                                                                                                                                                                                                                                                                                                                                                                                                                                                                                                                                                                                                                                                                                                                                                                                                                                                                                                                                                                                                                                                   best Indian food in St. Louis there is nothing close to their level \\n\\ntheir lunch special is my favorite but I also enjoy coming in for dinner \\n\\nthey make no comprises when it comes to quality   \n",
       "699998                                                                                                                                                                                                                                                                                                                                                                                                                                                                                                                                                                                                                                                                                                                                                                                                                                                                                                                                                                                                                The rice was super hard could possibly chip a tooth. The lo mein taste like just straight dough. The spring rolls were cold. The signs were confusing and difficult to see what food was what. Staffwas unfriendly when asking for assistance. Was in the place for 10 mins or less couldn't finish first plate. When we told them about the food they seems confused, explained they had been there for years, and yelled loudly to other workers in their native language about our complaints. I only give them one star because I cant choose to give no stars. Never go there. I'll never go back.   \n",
       "699999                                                                                                                                                                                                                                                                                                                                                                                                                                                                                                                                                                                                                                                                                                                                                                                                                                                                                                                                                                                                                                                                                                                                                                                                                                                                                                                                             I walked in Thursday morning at 9 am as a walk-in and I was seated right away. The staff is very friendly . Hailey did my full set and gave me exactly what I wanted. She also worked fast, the whole appointment with dry time was about 45 minutes. I will be returning!   \n",
       "\n",
       "       sentimientoReview  \n",
       "0                      1  \n",
       "1                      1  \n",
       "2                      1  \n",
       "3                      1  \n",
       "4                      1  \n",
       "...                  ...  \n",
       "699995                 1  \n",
       "699996                 1  \n",
       "699997                 1  \n",
       "699998                -1  \n",
       "699999                 1  \n",
       "\n",
       "[700000 rows x 2 columns]"
      ]
     },
     "execution_count": 21,
     "metadata": {},
     "output_type": "execute_result"
    }
   ],
   "source": [
    "yelp_reviews[['text','sentimientoReview']]"
   ]
  },
  {
   "cell_type": "code",
   "execution_count": 22,
   "id": "f3f3bda5-e2cf-4cda-9d95-0a2891c6888a",
   "metadata": {},
   "outputs": [],
   "source": [
    "pd.reset_option('display.max_colwidth')"
   ]
  },
  {
   "cell_type": "markdown",
   "id": "60cf61ed-da5a-44e4-abb7-256e2e9e6301",
   "metadata": {},
   "source": [
    "### Funcion para totalizar el numero de palabras en cada texto"
   ]
  },
  {
   "cell_type": "code",
   "execution_count": 50,
   "id": "e06aecce-155c-4056-84d3-3743fdb85a26",
   "metadata": {},
   "outputs": [],
   "source": [
    "### Función para contar palabras en un texto\n",
    "def contar_palabras(texto):\n",
    "    palabras = texto.split()  # Dividir el texto en palabras utilizando espacios en blanco como separador\n",
    "    return len(palabras)"
   ]
  },
  {
   "cell_type": "markdown",
   "id": "7b05f9fd-9787-4ec6-9616-5a56318ae9ee",
   "metadata": {},
   "source": [
    "### Aplicando la funcion contar plabras al dataset de 'yelp_reviews'"
   ]
  },
  {
   "cell_type": "code",
   "execution_count": 24,
   "id": "db5e7cd0-c6ac-4a06-a00d-0ee1b1043734",
   "metadata": {},
   "outputs": [
    {
     "data": {
      "text/html": [
       "<div>\n",
       "<style scoped>\n",
       "    .dataframe tbody tr th:only-of-type {\n",
       "        vertical-align: middle;\n",
       "    }\n",
       "\n",
       "    .dataframe tbody tr th {\n",
       "        vertical-align: top;\n",
       "    }\n",
       "\n",
       "    .dataframe thead th {\n",
       "        text-align: right;\n",
       "    }\n",
       "</style>\n",
       "<table border=\"1\" class=\"dataframe\">\n",
       "  <thead>\n",
       "    <tr style=\"text-align: right;\">\n",
       "      <th></th>\n",
       "      <th>review_id</th>\n",
       "      <th>user_id</th>\n",
       "      <th>business_id</th>\n",
       "      <th>stars</th>\n",
       "      <th>useful</th>\n",
       "      <th>funny</th>\n",
       "      <th>cool</th>\n",
       "      <th>text</th>\n",
       "      <th>date</th>\n",
       "      <th>sentimientoReview</th>\n",
       "      <th>longitud_palabras</th>\n",
       "    </tr>\n",
       "  </thead>\n",
       "  <tbody>\n",
       "    <tr>\n",
       "      <th>0</th>\n",
       "      <td>KU_O5udG6zpxOg-VcAEodg</td>\n",
       "      <td>mh_-eMZ6K5RLWhZyISBhwA</td>\n",
       "      <td>XQfwVwDr-v0ZS3_CbbE5Xw</td>\n",
       "      <td>3</td>\n",
       "      <td>0</td>\n",
       "      <td>0</td>\n",
       "      <td>0</td>\n",
       "      <td>If you decide to eat here, just be aware it is...</td>\n",
       "      <td>2018-07-07</td>\n",
       "      <td>1</td>\n",
       "      <td>101</td>\n",
       "    </tr>\n",
       "    <tr>\n",
       "      <th>1</th>\n",
       "      <td>lUUhg8ltDsUZ9h0xnwY4Dg</td>\n",
       "      <td>RreNy--tOmXMl1en0wiBOg</td>\n",
       "      <td>cPepkJeRMtHapc_b2Oe_dw</td>\n",
       "      <td>4</td>\n",
       "      <td>1</td>\n",
       "      <td>0</td>\n",
       "      <td>1</td>\n",
       "      <td>I was really between 3 and 4 stars for this on...</td>\n",
       "      <td>2018-07-17</td>\n",
       "      <td>1</td>\n",
       "      <td>313</td>\n",
       "    </tr>\n",
       "    <tr>\n",
       "      <th>2</th>\n",
       "      <td>JBWZmBy69VMggxj3eYn17Q</td>\n",
       "      <td>aFa96pz67TwOFu4Weq5Agg</td>\n",
       "      <td>kq5Ghhh14r-eCxlVmlyd8w</td>\n",
       "      <td>5</td>\n",
       "      <td>0</td>\n",
       "      <td>0</td>\n",
       "      <td>0</td>\n",
       "      <td>My boyfriend and I tried this deli for the fir...</td>\n",
       "      <td>2018-08-23</td>\n",
       "      <td>1</td>\n",
       "      <td>73</td>\n",
       "    </tr>\n",
       "    <tr>\n",
       "      <th>3</th>\n",
       "      <td>E9AB7V4z8xrt2uPF7T55FQ</td>\n",
       "      <td>iYY5Ii1LGpZCpXFkHlMefw</td>\n",
       "      <td>Zx7n8mdt8OzLRXVzolXNhQ</td>\n",
       "      <td>5</td>\n",
       "      <td>0</td>\n",
       "      <td>0</td>\n",
       "      <td>0</td>\n",
       "      <td>Amazing biscuits and (fill in the blank). Grea...</td>\n",
       "      <td>2018-04-27</td>\n",
       "      <td>1</td>\n",
       "      <td>16</td>\n",
       "    </tr>\n",
       "    <tr>\n",
       "      <th>4</th>\n",
       "      <td>A4n4YaE-owOVgTQcrVqHUw</td>\n",
       "      <td>S7bjj-L07JuRr-tpX1UZLw</td>\n",
       "      <td>I6L0Zxi5Ww0zEWSAVgngeQ</td>\n",
       "      <td>4</td>\n",
       "      <td>0</td>\n",
       "      <td>0</td>\n",
       "      <td>0</td>\n",
       "      <td>The cafe was extremely cute. We came at 8am an...</td>\n",
       "      <td>2018-07-07</td>\n",
       "      <td>1</td>\n",
       "      <td>48</td>\n",
       "    </tr>\n",
       "    <tr>\n",
       "      <th>...</th>\n",
       "      <td>...</td>\n",
       "      <td>...</td>\n",
       "      <td>...</td>\n",
       "      <td>...</td>\n",
       "      <td>...</td>\n",
       "      <td>...</td>\n",
       "      <td>...</td>\n",
       "      <td>...</td>\n",
       "      <td>...</td>\n",
       "      <td>...</td>\n",
       "      <td>...</td>\n",
       "    </tr>\n",
       "    <tr>\n",
       "      <th>699995</th>\n",
       "      <td>hhl8Nozr0tADgVjtX3JlVw</td>\n",
       "      <td>e7xUNW5THOyDrni0W662Zw</td>\n",
       "      <td>6KJTlLbdMH4jdDrYHZNv6w</td>\n",
       "      <td>4</td>\n",
       "      <td>1</td>\n",
       "      <td>0</td>\n",
       "      <td>1</td>\n",
       "      <td>This was the second time we came to Precinct p...</td>\n",
       "      <td>2018-03-29</td>\n",
       "      <td>1</td>\n",
       "      <td>79</td>\n",
       "    </tr>\n",
       "    <tr>\n",
       "      <th>699996</th>\n",
       "      <td>LohgzhBttHyNv_D2Z_uB1g</td>\n",
       "      <td>Kh9mzyE3bRUAWCMyOVn53g</td>\n",
       "      <td>5FnHWI9_ffeLxPZXWYULjA</td>\n",
       "      <td>5</td>\n",
       "      <td>0</td>\n",
       "      <td>0</td>\n",
       "      <td>0</td>\n",
       "      <td>Just spent the weekend in Nashville for our ho...</td>\n",
       "      <td>2019-03-11</td>\n",
       "      <td>1</td>\n",
       "      <td>30</td>\n",
       "    </tr>\n",
       "    <tr>\n",
       "      <th>699997</th>\n",
       "      <td>Wj9aENIJf2a7dUMs-2kMQQ</td>\n",
       "      <td>8ccg7g0R0JXhjjta1ZzEfA</td>\n",
       "      <td>-6jVwUuXC1-dyr2YRCEU6Q</td>\n",
       "      <td>5</td>\n",
       "      <td>0</td>\n",
       "      <td>1</td>\n",
       "      <td>0</td>\n",
       "      <td>best Indian food in St. Louis there is nothing...</td>\n",
       "      <td>2019-06-20</td>\n",
       "      <td>1</td>\n",
       "      <td>36</td>\n",
       "    </tr>\n",
       "    <tr>\n",
       "      <th>699998</th>\n",
       "      <td>_Crlj7DAPJWDVN2Ti4c47w</td>\n",
       "      <td>Pz25TQRkx6C_8sh8WySICA</td>\n",
       "      <td>ntu7zZ4myxSVDUlpwK26aA</td>\n",
       "      <td>1</td>\n",
       "      <td>0</td>\n",
       "      <td>0</td>\n",
       "      <td>0</td>\n",
       "      <td>The rice was super hard could possibly chip a ...</td>\n",
       "      <td>2019-07-12</td>\n",
       "      <td>-1</td>\n",
       "      <td>105</td>\n",
       "    </tr>\n",
       "    <tr>\n",
       "      <th>699999</th>\n",
       "      <td>SlaF_xhyOcYY2CshNSQEwA</td>\n",
       "      <td>bmEVPSGqBC9EXTo1aUWXuA</td>\n",
       "      <td>1Vi_y09FXL9ayFkFnqVYBw</td>\n",
       "      <td>4</td>\n",
       "      <td>0</td>\n",
       "      <td>0</td>\n",
       "      <td>0</td>\n",
       "      <td>I walked in Thursday morning at 9 am as a walk...</td>\n",
       "      <td>2019-07-11</td>\n",
       "      <td>1</td>\n",
       "      <td>53</td>\n",
       "    </tr>\n",
       "  </tbody>\n",
       "</table>\n",
       "<p>700000 rows × 11 columns</p>\n",
       "</div>"
      ],
      "text/plain": [
       "                     review_id                 user_id  \\\n",
       "0       KU_O5udG6zpxOg-VcAEodg  mh_-eMZ6K5RLWhZyISBhwA   \n",
       "1       lUUhg8ltDsUZ9h0xnwY4Dg  RreNy--tOmXMl1en0wiBOg   \n",
       "2       JBWZmBy69VMggxj3eYn17Q  aFa96pz67TwOFu4Weq5Agg   \n",
       "3       E9AB7V4z8xrt2uPF7T55FQ  iYY5Ii1LGpZCpXFkHlMefw   \n",
       "4       A4n4YaE-owOVgTQcrVqHUw  S7bjj-L07JuRr-tpX1UZLw   \n",
       "...                        ...                     ...   \n",
       "699995  hhl8Nozr0tADgVjtX3JlVw  e7xUNW5THOyDrni0W662Zw   \n",
       "699996  LohgzhBttHyNv_D2Z_uB1g  Kh9mzyE3bRUAWCMyOVn53g   \n",
       "699997  Wj9aENIJf2a7dUMs-2kMQQ  8ccg7g0R0JXhjjta1ZzEfA   \n",
       "699998  _Crlj7DAPJWDVN2Ti4c47w  Pz25TQRkx6C_8sh8WySICA   \n",
       "699999  SlaF_xhyOcYY2CshNSQEwA  bmEVPSGqBC9EXTo1aUWXuA   \n",
       "\n",
       "                   business_id  stars  useful  funny  cool  \\\n",
       "0       XQfwVwDr-v0ZS3_CbbE5Xw      3       0      0     0   \n",
       "1       cPepkJeRMtHapc_b2Oe_dw      4       1      0     1   \n",
       "2       kq5Ghhh14r-eCxlVmlyd8w      5       0      0     0   \n",
       "3       Zx7n8mdt8OzLRXVzolXNhQ      5       0      0     0   \n",
       "4       I6L0Zxi5Ww0zEWSAVgngeQ      4       0      0     0   \n",
       "...                        ...    ...     ...    ...   ...   \n",
       "699995  6KJTlLbdMH4jdDrYHZNv6w      4       1      0     1   \n",
       "699996  5FnHWI9_ffeLxPZXWYULjA      5       0      0     0   \n",
       "699997  -6jVwUuXC1-dyr2YRCEU6Q      5       0      1     0   \n",
       "699998  ntu7zZ4myxSVDUlpwK26aA      1       0      0     0   \n",
       "699999  1Vi_y09FXL9ayFkFnqVYBw      4       0      0     0   \n",
       "\n",
       "                                                     text       date  \\\n",
       "0       If you decide to eat here, just be aware it is... 2018-07-07   \n",
       "1       I was really between 3 and 4 stars for this on... 2018-07-17   \n",
       "2       My boyfriend and I tried this deli for the fir... 2018-08-23   \n",
       "3       Amazing biscuits and (fill in the blank). Grea... 2018-04-27   \n",
       "4       The cafe was extremely cute. We came at 8am an... 2018-07-07   \n",
       "...                                                   ...        ...   \n",
       "699995  This was the second time we came to Precinct p... 2018-03-29   \n",
       "699996  Just spent the weekend in Nashville for our ho... 2019-03-11   \n",
       "699997  best Indian food in St. Louis there is nothing... 2019-06-20   \n",
       "699998  The rice was super hard could possibly chip a ... 2019-07-12   \n",
       "699999  I walked in Thursday morning at 9 am as a walk... 2019-07-11   \n",
       "\n",
       "       sentimientoReview  longitud_palabras  \n",
       "0                      1                101  \n",
       "1                      1                313  \n",
       "2                      1                 73  \n",
       "3                      1                 16  \n",
       "4                      1                 48  \n",
       "...                  ...                ...  \n",
       "699995                 1                 79  \n",
       "699996                 1                 30  \n",
       "699997                 1                 36  \n",
       "699998                -1                105  \n",
       "699999                 1                 53  \n",
       "\n",
       "[700000 rows x 11 columns]"
      ]
     },
     "execution_count": 24,
     "metadata": {},
     "output_type": "execute_result"
    }
   ],
   "source": [
    "# Aplicar la función a la columna 'text' y crear una nueva columna 'longitud_palabras'\n",
    "yelp_reviews['longitud_palabras'] = yelp_reviews['text'].apply(contar_palabras)\n",
    "\n",
    "# Mostrar el DataFrame resultante\n",
    "yelp_reviews"
   ]
  },
  {
   "cell_type": "code",
   "execution_count": 14,
   "id": "53b3f0bb-c822-4b8e-8c68-d211861d4001",
   "metadata": {},
   "outputs": [
    {
     "name": "stdout",
     "output_type": "stream",
     "text": [
      "<class 'pandas.core.frame.DataFrame'>\n",
      "RangeIndex: 700000 entries, 0 to 699999\n",
      "Data columns (total 10 columns):\n",
      " #   Column                     Non-Null Count   Dtype         \n",
      "---  ------                     --------------   -----         \n",
      " 0   review_id                  700000 non-null  object        \n",
      " 1   user_id                    700000 non-null  object        \n",
      " 2   business_id                700000 non-null  object        \n",
      " 3   stars                      700000 non-null  int64         \n",
      " 4   useful                     700000 non-null  int64         \n",
      " 5   funny                      700000 non-null  int64         \n",
      " 6   cool                       700000 non-null  int64         \n",
      " 7   text                       700000 non-null  object        \n",
      " 8   date                       700000 non-null  datetime64[ns]\n",
      " 9   sentimientoReviewTextBlob  700000 non-null  object        \n",
      "dtypes: datetime64[ns](1), int64(4), object(5)\n",
      "memory usage: 53.4+ MB\n"
     ]
    }
   ],
   "source": [
    "yelp_reviews.info()"
   ]
  },
  {
   "cell_type": "code",
   "execution_count": 16,
   "id": "a61d5760-3f1d-4726-b3f1-417c9777f3ee",
   "metadata": {},
   "outputs": [
    {
     "name": "stdout",
     "output_type": "stream",
     "text": [
      "<class 'pandas.core.frame.DataFrame'>\n",
      "RangeIndex: 700000 entries, 0 to 699999\n",
      "Data columns (total 10 columns):\n",
      " #   Column                     Non-Null Count   Dtype         \n",
      "---  ------                     --------------   -----         \n",
      " 0   review_id                  700000 non-null  object        \n",
      " 1   user_id                    700000 non-null  object        \n",
      " 2   business_id                700000 non-null  object        \n",
      " 3   stars                      700000 non-null  int64         \n",
      " 4   useful                     700000 non-null  int64         \n",
      " 5   funny                      700000 non-null  int64         \n",
      " 6   cool                       700000 non-null  int64         \n",
      " 7   text                       700000 non-null  object        \n",
      " 8   date                       700000 non-null  datetime64[ns]\n",
      " 9   sentimientoReviewTextBlob  700000 non-null  int64         \n",
      "dtypes: datetime64[ns](1), int64(5), object(4)\n",
      "memory usage: 53.4+ MB\n"
     ]
    }
   ],
   "source": [
    "yelp_reviews['sentimientoReviewTextBlob'] = pd.to_numeric(yelp_reviews['sentimientoReviewTextBlob'], errors='coerce')\n",
    "yelp_reviews.info()"
   ]
  },
  {
   "cell_type": "markdown",
   "id": "14c4ab77-30b5-4039-bac1-4deca5fa8396",
   "metadata": {},
   "source": [
    "### Aplicando Nuevamente Correlación con las nuevas columnas de Análisis de sentimientos"
   ]
  },
  {
   "cell_type": "code",
   "execution_count": 28,
   "id": "3cabd9f5-0d97-4f3e-8dcd-f8656b0100ea",
   "metadata": {},
   "outputs": [
    {
     "data": {
      "image/png": "[encoded data removed]",
      "text/plain": [
       "<Figure size 1200x800 with 2 Axes>"
      ]
     },
     "metadata": {},
     "output_type": "display_data"
    }
   ],
   "source": [
    "# Selecciona las columnas numéricas para el análisis de correlación\n",
    "\n",
    "# Selecciona las variables\n",
    "DataSets = ['yelp_reviews']\n",
    "columnas_numericas = ['stars', 'useful', 'cool', 'sentimientoReview', 'longitud_palabras']\n",
    "\n",
    "for dataset in DataSets:\n",
    "    df = globals()[dataset]\n",
    "\n",
    "    # Filtra el DataFrame para incluir solo las columnas numéricas\n",
    "    df_numericas = df[columnas_numericas]\n",
    "\n",
    "    # Calcula la matriz de correlación\n",
    "    matriz_correlacion = df_numericas.corr()\n",
    "\n",
    "    # Crea un mapa de calor (heatmap) para visualizar la matriz de correlación\n",
    "    plt.figure(figsize=(12, 8))\n",
    "    sns.heatmap(matriz_correlacion, annot=True, cmap='coolwarm', center=0)\n",
    "    plt.title('Matriz de Correlación entre Métricas')\n",
    "    #plt.savefig(\"../src/Graficas/Correlaciones.png\")\n",
    "    plt.show()"
   ]
  },
  {
   "cell_type": "code",
   "execution_count": null,
   "id": "13755872-4764-4a12-b6dc-1ba836fd045d",
   "metadata": {},
   "outputs": [],
   "source": [
    "### Gráfica de Dispersion entre dos variables"
   ]
  },
  {
   "cell_type": "code",
   "execution_count": 31,
   "id": "3037e340-3a56-4802-8f04-9a74831f7ec5",
   "metadata": {},
   "outputs": [
    {
     "data": {
      "image/png": "[encoded data removed]",
      "text/plain": [
       "<Figure size 640x480 with 1 Axes>"
      ]
     },
     "metadata": {},
     "output_type": "display_data"
    }
   ],
   "source": [
    "### Gráfico de Dispersion entre dos variables\n",
    "\n",
    "# Selecciona las variables\n",
    "DataSets = ['yelp_reviews']\n",
    "columnas_X = 'useful'\n",
    "columnas_Y = 'cool'\n",
    "\n",
    "for dataset in DataSets:\n",
    "    df = globals()[dataset]\n",
    "\n",
    "    # Crear el gráfico de dispersión\n",
    "    plt.scatter(df[columnas_X], df[columnas_Y])\n",
    "\n",
    "    # Etiquetas de los ejes\n",
    "    plt.xlabel(columnas_X)\n",
    "    plt.ylabel(columnas_Y)\n",
    "\n",
    "    # Título del gráfico\n",
    "    plt.title(f\"Gráfico de Dispersión entre '{columnas_X}' y '{columnas_Y}' del Dataset: '{','.join(DataSets)}'\")\n",
    "\n",
    "    # Mostrar el gráfico\n",
    "    plt.show()"
   ]
  },
  {
   "cell_type": "code",
   "execution_count": 17,
   "id": "d26f587f-ea07-487c-ad70-4dd18991837a",
   "metadata": {},
   "outputs": [
    {
     "name": "stdout",
     "output_type": "stream",
     "text": [
      "<class 'pandas.core.frame.DataFrame'>\n",
      "RangeIndex: 700000 entries, 0 to 699999\n",
      "Data columns (total 10 columns):\n",
      " #   Column                     Non-Null Count   Dtype         \n",
      "---  ------                     --------------   -----         \n",
      " 0   review_id                  700000 non-null  object        \n",
      " 1   user_id                    700000 non-null  object        \n",
      " 2   business_id                700000 non-null  object        \n",
      " 3   stars                      700000 non-null  int64         \n",
      " 4   useful                     700000 non-null  int64         \n",
      " 5   funny                      700000 non-null  int64         \n",
      " 6   cool                       700000 non-null  int64         \n",
      " 7   text                       700000 non-null  object        \n",
      " 8   date                       700000 non-null  datetime64[ns]\n",
      " 9   sentimientoReviewTextBlob  700000 non-null  int64         \n",
      "dtypes: datetime64[ns](1), int64(5), object(4)\n",
      "memory usage: 53.4+ MB\n"
     ]
    }
   ],
   "source": [
    "yelp_reviews.info()"
   ]
  },
  {
   "cell_type": "markdown",
   "id": "46a0a5ba-fc37-49eb-99fe-74ab5e899aec",
   "metadata": {},
   "source": [
    "### Guardar Dataset Final de yelp_reviews"
   ]
  },
  {
   "cell_type": "code",
   "execution_count": 18,
   "id": "f42320ae-be45-4aad-b002-b78a2976280b",
   "metadata": {},
   "outputs": [],
   "source": [
    "### Guardar Dataset Final de yelp_user\n",
    "\n",
    "# Ruta completa en Cloud Storage para guardar el archivo en formato CSV\n",
    "ruta_eda_datalike = \"gs://gmy/eda/yelp_reviews.parquet\"\n",
    "\n",
    "# Guarda el DataFrame en formato CSV en Cloud Storage\n",
    "yelp_reviews.to_parquet(ruta_eda_datalike, index=False)"
   ]
  },
  {
   "cell_type": "code",
   "execution_count": null,
   "id": "b9b2bf9e-227d-4a89-b857-c12c7da0fee0",
   "metadata": {},
   "outputs": [],
   "source": []
  },
  {
   "cell_type": "markdown",
   "id": "c3b14646-eefa-4560-9142-5e6c451bff77",
   "metadata": {},
   "source": [
    "### 2) EDA del Dataset: 'yelp_business'"
   ]
  },
  {
   "cell_type": "code",
   "execution_count": 3,
   "id": "35cb92c9-ce6f-4e2d-a43f-6eb3a8a615a4",
   "metadata": {},
   "outputs": [
    {
     "name": "stdout",
     "output_type": "stream",
     "text": [
      "<class 'pandas.core.frame.DataFrame'>\n",
      "RangeIndex: 145216 entries, 0 to 145215\n",
      "Data columns (total 11 columns):\n",
      " #   Column        Non-Null Count   Dtype  \n",
      "---  ------        --------------   -----  \n",
      " 0   business_id   145216 non-null  object \n",
      " 1   name          145216 non-null  object \n",
      " 2   address       145216 non-null  object \n",
      " 3   city          145216 non-null  object \n",
      " 4   state         145216 non-null  object \n",
      " 5   latitude      145216 non-null  float64\n",
      " 6   longitude     145216 non-null  float64\n",
      " 7   stars         145216 non-null  float64\n",
      " 8   review_count  145216 non-null  int64  \n",
      " 9   attributes    132343 non-null  object \n",
      " 10  categories    145114 non-null  object \n",
      "dtypes: float64(3), int64(1), object(7)\n",
      "memory usage: 12.2+ MB\n"
     ]
    }
   ],
   "source": [
    "### Cargando el ETL del Dataset 'yelp_bussines'\n",
    "# Ruta completa en Cloud Storage\n",
    "ruta_etl_datalike = \"gs://gmy/etl/yelp_business.csv\"\n",
    "\n",
    "# Lee el archivo Parquet directamente en un DataFrame de pandas\n",
    "yelp_bussines = pd.read_csv(ruta_etl_datalike, storage_options={\"project\": \"Proyecto Final - Henry\"})\n",
    "yelp_bussines.info()"
   ]
  },
  {
   "cell_type": "code",
   "execution_count": 4,
   "id": "31a42dc3-7b76-4e40-bcb3-6a40c0f0bee5",
   "metadata": {},
   "outputs": [
    {
     "data": {
      "text/plain": [
       "business_id         0\n",
       "name                0\n",
       "address             0\n",
       "city                0\n",
       "state               0\n",
       "latitude            0\n",
       "longitude           0\n",
       "stars               0\n",
       "review_count        0\n",
       "attributes      12873\n",
       "categories        102\n",
       "dtype: int64"
      ]
     },
     "execution_count": 4,
     "metadata": {},
     "output_type": "execute_result"
    }
   ],
   "source": [
    "yelp_bussines.isna().sum()"
   ]
  },
  {
   "cell_type": "markdown",
   "id": "59f8cfcb-1053-4593-9c4b-b74e1dc983be",
   "metadata": {},
   "source": [
    "### 1. Análisis Valores Faltantes."
   ]
  },
  {
   "cell_type": "code",
   "execution_count": 5,
   "id": "6e15e7c5-33f9-4ab1-9c64-a88df8e2ec73",
   "metadata": {},
   "outputs": [
    {
     "name": "stdout",
     "output_type": "stream",
     "text": [
      "Información del DataSets: ['yelp_bussines']\n",
      "================================================================================\n",
      "Analizando los Valores Nulos en la Columna:   'attributes'\n",
      "Total Registros: 145216\n",
      "Total Valores Nulos: 12873\n",
      "Porcentaje Valores Nulos: 8.865 %\n",
      "================================================================================\n",
      "Analizando los Valores Nulos en la Columna:   'categories'\n",
      "Total Registros: 145216\n",
      "Total Valores Nulos: 102\n",
      "Porcentaje Valores Nulos: 0.07 %\n",
      "================================================================================\n"
     ]
    }
   ],
   "source": [
    "### Información Detallada de las siguientes columnas:\n",
    "Columnas = ['attributes', 'categories']\n",
    "DataSets = ['yelp_bussines']\n",
    "\n",
    "for dataset in DataSets:\n",
    "    df = globals()[dataset]\n",
    "    print(f\"Información del DataSets: {DataSets}\")\n",
    "    print(\"=\"*80)\n",
    "    for columna in Columnas:\n",
    "        print(f\"Analizando los Valores Nulos en la Columna:   '{columna}'\")\n",
    "        print(f\"Total Registros: {df.shape[0]}\")\n",
    "        print(f\"Total Valores Nulos: {df[columna].isna().sum()}\")\n",
    "        print(f\"Porcentaje Valores Nulos: {round((df[columna].isna().sum()/df.shape[0])*100,3)} %\")\n",
    "        #print(f\"Valor/es de la Moda:\\n{df[Columna].mode()[0]}\")\n",
    "        #print(f\"Estadistica Descriptiva de la Columna {Columna}:\\n{df[Columna].describe()}\")\n",
    "        print(\"=\"*80)"
   ]
  },
  {
   "cell_type": "markdown",
   "id": "8653fa10-dfcf-4d47-90bc-fc684e043fb3",
   "metadata": {},
   "source": [
    "### Eliminando los registros con valones nulos de las siguientes columnas:"
   ]
  },
  {
   "cell_type": "code",
   "execution_count": 6,
   "id": "d8e85627-cc83-44e5-a99c-3bf3fd0890d8",
   "metadata": {},
   "outputs": [
    {
     "name": "stdout",
     "output_type": "stream",
     "text": [
      "<class 'pandas.core.frame.DataFrame'>\n",
      "Index: 132342 entries, 0 to 145215\n",
      "Data columns (total 11 columns):\n",
      " #   Column        Non-Null Count   Dtype  \n",
      "---  ------        --------------   -----  \n",
      " 0   business_id   132342 non-null  object \n",
      " 1   name          132342 non-null  object \n",
      " 2   address       132342 non-null  object \n",
      " 3   city          132342 non-null  object \n",
      " 4   state         132342 non-null  object \n",
      " 5   latitude      132342 non-null  float64\n",
      " 6   longitude     132342 non-null  float64\n",
      " 7   stars         132342 non-null  float64\n",
      " 8   review_count  132342 non-null  int64  \n",
      " 9   attributes    132342 non-null  object \n",
      " 10  categories    132342 non-null  object \n",
      "dtypes: float64(3), int64(1), object(7)\n",
      "memory usage: 12.1+ MB\n"
     ]
    }
   ],
   "source": [
    "### Eliminando los registros con valones nulos de las siguientes columnas:\n",
    "Columnas = ['attributes', 'categories']\n",
    "DataSets = ['yelp_bussines']\n",
    "\n",
    "for dataset in DataSets:\n",
    "    for columna in Columnas:\n",
    "        df = globals()[dataset]\n",
    "        df.dropna(subset=columna, inplace=True)\n",
    "        #print(f\"Visualizando Filas con Valores Nulos de la Columna '{columna}' del Dataset: '{','.join(DataSets)}'\")\n",
    "        #print(\"=\"*88)\n",
    "df.info()"
   ]
  },
  {
   "cell_type": "markdown",
   "id": "d025bda5-dbd5-4c9e-a49e-6fb396206cc9",
   "metadata": {},
   "source": [
    "### 2. Análisis de Valores Outliers."
   ]
  },
  {
   "cell_type": "code",
   "execution_count": 45,
   "id": "e27d803f-3baf-486a-89dd-6c8d769dd014",
   "metadata": {},
   "outputs": [
    {
     "data": {
      "image/png": "[encoded data removed]",
      "text/plain": [
       "<Figure size 1200x500 with 2 Axes>"
      ]
     },
     "metadata": {},
     "output_type": "display_data"
    }
   ],
   "source": [
    "### Gráficas de Cajas o Bigotes, para Visualizar los Valores Atípicos\n",
    "\n",
    "# Selecciona las variables\n",
    "DataSets = ['yelp_bussines']\n",
    "Columnas = ['stars', 'review_count']\n",
    "\n",
    "for dataset in DataSets:\n",
    "    df = globals()[dataset]\n",
    "\n",
    "    ColumnasAnalizar = df[Columnas]\n",
    "\n",
    "    # Crea subplots de diagramas de caja individuales para cada variable\n",
    "    plt.figure(figsize=(12, 5))\n",
    "    for i, column in enumerate(ColumnasAnalizar.columns, 1):\n",
    "        plt.subplot(1, 5, i)\n",
    "        sns.boxplot(data=ColumnasAnalizar[column], color='skyblue')\n",
    "\n",
    "        # Calcula la cantidad de valores atípicos\n",
    "        q1 = ColumnasAnalizar[column].quantile(0.25)\n",
    "        q3 = ColumnasAnalizar[column].quantile(0.75)\n",
    "        iqr = q3 - q1\n",
    "        outliers = ((ColumnasAnalizar[column] < q1 - 1.5 * iqr) | (ColumnasAnalizar[column] > q3 + 1.5 * iqr)).sum()\n",
    "\n",
    "        plt.title(f\"Columna:'{column}'\\nValores Atípicos: {outliers}\")\n",
    "        plt.xlabel(column)\n",
    "\n",
    "    plt.tight_layout()\n",
    "    #plt.savefig(\"../src/Graficas/CajasPOHLC.png\")  # Guardando la Gráfica para ser colocad en el README. \n",
    "    plt.show()"
   ]
  },
  {
   "cell_type": "markdown",
   "id": "d8d33f54-e2b4-4a9f-a045-5eec8b762b5f",
   "metadata": {},
   "source": [
    "### Gráficas de Violín"
   ]
  },
  {
   "cell_type": "code",
   "execution_count": 46,
   "id": "febf994e-0040-4469-b4e7-914365a22cfc",
   "metadata": {},
   "outputs": [
    {
     "data": {
      "image/png": "[encoded data removed]",
      "text/plain": [
       "<Figure size 1200x500 with 2 Axes>"
      ]
     },
     "metadata": {},
     "output_type": "display_data"
    }
   ],
   "source": [
    "### Gráficas de Violín para Visualizar los Valores Atípicos\n",
    "\n",
    "# Selecciona las variables\n",
    "DataSets = ['yelp_bussines']\n",
    "Columnas = ['stars', 'review_count']\n",
    "\n",
    "for dataset in DataSets:\n",
    "    df = globals()[dataset]\n",
    "\n",
    "    ColumnasAnalizar = df[Columnas]\n",
    "\n",
    "    # Crea subplots de gráficas de violín individuales para cada variable\n",
    "    plt.figure(figsize=(12, 5))\n",
    "    for i, column in enumerate(ColumnasAnalizar.columns, 1):\n",
    "        plt.subplot(1, 5, i)\n",
    "        sns.violinplot(data=ColumnasAnalizar[column], color='skyblue', inner='box')\n",
    "\n",
    "        # Calcula la cantidad de valores atípicos\n",
    "        q1 = ColumnasAnalizar[column].quantile(0.25)\n",
    "        q3 = ColumnasAnalizar[column].quantile(0.75)\n",
    "        iqr = q3 - q1\n",
    "        outliers = ((ColumnasAnalizar[column] < q1 - 1.5 * iqr) | (ColumnasAnalizar[column] > q3 + 1.5 * iqr)).sum()\n",
    "\n",
    "        plt.title(f'Gráfica de {column}\\nValores Atípicos: {outliers}')\n",
    "        plt.xlabel(column)\n",
    "\n",
    "    plt.tight_layout()\n",
    "    #plt.savefig(\"../src/Graficas/ViolinPOHLC.png\")\n",
    "    plt.show()"
   ]
  },
  {
   "cell_type": "markdown",
   "id": "82234425-11ed-4f8c-9428-6997b490ebdd",
   "metadata": {},
   "source": [
    "### 3. Análisis de Correlaciones."
   ]
  },
  {
   "cell_type": "code",
   "execution_count": 47,
   "id": "e496e1e4-c2dc-47f4-8b47-f08cf158ee27",
   "metadata": {},
   "outputs": [
    {
     "data": {
      "image/png": "[encoded data removed]",
      "text/plain": [
       "<Figure size 1200x800 with 2 Axes>"
      ]
     },
     "metadata": {},
     "output_type": "display_data"
    }
   ],
   "source": [
    "# Selecciona las columnas numéricas para el análisis de correlación\n",
    "\n",
    "# Selecciona las variables\n",
    "DataSets = ['yelp_bussines']\n",
    "columnas_numericas = ['stars', 'review_count']\n",
    "\n",
    "for dataset in DataSets:\n",
    "    df = globals()[dataset]\n",
    "\n",
    "    # Filtra el DataFrame para incluir solo las columnas numéricas\n",
    "    df_numericas = df[columnas_numericas]\n",
    "\n",
    "    # Calcula la matriz de correlación\n",
    "    matriz_correlacion = df_numericas.corr()\n",
    "\n",
    "    # Crea un mapa de calor (heatmap) para visualizar la matriz de correlación\n",
    "    plt.figure(figsize=(12, 8))\n",
    "    sns.heatmap(matriz_correlacion, annot=True, cmap='coolwarm', center=0)\n",
    "    plt.title('Matriz de Correlación entre Métricas')\n",
    "    #plt.savefig(\"../src/Graficas/Correlaciones.png\")\n",
    "    plt.show()"
   ]
  },
  {
   "cell_type": "code",
   "execution_count": 7,
   "id": "55deeba3-cac7-40c1-9c7e-1ae624d628b0",
   "metadata": {},
   "outputs": [
    {
     "name": "stdout",
     "output_type": "stream",
     "text": [
      "<class 'pandas.core.frame.DataFrame'>\n",
      "Index: 132342 entries, 0 to 145215\n",
      "Data columns (total 11 columns):\n",
      " #   Column        Non-Null Count   Dtype  \n",
      "---  ------        --------------   -----  \n",
      " 0   business_id   132342 non-null  object \n",
      " 1   name          132342 non-null  object \n",
      " 2   address       132342 non-null  object \n",
      " 3   city          132342 non-null  object \n",
      " 4   state         132342 non-null  object \n",
      " 5   latitude      132342 non-null  float64\n",
      " 6   longitude     132342 non-null  float64\n",
      " 7   stars         132342 non-null  float64\n",
      " 8   review_count  132342 non-null  int64  \n",
      " 9   attributes    132342 non-null  object \n",
      " 10  categories    132342 non-null  object \n",
      "dtypes: float64(3), int64(1), object(7)\n",
      "memory usage: 12.1+ MB\n"
     ]
    }
   ],
   "source": [
    "yelp_bussines.info()"
   ]
  },
  {
   "cell_type": "markdown",
   "id": "6c670e2d-3143-40ab-89f9-25631cbd658a",
   "metadata": {},
   "source": [
    "### Guardar Dataset Final de yelp_bussines"
   ]
  },
  {
   "cell_type": "code",
   "execution_count": 8,
   "id": "7fd2f632-3f95-4b73-af29-a274d380881f",
   "metadata": {},
   "outputs": [],
   "source": [
    "### Guardar Dataset Final de yelp_bussines\n",
    "\n",
    "# Ruta completa en Cloud Storage para guardar el archivo en formato PARQUET\n",
    "ruta_eda_datalike = \"gs://gmy/eda/yelp_bussines.parquet\"\n",
    "\n",
    "# Guarda el DataFrame en formato CSV en Cloud Storage\n",
    "yelp_bussines.to_parquet(ruta_eda_datalike, index=False)"
   ]
  },
  {
   "cell_type": "code",
   "execution_count": null,
   "id": "403e99bd-16de-481f-986e-08bf7f6e2302",
   "metadata": {},
   "outputs": [],
   "source": []
  },
  {
   "cell_type": "markdown",
   "id": "5ff34cbb-35ed-4282-9997-eaa7a0d2f601",
   "metadata": {},
   "source": [
    "### 3) EDA del Dataset: 'yelp_tip'"
   ]
  },
  {
   "cell_type": "markdown",
   "id": "b186bd49-b5ec-4453-8074-027d001d00df",
   "metadata": {},
   "source": [
    "### Cargando el ETL del Dataset 'yelp_tip'"
   ]
  },
  {
   "cell_type": "code",
   "execution_count": 19,
   "id": "fd108295-1592-4439-b8d2-1fa85e604fe1",
   "metadata": {},
   "outputs": [
    {
     "name": "stdout",
     "output_type": "stream",
     "text": [
      "<class 'pandas.core.frame.DataFrame'>\n",
      "RangeIndex: 193033 entries, 0 to 193032\n",
      "Data columns (total 5 columns):\n",
      " #   Column            Non-Null Count   Dtype \n",
      "---  ------            --------------   ----- \n",
      " 0   user_id           193033 non-null  object\n",
      " 1   business_id       193033 non-null  object\n",
      " 2   text              193030 non-null  object\n",
      " 3   date              193033 non-null  object\n",
      " 4   compliment_count  193033 non-null  int64 \n",
      "dtypes: int64(1), object(4)\n",
      "memory usage: 7.4+ MB\n"
     ]
    }
   ],
   "source": [
    "### Cargando el ETL del Dataset 'yelp_tip'\n",
    "# Ruta completa en Cloud Storage\n",
    "ruta_etl_datalike = \"gs://gmy/etl/yelp_tips.csv\"\n",
    "\n",
    "# Lee el archivo Parquet directamente en un DataFrame de pandas\n",
    "yelp_tips = pd.read_csv(ruta_etl_datalike, storage_options={\"project\": \"Proyecto Final - Henry\"})\n",
    "yelp_tips.info()"
   ]
  },
  {
   "cell_type": "markdown",
   "id": "54790734-c5c1-4f8b-a553-2fee785c0ae3",
   "metadata": {},
   "source": [
    "### Convertiendo la columna 'date' en formato fecha"
   ]
  },
  {
   "cell_type": "code",
   "execution_count": 20,
   "id": "9fd49d04-8d60-449a-b632-75592f0c8511",
   "metadata": {},
   "outputs": [
    {
     "name": "stdout",
     "output_type": "stream",
     "text": [
      "<class 'pandas.core.frame.DataFrame'>\n",
      "RangeIndex: 193033 entries, 0 to 193032\n",
      "Data columns (total 5 columns):\n",
      " #   Column            Non-Null Count   Dtype         \n",
      "---  ------            --------------   -----         \n",
      " 0   user_id           193033 non-null  object        \n",
      " 1   business_id       193033 non-null  object        \n",
      " 2   text              193030 non-null  object        \n",
      " 3   date              193033 non-null  datetime64[ns]\n",
      " 4   compliment_count  193033 non-null  int64         \n",
      "dtypes: datetime64[ns](1), int64(1), object(3)\n",
      "memory usage: 7.4+ MB\n"
     ]
    }
   ],
   "source": [
    "### Convertiendo la columna 'date' en formato fecha\n",
    "yelp_tips['date'] = pd.to_datetime(yelp_tips['date'], format='%Y-%m-%d', errors='coerce')\n",
    "yelp_tips.info()"
   ]
  },
  {
   "cell_type": "markdown",
   "id": "3a803813-2e28-4275-ad0e-e75f1d10fd96",
   "metadata": {},
   "source": [
    "### 1. Análisis Valores Faltantes."
   ]
  },
  {
   "cell_type": "code",
   "execution_count": 21,
   "id": "64eb4ea5-bebc-427c-97bf-d619bb478f64",
   "metadata": {},
   "outputs": [
    {
     "data": {
      "text/plain": [
       "user_id             0\n",
       "business_id         0\n",
       "text                3\n",
       "date                0\n",
       "compliment_count    0\n",
       "dtype: int64"
      ]
     },
     "execution_count": 21,
     "metadata": {},
     "output_type": "execute_result"
    }
   ],
   "source": [
    "yelp_tips.isna().sum()"
   ]
  },
  {
   "cell_type": "markdown",
   "id": "1eea0c56-9578-4172-84a9-74d8672fa5ce",
   "metadata": {},
   "source": [
    "### Información Detallada de la Columna: 'text'"
   ]
  },
  {
   "cell_type": "code",
   "execution_count": 18,
   "id": "86f71b86-c019-42eb-956f-7bded13a5332",
   "metadata": {},
   "outputs": [
    {
     "name": "stdout",
     "output_type": "stream",
     "text": [
      "================================================================================\n",
      "Información del DataSets: 'yelp_tips'\n",
      "Información Detallada de la Columna: 'text'\n",
      "Total Registros: 193033\n",
      "Total Valores Nulos: 3\n",
      "Porcentaje Valores Nulos: 0.002 %\n",
      "================================================================================\n"
     ]
    }
   ],
   "source": [
    "### Información Detallada de la Columna: 'text'\n",
    "DataSets = ['yelp_tips']\n",
    "Columna = 'text'\n",
    "\n",
    "for dataset in DataSets:\n",
    "    df = globals()[dataset]\n",
    "    print(\"=\"*80)\n",
    "    print(f\"Información del DataSets: '{','.join(DataSets)}'\")\n",
    "    print(f\"Información Detallada de la Columna: '{Columna}'\")\n",
    "    print(f\"Total Registros: {df.shape[0]}\")\n",
    "    print(f\"Total Valores Nulos: {df[Columna].isna().sum()}\")\n",
    "    print(f\"Porcentaje Valores Nulos: {round((df[Columna].isna().sum()/df.shape[0])*100,3)} %\")\n",
    "    #print(f\"Valor/es de la Moda:\\n{df[Columna].mode()[0]}\")\n",
    "    #print(f\"Estadistica Descriptiva de la Columna {Columna}:\\n{df[Columna].describe()}\")\n",
    "    print(\"=\"*80)"
   ]
  },
  {
   "cell_type": "markdown",
   "id": "a7e701ab-4ef4-4753-8508-6a42d3ea962d",
   "metadata": {},
   "source": [
    "### Visualizando Valores Nulos de la Columna 'text'"
   ]
  },
  {
   "cell_type": "code",
   "execution_count": 19,
   "id": "92ada5d2-dae1-4276-adc0-fe6230195cae",
   "metadata": {},
   "outputs": [
    {
     "name": "stdout",
     "output_type": "stream",
     "text": [
      "Visualizando Filas con Valores Nulos de la Columna 'text' del Dataset: 'yelp_tips'\n",
      "========================================================================================\n"
     ]
    },
    {
     "data": {
      "text/html": [
       "<div>\n",
       "<style scoped>\n",
       "    .dataframe tbody tr th:only-of-type {\n",
       "        vertical-align: middle;\n",
       "    }\n",
       "\n",
       "    .dataframe tbody tr th {\n",
       "        vertical-align: top;\n",
       "    }\n",
       "\n",
       "    .dataframe thead th {\n",
       "        text-align: right;\n",
       "    }\n",
       "</style>\n",
       "<table border=\"1\" class=\"dataframe\">\n",
       "  <thead>\n",
       "    <tr style=\"text-align: right;\">\n",
       "      <th></th>\n",
       "      <th>user_id</th>\n",
       "      <th>business_id</th>\n",
       "      <th>text</th>\n",
       "      <th>date</th>\n",
       "      <th>compliment_count</th>\n",
       "    </tr>\n",
       "  </thead>\n",
       "  <tbody>\n",
       "    <tr>\n",
       "      <th>47618</th>\n",
       "      <td>9Ba1QLi-_n5ijOUYpGdY0Q</td>\n",
       "      <td>OcCrSDYR5cETO4FZ7R2iEg</td>\n",
       "      <td>NaN</td>\n",
       "      <td>2020-01-22</td>\n",
       "      <td>0</td>\n",
       "    </tr>\n",
       "    <tr>\n",
       "      <th>73359</th>\n",
       "      <td>FSR2WfAqiCX9tg91fsluZw</td>\n",
       "      <td>eLi0bpsDoWQkBhJX1d46tg</td>\n",
       "      <td>NaN</td>\n",
       "      <td>2021-10-09</td>\n",
       "      <td>0</td>\n",
       "    </tr>\n",
       "    <tr>\n",
       "      <th>131032</th>\n",
       "      <td>xIBXtscIpUarsWO-jr8Y0Q</td>\n",
       "      <td>EkGrpiN5gN6TaSfVQ0ggvA</td>\n",
       "      <td>NaN</td>\n",
       "      <td>2019-04-13</td>\n",
       "      <td>0</td>\n",
       "    </tr>\n",
       "  </tbody>\n",
       "</table>\n",
       "</div>"
      ],
      "text/plain": [
       "                       user_id             business_id text       date  \\\n",
       "47618   9Ba1QLi-_n5ijOUYpGdY0Q  OcCrSDYR5cETO4FZ7R2iEg  NaN 2020-01-22   \n",
       "73359   FSR2WfAqiCX9tg91fsluZw  eLi0bpsDoWQkBhJX1d46tg  NaN 2021-10-09   \n",
       "131032  xIBXtscIpUarsWO-jr8Y0Q  EkGrpiN5gN6TaSfVQ0ggvA  NaN 2019-04-13   \n",
       "\n",
       "        compliment_count  \n",
       "47618                  0  \n",
       "73359                  0  \n",
       "131032                 0  "
      ]
     },
     "execution_count": 19,
     "metadata": {},
     "output_type": "execute_result"
    }
   ],
   "source": [
    "### Visualizando Valores Nulos de la Columna 'text'\n",
    "\n",
    "DataSets = ['yelp_tips']\n",
    "Columna = 'text'\n",
    "\n",
    "for dataset in DataSets:\n",
    "    df = globals()[dataset] \n",
    "    print(f\"Visualizando Filas con Valores Nulos de la Columna '{Columna}' del Dataset: '{','.join(DataSets)}'\")\n",
    "    print(\"=\"*88)\n",
    "df[df[Columna].isna()]"
   ]
  },
  {
   "cell_type": "markdown",
   "id": "369561a4-98b3-45a2-870e-0484c293595b",
   "metadata": {},
   "source": [
    "Dado que el porcentaje de valores nulos es muy pequeño (0.002%) se procede a eliminar dichos registros"
   ]
  },
  {
   "cell_type": "code",
   "execution_count": 22,
   "id": "e5b8a141-c832-49db-8891-903c6f000328",
   "metadata": {},
   "outputs": [
    {
     "name": "stdout",
     "output_type": "stream",
     "text": [
      "Visualizando Filas con Valores Nulos de la Columna 'text' del Dataset: 'yelp_tips'\n",
      "========================================================================================\n"
     ]
    },
    {
     "data": {
      "text/html": [
       "<div>\n",
       "<style scoped>\n",
       "    .dataframe tbody tr th:only-of-type {\n",
       "        vertical-align: middle;\n",
       "    }\n",
       "\n",
       "    .dataframe tbody tr th {\n",
       "        vertical-align: top;\n",
       "    }\n",
       "\n",
       "    .dataframe thead th {\n",
       "        text-align: right;\n",
       "    }\n",
       "</style>\n",
       "<table border=\"1\" class=\"dataframe\">\n",
       "  <thead>\n",
       "    <tr style=\"text-align: right;\">\n",
       "      <th></th>\n",
       "      <th>user_id</th>\n",
       "      <th>business_id</th>\n",
       "      <th>text</th>\n",
       "      <th>date</th>\n",
       "      <th>compliment_count</th>\n",
       "    </tr>\n",
       "  </thead>\n",
       "  <tbody>\n",
       "  </tbody>\n",
       "</table>\n",
       "</div>"
      ],
      "text/plain": [
       "Empty DataFrame\n",
       "Columns: [user_id, business_id, text, date, compliment_count]\n",
       "Index: []"
      ]
     },
     "execution_count": 22,
     "metadata": {},
     "output_type": "execute_result"
    }
   ],
   "source": [
    "### Eliminando Las 3 Filas con Valores Nulos\n",
    "DataSets = ['yelp_tips']\n",
    "Columna = 'text'\n",
    "\n",
    "for dataset in DataSets:\n",
    "    df = globals()[dataset]\n",
    "    df.dropna(subset=[Columna], inplace=True)\n",
    "    print(f\"Visualizando Filas con Valores Nulos de la Columna '{Columna}' del Dataset: '{','.join(DataSets)}'\")\n",
    "    print(\"=\"*88)\n",
    "df[df[Columna].isna()]"
   ]
  },
  {
   "cell_type": "markdown",
   "id": "0f4537ca-51d6-48b2-80cb-3bdab040b816",
   "metadata": {},
   "source": [
    "### 2. Análisis de Valores Outliers."
   ]
  },
  {
   "cell_type": "code",
   "execution_count": 22,
   "id": "7b39940e-6e9f-4232-9ad7-c1cd847bea51",
   "metadata": {},
   "outputs": [
    {
     "name": "stdout",
     "output_type": "stream",
     "text": [
      "<class 'pandas.core.frame.DataFrame'>\n",
      "Index: 193030 entries, 0 to 193032\n",
      "Data columns (total 5 columns):\n",
      " #   Column            Non-Null Count   Dtype         \n",
      "---  ------            --------------   -----         \n",
      " 0   user_id           193030 non-null  object        \n",
      " 1   business_id       193030 non-null  object        \n",
      " 2   text              193030 non-null  object        \n",
      " 3   date              193030 non-null  datetime64[ns]\n",
      " 4   compliment_count  193030 non-null  int64         \n",
      "dtypes: datetime64[ns](1), int64(1), object(3)\n",
      "memory usage: 8.8+ MB\n"
     ]
    }
   ],
   "source": [
    "yelp_tips.info()"
   ]
  },
  {
   "cell_type": "code",
   "execution_count": 23,
   "id": "ba9fb894-ac5c-4233-b385-4de4b1a87e5a",
   "metadata": {},
   "outputs": [
    {
     "data": {
      "image/png": "[encoded data removed]",
      "text/plain": [
       "<Figure size 1200x500 with 1 Axes>"
      ]
     },
     "metadata": {},
     "output_type": "display_data"
    }
   ],
   "source": [
    "### Gráficas de Cajas o Bigotes, para Visualizar los Valores Atípicos\n",
    "\n",
    "# Selecciona las variables\n",
    "DataSets = ['yelp_tips']\n",
    "Columnas = ['compliment_count']\n",
    "\n",
    "for dataset in DataSets:\n",
    "    df = globals()[dataset]\n",
    "\n",
    "    ColumnasAnalizar = df[Columnas]\n",
    "\n",
    "    # Crea subplots de diagramas de caja individuales para cada variable\n",
    "    plt.figure(figsize=(12, 5))\n",
    "    for i, column in enumerate(ColumnasAnalizar.columns, 1):\n",
    "        plt.subplot(1, 5, i)\n",
    "        sns.boxplot(data=ColumnasAnalizar[column], color='skyblue')\n",
    "\n",
    "        # Calcula la cantidad de valores atípicos\n",
    "        q1 = ColumnasAnalizar[column].quantile(0.25)\n",
    "        q3 = ColumnasAnalizar[column].quantile(0.75)\n",
    "        iqr = q3 - q1\n",
    "        outliers = ((ColumnasAnalizar[column] < q1 - 1.5 * iqr) | (ColumnasAnalizar[column] > q3 + 1.5 * iqr)).sum()\n",
    "\n",
    "        plt.title(f\"Columna:'{column}'\\nValores Atípicos: {outliers}\")\n",
    "        plt.xlabel(column)\n",
    "\n",
    "    plt.tight_layout()\n",
    "    #plt.savefig(\"../src/Graficas/CajasPOHLC.png\")  # Guardando la Gráfica para ser colocad en el README. \n",
    "    plt.show()"
   ]
  },
  {
   "cell_type": "code",
   "execution_count": 24,
   "id": "950b2626-ff0a-43d7-9bc3-bc674aff6e71",
   "metadata": {},
   "outputs": [
    {
     "data": {
      "image/png": "[encoded data removed]",
      "text/plain": [
       "<Figure size 1200x500 with 1 Axes>"
      ]
     },
     "metadata": {},
     "output_type": "display_data"
    }
   ],
   "source": [
    "### Gráficas de Violín para Visualizar los Valores Atípicos\n",
    "\n",
    "# Selecciona las variables\n",
    "DataSets = ['yelp_tips']\n",
    "Columnas = ['compliment_count']\n",
    "\n",
    "for dataset in DataSets:\n",
    "    df = globals()[dataset]\n",
    "\n",
    "    ColumnasAnalizar = df[Columnas]\n",
    "\n",
    "    # Crea subplots de gráficas de violín individuales para cada variable\n",
    "    plt.figure(figsize=(12, 5))\n",
    "    for i, column in enumerate(ColumnasAnalizar.columns, 1):\n",
    "        plt.subplot(1, 5, i)\n",
    "        sns.violinplot(data=ColumnasAnalizar[column], color='skyblue', inner='box')\n",
    "\n",
    "        # Calcula la cantidad de valores atípicos\n",
    "        q1 = ColumnasAnalizar[column].quantile(0.25)\n",
    "        q3 = ColumnasAnalizar[column].quantile(0.75)\n",
    "        iqr = q3 - q1\n",
    "        outliers = ((ColumnasAnalizar[column] < q1 - 1.5 * iqr) | (ColumnasAnalizar[column] > q3 + 1.5 * iqr)).sum()\n",
    "\n",
    "        plt.title(f'Gráfica de {column}\\nValores Atípicos: {outliers}')\n",
    "        plt.xlabel(column)\n",
    "\n",
    "    plt.tight_layout()\n",
    "    #plt.savefig(\"../src/Graficas/ViolinPOHLC.png\")\n",
    "    plt.show()"
   ]
  },
  {
   "cell_type": "code",
   "execution_count": 46,
   "id": "6f7a9398-9e0f-44c0-a33a-49e6cbb826f8",
   "metadata": {},
   "outputs": [
    {
     "name": "stdout",
     "output_type": "stream",
     "text": [
      "<class 'pandas.core.frame.DataFrame'>\n",
      "Index: 193030 entries, 0 to 193032\n",
      "Data columns (total 5 columns):\n",
      " #   Column            Non-Null Count   Dtype         \n",
      "---  ------            --------------   -----         \n",
      " 0   user_id           193030 non-null  object        \n",
      " 1   business_id       193030 non-null  object        \n",
      " 2   text              193030 non-null  object        \n",
      " 3   date              193030 non-null  datetime64[ns]\n",
      " 4   compliment_count  193030 non-null  int64         \n",
      "dtypes: datetime64[ns](1), int64(1), object(3)\n",
      "memory usage: 12.9+ MB\n"
     ]
    }
   ],
   "source": [
    "yelp_tips.info()"
   ]
  },
  {
   "cell_type": "markdown",
   "id": "f1e67585-d21f-405f-9815-b723d69c8918",
   "metadata": {},
   "source": [
    "### Aplicando la funciaón Análisis de Sentimientos"
   ]
  },
  {
   "cell_type": "code",
   "execution_count": 25,
   "id": "21dd24a4-c807-40ab-a5ce-37fcb488b089",
   "metadata": {},
   "outputs": [],
   "source": [
    "### Aplicando la funciaón Análisis de Sentimientos\n",
    "yelp_tips['sentimientoTipsTextBlob'] = yelp_tips['text'].apply(analizar_sentimiento)"
   ]
  },
  {
   "cell_type": "code",
   "execution_count": 48,
   "id": "b28bc1fd-3930-4bdf-bc4a-006d52de14fa",
   "metadata": {},
   "outputs": [
    {
     "data": {
      "text/html": [
       "<div>\n",
       "<style scoped>\n",
       "    .dataframe tbody tr th:only-of-type {\n",
       "        vertical-align: middle;\n",
       "    }\n",
       "\n",
       "    .dataframe tbody tr th {\n",
       "        vertical-align: top;\n",
       "    }\n",
       "\n",
       "    .dataframe thead th {\n",
       "        text-align: right;\n",
       "    }\n",
       "</style>\n",
       "<table border=\"1\" class=\"dataframe\">\n",
       "  <thead>\n",
       "    <tr style=\"text-align: right;\">\n",
       "      <th></th>\n",
       "      <th>user_id</th>\n",
       "      <th>business_id</th>\n",
       "      <th>text</th>\n",
       "      <th>date</th>\n",
       "      <th>compliment_count</th>\n",
       "      <th>sentimientoTips</th>\n",
       "    </tr>\n",
       "  </thead>\n",
       "  <tbody>\n",
       "    <tr>\n",
       "      <th>0</th>\n",
       "      <td>1viszljzsa8W7VnYPuWosw</td>\n",
       "      <td>Zg83olSjsdXAhE5EEy5IcQ</td>\n",
       "      <td>Order crispy and they bake it up good.</td>\n",
       "      <td>2018-04-01</td>\n",
       "      <td>0</td>\n",
       "      <td>1</td>\n",
       "    </tr>\n",
       "    <tr>\n",
       "      <th>1</th>\n",
       "      <td>YnlCpuaBa3qWBp4te8pGmA</td>\n",
       "      <td>XIKYdKWq72zUYsq8NBxcCQ</td>\n",
       "      <td>The honey glazed salmon is amazing!</td>\n",
       "      <td>2018-01-14</td>\n",
       "      <td>0</td>\n",
       "      <td>1</td>\n",
       "    </tr>\n",
       "    <tr>\n",
       "      <th>2</th>\n",
       "      <td>XJDLaoN1PerKw2woiKeepA</td>\n",
       "      <td>t0zwddmbOGQOADrAxEPHQQ</td>\n",
       "      <td>Come by for some Jelly Bean sours this weekend!</td>\n",
       "      <td>2018-03-31</td>\n",
       "      <td>0</td>\n",
       "      <td>0</td>\n",
       "    </tr>\n",
       "    <tr>\n",
       "      <th>3</th>\n",
       "      <td>9M_nk0kA3CTJt6UoxRAK_g</td>\n",
       "      <td>oJf3IZloLf_PDeEeZW5nDg</td>\n",
       "      <td>Meatball sandwich</td>\n",
       "      <td>2018-03-27</td>\n",
       "      <td>0</td>\n",
       "      <td>0</td>\n",
       "    </tr>\n",
       "    <tr>\n",
       "      <th>4</th>\n",
       "      <td>0LY6l9-Z2IrVtnfj6OX06w</td>\n",
       "      <td>Zmwm6d872C8kWJr4b6UGfg</td>\n",
       "      <td>Great tasty food</td>\n",
       "      <td>2018-04-01</td>\n",
       "      <td>0</td>\n",
       "      <td>1</td>\n",
       "    </tr>\n",
       "  </tbody>\n",
       "</table>\n",
       "</div>"
      ],
      "text/plain": [
       "                  user_id             business_id  \\\n",
       "0  1viszljzsa8W7VnYPuWosw  Zg83olSjsdXAhE5EEy5IcQ   \n",
       "1  YnlCpuaBa3qWBp4te8pGmA  XIKYdKWq72zUYsq8NBxcCQ   \n",
       "2  XJDLaoN1PerKw2woiKeepA  t0zwddmbOGQOADrAxEPHQQ   \n",
       "3  9M_nk0kA3CTJt6UoxRAK_g  oJf3IZloLf_PDeEeZW5nDg   \n",
       "4  0LY6l9-Z2IrVtnfj6OX06w  Zmwm6d872C8kWJr4b6UGfg   \n",
       "\n",
       "                                              text       date  \\\n",
       "0           Order crispy and they bake it up good. 2018-04-01   \n",
       "1              The honey glazed salmon is amazing! 2018-01-14   \n",
       "2  Come by for some Jelly Bean sours this weekend! 2018-03-31   \n",
       "3                                Meatball sandwich 2018-03-27   \n",
       "4                                 Great tasty food 2018-04-01   \n",
       "\n",
       "   compliment_count sentimientoTips  \n",
       "0                 0               1  \n",
       "1                 0               1  \n",
       "2                 0               0  \n",
       "3                 0               0  \n",
       "4                 0               1  "
      ]
     },
     "execution_count": 48,
     "metadata": {},
     "output_type": "execute_result"
    }
   ],
   "source": [
    "yelp_tips.head(5)"
   ]
  },
  {
   "cell_type": "code",
   "execution_count": null,
   "id": "0ec01b31-be5e-4171-b911-c5679e72f333",
   "metadata": {},
   "outputs": [],
   "source": [
    "### Aplicar la función a la columna 'text' y crear una nueva columna 'longitud_palabrasTips'"
   ]
  },
  {
   "cell_type": "code",
   "execution_count": 52,
   "id": "a9146782-a23b-46c6-853f-cee3a3745b2d",
   "metadata": {},
   "outputs": [
    {
     "data": {
      "text/html": [
       "<div>\n",
       "<style scoped>\n",
       "    .dataframe tbody tr th:only-of-type {\n",
       "        vertical-align: middle;\n",
       "    }\n",
       "\n",
       "    .dataframe tbody tr th {\n",
       "        vertical-align: top;\n",
       "    }\n",
       "\n",
       "    .dataframe thead th {\n",
       "        text-align: right;\n",
       "    }\n",
       "</style>\n",
       "<table border=\"1\" class=\"dataframe\">\n",
       "  <thead>\n",
       "    <tr style=\"text-align: right;\">\n",
       "      <th></th>\n",
       "      <th>user_id</th>\n",
       "      <th>business_id</th>\n",
       "      <th>text</th>\n",
       "      <th>date</th>\n",
       "      <th>compliment_count</th>\n",
       "      <th>sentimientoTips</th>\n",
       "      <th>longitud_palabrasTips</th>\n",
       "    </tr>\n",
       "  </thead>\n",
       "  <tbody>\n",
       "    <tr>\n",
       "      <th>0</th>\n",
       "      <td>1viszljzsa8W7VnYPuWosw</td>\n",
       "      <td>Zg83olSjsdXAhE5EEy5IcQ</td>\n",
       "      <td>Order crispy and they bake it up good.</td>\n",
       "      <td>2018-04-01</td>\n",
       "      <td>0</td>\n",
       "      <td>1</td>\n",
       "      <td>8</td>\n",
       "    </tr>\n",
       "    <tr>\n",
       "      <th>1</th>\n",
       "      <td>YnlCpuaBa3qWBp4te8pGmA</td>\n",
       "      <td>XIKYdKWq72zUYsq8NBxcCQ</td>\n",
       "      <td>The honey glazed salmon is amazing!</td>\n",
       "      <td>2018-01-14</td>\n",
       "      <td>0</td>\n",
       "      <td>1</td>\n",
       "      <td>6</td>\n",
       "    </tr>\n",
       "    <tr>\n",
       "      <th>2</th>\n",
       "      <td>XJDLaoN1PerKw2woiKeepA</td>\n",
       "      <td>t0zwddmbOGQOADrAxEPHQQ</td>\n",
       "      <td>Come by for some Jelly Bean sours this weekend!</td>\n",
       "      <td>2018-03-31</td>\n",
       "      <td>0</td>\n",
       "      <td>0</td>\n",
       "      <td>9</td>\n",
       "    </tr>\n",
       "    <tr>\n",
       "      <th>3</th>\n",
       "      <td>9M_nk0kA3CTJt6UoxRAK_g</td>\n",
       "      <td>oJf3IZloLf_PDeEeZW5nDg</td>\n",
       "      <td>Meatball sandwich</td>\n",
       "      <td>2018-03-27</td>\n",
       "      <td>0</td>\n",
       "      <td>0</td>\n",
       "      <td>2</td>\n",
       "    </tr>\n",
       "    <tr>\n",
       "      <th>4</th>\n",
       "      <td>0LY6l9-Z2IrVtnfj6OX06w</td>\n",
       "      <td>Zmwm6d872C8kWJr4b6UGfg</td>\n",
       "      <td>Great tasty food</td>\n",
       "      <td>2018-04-01</td>\n",
       "      <td>0</td>\n",
       "      <td>1</td>\n",
       "      <td>3</td>\n",
       "    </tr>\n",
       "    <tr>\n",
       "      <th>...</th>\n",
       "      <td>...</td>\n",
       "      <td>...</td>\n",
       "      <td>...</td>\n",
       "      <td>...</td>\n",
       "      <td>...</td>\n",
       "      <td>...</td>\n",
       "      <td>...</td>\n",
       "    </tr>\n",
       "    <tr>\n",
       "      <th>193028</th>\n",
       "      <td>eYodOTF8pkqKPzHkcxZs-Q</td>\n",
       "      <td>3lHTewuKFt5IImbXJoFeDQ</td>\n",
       "      <td>Disappointed in one of your managers.</td>\n",
       "      <td>2021-09-11</td>\n",
       "      <td>0</td>\n",
       "      <td>-1</td>\n",
       "      <td>6</td>\n",
       "    </tr>\n",
       "    <tr>\n",
       "      <th>193029</th>\n",
       "      <td>1uxtQAuJ2T5Xwa_wp7kUnA</td>\n",
       "      <td>OaGf0Dp56ARhQwIDT90w_g</td>\n",
       "      <td>Great food and service.</td>\n",
       "      <td>2021-10-30</td>\n",
       "      <td>0</td>\n",
       "      <td>1</td>\n",
       "      <td>4</td>\n",
       "    </tr>\n",
       "    <tr>\n",
       "      <th>193030</th>\n",
       "      <td>v48Spe6WEpqehsF2xQADpg</td>\n",
       "      <td>hYnMeAO77RGyTtIzUSKYzQ</td>\n",
       "      <td>Love their Cubans!!</td>\n",
       "      <td>2021-11-05</td>\n",
       "      <td>0</td>\n",
       "      <td>1</td>\n",
       "      <td>3</td>\n",
       "    </tr>\n",
       "    <tr>\n",
       "      <th>193031</th>\n",
       "      <td>ckqKGM2hl7I9Chp5IpAhkw</td>\n",
       "      <td>s2eyoTuJrcP7I_XyjdhUHQ</td>\n",
       "      <td>Great pizza great price</td>\n",
       "      <td>2021-11-20</td>\n",
       "      <td>0</td>\n",
       "      <td>1</td>\n",
       "      <td>4</td>\n",
       "    </tr>\n",
       "    <tr>\n",
       "      <th>193032</th>\n",
       "      <td>4tF1CWdMxvvwpUIgGsDygA</td>\n",
       "      <td>_cb1Vg1NIWry8UA0jyuXnQ</td>\n",
       "      <td>Food is good value but a bit hot!</td>\n",
       "      <td>2021-12-07</td>\n",
       "      <td>0</td>\n",
       "      <td>1</td>\n",
       "      <td>8</td>\n",
       "    </tr>\n",
       "  </tbody>\n",
       "</table>\n",
       "<p>193030 rows × 7 columns</p>\n",
       "</div>"
      ],
      "text/plain": [
       "                       user_id             business_id  \\\n",
       "0       1viszljzsa8W7VnYPuWosw  Zg83olSjsdXAhE5EEy5IcQ   \n",
       "1       YnlCpuaBa3qWBp4te8pGmA  XIKYdKWq72zUYsq8NBxcCQ   \n",
       "2       XJDLaoN1PerKw2woiKeepA  t0zwddmbOGQOADrAxEPHQQ   \n",
       "3       9M_nk0kA3CTJt6UoxRAK_g  oJf3IZloLf_PDeEeZW5nDg   \n",
       "4       0LY6l9-Z2IrVtnfj6OX06w  Zmwm6d872C8kWJr4b6UGfg   \n",
       "...                        ...                     ...   \n",
       "193028  eYodOTF8pkqKPzHkcxZs-Q  3lHTewuKFt5IImbXJoFeDQ   \n",
       "193029  1uxtQAuJ2T5Xwa_wp7kUnA  OaGf0Dp56ARhQwIDT90w_g   \n",
       "193030  v48Spe6WEpqehsF2xQADpg  hYnMeAO77RGyTtIzUSKYzQ   \n",
       "193031  ckqKGM2hl7I9Chp5IpAhkw  s2eyoTuJrcP7I_XyjdhUHQ   \n",
       "193032  4tF1CWdMxvvwpUIgGsDygA  _cb1Vg1NIWry8UA0jyuXnQ   \n",
       "\n",
       "                                                   text       date  \\\n",
       "0                Order crispy and they bake it up good. 2018-04-01   \n",
       "1                   The honey glazed salmon is amazing! 2018-01-14   \n",
       "2       Come by for some Jelly Bean sours this weekend! 2018-03-31   \n",
       "3                                     Meatball sandwich 2018-03-27   \n",
       "4                                      Great tasty food 2018-04-01   \n",
       "...                                                 ...        ...   \n",
       "193028            Disappointed in one of your managers. 2021-09-11   \n",
       "193029                          Great food and service. 2021-10-30   \n",
       "193030                              Love their Cubans!! 2021-11-05   \n",
       "193031                          Great pizza great price 2021-11-20   \n",
       "193032                Food is good value but a bit hot! 2021-12-07   \n",
       "\n",
       "        compliment_count sentimientoTips  longitud_palabrasTips  \n",
       "0                      0               1                      8  \n",
       "1                      0               1                      6  \n",
       "2                      0               0                      9  \n",
       "3                      0               0                      2  \n",
       "4                      0               1                      3  \n",
       "...                  ...             ...                    ...  \n",
       "193028                 0              -1                      6  \n",
       "193029                 0               1                      4  \n",
       "193030                 0               1                      3  \n",
       "193031                 0               1                      4  \n",
       "193032                 0               1                      8  \n",
       "\n",
       "[193030 rows x 7 columns]"
      ]
     },
     "execution_count": 52,
     "metadata": {},
     "output_type": "execute_result"
    }
   ],
   "source": [
    "# Aplicar la función a la columna 'text' y crear una nueva columna 'longitud_palabras'\n",
    "yelp_tips['longitud_palabrasTips'] = yelp_tips['text'].apply(contar_palabras)\n",
    "\n",
    "# Mostrar el DataFrame resultante\n",
    "yelp_tips"
   ]
  },
  {
   "cell_type": "code",
   "execution_count": 26,
   "id": "63ab2449-5185-4f43-b678-b5477ab894ae",
   "metadata": {},
   "outputs": [
    {
     "name": "stdout",
     "output_type": "stream",
     "text": [
      "<class 'pandas.core.frame.DataFrame'>\n",
      "Index: 193030 entries, 0 to 193032\n",
      "Data columns (total 7 columns):\n",
      " #   Column                   Non-Null Count   Dtype         \n",
      "---  ------                   --------------   -----         \n",
      " 0   user_id                  193030 non-null  object        \n",
      " 1   business_id              193030 non-null  object        \n",
      " 2   text                     193030 non-null  object        \n",
      " 3   date                     193030 non-null  datetime64[ns]\n",
      " 4   compliment_count         193030 non-null  int64         \n",
      " 5   sentimientoTips          193030 non-null  object        \n",
      " 6   sentimientoTipsTextBlob  193030 non-null  object        \n",
      "dtypes: datetime64[ns](1), int64(1), object(5)\n",
      "memory usage: 11.8+ MB\n"
     ]
    }
   ],
   "source": [
    "yelp_tips.info()"
   ]
  },
  {
   "cell_type": "code",
   "execution_count": 54,
   "id": "5faa571d-eed2-4c63-ba5d-353a36b21e2d",
   "metadata": {},
   "outputs": [
    {
     "name": "stdout",
     "output_type": "stream",
     "text": [
      "<class 'pandas.core.frame.DataFrame'>\n",
      "Index: 193030 entries, 0 to 193032\n",
      "Data columns (total 7 columns):\n",
      " #   Column                 Non-Null Count   Dtype         \n",
      "---  ------                 --------------   -----         \n",
      " 0   user_id                193030 non-null  object        \n",
      " 1   business_id            193030 non-null  object        \n",
      " 2   text                   193030 non-null  object        \n",
      " 3   date                   193030 non-null  datetime64[ns]\n",
      " 4   compliment_count       193030 non-null  int64         \n",
      " 5   sentimientoTips        193030 non-null  int64         \n",
      " 6   longitud_palabrasTips  193030 non-null  int64         \n",
      "dtypes: datetime64[ns](1), int64(3), object(3)\n",
      "memory usage: 15.8+ MB\n"
     ]
    }
   ],
   "source": [
    "yelp_tips['sentimientoTips'] = pd.to_numeric(yelp_tips['sentimientoTips'], errors='coerce')\n",
    "yelp_tips.info()"
   ]
  },
  {
   "cell_type": "markdown",
   "id": "b7118e79-184a-4cac-969f-97cf2625c570",
   "metadata": {},
   "source": [
    "### Análisis de Correlaciones"
   ]
  },
  {
   "cell_type": "code",
   "execution_count": 55,
   "id": "dc5bd639-9b61-4748-bba0-87be112211d4",
   "metadata": {},
   "outputs": [
    {
     "data": {
      "image/png": "[encoded data removed]",
      "text/plain": [
       "<Figure size 1200x800 with 2 Axes>"
      ]
     },
     "metadata": {},
     "output_type": "display_data"
    }
   ],
   "source": [
    "# Selecciona las columnas numéricas para el análisis de correlación\n",
    "\n",
    "# Selecciona las variables\n",
    "DataSets = ['yelp_tips']\n",
    "columnas_numericas = ['compliment_count', 'sentimientoTips', 'longitud_palabrasTips']\n",
    "\n",
    "for dataset in DataSets:\n",
    "    df = globals()[dataset]\n",
    "\n",
    "    # Filtra el DataFrame para incluir solo las columnas numéricas\n",
    "    df_numericas = df[columnas_numericas]\n",
    "\n",
    "    # Calcula la matriz de correlación\n",
    "    matriz_correlacion = df_numericas.corr()\n",
    "\n",
    "    # Crea un mapa de calor (heatmap) para visualizar la matriz de correlación\n",
    "    plt.figure(figsize=(12, 8))\n",
    "    sns.heatmap(matriz_correlacion, annot=True, cmap='coolwarm', center=0)\n",
    "    plt.title('Matriz de Correlación entre Métricas')\n",
    "    #plt.savefig(\"../src/Graficas/Correlaciones.png\")\n",
    "    plt.show()"
   ]
  },
  {
   "cell_type": "code",
   "execution_count": 56,
   "id": "4c65d2dc-535d-4131-9c2d-664731913dae",
   "metadata": {},
   "outputs": [
    {
     "name": "stdout",
     "output_type": "stream",
     "text": [
      "<class 'pandas.core.frame.DataFrame'>\n",
      "Index: 193030 entries, 0 to 193032\n",
      "Data columns (total 7 columns):\n",
      " #   Column                 Non-Null Count   Dtype         \n",
      "---  ------                 --------------   -----         \n",
      " 0   user_id                193030 non-null  object        \n",
      " 1   business_id            193030 non-null  object        \n",
      " 2   text                   193030 non-null  object        \n",
      " 3   date                   193030 non-null  datetime64[ns]\n",
      " 4   compliment_count       193030 non-null  int64         \n",
      " 5   sentimientoTips        193030 non-null  int64         \n",
      " 6   longitud_palabrasTips  193030 non-null  int64         \n",
      "dtypes: datetime64[ns](1), int64(3), object(3)\n",
      "memory usage: 15.8+ MB\n"
     ]
    }
   ],
   "source": [
    "yelp_tips.info()"
   ]
  },
  {
   "cell_type": "markdown",
   "id": "3a74b383-182b-4960-b81c-ef3608dab777",
   "metadata": {},
   "source": [
    "### Guardar Dataset Final de 'yelp_tip'"
   ]
  },
  {
   "cell_type": "code",
   "execution_count": 27,
   "id": "1d8e0b8e-797d-447e-9033-8368e3705156",
   "metadata": {},
   "outputs": [],
   "source": [
    "### Guardar Dataset Final de 'yelp_tips'\n",
    "\n",
    "# Ruta completa en Cloud Storage para guardar el archivo en formato PARQUET\n",
    "ruta_eda_datalike = \"gs://gmy/eda/yelp_tips.parquet\"\n",
    "\n",
    "# Guarda el DataFrame en formato CSV en Cloud Storage\n",
    "yelp_tips.to_parquet(ruta_eda_datalike, index=False)"
   ]
  },
  {
   "cell_type": "code",
   "execution_count": null,
   "id": "26531f90-65ac-40c6-a484-e09a76cf5ce5",
   "metadata": {},
   "outputs": [],
   "source": []
  },
  {
   "cell_type": "markdown",
   "id": "8246ad06-833f-4e29-8347-89a7a6325b72",
   "metadata": {},
   "source": [
    "### 4) EDA del Dataset: 'yelp_user'"
   ]
  },
  {
   "cell_type": "markdown",
   "id": "6777c1a8-315f-4a7d-8fa2-22ae2127868a",
   "metadata": {},
   "source": [
    "### Cargando el ETL del Dataset 'yelp_user'"
   ]
  },
  {
   "cell_type": "code",
   "execution_count": 14,
   "id": "b751fa91-47fc-4d8d-8994-c697f59c621b",
   "metadata": {},
   "outputs": [
    {
     "name": "stdout",
     "output_type": "stream",
     "text": [
      "<class 'pandas.core.frame.DataFrame'>\n",
      "RangeIndex: 329174 entries, 0 to 329173\n",
      "Data columns (total 8 columns):\n",
      " #   Column         Non-Null Count   Dtype  \n",
      "---  ------         --------------   -----  \n",
      " 0   user_id        329174 non-null  object \n",
      " 1   review_count   329174 non-null  int64  \n",
      " 2   yelping_since  329174 non-null  object \n",
      " 3   useful         329174 non-null  int64  \n",
      " 4   cool           329174 non-null  int64  \n",
      " 5   elite          4141 non-null    object \n",
      " 6   fans           329174 non-null  int64  \n",
      " 7   average_stars  329174 non-null  float64\n",
      "dtypes: float64(1), int64(4), object(3)\n",
      "memory usage: 20.1+ MB\n"
     ]
    },
    {
     "name": "stderr",
     "output_type": "stream",
     "text": [
      "/var/tmp/ipykernel_110824/3323563863.py:6: DtypeWarning: Columns (5) have mixed types. Specify dtype option on import or set low_memory=False.\n",
      "  yelp_users = pd.read_csv(ruta_etl_datalike, storage_options={\"project\": \"Proyecto Final - Henry\"})\n"
     ]
    }
   ],
   "source": [
    "### Cargando el ETL del Dataset 'yelp_user'\n",
    "# Ruta completa en Cloud Storage\n",
    "ruta_etl_datalike = \"gs://gmy/etl/yelp_users.csv\"\n",
    "\n",
    "# Lee el archivo Parquet directamente en un DataFrame de pandas\n",
    "yelp_users = pd.read_csv(ruta_etl_datalike, storage_options={\"project\": \"Proyecto Final - Henry\"})\n",
    "yelp_users.info()"
   ]
  },
  {
   "cell_type": "code",
   "execution_count": 28,
   "id": "eda70673-395e-4024-bdfd-a643c16d6e56",
   "metadata": {},
   "outputs": [
    {
     "data": {
      "text/html": [
       "<div>\n",
       "<style scoped>\n",
       "    .dataframe tbody tr th:only-of-type {\n",
       "        vertical-align: middle;\n",
       "    }\n",
       "\n",
       "    .dataframe tbody tr th {\n",
       "        vertical-align: top;\n",
       "    }\n",
       "\n",
       "    .dataframe thead th {\n",
       "        text-align: right;\n",
       "    }\n",
       "</style>\n",
       "<table border=\"1\" class=\"dataframe\">\n",
       "  <thead>\n",
       "    <tr style=\"text-align: right;\">\n",
       "      <th></th>\n",
       "      <th>user_id</th>\n",
       "      <th>review_count</th>\n",
       "      <th>yelping_since</th>\n",
       "      <th>useful</th>\n",
       "      <th>cool</th>\n",
       "      <th>elite</th>\n",
       "      <th>fans</th>\n",
       "      <th>average_stars</th>\n",
       "    </tr>\n",
       "  </thead>\n",
       "  <tbody>\n",
       "    <tr>\n",
       "      <th>0</th>\n",
       "      <td>TIvO4GClIYXzxu_jVZ7ruQ</td>\n",
       "      <td>2</td>\n",
       "      <td>2018-01-01</td>\n",
       "      <td>2</td>\n",
       "      <td>0</td>\n",
       "      <td>NaN</td>\n",
       "      <td>0</td>\n",
       "      <td>5.00</td>\n",
       "    </tr>\n",
       "    <tr>\n",
       "      <th>1</th>\n",
       "      <td>Bxz-sFWLiPx-rR99eBr6TQ</td>\n",
       "      <td>1</td>\n",
       "      <td>2018-01-01</td>\n",
       "      <td>7</td>\n",
       "      <td>1</td>\n",
       "      <td>NaN</td>\n",
       "      <td>0</td>\n",
       "      <td>1.00</td>\n",
       "    </tr>\n",
       "    <tr>\n",
       "      <th>2</th>\n",
       "      <td>-t7FxAVyh_2XQvi_PvVQkg</td>\n",
       "      <td>1</td>\n",
       "      <td>2018-01-01</td>\n",
       "      <td>0</td>\n",
       "      <td>0</td>\n",
       "      <td>NaN</td>\n",
       "      <td>0</td>\n",
       "      <td>2.00</td>\n",
       "    </tr>\n",
       "    <tr>\n",
       "      <th>3</th>\n",
       "      <td>9JZLK2tiLUsFLD3wZdUIWQ</td>\n",
       "      <td>3</td>\n",
       "      <td>2018-01-01</td>\n",
       "      <td>2</td>\n",
       "      <td>1</td>\n",
       "      <td>NaN</td>\n",
       "      <td>0</td>\n",
       "      <td>1.33</td>\n",
       "    </tr>\n",
       "    <tr>\n",
       "      <th>4</th>\n",
       "      <td>J7Y_oLaopwipWnTR8OgVEA</td>\n",
       "      <td>1</td>\n",
       "      <td>2018-01-01</td>\n",
       "      <td>0</td>\n",
       "      <td>0</td>\n",
       "      <td>NaN</td>\n",
       "      <td>0</td>\n",
       "      <td>5.00</td>\n",
       "    </tr>\n",
       "  </tbody>\n",
       "</table>\n",
       "</div>"
      ],
      "text/plain": [
       "                  user_id  review_count yelping_since  useful  cool elite  \\\n",
       "0  TIvO4GClIYXzxu_jVZ7ruQ             2    2018-01-01       2     0   NaN   \n",
       "1  Bxz-sFWLiPx-rR99eBr6TQ             1    2018-01-01       7     1   NaN   \n",
       "2  -t7FxAVyh_2XQvi_PvVQkg             1    2018-01-01       0     0   NaN   \n",
       "3  9JZLK2tiLUsFLD3wZdUIWQ             3    2018-01-01       2     1   NaN   \n",
       "4  J7Y_oLaopwipWnTR8OgVEA             1    2018-01-01       0     0   NaN   \n",
       "\n",
       "   fans  average_stars  \n",
       "0     0           5.00  \n",
       "1     0           1.00  \n",
       "2     0           2.00  \n",
       "3     0           1.33  \n",
       "4     0           5.00  "
      ]
     },
     "execution_count": 28,
     "metadata": {},
     "output_type": "execute_result"
    }
   ],
   "source": [
    "yelp_users.head(5)"
   ]
  },
  {
   "cell_type": "markdown",
   "id": "677ff123-fc53-4fad-a471-a296e5e90035",
   "metadata": {},
   "source": [
    "### Convertiendo la columna 'yelping_since' a formato fecha"
   ]
  },
  {
   "cell_type": "code",
   "execution_count": 29,
   "id": "f40e2daf-0c50-4ac2-9a48-9030484dd785",
   "metadata": {},
   "outputs": [
    {
     "name": "stdout",
     "output_type": "stream",
     "text": [
      "<class 'pandas.core.frame.DataFrame'>\n",
      "RangeIndex: 329174 entries, 0 to 329173\n",
      "Data columns (total 8 columns):\n",
      " #   Column         Non-Null Count   Dtype         \n",
      "---  ------         --------------   -----         \n",
      " 0   user_id        329174 non-null  object        \n",
      " 1   review_count   329174 non-null  int64         \n",
      " 2   yelping_since  329174 non-null  datetime64[ns]\n",
      " 3   useful         329174 non-null  int64         \n",
      " 4   cool           329174 non-null  int64         \n",
      " 5   elite          4141 non-null    object        \n",
      " 6   fans           329174 non-null  int64         \n",
      " 7   average_stars  329174 non-null  float64       \n",
      "dtypes: datetime64[ns](1), float64(1), int64(4), object(2)\n",
      "memory usage: 20.1+ MB\n"
     ]
    }
   ],
   "source": [
    "### Convertiendo la columna 'yelping_since' en formato fecha\n",
    "yelp_users['yelping_since'] = pd.to_datetime(yelp_users['yelping_since'], format='%Y-%m-%d', errors='coerce')\n",
    "yelp_users.info()"
   ]
  },
  {
   "cell_type": "markdown",
   "id": "37c856b2-f37a-44b3-a1db-3c1514720126",
   "metadata": {},
   "source": [
    "### 1. Análisis Valores Faltantes."
   ]
  },
  {
   "cell_type": "code",
   "execution_count": 30,
   "id": "9cf97932-d057-4b53-a9af-f31f2e2f5a5f",
   "metadata": {},
   "outputs": [
    {
     "data": {
      "text/plain": [
       "user_id               0\n",
       "review_count          0\n",
       "yelping_since         0\n",
       "useful                0\n",
       "cool                  0\n",
       "elite            325033\n",
       "fans                  0\n",
       "average_stars         0\n",
       "dtype: int64"
      ]
     },
     "execution_count": 30,
     "metadata": {},
     "output_type": "execute_result"
    }
   ],
   "source": [
    "yelp_users.isna().sum()"
   ]
  },
  {
   "cell_type": "code",
   "execution_count": 31,
   "id": "9c7ef8e4-a5f1-4273-af59-49fe02199b66",
   "metadata": {},
   "outputs": [
    {
     "name": "stdout",
     "output_type": "stream",
     "text": [
      "Información del DataSets: yelp_users\n",
      "Información Detallada de la Columna: elite\n",
      "================================================================================\n",
      "Analizando los Valores Nulos en la Columna:   'elite'\n",
      "Total Registros: 329174\n",
      "Total Valores Nulos: 325033\n",
      "Porcentaje Valores Nulos: 98.742 %\n",
      "================================================================================\n"
     ]
    }
   ],
   "source": [
    "### Información Detallada de la Columna: 'elite'\n",
    "DataSets = ['yelp_users']\n",
    "Columna = 'elite'\n",
    "\n",
    "for dataset in DataSets:\n",
    "    df = globals()[dataset]\n",
    "    print(f\"Información del DataSets: {','.join(DataSets)}\")\n",
    "    print(f\"Información Detallada de la Columna: {Columna}\")\n",
    "    print(\"=\"*80)\n",
    "    print(f\"Analizando los Valores Nulos en la Columna:   '{Columna}'\")\n",
    "    print(f\"Total Registros: {df.shape[0]}\")\n",
    "    print(f\"Total Valores Nulos: {df[Columna].isna().sum()}\")\n",
    "    print(f\"Porcentaje Valores Nulos: {round((df[Columna].isna().sum()/df.shape[0])*100,3)} %\")\n",
    "    #print(f\"Valor/es de la Moda:\\n{df[Columna].mode()[0]}\")\n",
    "    #print(f\"Estadistica Descriptiva de la Columna {Columna}:\\n{df[Columna].describe()}\")\n",
    "    print(\"=\"*80)"
   ]
  },
  {
   "cell_type": "markdown",
   "id": "98313be3-a251-42d6-8445-feef45222a42",
   "metadata": {},
   "source": [
    "Se procede a eliminar la columna 'elite' ya que contiene mas del 95% de valores Nulos"
   ]
  },
  {
   "cell_type": "markdown",
   "id": "b0963e59-bab6-4d8d-b405-c2ecac7392f7",
   "metadata": {},
   "source": [
    "### Eliminando Columna del Dataset 'yelp_users'"
   ]
  },
  {
   "cell_type": "code",
   "execution_count": 34,
   "id": "f3df7624-9649-44e3-8a53-6659e22777e0",
   "metadata": {},
   "outputs": [
    {
     "name": "stdout",
     "output_type": "stream",
     "text": [
      "<class 'pandas.core.frame.DataFrame'>\n",
      "RangeIndex: 329174 entries, 0 to 329173\n",
      "Data columns (total 7 columns):\n",
      " #   Column         Non-Null Count   Dtype         \n",
      "---  ------         --------------   -----         \n",
      " 0   user_id        329174 non-null  object        \n",
      " 1   review_count   329174 non-null  int64         \n",
      " 2   yelping_since  329174 non-null  datetime64[ns]\n",
      " 3   useful         329174 non-null  int64         \n",
      " 4   cool           329174 non-null  int64         \n",
      " 5   fans           329174 non-null  int64         \n",
      " 6   average_stars  329174 non-null  float64       \n",
      "dtypes: datetime64[ns](1), float64(1), int64(4), object(1)\n",
      "memory usage: 17.6+ MB\n"
     ]
    }
   ],
   "source": [
    "### Eliminando Columnas del Dataset 'yelp_users'\n",
    "\n",
    "Columnas_to_Eliminar = ['elite']\n",
    "\n",
    "### Elimina las columnas especificadas del DataFrame\n",
    "yelp_users = yelp_users.drop(Columnas_to_Eliminar, axis=1)\n",
    "yelp_users.info()"
   ]
  },
  {
   "cell_type": "markdown",
   "id": "43b5d4ba-357a-40f8-93e2-78dfd1c4af9f",
   "metadata": {},
   "source": [
    "### 2. Análisis de Valores Outliers."
   ]
  },
  {
   "cell_type": "markdown",
   "id": "58dd41a3-f510-44b1-94eb-4bec71fbe956",
   "metadata": {},
   "source": [
    "### Gráficas de Cajas o Bigotes"
   ]
  },
  {
   "cell_type": "code",
   "execution_count": 35,
   "id": "c4c851c8-57c8-43a0-a6ba-08bd70833e4a",
   "metadata": {},
   "outputs": [
    {
     "data": {
      "image/png": "[encoded data removed]",
      "text/plain": [
       "<Figure size 1200x500 with 5 Axes>"
      ]
     },
     "metadata": {},
     "output_type": "display_data"
    }
   ],
   "source": [
    "### Gráficas de Cajas o Bigotes, para Visualizar los Valores Atípicos\n",
    "\n",
    "# Selecciona las variables\n",
    "DataSets = ['yelp_users']\n",
    "Columnas = ['review_count', 'useful', 'cool', 'fans', 'average_stars']\n",
    "\n",
    "for dataset in DataSets:\n",
    "    df = globals()[dataset]\n",
    "\n",
    "    ColumnasAnalizar = df[Columnas]\n",
    "\n",
    "    # Crea subplots de diagramas de caja individuales para cada variable\n",
    "    plt.figure(figsize=(12, 5))\n",
    "    for i, column in enumerate(ColumnasAnalizar.columns, 1):\n",
    "        plt.subplot(1, 5, i)\n",
    "        sns.boxplot(data=ColumnasAnalizar[column], color='skyblue')\n",
    "\n",
    "        # Calcula la cantidad de valores atípicos\n",
    "        q1 = ColumnasAnalizar[column].quantile(0.25)\n",
    "        q3 = ColumnasAnalizar[column].quantile(0.75)\n",
    "        iqr = q3 - q1\n",
    "        outliers = ((ColumnasAnalizar[column] < q1 - 1.5 * iqr) | (ColumnasAnalizar[column] > q3 + 1.5 * iqr)).sum()\n",
    "\n",
    "        plt.title(f\"Columna:'{column}'\\nValores Atípicos: {outliers}\")\n",
    "        plt.xlabel(column)\n",
    "\n",
    "    plt.tight_layout()\n",
    "    #ruta = \"gs://gmy/Graficas/CajasYelp_User.png\"\n",
    "    #plt.savefig(ruta)  # Guardando la Gráfica para ser colocad en el README. \n",
    "    plt.show()"
   ]
  },
  {
   "cell_type": "markdown",
   "id": "f00a42a4-af5a-44d3-bdc4-a7a605b6e22d",
   "metadata": {},
   "source": [
    "### Gráficas de Violín"
   ]
  },
  {
   "cell_type": "code",
   "execution_count": 37,
   "id": "00244361-6647-434e-b16a-e96688867f41",
   "metadata": {},
   "outputs": [
    {
     "data": {
      "image/png": "[encoded data removed]",
      "text/plain": [
       "<Figure size 1200x500 with 5 Axes>"
      ]
     },
     "metadata": {},
     "output_type": "display_data"
    }
   ],
   "source": [
    "### Gráficas de Violín para Visualizar los Valores Atípicos\n",
    "\n",
    "# Selecciona las variables\n",
    "DataSets = ['yelp_users']\n",
    "Columnas = ['review_count', 'useful', 'cool', 'fans', 'average_stars']\n",
    "\n",
    "for dataset in DataSets:\n",
    "    df = globals()[dataset]\n",
    "\n",
    "    ColumnasAnalizar = df[Columnas]\n",
    "\n",
    "    # Crea subplots de gráficas de violín individuales para cada variable\n",
    "    plt.figure(figsize=(12, 5))\n",
    "    for i, column in enumerate(ColumnasAnalizar.columns, 1):\n",
    "        plt.subplot(1, 5, i)\n",
    "        sns.violinplot(data=ColumnasAnalizar[column], color='skyblue', inner='box')\n",
    "\n",
    "        # Calcula la cantidad de valores atípicos\n",
    "        q1 = ColumnasAnalizar[column].quantile(0.25)\n",
    "        q3 = ColumnasAnalizar[column].quantile(0.75)\n",
    "        iqr = q3 - q1\n",
    "        outliers = ((ColumnasAnalizar[column] < q1 - 1.5 * iqr) | (ColumnasAnalizar[column] > q3 + 1.5 * iqr)).sum()\n",
    "\n",
    "        plt.title(f'Gráfica de {column}\\nValores Atípicos: {outliers}')\n",
    "        plt.xlabel(column)\n",
    "\n",
    "    plt.tight_layout()\n",
    "    #plt.savefig(\"../src/Graficas/ViolinPOHLC.png\")\n",
    "    plt.show()"
   ]
  },
  {
   "cell_type": "markdown",
   "id": "1d765fc8-346a-4790-aa1b-489b2be363f5",
   "metadata": {},
   "source": [
    "### 3. Análisis de Correlaciones."
   ]
  },
  {
   "cell_type": "code",
   "execution_count": 39,
   "id": "872c3021-b185-4337-a311-016561ee1c2f",
   "metadata": {},
   "outputs": [
    {
     "name": "stdout",
     "output_type": "stream",
     "text": [
      "<class 'pandas.core.frame.DataFrame'>\n",
      "RangeIndex: 329174 entries, 0 to 329173\n",
      "Data columns (total 7 columns):\n",
      " #   Column         Non-Null Count   Dtype         \n",
      "---  ------         --------------   -----         \n",
      " 0   user_id        329174 non-null  object        \n",
      " 1   review_count   329174 non-null  int64         \n",
      " 2   yelping_since  329174 non-null  datetime64[ns]\n",
      " 3   useful         329174 non-null  int64         \n",
      " 4   cool           329174 non-null  int64         \n",
      " 5   fans           329174 non-null  int64         \n",
      " 6   average_stars  329174 non-null  float64       \n",
      "dtypes: datetime64[ns](1), float64(1), int64(4), object(1)\n",
      "memory usage: 17.6+ MB\n"
     ]
    }
   ],
   "source": [
    "yelp_users.info()"
   ]
  },
  {
   "cell_type": "code",
   "execution_count": 41,
   "id": "19b76799-a6db-430d-82a6-fb973de48861",
   "metadata": {},
   "outputs": [
    {
     "data": {
      "image/png": "[encoded data removed]",
      "text/plain": [
       "<Figure size 1200x800 with 2 Axes>"
      ]
     },
     "metadata": {},
     "output_type": "display_data"
    }
   ],
   "source": [
    "# Selecciona las columnas numéricas para el análisis de correlación\n",
    "\n",
    "# Selecciona las variables\n",
    "DataSets = ['yelp_users']\n",
    "columnas_numericas = ['review_count', 'useful', 'cool', 'fans', 'average_stars']\n",
    "\n",
    "for dataset in DataSets:\n",
    "    df = globals()[dataset]\n",
    "\n",
    "    # Filtra el DataFrame para incluir solo las columnas numéricas\n",
    "    df_numericas = df[columnas_numericas]\n",
    "\n",
    "    # Calcula la matriz de correlación\n",
    "    matriz_correlacion = df_numericas.corr()\n",
    "\n",
    "    # Crea un mapa de calor (heatmap) para visualizar la matriz de correlación\n",
    "    plt.figure(figsize=(12, 8))\n",
    "    sns.heatmap(matriz_correlacion, annot=True, cmap='coolwarm', center=0)\n",
    "    plt.title('Matriz de Correlación entre Métricas')\n",
    "    #plt.savefig(\"../src/Graficas/Correlaciones.png\")\n",
    "    plt.show()"
   ]
  },
  {
   "cell_type": "markdown",
   "id": "bdfaaec1-73b0-42c7-9c40-55d21c9380f2",
   "metadata": {},
   "source": [
    "Se puede observar que existen una correlación alta entre las variables: 'useful' y 'cool' (correlacion = 0.99)<br>"
   ]
  },
  {
   "cell_type": "markdown",
   "id": "be5089d6-2ae8-4ce0-a4ea-2d2c739fa0fb",
   "metadata": {},
   "source": [
    "### Gráficas de Dispersión"
   ]
  },
  {
   "cell_type": "code",
   "execution_count": 42,
   "id": "c07797b5-afc9-404e-a77b-d71edee02728",
   "metadata": {},
   "outputs": [
    {
     "data": {
      "image/png": "[encoded data removed]",
      "text/plain": [
       "<Figure size 640x480 with 1 Axes>"
      ]
     },
     "metadata": {},
     "output_type": "display_data"
    }
   ],
   "source": [
    "### Gráfico de Dispersion entre dos variables\n",
    "\n",
    "# Selecciona las variables\n",
    "DataSets = ['yelp_users']\n",
    "columnas_X = 'useful'\n",
    "columnas_Y = 'cool'\n",
    "\n",
    "for dataset in DataSets:\n",
    "    df = globals()[dataset]\n",
    "\n",
    "    # Crear el gráfico de dispersión\n",
    "    plt.scatter(df[columnas_X], df[columnas_Y])\n",
    "\n",
    "    # Etiquetas de los ejes\n",
    "    plt.xlabel(columnas_X)\n",
    "    plt.ylabel(columnas_Y)\n",
    "\n",
    "    # Título del gráfico\n",
    "    plt.title(f\"Gráfico de Dispersión entre '{columnas_X}' y '{columnas_Y}' del Dataset: '{','.join(DataSets)}'\")\n",
    "\n",
    "    # Mostrar el gráfico\n",
    "    plt.show()"
   ]
  },
  {
   "cell_type": "code",
   "execution_count": null,
   "id": "9f797c18-6a00-48a7-902f-483dd1dad00a",
   "metadata": {},
   "outputs": [],
   "source": []
  },
  {
   "cell_type": "markdown",
   "id": "0c84cd56-353d-4890-9231-aa07d1b8a9f7",
   "metadata": {},
   "source": [
    "### Guardar Dataset Final de 'yelp_user'"
   ]
  },
  {
   "cell_type": "code",
   "execution_count": 43,
   "id": "0aa90924-1b9e-4a40-836b-97e22ae4314d",
   "metadata": {},
   "outputs": [],
   "source": [
    "### Guardar Dataset Final de 'yelp_user'\n",
    "\n",
    "# Ruta completa en Cloud Storage para guardar el archivo en formato PARQUET\n",
    "ruta_eda_datalike = \"gs://gmy/eda/yelp_users.parquet\"\n",
    "\n",
    "# Guarda el DataFrame en formato CSV en Cloud Storage\n",
    "yelp_users.to_parquet(ruta_eda_datalike, index=False)"
   ]
  },
  {
   "cell_type": "code",
   "execution_count": null,
   "id": "64190d96-6612-4749-b280-3aa1de48dfac",
   "metadata": {},
   "outputs": [],
   "source": []
  },
  {
   "cell_type": "code",
   "execution_count": null,
   "id": "dc8d6a00-454b-4751-83a1-83b67833f414",
   "metadata": {},
   "outputs": [],
   "source": []
  },
  {
   "cell_type": "code",
   "execution_count": null,
   "id": "ef6a6905-16ef-437d-9548-d6a3059518f4",
   "metadata": {},
   "outputs": [],
   "source": []
  },
  {
   "cell_type": "code",
   "execution_count": null,
   "id": "d26644ae-5e55-445f-b21f-35e1a6ee17d5",
   "metadata": {},
   "outputs": [],
   "source": []
  },
  {
   "cell_type": "markdown",
   "id": "00e7c1c6-4aac-43e9-8c04-13f16a5b918c",
   "metadata": {},
   "source": [
    "### 4. Análisis la Columna de Atributos del Dataset: 'yelp_bussines'."
   ]
  },
  {
   "cell_type": "code",
   "execution_count": 44,
   "id": "caf01b69-bfb4-492c-8b0f-e37a5c043399",
   "metadata": {},
   "outputs": [
    {
     "name": "stdout",
     "output_type": "stream",
     "text": [
      "<class 'pandas.core.frame.DataFrame'>\n",
      "Index: 132342 entries, 0 to 145215\n",
      "Data columns (total 11 columns):\n",
      " #   Column        Non-Null Count   Dtype  \n",
      "---  ------        --------------   -----  \n",
      " 0   business_id   132342 non-null  object \n",
      " 1   name          132342 non-null  object \n",
      " 2   address       132342 non-null  object \n",
      " 3   city          132342 non-null  object \n",
      " 4   state         132342 non-null  object \n",
      " 5   latitude      132342 non-null  float64\n",
      " 6   longitude     132342 non-null  float64\n",
      " 7   stars         132342 non-null  float64\n",
      " 8   review_count  132342 non-null  int64  \n",
      " 9   attributes    132342 non-null  object \n",
      " 10  categories    132342 non-null  object \n",
      "dtypes: float64(3), int64(1), object(7)\n",
      "memory usage: 12.1+ MB\n"
     ]
    }
   ],
   "source": [
    "yelp_bussines.info()"
   ]
  },
  {
   "cell_type": "code",
   "execution_count": 51,
   "id": "7d3b795c-c731-492b-b9dc-23d5a1d34f65",
   "metadata": {},
   "outputs": [
    {
     "data": {
      "text/html": [
       "<div>\n",
       "<style scoped>\n",
       "    .dataframe tbody tr th:only-of-type {\n",
       "        vertical-align: middle;\n",
       "    }\n",
       "\n",
       "    .dataframe tbody tr th {\n",
       "        vertical-align: top;\n",
       "    }\n",
       "\n",
       "    .dataframe thead th {\n",
       "        text-align: right;\n",
       "    }\n",
       "</style>\n",
       "<table border=\"1\" class=\"dataframe\">\n",
       "  <thead>\n",
       "    <tr style=\"text-align: right;\">\n",
       "      <th></th>\n",
       "      <th>business_id</th>\n",
       "      <th>attributes</th>\n",
       "    </tr>\n",
       "  </thead>\n",
       "  <tbody>\n",
       "    <tr>\n",
       "      <th>0</th>\n",
       "      <td>MTSW4McQd7CbVtyjqoe9mw</td>\n",
       "      <td>{'RestaurantsDelivery': 'False', 'OutdoorSeati...</td>\n",
       "    </tr>\n",
       "    <tr>\n",
       "      <th>1</th>\n",
       "      <td>mWMc6_wTdE0EUBKIGXDVfA</td>\n",
       "      <td>{'BusinessAcceptsCreditCards': 'True', 'Wheelc...</td>\n",
       "    </tr>\n",
       "    <tr>\n",
       "      <th>2</th>\n",
       "      <td>CF33F8-E6oudUQ46HnavjQ</td>\n",
       "      <td>{'BusinessParking': 'None', 'BusinessAcceptsCr...</td>\n",
       "    </tr>\n",
       "    <tr>\n",
       "      <th>3</th>\n",
       "      <td>n_0UpQx1hsNbnPUSlodU8w</td>\n",
       "      <td>{'BusinessAcceptsCreditCards': 'True', 'Restau...</td>\n",
       "    </tr>\n",
       "    <tr>\n",
       "      <th>5</th>\n",
       "      <td>k0hlBqXX-Bt0vf1op7Jr1w</td>\n",
       "      <td>{'Caters': 'True', 'Alcohol': \"u'full_bar'\", '...</td>\n",
       "    </tr>\n",
       "    <tr>\n",
       "      <th>...</th>\n",
       "      <td>...</td>\n",
       "      <td>...</td>\n",
       "    </tr>\n",
       "    <tr>\n",
       "      <th>145211</th>\n",
       "      <td>IUQopTMmYQG-qRtBk-8QnA</td>\n",
       "      <td>{'ByAppointmentOnly': 'False', 'RestaurantsPri...</td>\n",
       "    </tr>\n",
       "    <tr>\n",
       "      <th>145212</th>\n",
       "      <td>c8GjPIOTGVmIemT7j5_SyQ</td>\n",
       "      <td>{'BusinessAcceptsCreditCards': 'True', 'Restau...</td>\n",
       "    </tr>\n",
       "    <tr>\n",
       "      <th>145213</th>\n",
       "      <td>_QAMST-NrQobXduilWEqSw</td>\n",
       "      <td>{'RestaurantsPriceRange2': '1', 'BusinessAccep...</td>\n",
       "    </tr>\n",
       "    <tr>\n",
       "      <th>145214</th>\n",
       "      <td>mtGm22y5c2UHNXDFAjaPNw</td>\n",
       "      <td>{'BusinessParking': \"{'garage': False, 'street...</td>\n",
       "    </tr>\n",
       "    <tr>\n",
       "      <th>145215</th>\n",
       "      <td>jV_XOycEzSlTx-65W906pg</td>\n",
       "      <td>{'WheelchairAccessible': 'True', 'BusinessAcce...</td>\n",
       "    </tr>\n",
       "  </tbody>\n",
       "</table>\n",
       "<p>132342 rows × 2 columns</p>\n",
       "</div>"
      ],
      "text/plain": [
       "                   business_id  \\\n",
       "0       MTSW4McQd7CbVtyjqoe9mw   \n",
       "1       mWMc6_wTdE0EUBKIGXDVfA   \n",
       "2       CF33F8-E6oudUQ46HnavjQ   \n",
       "3       n_0UpQx1hsNbnPUSlodU8w   \n",
       "5       k0hlBqXX-Bt0vf1op7Jr1w   \n",
       "...                        ...   \n",
       "145211  IUQopTMmYQG-qRtBk-8QnA   \n",
       "145212  c8GjPIOTGVmIemT7j5_SyQ   \n",
       "145213  _QAMST-NrQobXduilWEqSw   \n",
       "145214  mtGm22y5c2UHNXDFAjaPNw   \n",
       "145215  jV_XOycEzSlTx-65W906pg   \n",
       "\n",
       "                                               attributes  \n",
       "0       {'RestaurantsDelivery': 'False', 'OutdoorSeati...  \n",
       "1       {'BusinessAcceptsCreditCards': 'True', 'Wheelc...  \n",
       "2       {'BusinessParking': 'None', 'BusinessAcceptsCr...  \n",
       "3       {'BusinessAcceptsCreditCards': 'True', 'Restau...  \n",
       "5       {'Caters': 'True', 'Alcohol': \"u'full_bar'\", '...  \n",
       "...                                                   ...  \n",
       "145211  {'ByAppointmentOnly': 'False', 'RestaurantsPri...  \n",
       "145212  {'BusinessAcceptsCreditCards': 'True', 'Restau...  \n",
       "145213  {'RestaurantsPriceRange2': '1', 'BusinessAccep...  \n",
       "145214  {'BusinessParking': \"{'garage': False, 'street...  \n",
       "145215  {'WheelchairAccessible': 'True', 'BusinessAcce...  \n",
       "\n",
       "[132342 rows x 2 columns]"
      ]
     },
     "execution_count": 51,
     "metadata": {},
     "output_type": "execute_result"
    }
   ],
   "source": [
    "yelp_bussines[['business_id', 'attributes']]"
   ]
  },
  {
   "cell_type": "code",
   "execution_count": 65,
   "id": "f82b0293-5448-4c87-853f-9f9530037010",
   "metadata": {},
   "outputs": [
    {
     "name": "stdout",
     "output_type": "stream",
     "text": [
      "<class 'pandas.core.frame.DataFrame'>\n",
      "Index: 132342 entries, 0 to 145215\n",
      "Data columns (total 2 columns):\n",
      " #   Column       Non-Null Count   Dtype \n",
      "---  ------       --------------   ----- \n",
      " 0   business_id  132342 non-null  object\n",
      " 1   attributes   132342 non-null  object\n",
      "dtypes: object(2)\n",
      "memory usage: 7.1+ MB\n"
     ]
    }
   ],
   "source": [
    "df_business.info()"
   ]
  },
  {
   "cell_type": "markdown",
   "id": "e3fa6bbf-f9d3-4702-907d-7c2b1f6d0597",
   "metadata": {},
   "source": [
    "### Separando las columnas en otro dataset de pruebas"
   ]
  },
  {
   "cell_type": "code",
   "execution_count": 55,
   "id": "215b3c4b-2415-4099-8d47-c4ac4b735b1f",
   "metadata": {},
   "outputs": [
    {
     "data": {
      "text/html": [
       "<div>\n",
       "<style scoped>\n",
       "    .dataframe tbody tr th:only-of-type {\n",
       "        vertical-align: middle;\n",
       "    }\n",
       "\n",
       "    .dataframe tbody tr th {\n",
       "        vertical-align: top;\n",
       "    }\n",
       "\n",
       "    .dataframe thead th {\n",
       "        text-align: right;\n",
       "    }\n",
       "</style>\n",
       "<table border=\"1\" class=\"dataframe\">\n",
       "  <thead>\n",
       "    <tr style=\"text-align: right;\">\n",
       "      <th></th>\n",
       "      <th>business_id</th>\n",
       "      <th>attributes</th>\n",
       "    </tr>\n",
       "  </thead>\n",
       "  <tbody>\n",
       "    <tr>\n",
       "      <th>0</th>\n",
       "      <td>MTSW4McQd7CbVtyjqoe9mw</td>\n",
       "      <td>{'RestaurantsDelivery': 'False', 'OutdoorSeati...</td>\n",
       "    </tr>\n",
       "    <tr>\n",
       "      <th>1</th>\n",
       "      <td>mWMc6_wTdE0EUBKIGXDVfA</td>\n",
       "      <td>{'BusinessAcceptsCreditCards': 'True', 'Wheelc...</td>\n",
       "    </tr>\n",
       "    <tr>\n",
       "      <th>2</th>\n",
       "      <td>CF33F8-E6oudUQ46HnavjQ</td>\n",
       "      <td>{'BusinessParking': 'None', 'BusinessAcceptsCr...</td>\n",
       "    </tr>\n",
       "    <tr>\n",
       "      <th>3</th>\n",
       "      <td>n_0UpQx1hsNbnPUSlodU8w</td>\n",
       "      <td>{'BusinessAcceptsCreditCards': 'True', 'Restau...</td>\n",
       "    </tr>\n",
       "    <tr>\n",
       "      <th>5</th>\n",
       "      <td>k0hlBqXX-Bt0vf1op7Jr1w</td>\n",
       "      <td>{'Caters': 'True', 'Alcohol': \"u'full_bar'\", '...</td>\n",
       "    </tr>\n",
       "    <tr>\n",
       "      <th>...</th>\n",
       "      <td>...</td>\n",
       "      <td>...</td>\n",
       "    </tr>\n",
       "    <tr>\n",
       "      <th>145211</th>\n",
       "      <td>IUQopTMmYQG-qRtBk-8QnA</td>\n",
       "      <td>{'ByAppointmentOnly': 'False', 'RestaurantsPri...</td>\n",
       "    </tr>\n",
       "    <tr>\n",
       "      <th>145212</th>\n",
       "      <td>c8GjPIOTGVmIemT7j5_SyQ</td>\n",
       "      <td>{'BusinessAcceptsCreditCards': 'True', 'Restau...</td>\n",
       "    </tr>\n",
       "    <tr>\n",
       "      <th>145213</th>\n",
       "      <td>_QAMST-NrQobXduilWEqSw</td>\n",
       "      <td>{'RestaurantsPriceRange2': '1', 'BusinessAccep...</td>\n",
       "    </tr>\n",
       "    <tr>\n",
       "      <th>145214</th>\n",
       "      <td>mtGm22y5c2UHNXDFAjaPNw</td>\n",
       "      <td>{'BusinessParking': \"{'garage': False, 'street...</td>\n",
       "    </tr>\n",
       "    <tr>\n",
       "      <th>145215</th>\n",
       "      <td>jV_XOycEzSlTx-65W906pg</td>\n",
       "      <td>{'WheelchairAccessible': 'True', 'BusinessAcce...</td>\n",
       "    </tr>\n",
       "  </tbody>\n",
       "</table>\n",
       "<p>132342 rows × 2 columns</p>\n",
       "</div>"
      ],
      "text/plain": [
       "                   business_id  \\\n",
       "0       MTSW4McQd7CbVtyjqoe9mw   \n",
       "1       mWMc6_wTdE0EUBKIGXDVfA   \n",
       "2       CF33F8-E6oudUQ46HnavjQ   \n",
       "3       n_0UpQx1hsNbnPUSlodU8w   \n",
       "5       k0hlBqXX-Bt0vf1op7Jr1w   \n",
       "...                        ...   \n",
       "145211  IUQopTMmYQG-qRtBk-8QnA   \n",
       "145212  c8GjPIOTGVmIemT7j5_SyQ   \n",
       "145213  _QAMST-NrQobXduilWEqSw   \n",
       "145214  mtGm22y5c2UHNXDFAjaPNw   \n",
       "145215  jV_XOycEzSlTx-65W906pg   \n",
       "\n",
       "                                               attributes  \n",
       "0       {'RestaurantsDelivery': 'False', 'OutdoorSeati...  \n",
       "1       {'BusinessAcceptsCreditCards': 'True', 'Wheelc...  \n",
       "2       {'BusinessParking': 'None', 'BusinessAcceptsCr...  \n",
       "3       {'BusinessAcceptsCreditCards': 'True', 'Restau...  \n",
       "5       {'Caters': 'True', 'Alcohol': \"u'full_bar'\", '...  \n",
       "...                                                   ...  \n",
       "145211  {'ByAppointmentOnly': 'False', 'RestaurantsPri...  \n",
       "145212  {'BusinessAcceptsCreditCards': 'True', 'Restau...  \n",
       "145213  {'RestaurantsPriceRange2': '1', 'BusinessAccep...  \n",
       "145214  {'BusinessParking': \"{'garage': False, 'street...  \n",
       "145215  {'WheelchairAccessible': 'True', 'BusinessAcce...  \n",
       "\n",
       "[132342 rows x 2 columns]"
      ]
     },
     "execution_count": 55,
     "metadata": {},
     "output_type": "execute_result"
    }
   ],
   "source": [
    "df_business = yelp_bussines[['business_id','attributes']]\n",
    "df_business"
   ]
  },
  {
   "cell_type": "code",
   "execution_count": 56,
   "id": "19b7cbf6-8ffb-41b1-accc-4cd67a1a04d1",
   "metadata": {},
   "outputs": [
    {
     "data": {
      "text/plain": [
       "'{\\'BusinessParking\\': \\'None\\', \\'BusinessAcceptsCreditCards\\': \\'True\\', \\'RestaurantsAttire\\': \"u\\'casual\\'\", \\'OutdoorSeating\\': \\'True\\', \\'RestaurantsReservations\\': \\'False\\', \\'Caters\\': \\'False\\', \\'RestaurantsTakeOut\\': \\'True\\', \\'Alcohol\\': \"u\\'none\\'\", \\'Ambience\\': \\'None\\', \\'GoodForKids\\': \\'True\\', \\'RestaurantsPriceRange2\\': \\'1\\', \\'ByAppointmentOnly\\': \\'False\\', \\'CoatCheck\\': \\'False\\', \\'DogsAllowed\\': \\'False\\', \\'RestaurantsTableService\\': \\'False\\', \\'RestaurantsGoodForGroups\\': \\'True\\', \\'RestaurantsDelivery\\': \\'True\\', \\'WiFi\\': \"u\\'no\\'\", \\'WheelchairAccessible\\': \\'True\\', \\'HasTV\\': \\'True\\', \\'HappyHour\\': \\'False\\', \\'DriveThru\\': \\'True\\', \\'BikeParking\\': \\'False\\'}'"
      ]
     },
     "execution_count": 56,
     "metadata": {},
     "output_type": "execute_result"
    }
   ],
   "source": [
    "df_business.iloc[2][\"attributes\"]"
   ]
  },
  {
   "cell_type": "markdown",
   "id": "a486322f-5427-457f-a327-0f2b977bb03a",
   "metadata": {},
   "source": [
    "### Convertiendo la Columna  Atributos en un Diccionario"
   ]
  },
  {
   "cell_type": "code",
   "execution_count": 60,
   "id": "b6f2a7ad-067e-4300-b852-78d64d94f59c",
   "metadata": {},
   "outputs": [
    {
     "name": "stderr",
     "output_type": "stream",
     "text": [
      "/var/tmp/ipykernel_47509/2754447120.py:2: SettingWithCopyWarning: \n",
      "A value is trying to be set on a copy of a slice from a DataFrame.\n",
      "Try using .loc[row_indexer,col_indexer] = value instead\n",
      "\n",
      "See the caveats in the documentation: https://pandas.pydata.org/pandas-docs/stable/user_guide/indexing.html#returning-a-view-versus-a-copy\n",
      "  df_business['attributes'] = df_business['attributes'].apply(lambda x: ast.literal_eval(x))\n"
     ]
    },
    {
     "data": {
      "text/plain": [
       "{'BusinessParking': 'None',\n",
       " 'BusinessAcceptsCreditCards': 'True',\n",
       " 'RestaurantsAttire': \"u'casual'\",\n",
       " 'OutdoorSeating': 'True',\n",
       " 'RestaurantsReservations': 'False',\n",
       " 'Caters': 'False',\n",
       " 'RestaurantsTakeOut': 'True',\n",
       " 'Alcohol': \"u'none'\",\n",
       " 'Ambience': 'None',\n",
       " 'GoodForKids': 'True',\n",
       " 'RestaurantsPriceRange2': '1',\n",
       " 'ByAppointmentOnly': 'False',\n",
       " 'CoatCheck': 'False',\n",
       " 'DogsAllowed': 'False',\n",
       " 'RestaurantsTableService': 'False',\n",
       " 'RestaurantsGoodForGroups': 'True',\n",
       " 'RestaurantsDelivery': 'True',\n",
       " 'WiFi': \"u'no'\",\n",
       " 'WheelchairAccessible': 'True',\n",
       " 'HasTV': 'True',\n",
       " 'HappyHour': 'False',\n",
       " 'DriveThru': 'True',\n",
       " 'BikeParking': 'False'}"
      ]
     },
     "execution_count": 60,
     "metadata": {},
     "output_type": "execute_result"
    }
   ],
   "source": [
    "# Convierte la columna 'attributes' de cadena a un diccionario\n",
    "df_business['attributes'] = df_business['attributes'].apply(lambda x: ast.literal_eval(x))\n",
    "\n",
    "df_business.iloc[2][\"attributes\"]"
   ]
  },
  {
   "cell_type": "markdown",
   "id": "1c54b81a-0023-4084-85e1-daaeeb445582",
   "metadata": {},
   "source": [
    "### Separando las claves como columnas de la columna atributos"
   ]
  },
  {
   "cell_type": "code",
   "execution_count": 74,
   "id": "0fddc94a-133b-4424-af33-49dcd8b69e39",
   "metadata": {},
   "outputs": [
    {
     "data": {
      "text/html": [
       "<div>\n",
       "<style scoped>\n",
       "    .dataframe tbody tr th:only-of-type {\n",
       "        vertical-align: middle;\n",
       "    }\n",
       "\n",
       "    .dataframe tbody tr th {\n",
       "        vertical-align: top;\n",
       "    }\n",
       "\n",
       "    .dataframe thead th {\n",
       "        text-align: right;\n",
       "    }\n",
       "</style>\n",
       "<table border=\"1\" class=\"dataframe\">\n",
       "  <thead>\n",
       "    <tr style=\"text-align: right;\">\n",
       "      <th></th>\n",
       "      <th>business_id</th>\n",
       "      <th>RestaurantsDelivery</th>\n",
       "      <th>RestaurantsPriceRange2</th>\n",
       "      <th>RestaurantsTakeOut</th>\n",
       "      <th>RestaurantsAttire</th>\n",
       "      <th>RestaurantsReservations</th>\n",
       "      <th>RestaurantsTableService</th>\n",
       "      <th>RestaurantsGoodForGroups</th>\n",
       "      <th>RestaurantsCounterService</th>\n",
       "      <th>BusinessParking</th>\n",
       "      <th>BusinessAcceptsCreditCards</th>\n",
       "      <th>OutdoorSeating</th>\n",
       "      <th>WiFi</th>\n",
       "      <th>HasTV</th>\n",
       "    </tr>\n",
       "  </thead>\n",
       "  <tbody>\n",
       "    <tr>\n",
       "      <th>0</th>\n",
       "      <td>MTSW4McQd7CbVtyjqoe9mw</td>\n",
       "      <td>False</td>\n",
       "      <td>1</td>\n",
       "      <td>True</td>\n",
       "      <td>NaN</td>\n",
       "      <td>NaN</td>\n",
       "      <td>NaN</td>\n",
       "      <td>NaN</td>\n",
       "      <td>NaN</td>\n",
       "      <td>{'garage': False, 'street': True, 'validated':...</td>\n",
       "      <td>False</td>\n",
       "      <td>False</td>\n",
       "      <td>u'free'</td>\n",
       "      <td>NaN</td>\n",
       "    </tr>\n",
       "    <tr>\n",
       "      <th>1</th>\n",
       "      <td>mWMc6_wTdE0EUBKIGXDVfA</td>\n",
       "      <td>NaN</td>\n",
       "      <td>NaN</td>\n",
       "      <td>True</td>\n",
       "      <td>NaN</td>\n",
       "      <td>NaN</td>\n",
       "      <td>NaN</td>\n",
       "      <td>NaN</td>\n",
       "      <td>NaN</td>\n",
       "      <td>{'garage': None, 'street': None, 'validated': ...</td>\n",
       "      <td>True</td>\n",
       "      <td>NaN</td>\n",
       "      <td>NaN</td>\n",
       "      <td>NaN</td>\n",
       "    </tr>\n",
       "    <tr>\n",
       "      <th>2</th>\n",
       "      <td>CF33F8-E6oudUQ46HnavjQ</td>\n",
       "      <td>True</td>\n",
       "      <td>1</td>\n",
       "      <td>True</td>\n",
       "      <td>u'casual'</td>\n",
       "      <td>False</td>\n",
       "      <td>False</td>\n",
       "      <td>True</td>\n",
       "      <td>NaN</td>\n",
       "      <td>None</td>\n",
       "      <td>True</td>\n",
       "      <td>True</td>\n",
       "      <td>u'no'</td>\n",
       "      <td>True</td>\n",
       "    </tr>\n",
       "    <tr>\n",
       "      <th>3</th>\n",
       "      <td>n_0UpQx1hsNbnPUSlodU8w</td>\n",
       "      <td>NaN</td>\n",
       "      <td>2</td>\n",
       "      <td>NaN</td>\n",
       "      <td>NaN</td>\n",
       "      <td>NaN</td>\n",
       "      <td>NaN</td>\n",
       "      <td>NaN</td>\n",
       "      <td>NaN</td>\n",
       "      <td>{'garage': False, 'street': False, 'validated'...</td>\n",
       "      <td>True</td>\n",
       "      <td>NaN</td>\n",
       "      <td>NaN</td>\n",
       "      <td>NaN</td>\n",
       "    </tr>\n",
       "    <tr>\n",
       "      <th>5</th>\n",
       "      <td>k0hlBqXX-Bt0vf1op7Jr1w</td>\n",
       "      <td>True</td>\n",
       "      <td>1</td>\n",
       "      <td>True</td>\n",
       "      <td>'casual'</td>\n",
       "      <td>False</td>\n",
       "      <td>False</td>\n",
       "      <td>False</td>\n",
       "      <td>NaN</td>\n",
       "      <td>{'garage': False, 'street': False, 'validated'...</td>\n",
       "      <td>True</td>\n",
       "      <td>True</td>\n",
       "      <td>u'no'</td>\n",
       "      <td>True</td>\n",
       "    </tr>\n",
       "    <tr>\n",
       "      <th>...</th>\n",
       "      <td>...</td>\n",
       "      <td>...</td>\n",
       "      <td>...</td>\n",
       "      <td>...</td>\n",
       "      <td>...</td>\n",
       "      <td>...</td>\n",
       "      <td>...</td>\n",
       "      <td>...</td>\n",
       "      <td>...</td>\n",
       "      <td>...</td>\n",
       "      <td>...</td>\n",
       "      <td>...</td>\n",
       "      <td>...</td>\n",
       "      <td>...</td>\n",
       "    </tr>\n",
       "    <tr>\n",
       "      <th>132297</th>\n",
       "      <td>NaN</td>\n",
       "      <td>NaN</td>\n",
       "      <td>NaN</td>\n",
       "      <td>NaN</td>\n",
       "      <td>NaN</td>\n",
       "      <td>NaN</td>\n",
       "      <td>NaN</td>\n",
       "      <td>NaN</td>\n",
       "      <td>NaN</td>\n",
       "      <td>NaN</td>\n",
       "      <td>True</td>\n",
       "      <td>NaN</td>\n",
       "      <td>NaN</td>\n",
       "      <td>NaN</td>\n",
       "    </tr>\n",
       "    <tr>\n",
       "      <th>132298</th>\n",
       "      <td>NaN</td>\n",
       "      <td>NaN</td>\n",
       "      <td>NaN</td>\n",
       "      <td>NaN</td>\n",
       "      <td>NaN</td>\n",
       "      <td>NaN</td>\n",
       "      <td>NaN</td>\n",
       "      <td>NaN</td>\n",
       "      <td>NaN</td>\n",
       "      <td>NaN</td>\n",
       "      <td>True</td>\n",
       "      <td>NaN</td>\n",
       "      <td>NaN</td>\n",
       "      <td>NaN</td>\n",
       "    </tr>\n",
       "    <tr>\n",
       "      <th>132314</th>\n",
       "      <td>NaN</td>\n",
       "      <td>NaN</td>\n",
       "      <td>NaN</td>\n",
       "      <td>NaN</td>\n",
       "      <td>NaN</td>\n",
       "      <td>NaN</td>\n",
       "      <td>NaN</td>\n",
       "      <td>NaN</td>\n",
       "      <td>NaN</td>\n",
       "      <td>{'garage': False, 'street': False, 'validated'...</td>\n",
       "      <td>NaN</td>\n",
       "      <td>NaN</td>\n",
       "      <td>NaN</td>\n",
       "      <td>NaN</td>\n",
       "    </tr>\n",
       "    <tr>\n",
       "      <th>132323</th>\n",
       "      <td>NaN</td>\n",
       "      <td>True</td>\n",
       "      <td>1</td>\n",
       "      <td>True</td>\n",
       "      <td>NaN</td>\n",
       "      <td>NaN</td>\n",
       "      <td>NaN</td>\n",
       "      <td>NaN</td>\n",
       "      <td>NaN</td>\n",
       "      <td>{'garage': False, 'street': False, 'validated'...</td>\n",
       "      <td>True</td>\n",
       "      <td>NaN</td>\n",
       "      <td>NaN</td>\n",
       "      <td>NaN</td>\n",
       "    </tr>\n",
       "    <tr>\n",
       "      <th>132338</th>\n",
       "      <td>NaN</td>\n",
       "      <td>NaN</td>\n",
       "      <td>2</td>\n",
       "      <td>NaN</td>\n",
       "      <td>NaN</td>\n",
       "      <td>NaN</td>\n",
       "      <td>NaN</td>\n",
       "      <td>NaN</td>\n",
       "      <td>NaN</td>\n",
       "      <td>{'garage': False, 'street': False, 'validated'...</td>\n",
       "      <td>True</td>\n",
       "      <td>NaN</td>\n",
       "      <td>u'no'</td>\n",
       "      <td>NaN</td>\n",
       "    </tr>\n",
       "  </tbody>\n",
       "</table>\n",
       "<p>144057 rows × 14 columns</p>\n",
       "</div>"
      ],
      "text/plain": [
       "                   business_id RestaurantsDelivery RestaurantsPriceRange2  \\\n",
       "0       MTSW4McQd7CbVtyjqoe9mw               False                      1   \n",
       "1       mWMc6_wTdE0EUBKIGXDVfA                 NaN                    NaN   \n",
       "2       CF33F8-E6oudUQ46HnavjQ                True                      1   \n",
       "3       n_0UpQx1hsNbnPUSlodU8w                 NaN                      2   \n",
       "5       k0hlBqXX-Bt0vf1op7Jr1w                True                      1   \n",
       "...                        ...                 ...                    ...   \n",
       "132297                     NaN                 NaN                    NaN   \n",
       "132298                     NaN                 NaN                    NaN   \n",
       "132314                     NaN                 NaN                    NaN   \n",
       "132323                     NaN                True                      1   \n",
       "132338                     NaN                 NaN                      2   \n",
       "\n",
       "       RestaurantsTakeOut RestaurantsAttire RestaurantsReservations  \\\n",
       "0                    True               NaN                     NaN   \n",
       "1                    True               NaN                     NaN   \n",
       "2                    True         u'casual'                   False   \n",
       "3                     NaN               NaN                     NaN   \n",
       "5                    True          'casual'                   False   \n",
       "...                   ...               ...                     ...   \n",
       "132297                NaN               NaN                     NaN   \n",
       "132298                NaN               NaN                     NaN   \n",
       "132314                NaN               NaN                     NaN   \n",
       "132323               True               NaN                     NaN   \n",
       "132338                NaN               NaN                     NaN   \n",
       "\n",
       "       RestaurantsTableService RestaurantsGoodForGroups  \\\n",
       "0                          NaN                      NaN   \n",
       "1                          NaN                      NaN   \n",
       "2                        False                     True   \n",
       "3                          NaN                      NaN   \n",
       "5                        False                    False   \n",
       "...                        ...                      ...   \n",
       "132297                     NaN                      NaN   \n",
       "132298                     NaN                      NaN   \n",
       "132314                     NaN                      NaN   \n",
       "132323                     NaN                      NaN   \n",
       "132338                     NaN                      NaN   \n",
       "\n",
       "       RestaurantsCounterService  \\\n",
       "0                            NaN   \n",
       "1                            NaN   \n",
       "2                            NaN   \n",
       "3                            NaN   \n",
       "5                            NaN   \n",
       "...                          ...   \n",
       "132297                       NaN   \n",
       "132298                       NaN   \n",
       "132314                       NaN   \n",
       "132323                       NaN   \n",
       "132338                       NaN   \n",
       "\n",
       "                                          BusinessParking  \\\n",
       "0       {'garage': False, 'street': True, 'validated':...   \n",
       "1       {'garage': None, 'street': None, 'validated': ...   \n",
       "2                                                    None   \n",
       "3       {'garage': False, 'street': False, 'validated'...   \n",
       "5       {'garage': False, 'street': False, 'validated'...   \n",
       "...                                                   ...   \n",
       "132297                                                NaN   \n",
       "132298                                                NaN   \n",
       "132314  {'garage': False, 'street': False, 'validated'...   \n",
       "132323  {'garage': False, 'street': False, 'validated'...   \n",
       "132338  {'garage': False, 'street': False, 'validated'...   \n",
       "\n",
       "       BusinessAcceptsCreditCards OutdoorSeating     WiFi HasTV  \n",
       "0                           False          False  u'free'   NaN  \n",
       "1                            True            NaN      NaN   NaN  \n",
       "2                            True           True    u'no'  True  \n",
       "3                            True            NaN      NaN   NaN  \n",
       "5                            True           True    u'no'  True  \n",
       "...                           ...            ...      ...   ...  \n",
       "132297                       True            NaN      NaN   NaN  \n",
       "132298                       True            NaN      NaN   NaN  \n",
       "132314                        NaN            NaN      NaN   NaN  \n",
       "132323                       True            NaN      NaN   NaN  \n",
       "132338                       True            NaN    u'no'   NaN  \n",
       "\n",
       "[144057 rows x 14 columns]"
      ]
     },
     "execution_count": 74,
     "metadata": {},
     "output_type": "execute_result"
    }
   ],
   "source": [
    "# Utilizando  pd.json_normalize para separar los atributos en columnas individuales\n",
    "df_attributes = pd.json_normalize(df_business['attributes'])\n",
    "\n",
    "# Seleccionando las columnas relacionadas con 'Restaurants' (La categoria seleccionada) y otras columnas importantes\n",
    "columnas_restaurants = [col for col in df_attributes.columns if 'Restaurants' in col]\n",
    "columnas_importantes = ['BusinessParking', 'BusinessAcceptsCreditCards', 'OutdoorSeating', 'WiFi', 'HasTV']\n",
    "\n",
    "# Combinando las dos listas de columnas\n",
    "columnas_a_incluir = columnas_restaurants + columnas_importantes\n",
    "\n",
    "# Creando un nuevo DataFrame con las columnas seleccionadas\n",
    "df_columnas_seleccionadas = df_attributes[columnas_a_incluir]\n",
    "\n",
    "# Combinando el DataFrame de columnas seleccionadas con el DataFrame original\n",
    "df_combined = pd.concat([df_business, df_columnas_seleccionadas], axis=1).drop(columns=['attributes'])\n",
    "\n",
    "# Resultado: Un DataFrame con las columnas relacionadas con 'Restaurants' y otras columnas importantes\n",
    "df_combined\n"
   ]
  },
  {
   "cell_type": "code",
   "execution_count": 69,
   "id": "2c18cc76-ebe7-4743-96e8-957718eb1709",
   "metadata": {},
   "outputs": [
    {
     "name": "stdout",
     "output_type": "stream",
     "text": [
      "                   business_id RestaurantsDelivery OutdoorSeating  \\\n",
      "0       MTSW4McQd7CbVtyjqoe9mw               False          False   \n",
      "1       mWMc6_wTdE0EUBKIGXDVfA                 NaN            NaN   \n",
      "2       CF33F8-E6oudUQ46HnavjQ                True           True   \n",
      "3       n_0UpQx1hsNbnPUSlodU8w                 NaN            NaN   \n",
      "5       k0hlBqXX-Bt0vf1op7Jr1w                True           True   \n",
      "...                        ...                 ...            ...   \n",
      "132297                     NaN                 NaN            NaN   \n",
      "132298                     NaN                 NaN            NaN   \n",
      "132314                     NaN                 NaN            NaN   \n",
      "132323                     NaN                True            NaN   \n",
      "132338                     NaN                 NaN            NaN   \n",
      "\n",
      "       BusinessAcceptsCreditCards  \\\n",
      "0                           False   \n",
      "1                            True   \n",
      "2                            True   \n",
      "3                            True   \n",
      "5                            True   \n",
      "...                           ...   \n",
      "132297                       True   \n",
      "132298                       True   \n",
      "132314                        NaN   \n",
      "132323                       True   \n",
      "132338                       True   \n",
      "\n",
      "                                          BusinessParking BikeParking  \\\n",
      "0       {'garage': False, 'street': True, 'validated':...        True   \n",
      "1       {'garage': None, 'street': None, 'validated': ...        True   \n",
      "2                                                    None       False   \n",
      "3       {'garage': False, 'street': False, 'validated'...        True   \n",
      "5       {'garage': False, 'street': False, 'validated'...         NaN   \n",
      "...                                                   ...         ...   \n",
      "132297                                                NaN         NaN   \n",
      "132298                                                NaN         NaN   \n",
      "132314  {'garage': False, 'street': False, 'validated'...       False   \n",
      "132323  {'garage': False, 'street': False, 'validated'...        True   \n",
      "132338  {'garage': False, 'street': False, 'validated'...        True   \n",
      "\n",
      "       RestaurantsPriceRange2 RestaurantsTakeOut ByAppointmentOnly     WiFi  \\\n",
      "0                           1               True             False  u'free'   \n",
      "1                         NaN               True               NaN      NaN   \n",
      "2                           1               True             False    u'no'   \n",
      "3                           2                NaN               NaN      NaN   \n",
      "5                           1               True             False    u'no'   \n",
      "...                       ...                ...               ...      ...   \n",
      "132297                    NaN                NaN               NaN      NaN   \n",
      "132298                    NaN                NaN               NaN      NaN   \n",
      "132314                    NaN                NaN               NaN      NaN   \n",
      "132323                      1               True               NaN      NaN   \n",
      "132338                      2                NaN               NaN    u'no'   \n",
      "\n",
      "        ... AcceptsInsurance BestNights BYOB Corkage BYOBCorkage  \\\n",
      "0       ...              NaN        NaN  NaN     NaN         NaN   \n",
      "1       ...              NaN        NaN  NaN     NaN         NaN   \n",
      "2       ...              NaN        NaN  NaN     NaN         NaN   \n",
      "3       ...              NaN        NaN  NaN     NaN         NaN   \n",
      "5       ...              NaN        NaN  NaN     NaN         NaN   \n",
      "...     ...              ...        ...  ...     ...         ...   \n",
      "132297  ...              NaN        NaN  NaN     NaN         NaN   \n",
      "132298  ...              NaN        NaN  NaN     NaN         NaN   \n",
      "132314  ...              NaN        NaN  NaN     NaN         NaN   \n",
      "132323  ...              NaN        NaN  NaN     NaN         NaN   \n",
      "132338  ...              NaN        NaN  NaN     NaN         NaN   \n",
      "\n",
      "       HairSpecializesIn Open24Hours RestaurantsCounterService AgesAllowed  \\\n",
      "0                    NaN         NaN                       NaN         NaN   \n",
      "1                    NaN         NaN                       NaN         NaN   \n",
      "2                    NaN         NaN                       NaN         NaN   \n",
      "3                    NaN         NaN                       NaN         NaN   \n",
      "5                    NaN         NaN                       NaN         NaN   \n",
      "...                  ...         ...                       ...         ...   \n",
      "132297               NaN         NaN                       NaN         NaN   \n",
      "132298               NaN         NaN                       NaN         NaN   \n",
      "132314               NaN         NaN                       NaN         NaN   \n",
      "132323               NaN         NaN                       NaN         NaN   \n",
      "132338               NaN         NaN                       NaN         NaN   \n",
      "\n",
      "       DietaryRestrictions  \n",
      "0                      NaN  \n",
      "1                      NaN  \n",
      "2                      NaN  \n",
      "3                      NaN  \n",
      "5                      NaN  \n",
      "...                    ...  \n",
      "132297                 NaN  \n",
      "132298                 NaN  \n",
      "132314                 NaN  \n",
      "132323                 NaN  \n",
      "132338                 NaN  \n",
      "\n",
      "[144057 rows x 40 columns]\n"
     ]
    }
   ],
   "source": [
    "# Combina el DataFrame de atributos con el DataFrame original\n",
    "df_combined = pd.concat([df_business, df_attributes], axis=1).drop(columns=['attributes'])\n",
    "\n",
    "# Resultado: Un DataFrame con los atributos separados en columnas individuales\n",
    "print(df_combined)"
   ]
  },
  {
   "cell_type": "code",
   "execution_count": 70,
   "id": "93b294ac-56c7-4638-b860-fa03fa55fb9f",
   "metadata": {},
   "outputs": [
    {
     "data": {
      "text/html": [
       "<div>\n",
       "<style scoped>\n",
       "    .dataframe tbody tr th:only-of-type {\n",
       "        vertical-align: middle;\n",
       "    }\n",
       "\n",
       "    .dataframe tbody tr th {\n",
       "        vertical-align: top;\n",
       "    }\n",
       "\n",
       "    .dataframe thead th {\n",
       "        text-align: right;\n",
       "    }\n",
       "</style>\n",
       "<table border=\"1\" class=\"dataframe\">\n",
       "  <thead>\n",
       "    <tr style=\"text-align: right;\">\n",
       "      <th></th>\n",
       "      <th>business_id</th>\n",
       "      <th>RestaurantsDelivery</th>\n",
       "      <th>OutdoorSeating</th>\n",
       "      <th>BusinessAcceptsCreditCards</th>\n",
       "      <th>BusinessParking</th>\n",
       "      <th>BikeParking</th>\n",
       "      <th>RestaurantsPriceRange2</th>\n",
       "      <th>RestaurantsTakeOut</th>\n",
       "      <th>ByAppointmentOnly</th>\n",
       "      <th>WiFi</th>\n",
       "      <th>...</th>\n",
       "      <th>AcceptsInsurance</th>\n",
       "      <th>BestNights</th>\n",
       "      <th>BYOB</th>\n",
       "      <th>Corkage</th>\n",
       "      <th>BYOBCorkage</th>\n",
       "      <th>HairSpecializesIn</th>\n",
       "      <th>Open24Hours</th>\n",
       "      <th>RestaurantsCounterService</th>\n",
       "      <th>AgesAllowed</th>\n",
       "      <th>DietaryRestrictions</th>\n",
       "    </tr>\n",
       "  </thead>\n",
       "  <tbody>\n",
       "    <tr>\n",
       "      <th>0</th>\n",
       "      <td>MTSW4McQd7CbVtyjqoe9mw</td>\n",
       "      <td>False</td>\n",
       "      <td>False</td>\n",
       "      <td>False</td>\n",
       "      <td>{'garage': False, 'street': True, 'validated':...</td>\n",
       "      <td>True</td>\n",
       "      <td>1</td>\n",
       "      <td>True</td>\n",
       "      <td>False</td>\n",
       "      <td>u'free'</td>\n",
       "      <td>...</td>\n",
       "      <td>NaN</td>\n",
       "      <td>NaN</td>\n",
       "      <td>NaN</td>\n",
       "      <td>NaN</td>\n",
       "      <td>NaN</td>\n",
       "      <td>NaN</td>\n",
       "      <td>NaN</td>\n",
       "      <td>NaN</td>\n",
       "      <td>NaN</td>\n",
       "      <td>NaN</td>\n",
       "    </tr>\n",
       "    <tr>\n",
       "      <th>1</th>\n",
       "      <td>mWMc6_wTdE0EUBKIGXDVfA</td>\n",
       "      <td>NaN</td>\n",
       "      <td>NaN</td>\n",
       "      <td>True</td>\n",
       "      <td>{'garage': None, 'street': None, 'validated': ...</td>\n",
       "      <td>True</td>\n",
       "      <td>NaN</td>\n",
       "      <td>True</td>\n",
       "      <td>NaN</td>\n",
       "      <td>NaN</td>\n",
       "      <td>...</td>\n",
       "      <td>NaN</td>\n",
       "      <td>NaN</td>\n",
       "      <td>NaN</td>\n",
       "      <td>NaN</td>\n",
       "      <td>NaN</td>\n",
       "      <td>NaN</td>\n",
       "      <td>NaN</td>\n",
       "      <td>NaN</td>\n",
       "      <td>NaN</td>\n",
       "      <td>NaN</td>\n",
       "    </tr>\n",
       "    <tr>\n",
       "      <th>2</th>\n",
       "      <td>CF33F8-E6oudUQ46HnavjQ</td>\n",
       "      <td>True</td>\n",
       "      <td>True</td>\n",
       "      <td>True</td>\n",
       "      <td>None</td>\n",
       "      <td>False</td>\n",
       "      <td>1</td>\n",
       "      <td>True</td>\n",
       "      <td>False</td>\n",
       "      <td>u'no'</td>\n",
       "      <td>...</td>\n",
       "      <td>NaN</td>\n",
       "      <td>NaN</td>\n",
       "      <td>NaN</td>\n",
       "      <td>NaN</td>\n",
       "      <td>NaN</td>\n",
       "      <td>NaN</td>\n",
       "      <td>NaN</td>\n",
       "      <td>NaN</td>\n",
       "      <td>NaN</td>\n",
       "      <td>NaN</td>\n",
       "    </tr>\n",
       "    <tr>\n",
       "      <th>3</th>\n",
       "      <td>n_0UpQx1hsNbnPUSlodU8w</td>\n",
       "      <td>NaN</td>\n",
       "      <td>NaN</td>\n",
       "      <td>True</td>\n",
       "      <td>{'garage': False, 'street': False, 'validated'...</td>\n",
       "      <td>True</td>\n",
       "      <td>2</td>\n",
       "      <td>NaN</td>\n",
       "      <td>NaN</td>\n",
       "      <td>NaN</td>\n",
       "      <td>...</td>\n",
       "      <td>NaN</td>\n",
       "      <td>NaN</td>\n",
       "      <td>NaN</td>\n",
       "      <td>NaN</td>\n",
       "      <td>NaN</td>\n",
       "      <td>NaN</td>\n",
       "      <td>NaN</td>\n",
       "      <td>NaN</td>\n",
       "      <td>NaN</td>\n",
       "      <td>NaN</td>\n",
       "    </tr>\n",
       "    <tr>\n",
       "      <th>5</th>\n",
       "      <td>k0hlBqXX-Bt0vf1op7Jr1w</td>\n",
       "      <td>True</td>\n",
       "      <td>True</td>\n",
       "      <td>True</td>\n",
       "      <td>{'garage': False, 'street': False, 'validated'...</td>\n",
       "      <td>NaN</td>\n",
       "      <td>1</td>\n",
       "      <td>True</td>\n",
       "      <td>False</td>\n",
       "      <td>u'no'</td>\n",
       "      <td>...</td>\n",
       "      <td>NaN</td>\n",
       "      <td>NaN</td>\n",
       "      <td>NaN</td>\n",
       "      <td>NaN</td>\n",
       "      <td>NaN</td>\n",
       "      <td>NaN</td>\n",
       "      <td>NaN</td>\n",
       "      <td>NaN</td>\n",
       "      <td>NaN</td>\n",
       "      <td>NaN</td>\n",
       "    </tr>\n",
       "    <tr>\n",
       "      <th>...</th>\n",
       "      <td>...</td>\n",
       "      <td>...</td>\n",
       "      <td>...</td>\n",
       "      <td>...</td>\n",
       "      <td>...</td>\n",
       "      <td>...</td>\n",
       "      <td>...</td>\n",
       "      <td>...</td>\n",
       "      <td>...</td>\n",
       "      <td>...</td>\n",
       "      <td>...</td>\n",
       "      <td>...</td>\n",
       "      <td>...</td>\n",
       "      <td>...</td>\n",
       "      <td>...</td>\n",
       "      <td>...</td>\n",
       "      <td>...</td>\n",
       "      <td>...</td>\n",
       "      <td>...</td>\n",
       "      <td>...</td>\n",
       "      <td>...</td>\n",
       "    </tr>\n",
       "    <tr>\n",
       "      <th>132297</th>\n",
       "      <td>NaN</td>\n",
       "      <td>NaN</td>\n",
       "      <td>NaN</td>\n",
       "      <td>True</td>\n",
       "      <td>NaN</td>\n",
       "      <td>NaN</td>\n",
       "      <td>NaN</td>\n",
       "      <td>NaN</td>\n",
       "      <td>NaN</td>\n",
       "      <td>NaN</td>\n",
       "      <td>...</td>\n",
       "      <td>NaN</td>\n",
       "      <td>NaN</td>\n",
       "      <td>NaN</td>\n",
       "      <td>NaN</td>\n",
       "      <td>NaN</td>\n",
       "      <td>NaN</td>\n",
       "      <td>NaN</td>\n",
       "      <td>NaN</td>\n",
       "      <td>NaN</td>\n",
       "      <td>NaN</td>\n",
       "    </tr>\n",
       "    <tr>\n",
       "      <th>132298</th>\n",
       "      <td>NaN</td>\n",
       "      <td>NaN</td>\n",
       "      <td>NaN</td>\n",
       "      <td>True</td>\n",
       "      <td>NaN</td>\n",
       "      <td>NaN</td>\n",
       "      <td>NaN</td>\n",
       "      <td>NaN</td>\n",
       "      <td>NaN</td>\n",
       "      <td>NaN</td>\n",
       "      <td>...</td>\n",
       "      <td>NaN</td>\n",
       "      <td>NaN</td>\n",
       "      <td>NaN</td>\n",
       "      <td>NaN</td>\n",
       "      <td>NaN</td>\n",
       "      <td>NaN</td>\n",
       "      <td>NaN</td>\n",
       "      <td>NaN</td>\n",
       "      <td>NaN</td>\n",
       "      <td>NaN</td>\n",
       "    </tr>\n",
       "    <tr>\n",
       "      <th>132314</th>\n",
       "      <td>NaN</td>\n",
       "      <td>NaN</td>\n",
       "      <td>NaN</td>\n",
       "      <td>NaN</td>\n",
       "      <td>{'garage': False, 'street': False, 'validated'...</td>\n",
       "      <td>False</td>\n",
       "      <td>NaN</td>\n",
       "      <td>NaN</td>\n",
       "      <td>NaN</td>\n",
       "      <td>NaN</td>\n",
       "      <td>...</td>\n",
       "      <td>NaN</td>\n",
       "      <td>NaN</td>\n",
       "      <td>NaN</td>\n",
       "      <td>NaN</td>\n",
       "      <td>NaN</td>\n",
       "      <td>NaN</td>\n",
       "      <td>NaN</td>\n",
       "      <td>NaN</td>\n",
       "      <td>NaN</td>\n",
       "      <td>NaN</td>\n",
       "    </tr>\n",
       "    <tr>\n",
       "      <th>132323</th>\n",
       "      <td>NaN</td>\n",
       "      <td>True</td>\n",
       "      <td>NaN</td>\n",
       "      <td>True</td>\n",
       "      <td>{'garage': False, 'street': False, 'validated'...</td>\n",
       "      <td>True</td>\n",
       "      <td>1</td>\n",
       "      <td>True</td>\n",
       "      <td>NaN</td>\n",
       "      <td>NaN</td>\n",
       "      <td>...</td>\n",
       "      <td>NaN</td>\n",
       "      <td>NaN</td>\n",
       "      <td>NaN</td>\n",
       "      <td>NaN</td>\n",
       "      <td>NaN</td>\n",
       "      <td>NaN</td>\n",
       "      <td>NaN</td>\n",
       "      <td>NaN</td>\n",
       "      <td>NaN</td>\n",
       "      <td>NaN</td>\n",
       "    </tr>\n",
       "    <tr>\n",
       "      <th>132338</th>\n",
       "      <td>NaN</td>\n",
       "      <td>NaN</td>\n",
       "      <td>NaN</td>\n",
       "      <td>True</td>\n",
       "      <td>{'garage': False, 'street': False, 'validated'...</td>\n",
       "      <td>True</td>\n",
       "      <td>2</td>\n",
       "      <td>NaN</td>\n",
       "      <td>NaN</td>\n",
       "      <td>u'no'</td>\n",
       "      <td>...</td>\n",
       "      <td>NaN</td>\n",
       "      <td>NaN</td>\n",
       "      <td>NaN</td>\n",
       "      <td>NaN</td>\n",
       "      <td>NaN</td>\n",
       "      <td>NaN</td>\n",
       "      <td>NaN</td>\n",
       "      <td>NaN</td>\n",
       "      <td>NaN</td>\n",
       "      <td>NaN</td>\n",
       "    </tr>\n",
       "  </tbody>\n",
       "</table>\n",
       "<p>144057 rows × 40 columns</p>\n",
       "</div>"
      ],
      "text/plain": [
       "                   business_id RestaurantsDelivery OutdoorSeating  \\\n",
       "0       MTSW4McQd7CbVtyjqoe9mw               False          False   \n",
       "1       mWMc6_wTdE0EUBKIGXDVfA                 NaN            NaN   \n",
       "2       CF33F8-E6oudUQ46HnavjQ                True           True   \n",
       "3       n_0UpQx1hsNbnPUSlodU8w                 NaN            NaN   \n",
       "5       k0hlBqXX-Bt0vf1op7Jr1w                True           True   \n",
       "...                        ...                 ...            ...   \n",
       "132297                     NaN                 NaN            NaN   \n",
       "132298                     NaN                 NaN            NaN   \n",
       "132314                     NaN                 NaN            NaN   \n",
       "132323                     NaN                True            NaN   \n",
       "132338                     NaN                 NaN            NaN   \n",
       "\n",
       "       BusinessAcceptsCreditCards  \\\n",
       "0                           False   \n",
       "1                            True   \n",
       "2                            True   \n",
       "3                            True   \n",
       "5                            True   \n",
       "...                           ...   \n",
       "132297                       True   \n",
       "132298                       True   \n",
       "132314                        NaN   \n",
       "132323                       True   \n",
       "132338                       True   \n",
       "\n",
       "                                          BusinessParking BikeParking  \\\n",
       "0       {'garage': False, 'street': True, 'validated':...        True   \n",
       "1       {'garage': None, 'street': None, 'validated': ...        True   \n",
       "2                                                    None       False   \n",
       "3       {'garage': False, 'street': False, 'validated'...        True   \n",
       "5       {'garage': False, 'street': False, 'validated'...         NaN   \n",
       "...                                                   ...         ...   \n",
       "132297                                                NaN         NaN   \n",
       "132298                                                NaN         NaN   \n",
       "132314  {'garage': False, 'street': False, 'validated'...       False   \n",
       "132323  {'garage': False, 'street': False, 'validated'...        True   \n",
       "132338  {'garage': False, 'street': False, 'validated'...        True   \n",
       "\n",
       "       RestaurantsPriceRange2 RestaurantsTakeOut ByAppointmentOnly     WiFi  \\\n",
       "0                           1               True             False  u'free'   \n",
       "1                         NaN               True               NaN      NaN   \n",
       "2                           1               True             False    u'no'   \n",
       "3                           2                NaN               NaN      NaN   \n",
       "5                           1               True             False    u'no'   \n",
       "...                       ...                ...               ...      ...   \n",
       "132297                    NaN                NaN               NaN      NaN   \n",
       "132298                    NaN                NaN               NaN      NaN   \n",
       "132314                    NaN                NaN               NaN      NaN   \n",
       "132323                      1               True               NaN      NaN   \n",
       "132338                      2                NaN               NaN    u'no'   \n",
       "\n",
       "        ... AcceptsInsurance BestNights BYOB Corkage BYOBCorkage  \\\n",
       "0       ...              NaN        NaN  NaN     NaN         NaN   \n",
       "1       ...              NaN        NaN  NaN     NaN         NaN   \n",
       "2       ...              NaN        NaN  NaN     NaN         NaN   \n",
       "3       ...              NaN        NaN  NaN     NaN         NaN   \n",
       "5       ...              NaN        NaN  NaN     NaN         NaN   \n",
       "...     ...              ...        ...  ...     ...         ...   \n",
       "132297  ...              NaN        NaN  NaN     NaN         NaN   \n",
       "132298  ...              NaN        NaN  NaN     NaN         NaN   \n",
       "132314  ...              NaN        NaN  NaN     NaN         NaN   \n",
       "132323  ...              NaN        NaN  NaN     NaN         NaN   \n",
       "132338  ...              NaN        NaN  NaN     NaN         NaN   \n",
       "\n",
       "       HairSpecializesIn Open24Hours RestaurantsCounterService AgesAllowed  \\\n",
       "0                    NaN         NaN                       NaN         NaN   \n",
       "1                    NaN         NaN                       NaN         NaN   \n",
       "2                    NaN         NaN                       NaN         NaN   \n",
       "3                    NaN         NaN                       NaN         NaN   \n",
       "5                    NaN         NaN                       NaN         NaN   \n",
       "...                  ...         ...                       ...         ...   \n",
       "132297               NaN         NaN                       NaN         NaN   \n",
       "132298               NaN         NaN                       NaN         NaN   \n",
       "132314               NaN         NaN                       NaN         NaN   \n",
       "132323               NaN         NaN                       NaN         NaN   \n",
       "132338               NaN         NaN                       NaN         NaN   \n",
       "\n",
       "       DietaryRestrictions  \n",
       "0                      NaN  \n",
       "1                      NaN  \n",
       "2                      NaN  \n",
       "3                      NaN  \n",
       "5                      NaN  \n",
       "...                    ...  \n",
       "132297                 NaN  \n",
       "132298                 NaN  \n",
       "132314                 NaN  \n",
       "132323                 NaN  \n",
       "132338                 NaN  \n",
       "\n",
       "[144057 rows x 40 columns]"
      ]
     },
     "execution_count": 70,
     "metadata": {},
     "output_type": "execute_result"
    }
   ],
   "source": [
    "df_combined"
   ]
  },
  {
   "cell_type": "code",
   "execution_count": null,
   "id": "d4af9470-c5b4-4289-a49b-7da364948ed5",
   "metadata": {},
   "outputs": [],
   "source": []
  },
  {
   "cell_type": "code",
   "execution_count": null,
   "id": "a1f93661-0a9e-4817-b328-d6f72863d02e",
   "metadata": {},
   "outputs": [],
   "source": []
  },
  {
   "cell_type": "code",
   "execution_count": null,
   "id": "1a455dc5-297d-4bff-90aa-902f4ee48059",
   "metadata": {},
   "outputs": [],
   "source": []
  },
  {
   "cell_type": "code",
   "execution_count": null,
   "id": "9ab06416-39ec-4d2f-92bd-d219e8951322",
   "metadata": {},
   "outputs": [],
   "source": []
  },
  {
   "cell_type": "code",
   "execution_count": null,
   "id": "15daf39f-60fc-4f5c-9c48-eaf27da13bac",
   "metadata": {},
   "outputs": [],
   "source": []
  },
  {
   "cell_type": "code",
   "execution_count": null,
   "id": "d55fd946-b70d-45b0-a59e-b014545c96be",
   "metadata": {},
   "outputs": [],
   "source": []
  },
  {
   "cell_type": "code",
   "execution_count": null,
   "id": "ab76c40e-dd23-40b3-8f11-4a3ea4e867f0",
   "metadata": {},
   "outputs": [],
   "source": []
  },
  {
   "cell_type": "markdown",
   "id": "d688eacd-914c-4602-8f1b-b8dcc850a02f",
   "metadata": {},
   "source": [
    "### 5. Análisis la Columna de Categorias del Dataset: 'yelp_bussines'"
   ]
  },
  {
   "cell_type": "code",
   "execution_count": 52,
   "id": "1095300d-862c-43ff-9392-4d3acd3e5a41",
   "metadata": {},
   "outputs": [
    {
     "data": {
      "text/html": [
       "<div>\n",
       "<style scoped>\n",
       "    .dataframe tbody tr th:only-of-type {\n",
       "        vertical-align: middle;\n",
       "    }\n",
       "\n",
       "    .dataframe tbody tr th {\n",
       "        vertical-align: top;\n",
       "    }\n",
       "\n",
       "    .dataframe thead th {\n",
       "        text-align: right;\n",
       "    }\n",
       "</style>\n",
       "<table border=\"1\" class=\"dataframe\">\n",
       "  <thead>\n",
       "    <tr style=\"text-align: right;\">\n",
       "      <th></th>\n",
       "      <th>business_id</th>\n",
       "      <th>categories</th>\n",
       "    </tr>\n",
       "  </thead>\n",
       "  <tbody>\n",
       "    <tr>\n",
       "      <th>0</th>\n",
       "      <td>MTSW4McQd7CbVtyjqoe9mw</td>\n",
       "      <td>Restaurants, Food, Bubble Tea, Coffee &amp; Tea, B...</td>\n",
       "    </tr>\n",
       "    <tr>\n",
       "      <th>1</th>\n",
       "      <td>mWMc6_wTdE0EUBKIGXDVfA</td>\n",
       "      <td>Brewpubs, Breweries, Food</td>\n",
       "    </tr>\n",
       "    <tr>\n",
       "      <th>2</th>\n",
       "      <td>CF33F8-E6oudUQ46HnavjQ</td>\n",
       "      <td>Burgers, Fast Food, Sandwiches, Food, Ice Crea...</td>\n",
       "    </tr>\n",
       "    <tr>\n",
       "      <th>3</th>\n",
       "      <td>n_0UpQx1hsNbnPUSlodU8w</td>\n",
       "      <td>Sporting Goods, Fashion, Shoe Stores, Shopping...</td>\n",
       "    </tr>\n",
       "    <tr>\n",
       "      <th>5</th>\n",
       "      <td>k0hlBqXX-Bt0vf1op7Jr1w</td>\n",
       "      <td>Pubs, Restaurants, Italian, Bars, American (Tr...</td>\n",
       "    </tr>\n",
       "    <tr>\n",
       "      <th>...</th>\n",
       "      <td>...</td>\n",
       "      <td>...</td>\n",
       "    </tr>\n",
       "    <tr>\n",
       "      <th>145211</th>\n",
       "      <td>IUQopTMmYQG-qRtBk-8QnA</td>\n",
       "      <td>Nail Salons, Beauty &amp; Spas</td>\n",
       "    </tr>\n",
       "    <tr>\n",
       "      <th>145212</th>\n",
       "      <td>c8GjPIOTGVmIemT7j5_SyQ</td>\n",
       "      <td>Pets, Nurseries &amp; Gardening, Pet Stores, Hobby...</td>\n",
       "    </tr>\n",
       "    <tr>\n",
       "      <th>145213</th>\n",
       "      <td>_QAMST-NrQobXduilWEqSw</td>\n",
       "      <td>Shopping, Jewelry, Piercing, Toy Stores, Beaut...</td>\n",
       "    </tr>\n",
       "    <tr>\n",
       "      <th>145214</th>\n",
       "      <td>mtGm22y5c2UHNXDFAjaPNw</td>\n",
       "      <td>Fitness/Exercise Equipment, Eyewear &amp; Optician...</td>\n",
       "    </tr>\n",
       "    <tr>\n",
       "      <th>145215</th>\n",
       "      <td>jV_XOycEzSlTx-65W906pg</td>\n",
       "      <td>Beauty &amp; Spas, Permanent Makeup, Piercing, Tattoo</td>\n",
       "    </tr>\n",
       "  </tbody>\n",
       "</table>\n",
       "<p>132342 rows × 2 columns</p>\n",
       "</div>"
      ],
      "text/plain": [
       "                   business_id  \\\n",
       "0       MTSW4McQd7CbVtyjqoe9mw   \n",
       "1       mWMc6_wTdE0EUBKIGXDVfA   \n",
       "2       CF33F8-E6oudUQ46HnavjQ   \n",
       "3       n_0UpQx1hsNbnPUSlodU8w   \n",
       "5       k0hlBqXX-Bt0vf1op7Jr1w   \n",
       "...                        ...   \n",
       "145211  IUQopTMmYQG-qRtBk-8QnA   \n",
       "145212  c8GjPIOTGVmIemT7j5_SyQ   \n",
       "145213  _QAMST-NrQobXduilWEqSw   \n",
       "145214  mtGm22y5c2UHNXDFAjaPNw   \n",
       "145215  jV_XOycEzSlTx-65W906pg   \n",
       "\n",
       "                                               categories  \n",
       "0       Restaurants, Food, Bubble Tea, Coffee & Tea, B...  \n",
       "1                               Brewpubs, Breweries, Food  \n",
       "2       Burgers, Fast Food, Sandwiches, Food, Ice Crea...  \n",
       "3       Sporting Goods, Fashion, Shoe Stores, Shopping...  \n",
       "5       Pubs, Restaurants, Italian, Bars, American (Tr...  \n",
       "...                                                   ...  \n",
       "145211                         Nail Salons, Beauty & Spas  \n",
       "145212  Pets, Nurseries & Gardening, Pet Stores, Hobby...  \n",
       "145213  Shopping, Jewelry, Piercing, Toy Stores, Beaut...  \n",
       "145214  Fitness/Exercise Equipment, Eyewear & Optician...  \n",
       "145215  Beauty & Spas, Permanent Makeup, Piercing, Tattoo  \n",
       "\n",
       "[132342 rows x 2 columns]"
      ]
     },
     "execution_count": 52,
     "metadata": {},
     "output_type": "execute_result"
    }
   ],
   "source": [
    "yelp_bussines[['business_id', 'categories']]"
   ]
  },
  {
   "cell_type": "code",
   "execution_count": null,
   "id": "49b53e89-e712-44fc-8734-30f142455f8d",
   "metadata": {},
   "outputs": [],
   "source": []
  },
  {
   "cell_type": "code",
   "execution_count": null,
   "id": "c180bbfb-17a3-4ef7-b10b-578485229d88",
   "metadata": {},
   "outputs": [],
   "source": []
  },
  {
   "cell_type": "markdown",
   "id": "a75bf706-22a3-4f2b-b959-1901cd30cc43",
   "metadata": {},
   "source": [
    "### Guardar Dataset Final de yelp_bussines"
   ]
  },
  {
   "cell_type": "code",
   "execution_count": null,
   "id": "4c3e5707-26dc-486f-b1b5-8436476ea0e4",
   "metadata": {},
   "outputs": [],
   "source": [
    "### Guardar Dataset Final de yelp_user\n",
    "\n",
    "# Ruta completa en Cloud Storage para guardar el archivo en formato CSV\n",
    "ruta_eda_datalike = \"gs://gmy/eda/yelp_bussines.parquet\"\n",
    "\n",
    "# Guarda el DataFrame en formato CSV en Cloud Storage\n",
    "yelp_bussines.to_parquet(ruta_eda_datalike, index=False)"
   ]
  },
  {
   "cell_type": "code",
   "execution_count": 2,
   "id": "15fa31e6-a65f-4906-88ad-199ed979b827",
   "metadata": {},
   "outputs": [
    {
     "ename": "NameError",
     "evalue": "name 'yelp_bussines' is not defined",
     "output_type": "error",
     "traceback": [
      "\u001b[0;31m---------------------------------------------------------------------------\u001b[0m",
      "\u001b[0;31mNameError\u001b[0m                                 Traceback (most recent call last)",
      "Cell \u001b[0;32mIn[2], line 1\u001b[0m\n\u001b[0;32m----> 1\u001b[0m \u001b[43myelp_bussines\u001b[49m\u001b[38;5;241m.\u001b[39minfo()\n",
      "\u001b[0;31mNameError\u001b[0m: name 'yelp_bussines' is not defined"
     ]
    }
   ],
   "source": [
    "yelp_bussines.info()"
   ]
  },
  {
   "cell_type": "code",
   "execution_count": null,
   "id": "fca9303c-f9d0-4c77-8596-ffd4e86d88ca",
   "metadata": {},
   "outputs": [],
   "source": []
  },
  {
   "cell_type": "code",
   "execution_count": null,
   "id": "0cb340d6-3341-4c57-a7d8-aa43cbec66d0",
   "metadata": {},
   "outputs": [],
   "source": []
  },
  {
   "cell_type": "markdown",
   "id": "5d75fc55-16b3-4591-8633-546615846b19",
   "metadata": {},
   "source": [
    "### Fin EDA"
   ]
  }
 ],
 "metadata": {
  "environment": {
   "kernel": "conda-root-py",
   "name": "workbench-notebooks.m111",
   "type": "gcloud",
   "uri": "gcr.io/deeplearning-platform-release/workbench-notebooks:m111"
  },
  "kernelspec": {
   "display_name": "Python 3",
   "language": "python",
   "name": "conda-root-py"
  },
  "language_info": {
   "codemirror_mode": {
    "name": "ipython",
    "version": 3
   },
   "file_extension": ".py",
   "mimetype": "text/x-python",
   "name": "python",
   "nbconvert_exporter": "python",
   "pygments_lexer": "ipython3",
   "version": "3.10.12"
  },
  "toc-autonumbering": true
 },
 "nbformat": 4,
 "nbformat_minor": 5
}
