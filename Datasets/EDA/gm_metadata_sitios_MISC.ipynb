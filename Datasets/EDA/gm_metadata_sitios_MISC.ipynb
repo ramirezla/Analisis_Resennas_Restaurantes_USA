{
 "cells": [
  {
   "cell_type": "markdown",
   "id": "9ae62e4d-e611-41f9-a20d-051025c4fadf",
   "metadata": {},
   "source": [
    "<h1 align=\"center\"> <span style=\"font-size: 20px;\"> Proyecto Final Grupo Nº 7 </span> <br>\n",
    "    <align=\"center\"> <span style=\"font-size: 15px;\">  Proyecto Yelp & Google Maps - Reviewa y Recomendaciones</span><br>         \n",
    "<align=\"center\"> <span style=\"font-size: 15px;\">@utores:  Javier Castro, Luca Ramallo, Luis Ramírez, Lesmen García.</span> <br>\n",
    "  <a href=\"https://github.com/lesmengp/Proyecto-Final-Grupo-07.git\">GitHub: <span style=\"font-size: 20px;\">Proyecto Yelp & Google Maps</span></a> \n",
    "</h1>"
   ]
  },
  {
   "cell_type": "markdown",
   "id": "a2827024-c15b-4a51-bd42-1bc6ba7a04e4",
   "metadata": {},
   "source": [
    "## Librerías"
   ]
  },
  {
   "cell_type": "code",
   "execution_count": 59,
   "id": "4d261efb-3756-4215-96ad-c4d7fc03fba3",
   "metadata": {},
   "outputs": [
    {
     "name": "stdout",
     "output_type": "stream",
     "text": [
      "Requirement already satisfied: sweetviz in /opt/conda/lib/python3.10/site-packages (2.2.1)\n",
      "Requirement already satisfied: pandas!=1.0.0,!=1.0.1,!=1.0.2,>=0.25.3 in /opt/conda/lib/python3.10/site-packages (from sweetviz) (2.0.3)\n",
      "Requirement already satisfied: numpy>=1.16.0 in /opt/conda/lib/python3.10/site-packages (from sweetviz) (1.23.5)\n",
      "Requirement already satisfied: matplotlib>=3.1.3 in /opt/conda/lib/python3.10/site-packages (from sweetviz) (3.7.2)\n",
      "Requirement already satisfied: tqdm>=4.43.0 in /opt/conda/lib/python3.10/site-packages (from sweetviz) (4.66.1)\n",
      "Requirement already satisfied: scipy>=1.3.2 in /opt/conda/lib/python3.10/site-packages (from sweetviz) (1.11.2)\n",
      "Requirement already satisfied: jinja2>=2.11.1 in /opt/conda/lib/python3.10/site-packages (from sweetviz) (3.1.2)\n",
      "Requirement already satisfied: importlib-resources>=1.2.0 in /opt/conda/lib/python3.10/site-packages (from sweetviz) (6.0.1)\n",
      "Requirement already satisfied: MarkupSafe>=2.0 in /opt/conda/lib/python3.10/site-packages (from jinja2>=2.11.1->sweetviz) (2.1.3)\n",
      "Requirement already satisfied: contourpy>=1.0.1 in /opt/conda/lib/python3.10/site-packages (from matplotlib>=3.1.3->sweetviz) (1.1.0)\n",
      "Requirement already satisfied: cycler>=0.10 in /opt/conda/lib/python3.10/site-packages (from matplotlib>=3.1.3->sweetviz) (0.11.0)\n",
      "Requirement already satisfied: fonttools>=4.22.0 in /opt/conda/lib/python3.10/site-packages (from matplotlib>=3.1.3->sweetviz) (4.42.1)\n",
      "Requirement already satisfied: kiwisolver>=1.0.1 in /opt/conda/lib/python3.10/site-packages (from matplotlib>=3.1.3->sweetviz) (1.4.4)\n",
      "Requirement already satisfied: packaging>=20.0 in /opt/conda/lib/python3.10/site-packages (from matplotlib>=3.1.3->sweetviz) (23.1)\n",
      "Requirement already satisfied: pillow>=6.2.0 in /opt/conda/lib/python3.10/site-packages (from matplotlib>=3.1.3->sweetviz) (10.0.0)\n",
      "Requirement already satisfied: pyparsing<3.1,>=2.3.1 in /opt/conda/lib/python3.10/site-packages (from matplotlib>=3.1.3->sweetviz) (3.0.9)\n",
      "Requirement already satisfied: python-dateutil>=2.7 in /opt/conda/lib/python3.10/site-packages (from matplotlib>=3.1.3->sweetviz) (2.8.2)\n",
      "Requirement already satisfied: pytz>=2020.1 in /opt/conda/lib/python3.10/site-packages (from pandas!=1.0.0,!=1.0.1,!=1.0.2,>=0.25.3->sweetviz) (2023.3)\n",
      "Requirement already satisfied: tzdata>=2022.1 in /opt/conda/lib/python3.10/site-packages (from pandas!=1.0.0,!=1.0.1,!=1.0.2,>=0.25.3->sweetviz) (2023.3)\n",
      "Requirement already satisfied: six>=1.5 in /opt/conda/lib/python3.10/site-packages (from python-dateutil>=2.7->matplotlib>=3.1.3->sweetviz) (1.16.0)\n",
      "Note: you may need to restart the kernel to use updated packages.\n"
     ]
    }
   ],
   "source": [
    "pip install sweetviz "
   ]
  },
  {
   "cell_type": "code",
   "execution_count": 1,
   "id": "570c8b4d-f3cb-47c0-aadc-21e7a89d23c4",
   "metadata": {},
   "outputs": [
    {
     "name": "stderr",
     "output_type": "stream",
     "text": [
      "/opt/conda/lib/python3.10/site-packages/numba/core/decorators.py:262: NumbaDeprecationWarning: \u001b[1mnumba.generated_jit is deprecated. Please see the documentation at: https://numba.readthedocs.io/en/stable/reference/deprecation.html#deprecation-of-generated-jit for more information and advice on a suitable replacement.\u001b[0m\n",
      "  warnings.warn(msg, NumbaDeprecationWarning)\n",
      "/opt/conda/lib/python3.10/site-packages/visions/backends/shared/nan_handling.py:51: NumbaDeprecationWarning: \u001b[1mThe 'nopython' keyword argument was not supplied to the 'numba.jit' decorator. The implicit default value for this argument is currently False, but it will be changed to True in Numba 0.59.0. See https://numba.readthedocs.io/en/stable/reference/deprecation.html#deprecation-of-object-mode-fall-back-behaviour-when-using-jit for details.\u001b[0m\n",
      "  def hasna(x: np.ndarray) -> bool:\n",
      "/var/tmp/ipykernel_7326/3100989457.py:11: DeprecationWarning: `import pandas_profiling` is going to be deprecated by April 1st. Please use `import ydata_profiling` instead.\n",
      "  import pandas_profiling\n"
     ]
    }
   ],
   "source": [
    "from google.cloud import bigquery\n",
    "from google.cloud import storage\n",
    "import pandas as pd\n",
    "import json\n",
    "import os\n",
    "import io\n",
    "import ast\n",
    "import numpy as np\n",
    "import matplotlib.pyplot as plt\n",
    "import seaborn as sns\n",
    "import pandas_profiling\n",
    "import sweetviz as sv\n",
    "import webbrowser"
   ]
  },
  {
   "cell_type": "markdown",
   "id": "83cde23e-e2bb-4b87-9ce0-bd3c617c077c",
   "metadata": {},
   "source": [
    "<h2> Google Cloud Platform </h2>"
   ]
  },
  {
   "cell_type": "code",
   "execution_count": 2,
   "id": "304d4f50-4966-468a-b56b-32613ef42d14",
   "metadata": {},
   "outputs": [],
   "source": [
    "# Google Cloud Platform\n",
    "# Obtener el proyecto actual\n",
    "project_id = os.environ.get(\"Proyecto Final - Henry\")\n",
    "\n",
    "# Crear un cliente de Cloud Storage\n",
    "client = storage.Client(project=project_id)\n",
    "\n",
    "# Obtener el nombre del bucket\n",
    "bucket_name = \"gmy\"\n",
    "\n",
    "# Obtener el objeto de referencia al bucket\n",
    "bucket = client.bucket(bucket_name)"
   ]
  },
  {
   "cell_type": "code",
   "execution_count": 3,
   "id": "dec3a511-4dbe-45a3-aa3b-c3e4663fb8d5",
   "metadata": {},
   "outputs": [
    {
     "data": {
      "text/html": [
       "<div>\n",
       "<style scoped>\n",
       "    .dataframe tbody tr th:only-of-type {\n",
       "        vertical-align: middle;\n",
       "    }\n",
       "\n",
       "    .dataframe tbody tr th {\n",
       "        vertical-align: top;\n",
       "    }\n",
       "\n",
       "    .dataframe thead th {\n",
       "        text-align: right;\n",
       "    }\n",
       "</style>\n",
       "<table border=\"1\" class=\"dataframe\">\n",
       "  <thead>\n",
       "    <tr style=\"text-align: right;\">\n",
       "      <th></th>\n",
       "      <th>gmap_id</th>\n",
       "      <th>MISC</th>\n",
       "    </tr>\n",
       "  </thead>\n",
       "  <tbody>\n",
       "    <tr>\n",
       "      <th>0</th>\n",
       "      <td>0x88f16e41928ff687:0x883dad4fd048e8f8</td>\n",
       "      <td>{'Accessibility': ['Wheelchair accessible entr...</td>\n",
       "    </tr>\n",
       "    <tr>\n",
       "      <th>1</th>\n",
       "      <td>0x80c2c98c0e3c16fd:0x29ec8a728764fdf9</td>\n",
       "      <td>None</td>\n",
       "    </tr>\n",
       "    <tr>\n",
       "      <th>2</th>\n",
       "      <td>0x80c2c778e3b73d33:0xbdc58662a4a97d49</td>\n",
       "      <td>{'Accessibility': ['Wheelchair accessible entr...</td>\n",
       "    </tr>\n",
       "    <tr>\n",
       "      <th>3</th>\n",
       "      <td>0x80c2c89923b27a41:0x32041559418d447</td>\n",
       "      <td>{'Accessibility': None, 'Activities': None, 'A...</td>\n",
       "    </tr>\n",
       "    <tr>\n",
       "      <th>4</th>\n",
       "      <td>0x80c2c632f933b073:0xc31785961fe826a6</td>\n",
       "      <td>{'Accessibility': None, 'Activities': None, 'A...</td>\n",
       "    </tr>\n",
       "    <tr>\n",
       "      <th>...</th>\n",
       "      <td>...</td>\n",
       "      <td>...</td>\n",
       "    </tr>\n",
       "    <tr>\n",
       "      <th>3025006</th>\n",
       "      <td>0x89c6c74f43a49b55:0x6be6995921c58b12</td>\n",
       "      <td>{'Accessibility': ['Wheelchair accessible entr...</td>\n",
       "    </tr>\n",
       "    <tr>\n",
       "      <th>3025007</th>\n",
       "      <td>0x89da1787d3fdc4a5:0xce92ea6e3cd4d1cc</td>\n",
       "      <td>{'Accessibility': None, 'Activities': None, 'A...</td>\n",
       "    </tr>\n",
       "    <tr>\n",
       "      <th>3025008</th>\n",
       "      <td>0x89da6b9ce832726f:0xbd0d3630f1e3b42e</td>\n",
       "      <td>{'Accessibility': None, 'Activities': None, 'A...</td>\n",
       "    </tr>\n",
       "    <tr>\n",
       "      <th>3025009</th>\n",
       "      <td>0x88d9e872a9e39f3d:0x5de29f50507e5d73</td>\n",
       "      <td>{'Accessibility': None, 'Activities': None, 'A...</td>\n",
       "    </tr>\n",
       "    <tr>\n",
       "      <th>3025010</th>\n",
       "      <td>0x54956b3944b1654d:0x7797cead9a485c22</td>\n",
       "      <td>{'Accessibility': ['Wheelchair accessible entr...</td>\n",
       "    </tr>\n",
       "  </tbody>\n",
       "</table>\n",
       "<p>3025011 rows × 2 columns</p>\n",
       "</div>"
      ],
      "text/plain": [
       "                                       gmap_id  \\\n",
       "0        0x88f16e41928ff687:0x883dad4fd048e8f8   \n",
       "1        0x80c2c98c0e3c16fd:0x29ec8a728764fdf9   \n",
       "2        0x80c2c778e3b73d33:0xbdc58662a4a97d49   \n",
       "3         0x80c2c89923b27a41:0x32041559418d447   \n",
       "4        0x80c2c632f933b073:0xc31785961fe826a6   \n",
       "...                                        ...   \n",
       "3025006  0x89c6c74f43a49b55:0x6be6995921c58b12   \n",
       "3025007  0x89da1787d3fdc4a5:0xce92ea6e3cd4d1cc   \n",
       "3025008  0x89da6b9ce832726f:0xbd0d3630f1e3b42e   \n",
       "3025009  0x88d9e872a9e39f3d:0x5de29f50507e5d73   \n",
       "3025010  0x54956b3944b1654d:0x7797cead9a485c22   \n",
       "\n",
       "                                                      MISC  \n",
       "0        {'Accessibility': ['Wheelchair accessible entr...  \n",
       "1                                                     None  \n",
       "2        {'Accessibility': ['Wheelchair accessible entr...  \n",
       "3        {'Accessibility': None, 'Activities': None, 'A...  \n",
       "4        {'Accessibility': None, 'Activities': None, 'A...  \n",
       "...                                                    ...  \n",
       "3025006  {'Accessibility': ['Wheelchair accessible entr...  \n",
       "3025007  {'Accessibility': None, 'Activities': None, 'A...  \n",
       "3025008  {'Accessibility': None, 'Activities': None, 'A...  \n",
       "3025009  {'Accessibility': None, 'Activities': None, 'A...  \n",
       "3025010  {'Accessibility': ['Wheelchair accessible entr...  \n",
       "\n",
       "[3025011 rows x 2 columns]"
      ]
     },
     "execution_count": 3,
     "metadata": {},
     "output_type": "execute_result"
    }
   ],
   "source": [
    "# Obtener el blob\n",
    "blob = bucket.get_blob('etl/metadata-sitios-MISC.parquet')\n",
    "\n",
    "# Descargar el blob\n",
    "data = blob.download_as_string()\n",
    "\n",
    "# Convertir el objeto de bytes a un objeto similar a un archivo\n",
    "file = io.BytesIO(data)\n",
    "\n",
    "# Leer el archivo parquet en un DataFrame\n",
    "df = pd.read_parquet(file)\n",
    "\n",
    "# Imprimir el DataFrame\n",
    "df"
   ]
  },
  {
   "cell_type": "code",
   "execution_count": 4,
   "id": "2d445d6d-007a-4382-abe0-7b3bb5808cc3",
   "metadata": {},
   "outputs": [],
   "source": [
    "df = df.dropna(subset=[\"MISC\"])"
   ]
  },
  {
   "cell_type": "code",
   "execution_count": 5,
   "id": "89560ffb-db68-4fb6-94a7-ef9cce9b9f89",
   "metadata": {},
   "outputs": [
    {
     "data": {
      "text/html": [
       "<div>\n",
       "<style scoped>\n",
       "    .dataframe tbody tr th:only-of-type {\n",
       "        vertical-align: middle;\n",
       "    }\n",
       "\n",
       "    .dataframe tbody tr th {\n",
       "        vertical-align: top;\n",
       "    }\n",
       "\n",
       "    .dataframe thead th {\n",
       "        text-align: right;\n",
       "    }\n",
       "</style>\n",
       "<table border=\"1\" class=\"dataframe\">\n",
       "  <thead>\n",
       "    <tr style=\"text-align: right;\">\n",
       "      <th></th>\n",
       "      <th>gmap_id</th>\n",
       "      <th>MISC</th>\n",
       "    </tr>\n",
       "  </thead>\n",
       "  <tbody>\n",
       "    <tr>\n",
       "      <th>0</th>\n",
       "      <td>0x88f16e41928ff687:0x883dad4fd048e8f8</td>\n",
       "      <td>{'Accessibility': ['Wheelchair accessible entr...</td>\n",
       "    </tr>\n",
       "    <tr>\n",
       "      <th>2</th>\n",
       "      <td>0x80c2c778e3b73d33:0xbdc58662a4a97d49</td>\n",
       "      <td>{'Accessibility': ['Wheelchair accessible entr...</td>\n",
       "    </tr>\n",
       "    <tr>\n",
       "      <th>3</th>\n",
       "      <td>0x80c2c89923b27a41:0x32041559418d447</td>\n",
       "      <td>{'Accessibility': None, 'Activities': None, 'A...</td>\n",
       "    </tr>\n",
       "    <tr>\n",
       "      <th>4</th>\n",
       "      <td>0x80c2c632f933b073:0xc31785961fe826a6</td>\n",
       "      <td>{'Accessibility': None, 'Activities': None, 'A...</td>\n",
       "    </tr>\n",
       "    <tr>\n",
       "      <th>5</th>\n",
       "      <td>0x80c2cf163db6bc89:0x219484e2edbcfa41</td>\n",
       "      <td>{'Accessibility': ['Wheelchair accessible entr...</td>\n",
       "    </tr>\n",
       "    <tr>\n",
       "      <th>...</th>\n",
       "      <td>...</td>\n",
       "      <td>...</td>\n",
       "    </tr>\n",
       "    <tr>\n",
       "      <th>3025006</th>\n",
       "      <td>0x89c6c74f43a49b55:0x6be6995921c58b12</td>\n",
       "      <td>{'Accessibility': ['Wheelchair accessible entr...</td>\n",
       "    </tr>\n",
       "    <tr>\n",
       "      <th>3025007</th>\n",
       "      <td>0x89da1787d3fdc4a5:0xce92ea6e3cd4d1cc</td>\n",
       "      <td>{'Accessibility': None, 'Activities': None, 'A...</td>\n",
       "    </tr>\n",
       "    <tr>\n",
       "      <th>3025008</th>\n",
       "      <td>0x89da6b9ce832726f:0xbd0d3630f1e3b42e</td>\n",
       "      <td>{'Accessibility': None, 'Activities': None, 'A...</td>\n",
       "    </tr>\n",
       "    <tr>\n",
       "      <th>3025009</th>\n",
       "      <td>0x88d9e872a9e39f3d:0x5de29f50507e5d73</td>\n",
       "      <td>{'Accessibility': None, 'Activities': None, 'A...</td>\n",
       "    </tr>\n",
       "    <tr>\n",
       "      <th>3025010</th>\n",
       "      <td>0x54956b3944b1654d:0x7797cead9a485c22</td>\n",
       "      <td>{'Accessibility': ['Wheelchair accessible entr...</td>\n",
       "    </tr>\n",
       "  </tbody>\n",
       "</table>\n",
       "<p>2334177 rows × 2 columns</p>\n",
       "</div>"
      ],
      "text/plain": [
       "                                       gmap_id  \\\n",
       "0        0x88f16e41928ff687:0x883dad4fd048e8f8   \n",
       "2        0x80c2c778e3b73d33:0xbdc58662a4a97d49   \n",
       "3         0x80c2c89923b27a41:0x32041559418d447   \n",
       "4        0x80c2c632f933b073:0xc31785961fe826a6   \n",
       "5        0x80c2cf163db6bc89:0x219484e2edbcfa41   \n",
       "...                                        ...   \n",
       "3025006  0x89c6c74f43a49b55:0x6be6995921c58b12   \n",
       "3025007  0x89da1787d3fdc4a5:0xce92ea6e3cd4d1cc   \n",
       "3025008  0x89da6b9ce832726f:0xbd0d3630f1e3b42e   \n",
       "3025009  0x88d9e872a9e39f3d:0x5de29f50507e5d73   \n",
       "3025010  0x54956b3944b1654d:0x7797cead9a485c22   \n",
       "\n",
       "                                                      MISC  \n",
       "0        {'Accessibility': ['Wheelchair accessible entr...  \n",
       "2        {'Accessibility': ['Wheelchair accessible entr...  \n",
       "3        {'Accessibility': None, 'Activities': None, 'A...  \n",
       "4        {'Accessibility': None, 'Activities': None, 'A...  \n",
       "5        {'Accessibility': ['Wheelchair accessible entr...  \n",
       "...                                                    ...  \n",
       "3025006  {'Accessibility': ['Wheelchair accessible entr...  \n",
       "3025007  {'Accessibility': None, 'Activities': None, 'A...  \n",
       "3025008  {'Accessibility': None, 'Activities': None, 'A...  \n",
       "3025009  {'Accessibility': None, 'Activities': None, 'A...  \n",
       "3025010  {'Accessibility': ['Wheelchair accessible entr...  \n",
       "\n",
       "[2334177 rows x 2 columns]"
      ]
     },
     "execution_count": 5,
     "metadata": {},
     "output_type": "execute_result"
    }
   ],
   "source": [
    "df"
   ]
  },
  {
   "cell_type": "code",
   "execution_count": 13,
   "id": "ac7134a7-84bc-40b6-bcd4-9c2239cb0d09",
   "metadata": {},
   "outputs": [
    {
     "data": {
      "text/plain": [
       "{'Accessibility': None,\n",
       " 'Activities': None,\n",
       " 'Amenities': None,\n",
       " 'Atmosphere': None,\n",
       " 'Crowd': None,\n",
       " 'Dining options': None,\n",
       " 'From the business': None,\n",
       " 'Getting here': None,\n",
       " 'Health & safety': None,\n",
       " 'Health and safety': None,\n",
       " 'Highlights': None,\n",
       " 'Lodging options': None,\n",
       " 'Offerings': None,\n",
       " 'Payments': array(['Checks', 'Debit cards', 'Credit cards'], dtype=object),\n",
       " 'Planning': None,\n",
       " 'Popular for': None,\n",
       " 'Recycling': None,\n",
       " 'Service options': array(['In-store shopping'], dtype=object)}"
      ]
     },
     "execution_count": 13,
     "metadata": {},
     "output_type": "execute_result"
    }
   ],
   "source": [
    "df.iloc[2][\"MISC\"]"
   ]
  },
  {
   "cell_type": "code",
   "execution_count": 34,
   "id": "43e2de46-a308-4c40-bb72-ec25eddfba9d",
   "metadata": {},
   "outputs": [
    {
     "name": "stdout",
     "output_type": "stream",
     "text": [
      "0x80dd2b4c8555edb7:0xfc33d65c4bdbef42 Accessibility Wheelchair accessible entrance\n",
      "0x80dd2b4c8555edb7:0xfc33d65c4bdbef42 Amenities Good for kids\n",
      "0x80dd2b4c8555edb7:0xfc33d65c4bdbef42 Atmosphere Casual\n",
      "0x80dd2b4c8555edb7:0xfc33d65c4bdbef42 Crowd College students\n",
      "0x80dd2b4c8555edb7:0xfc33d65c4bdbef42 Dining options Lunch\n",
      "0x80dd2b4c8555edb7:0xfc33d65c4bdbef42 Dining options Dinner\n",
      "0x80dd2b4c8555edb7:0xfc33d65c4bdbef42 Health & safety Mask required\n",
      "0x80dd2b4c8555edb7:0xfc33d65c4bdbef42 Health & safety Staff wear masks\n",
      "0x80dd2b4c8555edb7:0xfc33d65c4bdbef42 Health & safety Staff required to disinfect surfaces between visits\n",
      "0x80dd2b4c8555edb7:0xfc33d65c4bdbef42 Offerings Comfort food\n",
      "0x80dd2b4c8555edb7:0xfc33d65c4bdbef42 Offerings Quick bite\n",
      "0x80dd2b4c8555edb7:0xfc33d65c4bdbef42 Offerings Small plates\n",
      "0x80dd2b4c8555edb7:0xfc33d65c4bdbef42 Popular for Lunch\n",
      "0x80dd2b4c8555edb7:0xfc33d65c4bdbef42 Popular for Dinner\n",
      "0x80dd2b4c8555edb7:0xfc33d65c4bdbef42 Popular for Solo dining\n",
      "0x80dd2b4c8555edb7:0xfc33d65c4bdbef42 Service options Outdoor seating\n",
      "0x80dd2b4c8555edb7:0xfc33d65c4bdbef42 Service options Curbside pickup\n",
      "0x80dd2b4c8555edb7:0xfc33d65c4bdbef42 Service options No-contact delivery\n",
      "0x80dd2b4c8555edb7:0xfc33d65c4bdbef42 Service options Delivery\n",
      "0x80dd2b4c8555edb7:0xfc33d65c4bdbef42 Service options Takeout\n",
      "0x80dd2b4c8555edb7:0xfc33d65c4bdbef42 Service options Dine-in\n"
     ]
    }
   ],
   "source": [
    "MISC_dict_str = []\n",
    "row = df.iloc[5]\n",
    "MISC_dict = row[\"MISC\"]\n",
    "for service, description_list in MISC_dict.items():\n",
    "    if description_list is not None:\n",
    "        for description in description_list:\n",
    "            MISC_dict_str.append({\n",
    "                \"gmapid\": row[\"gmap_id\"],\n",
    "                \"servicio\": service,\n",
    "                \"descripción\": description\n",
    "            })\n",
    "            print(row[\"gmap_id\"],service,description)\n",
    "# MISC_dict_str\n",
    "    \n",
    "\n"
   ]
  },
  {
   "cell_type": "code",
   "execution_count": 47,
   "id": "3f8635a6-c820-4080-b2d0-69401017f086",
   "metadata": {},
   "outputs": [],
   "source": [
    "# Crear una lista de diccionarios con los datos del DataFrame\n",
    "MISC_dict_str = []\n",
    "for i in range(len(df)):\n",
    "    row = df.iloc[i]\n",
    "    MISC_dict = row[\"MISC\"]\n",
    "    for service, description_list in MISC_dict.items():\n",
    "        if description_list is not None:\n",
    "            for description in description_list:\n",
    "                MISC_dict_str.append({\n",
    "                    \"gmapid\": row[\"gmap_id\"],\n",
    "                    \"servicio\": service,\n",
    "                    \"descripción\": description\n",
    "                })\n",
    "\n",
    "# Crear un DataFrame a partir de la lista de diccionarios\n",
    "df_servicios = pd.DataFrame(MISC_dict_str)\n",
    "\n",
    "# Eliminar duplicados\n",
    "df_servicios = df_servicios.drop_duplicates([\"gmapid\", \"servicio\", \"descripción\"])\n",
    "\n",
    "\n",
    "# Guardar el DataFrame en un CSV\n",
    "df_servicios.to_csv(bucket.blob(\"etl/metadata-sitios-MISC-servicios.csv\").open(\"w\"), index=False)\n",
    "# Guardar el DataFrame en un parquet\n",
    "df_servicios.to_parquet(bucket.blob(\"etl/metadata-sitios-MISC-servicios.parquet\").open(\"wb\"))\n",
    " "
   ]
  },
  {
   "cell_type": "code",
   "execution_count": 50,
   "id": "de2ea35b-d257-4afa-8faa-fd7f9b6306fd",
   "metadata": {},
   "outputs": [
    {
     "data": {
      "text/html": [
       "<div>\n",
       "<style scoped>\n",
       "    .dataframe tbody tr th:only-of-type {\n",
       "        vertical-align: middle;\n",
       "    }\n",
       "\n",
       "    .dataframe tbody tr th {\n",
       "        vertical-align: top;\n",
       "    }\n",
       "\n",
       "    .dataframe thead th {\n",
       "        text-align: right;\n",
       "    }\n",
       "</style>\n",
       "<table border=\"1\" class=\"dataframe\">\n",
       "  <thead>\n",
       "    <tr style=\"text-align: right;\">\n",
       "      <th></th>\n",
       "      <th>gmapid</th>\n",
       "      <th>servicio</th>\n",
       "      <th>descripción</th>\n",
       "    </tr>\n",
       "  </thead>\n",
       "  <tbody>\n",
       "    <tr>\n",
       "      <th>0</th>\n",
       "      <td>0x88f16e41928ff687:0x883dad4fd048e8f8</td>\n",
       "      <td>Accessibility</td>\n",
       "      <td>Wheelchair accessible entrance</td>\n",
       "    </tr>\n",
       "    <tr>\n",
       "      <th>1</th>\n",
       "      <td>0x88f16e41928ff687:0x883dad4fd048e8f8</td>\n",
       "      <td>Health &amp; safety</td>\n",
       "      <td>Mask required</td>\n",
       "    </tr>\n",
       "    <tr>\n",
       "      <th>2</th>\n",
       "      <td>0x88f16e41928ff687:0x883dad4fd048e8f8</td>\n",
       "      <td>Health &amp; safety</td>\n",
       "      <td>Staff required to disinfect surfaces between v...</td>\n",
       "    </tr>\n",
       "    <tr>\n",
       "      <th>3</th>\n",
       "      <td>0x88f16e41928ff687:0x883dad4fd048e8f8</td>\n",
       "      <td>Planning</td>\n",
       "      <td>Quick visit</td>\n",
       "    </tr>\n",
       "    <tr>\n",
       "      <th>4</th>\n",
       "      <td>0x88f16e41928ff687:0x883dad4fd048e8f8</td>\n",
       "      <td>Service options</td>\n",
       "      <td>In-store shopping</td>\n",
       "    </tr>\n",
       "    <tr>\n",
       "      <th>...</th>\n",
       "      <td>...</td>\n",
       "      <td>...</td>\n",
       "      <td>...</td>\n",
       "    </tr>\n",
       "    <tr>\n",
       "      <th>10657313</th>\n",
       "      <td>0x88d9e872a9e39f3d:0x5de29f50507e5d73</td>\n",
       "      <td>Health &amp; safety</td>\n",
       "      <td>Mask required</td>\n",
       "    </tr>\n",
       "    <tr>\n",
       "      <th>10657314</th>\n",
       "      <td>0x88d9e872a9e39f3d:0x5de29f50507e5d73</td>\n",
       "      <td>Planning</td>\n",
       "      <td>Quick visit</td>\n",
       "    </tr>\n",
       "    <tr>\n",
       "      <th>10657315</th>\n",
       "      <td>0x88d9e872a9e39f3d:0x5de29f50507e5d73</td>\n",
       "      <td>Service options</td>\n",
       "      <td>Curbside pickup</td>\n",
       "    </tr>\n",
       "    <tr>\n",
       "      <th>10657316</th>\n",
       "      <td>0x88d9e872a9e39f3d:0x5de29f50507e5d73</td>\n",
       "      <td>Service options</td>\n",
       "      <td>In-store shopping</td>\n",
       "    </tr>\n",
       "    <tr>\n",
       "      <th>10657317</th>\n",
       "      <td>0x54956b3944b1654d:0x7797cead9a485c22</td>\n",
       "      <td>Accessibility</td>\n",
       "      <td>Wheelchair accessible entrance</td>\n",
       "    </tr>\n",
       "  </tbody>\n",
       "</table>\n",
       "<p>10593141 rows × 3 columns</p>\n",
       "</div>"
      ],
      "text/plain": [
       "                                         gmapid         servicio  \\\n",
       "0         0x88f16e41928ff687:0x883dad4fd048e8f8    Accessibility   \n",
       "1         0x88f16e41928ff687:0x883dad4fd048e8f8  Health & safety   \n",
       "2         0x88f16e41928ff687:0x883dad4fd048e8f8  Health & safety   \n",
       "3         0x88f16e41928ff687:0x883dad4fd048e8f8         Planning   \n",
       "4         0x88f16e41928ff687:0x883dad4fd048e8f8  Service options   \n",
       "...                                         ...              ...   \n",
       "10657313  0x88d9e872a9e39f3d:0x5de29f50507e5d73  Health & safety   \n",
       "10657314  0x88d9e872a9e39f3d:0x5de29f50507e5d73         Planning   \n",
       "10657315  0x88d9e872a9e39f3d:0x5de29f50507e5d73  Service options   \n",
       "10657316  0x88d9e872a9e39f3d:0x5de29f50507e5d73  Service options   \n",
       "10657317  0x54956b3944b1654d:0x7797cead9a485c22    Accessibility   \n",
       "\n",
       "                                                descripción  \n",
       "0                            Wheelchair accessible entrance  \n",
       "1                                             Mask required  \n",
       "2         Staff required to disinfect surfaces between v...  \n",
       "3                                               Quick visit  \n",
       "4                                         In-store shopping  \n",
       "...                                                     ...  \n",
       "10657313                                      Mask required  \n",
       "10657314                                        Quick visit  \n",
       "10657315                                    Curbside pickup  \n",
       "10657316                                  In-store shopping  \n",
       "10657317                     Wheelchair accessible entrance  \n",
       "\n",
       "[10593141 rows x 3 columns]"
      ]
     },
     "execution_count": 50,
     "metadata": {},
     "output_type": "execute_result"
    }
   ],
   "source": [
    "df_servicios"
   ]
  },
  {
   "cell_type": "code",
   "execution_count": 51,
   "id": "a19e9646-c091-4f47-9b1e-ce3d3db79b40",
   "metadata": {},
   "outputs": [
    {
     "name": "stdout",
     "output_type": "stream",
     "text": [
      "<class 'pandas.core.frame.DataFrame'>\n",
      "Index: 10593141 entries, 0 to 10657317\n",
      "Data columns (total 3 columns):\n",
      " #   Column       Dtype \n",
      "---  ------       ----- \n",
      " 0   gmapid       object\n",
      " 1   servicio     object\n",
      " 2   descripción  object\n",
      "dtypes: object(3)\n",
      "memory usage: 323.3+ MB\n"
     ]
    }
   ],
   "source": [
    "df_servicios.info()"
   ]
  },
  {
   "cell_type": "code",
   "execution_count": 52,
   "id": "5ce6c1ab-7bf0-4dd0-bf0a-8c696b78ef2b",
   "metadata": {},
   "outputs": [
    {
     "data": {
      "text/html": [
       "<div>\n",
       "<style scoped>\n",
       "    .dataframe tbody tr th:only-of-type {\n",
       "        vertical-align: middle;\n",
       "    }\n",
       "\n",
       "    .dataframe tbody tr th {\n",
       "        vertical-align: top;\n",
       "    }\n",
       "\n",
       "    .dataframe thead th {\n",
       "        text-align: right;\n",
       "    }\n",
       "</style>\n",
       "<table border=\"1\" class=\"dataframe\">\n",
       "  <thead>\n",
       "    <tr style=\"text-align: right;\">\n",
       "      <th></th>\n",
       "      <th>gmapid</th>\n",
       "      <th>servicio</th>\n",
       "      <th>descripción</th>\n",
       "    </tr>\n",
       "  </thead>\n",
       "  <tbody>\n",
       "    <tr>\n",
       "      <th>count</th>\n",
       "      <td>10593141</td>\n",
       "      <td>10593141</td>\n",
       "      <td>10593141</td>\n",
       "    </tr>\n",
       "    <tr>\n",
       "      <th>unique</th>\n",
       "      <td>2315380</td>\n",
       "      <td>18</td>\n",
       "      <td>206</td>\n",
       "    </tr>\n",
       "    <tr>\n",
       "      <th>top</th>\n",
       "      <td>0x872b06f775659a61:0x65774b1aeb749bb1</td>\n",
       "      <td>Accessibility</td>\n",
       "      <td>Wheelchair accessible entrance</td>\n",
       "    </tr>\n",
       "    <tr>\n",
       "      <th>freq</th>\n",
       "      <td>64</td>\n",
       "      <td>2336421</td>\n",
       "      <td>1878590</td>\n",
       "    </tr>\n",
       "  </tbody>\n",
       "</table>\n",
       "</div>"
      ],
      "text/plain": [
       "                                       gmapid       servicio  \\\n",
       "count                                10593141       10593141   \n",
       "unique                                2315380             18   \n",
       "top     0x872b06f775659a61:0x65774b1aeb749bb1  Accessibility   \n",
       "freq                                       64        2336421   \n",
       "\n",
       "                           descripción  \n",
       "count                         10593141  \n",
       "unique                             206  \n",
       "top     Wheelchair accessible entrance  \n",
       "freq                           1878590  "
      ]
     },
     "execution_count": 52,
     "metadata": {},
     "output_type": "execute_result"
    }
   ],
   "source": [
    "df_servicios.describe()"
   ]
  },
  {
   "cell_type": "code",
   "execution_count": 70,
   "id": "b810154d-85d0-4e5a-968d-3916488d5ddb",
   "metadata": {},
   "outputs": [
    {
     "data": {
      "application/vnd.jupyter.widget-view+json": {
       "model_id": "a0b0ff31d59942a2a878fbb906e316f9",
       "version_major": 2,
       "version_minor": 0
      },
      "text/plain": [
       "Summarize dataset:   0%|          | 0/5 [00:00<?, ?it/s]"
      ]
     },
     "metadata": {},
     "output_type": "display_data"
    },
    {
     "data": {
      "application/vnd.jupyter.widget-view+json": {
       "model_id": "ec104cb3c2204b99b4f748544fb56e9d",
       "version_major": 2,
       "version_minor": 0
      },
      "text/plain": [
       "Generate report structure:   0%|          | 0/1 [00:00<?, ?it/s]"
      ]
     },
     "metadata": {},
     "output_type": "display_data"
    },
    {
     "data": {
      "application/vnd.jupyter.widget-view+json": {
       "model_id": "8ae87625b91c4a7b9a8cc8fc4b9dadbf",
       "version_major": 2,
       "version_minor": 0
      },
      "text/plain": [
       "Render HTML:   0%|          | 0/1 [00:00<?, ?it/s]"
      ]
     },
     "metadata": {},
     "output_type": "display_data"
    },
    {
     "data": {
      "application/vnd.jupyter.widget-view+json": {
       "model_id": "a34939e994b5405eb0af5e247546568b",
       "version_major": 2,
       "version_minor": 0
      },
      "text/plain": [
       "Export report to file:   0%|          | 0/1 [00:00<?, ?it/s]"
      ]
     },
     "metadata": {},
     "output_type": "display_data"
    },
    {
     "data": {
      "text/plain": [
       "False"
      ]
     },
     "execution_count": 70,
     "metadata": {},
     "output_type": "execute_result"
    }
   ],
   "source": [
    "# Generar el informe de análisis\n",
    "profile = pandas_profiling.ProfileReport(df_servicios)\n",
    "\n",
    "# Mostrar el informe\n",
    "profile.to_file(\"metadata-sitios-MISC-servicios.html\")\n",
    "webbrowser.open(\"metadata-sitios-MISC-servicios.html\")\n",
    "\n",
    "# profile.to_file(bucket.blob(\"etl/metadata-sitios-MISC-servicios.html\").open(\"w\"))\n"
   ]
  }
 ],
 "metadata": {
  "environment": {
   "kernel": "conda-root-py",
   "name": "workbench-notebooks.m111",
   "type": "gcloud",
   "uri": "gcr.io/deeplearning-platform-release/workbench-notebooks:m111"
  },
  "kernelspec": {
   "display_name": "Python 3",
   "language": "python",
   "name": "conda-root-py"
  },
  "language_info": {
   "codemirror_mode": {
    "name": "ipython",
    "version": 3
   },
   "file_extension": ".py",
   "mimetype": "text/x-python",
   "name": "python",
   "nbconvert_exporter": "python",
   "pygments_lexer": "ipython3",
   "version": "3.10.12"
  }
 },
 "nbformat": 4,
 "nbformat_minor": 5
}
