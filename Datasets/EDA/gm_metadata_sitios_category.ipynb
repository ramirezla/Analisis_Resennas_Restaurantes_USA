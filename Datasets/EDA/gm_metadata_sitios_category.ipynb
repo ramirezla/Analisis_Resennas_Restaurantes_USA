{
 "cells": [
  {
   "cell_type": "markdown",
   "id": "9ae62e4d-e611-41f9-a20d-051025c4fadf",
   "metadata": {},
   "source": [
    "<h1 align=\"center\"> <span style=\"font-size: 20px;\"> Proyecto Final Grupo Nº 7 </span> <br>\n",
    "    <align=\"center\"> <span style=\"font-size: 15px;\">  Proyecto Yelp & Google Maps - Reviewa y Recomendaciones</span><br>         \n",
    "<align=\"center\"> <span style=\"font-size: 15px;\">@utores:  Javier Castro, Luca Ramallo, Luis Ramírez, Lesmen García.</span> <br>\n",
    "  <a href=\"https://github.com/lesmengp/Proyecto-Final-Grupo-07.git\">GitHub: <span style=\"font-size: 20px;\">Proyecto Yelp & Google Maps</span></a> \n",
    "</h1>"
   ]
  },
  {
   "cell_type": "markdown",
   "id": "a2827024-c15b-4a51-bd42-1bc6ba7a04e4",
   "metadata": {},
   "source": [
    "## Librerías"
   ]
  },
  {
   "cell_type": "code",
   "execution_count": 3,
   "id": "570c8b4d-f3cb-47c0-aadc-21e7a89d23c4",
   "metadata": {},
   "outputs": [],
   "source": [
    "from google.cloud import bigquery\n",
    "from google.cloud import storage\n",
    "import pandas as pd\n",
    "import json\n",
    "import os\n",
    "import io\n",
    "import ast\n",
    "import numpy as np\n",
    "import matplotlib.pyplot as plt\n",
    "import seaborn as sns\n",
    "import pandas_profiling\n",
    "import sweetviz as sv\n",
    "import webbrowser"
   ]
  },
  {
   "cell_type": "markdown",
   "id": "83cde23e-e2bb-4b87-9ce0-bd3c617c077c",
   "metadata": {},
   "source": [
    "<h2> Google Cloud Platform </h2>"
   ]
  },
  {
   "cell_type": "code",
   "execution_count": 4,
   "id": "304d4f50-4966-468a-b56b-32613ef42d14",
   "metadata": {},
   "outputs": [],
   "source": [
    "# Google Cloud Platform\n",
    "# Obtener el proyecto actual\n",
    "project_id = os.environ.get(\"Proyecto Final - Henry\")\n",
    "\n",
    "# Crear un cliente de Cloud Storage\n",
    "client = storage.Client(project=project_id)\n",
    "\n",
    "# Obtener el nombre del bucket\n",
    "bucket_name = \"gmy\"\n",
    "\n",
    "# Obtener el objeto de referencia al bucket\n",
    "bucket = client.bucket(bucket_name)"
   ]
  },
  {
   "cell_type": "code",
   "execution_count": 5,
   "id": "dec3a511-4dbe-45a3-aa3b-c3e4663fb8d5",
   "metadata": {},
   "outputs": [
    {
     "data": {
      "text/html": [
       "<div>\n",
       "<style scoped>\n",
       "    .dataframe tbody tr th:only-of-type {\n",
       "        vertical-align: middle;\n",
       "    }\n",
       "\n",
       "    .dataframe tbody tr th {\n",
       "        vertical-align: top;\n",
       "    }\n",
       "\n",
       "    .dataframe thead th {\n",
       "        text-align: right;\n",
       "    }\n",
       "</style>\n",
       "<table border=\"1\" class=\"dataframe\">\n",
       "  <thead>\n",
       "    <tr style=\"text-align: right;\">\n",
       "      <th></th>\n",
       "      <th>gmap_id</th>\n",
       "      <th>category</th>\n",
       "    </tr>\n",
       "  </thead>\n",
       "  <tbody>\n",
       "    <tr>\n",
       "      <th>0</th>\n",
       "      <td>0x88f16e41928ff687:0x883dad4fd048e8f8</td>\n",
       "      <td>[Pharmacy]</td>\n",
       "    </tr>\n",
       "    <tr>\n",
       "      <th>1</th>\n",
       "      <td>0x80c2c98c0e3c16fd:0x29ec8a728764fdf9</td>\n",
       "      <td>[Textile exporter]</td>\n",
       "    </tr>\n",
       "    <tr>\n",
       "      <th>2</th>\n",
       "      <td>0x80c2c778e3b73d33:0xbdc58662a4a97d49</td>\n",
       "      <td>[Korean restaurant]</td>\n",
       "    </tr>\n",
       "    <tr>\n",
       "      <th>3</th>\n",
       "      <td>0x80c2c89923b27a41:0x32041559418d447</td>\n",
       "      <td>[Fabric store]</td>\n",
       "    </tr>\n",
       "    <tr>\n",
       "      <th>4</th>\n",
       "      <td>0x80c2c632f933b073:0xc31785961fe826a6</td>\n",
       "      <td>[Fabric store]</td>\n",
       "    </tr>\n",
       "    <tr>\n",
       "      <th>...</th>\n",
       "      <td>...</td>\n",
       "      <td>...</td>\n",
       "    </tr>\n",
       "    <tr>\n",
       "      <th>3025006</th>\n",
       "      <td>0x89c6c74f43a49b55:0x6be6995921c58b12</td>\n",
       "      <td>[Steak house, Fine dining restaurant, Seafood ...</td>\n",
       "    </tr>\n",
       "    <tr>\n",
       "      <th>3025007</th>\n",
       "      <td>0x89da1787d3fdc4a5:0xce92ea6e3cd4d1cc</td>\n",
       "      <td>[Chevrolet dealer]</td>\n",
       "    </tr>\n",
       "    <tr>\n",
       "      <th>3025008</th>\n",
       "      <td>0x89da6b9ce832726f:0xbd0d3630f1e3b42e</td>\n",
       "      <td>[Veterinarian]</td>\n",
       "    </tr>\n",
       "    <tr>\n",
       "      <th>3025009</th>\n",
       "      <td>0x88d9e872a9e39f3d:0x5de29f50507e5d73</td>\n",
       "      <td>[Animal feed store]</td>\n",
       "    </tr>\n",
       "    <tr>\n",
       "      <th>3025010</th>\n",
       "      <td>0x54956b3944b1654d:0x7797cead9a485c22</td>\n",
       "      <td>[Lodging]</td>\n",
       "    </tr>\n",
       "  </tbody>\n",
       "</table>\n",
       "<p>3025011 rows × 2 columns</p>\n",
       "</div>"
      ],
      "text/plain": [
       "                                       gmap_id  \\\n",
       "0        0x88f16e41928ff687:0x883dad4fd048e8f8   \n",
       "1        0x80c2c98c0e3c16fd:0x29ec8a728764fdf9   \n",
       "2        0x80c2c778e3b73d33:0xbdc58662a4a97d49   \n",
       "3         0x80c2c89923b27a41:0x32041559418d447   \n",
       "4        0x80c2c632f933b073:0xc31785961fe826a6   \n",
       "...                                        ...   \n",
       "3025006  0x89c6c74f43a49b55:0x6be6995921c58b12   \n",
       "3025007  0x89da1787d3fdc4a5:0xce92ea6e3cd4d1cc   \n",
       "3025008  0x89da6b9ce832726f:0xbd0d3630f1e3b42e   \n",
       "3025009  0x88d9e872a9e39f3d:0x5de29f50507e5d73   \n",
       "3025010  0x54956b3944b1654d:0x7797cead9a485c22   \n",
       "\n",
       "                                                  category  \n",
       "0                                               [Pharmacy]  \n",
       "1                                       [Textile exporter]  \n",
       "2                                      [Korean restaurant]  \n",
       "3                                           [Fabric store]  \n",
       "4                                           [Fabric store]  \n",
       "...                                                    ...  \n",
       "3025006  [Steak house, Fine dining restaurant, Seafood ...  \n",
       "3025007                                 [Chevrolet dealer]  \n",
       "3025008                                     [Veterinarian]  \n",
       "3025009                                [Animal feed store]  \n",
       "3025010                                          [Lodging]  \n",
       "\n",
       "[3025011 rows x 2 columns]"
      ]
     },
     "execution_count": 5,
     "metadata": {},
     "output_type": "execute_result"
    }
   ],
   "source": [
    "# Obtener el blob\n",
    "blob = bucket.get_blob('etl/metadata-sitios-category.parquet')\n",
    "\n",
    "# Descargar el blob\n",
    "data = blob.download_as_string()\n",
    "\n",
    "# Convertir el objeto de bytes a un objeto similar a un archivo\n",
    "file = io.BytesIO(data)\n",
    "\n",
    "# Leer el archivo parquet en un DataFrame\n",
    "df = pd.read_parquet(file)\n",
    "\n",
    "# Imprimir el DataFrame\n",
    "df"
   ]
  },
  {
   "cell_type": "code",
   "execution_count": 11,
   "id": "2d445d6d-007a-4382-abe0-7b3bb5808cc3",
   "metadata": {},
   "outputs": [],
   "source": [
    "df = df.dropna(subset=[\"category\"])"
   ]
  },
  {
   "cell_type": "code",
   "execution_count": 12,
   "id": "89560ffb-db68-4fb6-94a7-ef9cce9b9f89",
   "metadata": {},
   "outputs": [
    {
     "data": {
      "text/html": [
       "<div>\n",
       "<style scoped>\n",
       "    .dataframe tbody tr th:only-of-type {\n",
       "        vertical-align: middle;\n",
       "    }\n",
       "\n",
       "    .dataframe tbody tr th {\n",
       "        vertical-align: top;\n",
       "    }\n",
       "\n",
       "    .dataframe thead th {\n",
       "        text-align: right;\n",
       "    }\n",
       "</style>\n",
       "<table border=\"1\" class=\"dataframe\">\n",
       "  <thead>\n",
       "    <tr style=\"text-align: right;\">\n",
       "      <th></th>\n",
       "      <th>gmap_id</th>\n",
       "      <th>category</th>\n",
       "    </tr>\n",
       "  </thead>\n",
       "  <tbody>\n",
       "    <tr>\n",
       "      <th>0</th>\n",
       "      <td>0x88f16e41928ff687:0x883dad4fd048e8f8</td>\n",
       "      <td>[Pharmacy]</td>\n",
       "    </tr>\n",
       "    <tr>\n",
       "      <th>1</th>\n",
       "      <td>0x80c2c98c0e3c16fd:0x29ec8a728764fdf9</td>\n",
       "      <td>[Textile exporter]</td>\n",
       "    </tr>\n",
       "    <tr>\n",
       "      <th>2</th>\n",
       "      <td>0x80c2c778e3b73d33:0xbdc58662a4a97d49</td>\n",
       "      <td>[Korean restaurant]</td>\n",
       "    </tr>\n",
       "    <tr>\n",
       "      <th>3</th>\n",
       "      <td>0x80c2c89923b27a41:0x32041559418d447</td>\n",
       "      <td>[Fabric store]</td>\n",
       "    </tr>\n",
       "    <tr>\n",
       "      <th>4</th>\n",
       "      <td>0x80c2c632f933b073:0xc31785961fe826a6</td>\n",
       "      <td>[Fabric store]</td>\n",
       "    </tr>\n",
       "    <tr>\n",
       "      <th>...</th>\n",
       "      <td>...</td>\n",
       "      <td>...</td>\n",
       "    </tr>\n",
       "    <tr>\n",
       "      <th>3025006</th>\n",
       "      <td>0x89c6c74f43a49b55:0x6be6995921c58b12</td>\n",
       "      <td>[Steak house, Fine dining restaurant, Seafood ...</td>\n",
       "    </tr>\n",
       "    <tr>\n",
       "      <th>3025007</th>\n",
       "      <td>0x89da1787d3fdc4a5:0xce92ea6e3cd4d1cc</td>\n",
       "      <td>[Chevrolet dealer]</td>\n",
       "    </tr>\n",
       "    <tr>\n",
       "      <th>3025008</th>\n",
       "      <td>0x89da6b9ce832726f:0xbd0d3630f1e3b42e</td>\n",
       "      <td>[Veterinarian]</td>\n",
       "    </tr>\n",
       "    <tr>\n",
       "      <th>3025009</th>\n",
       "      <td>0x88d9e872a9e39f3d:0x5de29f50507e5d73</td>\n",
       "      <td>[Animal feed store]</td>\n",
       "    </tr>\n",
       "    <tr>\n",
       "      <th>3025010</th>\n",
       "      <td>0x54956b3944b1654d:0x7797cead9a485c22</td>\n",
       "      <td>[Lodging]</td>\n",
       "    </tr>\n",
       "  </tbody>\n",
       "</table>\n",
       "<p>3007592 rows × 2 columns</p>\n",
       "</div>"
      ],
      "text/plain": [
       "                                       gmap_id  \\\n",
       "0        0x88f16e41928ff687:0x883dad4fd048e8f8   \n",
       "1        0x80c2c98c0e3c16fd:0x29ec8a728764fdf9   \n",
       "2        0x80c2c778e3b73d33:0xbdc58662a4a97d49   \n",
       "3         0x80c2c89923b27a41:0x32041559418d447   \n",
       "4        0x80c2c632f933b073:0xc31785961fe826a6   \n",
       "...                                        ...   \n",
       "3025006  0x89c6c74f43a49b55:0x6be6995921c58b12   \n",
       "3025007  0x89da1787d3fdc4a5:0xce92ea6e3cd4d1cc   \n",
       "3025008  0x89da6b9ce832726f:0xbd0d3630f1e3b42e   \n",
       "3025009  0x88d9e872a9e39f3d:0x5de29f50507e5d73   \n",
       "3025010  0x54956b3944b1654d:0x7797cead9a485c22   \n",
       "\n",
       "                                                  category  \n",
       "0                                               [Pharmacy]  \n",
       "1                                       [Textile exporter]  \n",
       "2                                      [Korean restaurant]  \n",
       "3                                           [Fabric store]  \n",
       "4                                           [Fabric store]  \n",
       "...                                                    ...  \n",
       "3025006  [Steak house, Fine dining restaurant, Seafood ...  \n",
       "3025007                                 [Chevrolet dealer]  \n",
       "3025008                                     [Veterinarian]  \n",
       "3025009                                [Animal feed store]  \n",
       "3025010                                          [Lodging]  \n",
       "\n",
       "[3007592 rows x 2 columns]"
      ]
     },
     "execution_count": 12,
     "metadata": {},
     "output_type": "execute_result"
    }
   ],
   "source": [
    "df"
   ]
  },
  {
   "cell_type": "code",
   "execution_count": 24,
   "id": "ac7134a7-84bc-40b6-bcd4-9c2239cb0d09",
   "metadata": {},
   "outputs": [
    {
     "data": {
      "text/plain": [
       "array(['Discount supermarket', 'Discount store', 'Dollar store'],\n",
       "      dtype=object)"
      ]
     },
     "execution_count": 24,
     "metadata": {},
     "output_type": "execute_result"
    }
   ],
   "source": [
    "df.iloc[1502][\"category\"]"
   ]
  },
  {
   "cell_type": "code",
   "execution_count": 25,
   "id": "43e2de46-a308-4c40-bb72-ec25eddfba9d",
   "metadata": {},
   "outputs": [
    {
     "name": "stdout",
     "output_type": "stream",
     "text": [
      "0x80dcc9b1b0517d65:0x70bc4c6d139812d6 Discount supermarket\n",
      "0x80dcc9b1b0517d65:0x70bc4c6d139812d6 Discount store\n",
      "0x80dcc9b1b0517d65:0x70bc4c6d139812d6 Dollar store\n"
     ]
    },
    {
     "data": {
      "text/plain": [
       "[{'gmapid': '0x80dcc9b1b0517d65:0x70bc4c6d139812d6',\n",
       "  'categoria': 'Discount supermarket'},\n",
       " {'gmapid': '0x80dcc9b1b0517d65:0x70bc4c6d139812d6',\n",
       "  'categoria': 'Discount store'},\n",
       " {'gmapid': '0x80dcc9b1b0517d65:0x70bc4c6d139812d6',\n",
       "  'categoria': 'Dollar store'}]"
      ]
     },
     "execution_count": 25,
     "metadata": {},
     "output_type": "execute_result"
    }
   ],
   "source": [
    "category_dict_str = []\n",
    "row = df.iloc[1502]\n",
    "category_list = row[\"category\"]\n",
    "if category_list is not None:\n",
    "    for cat in category_list:\n",
    "        category_dict_str.append({\n",
    "            \"gmapid\": row[\"gmap_id\"],\n",
    "            \"categoria\": cat                \n",
    "        })\n",
    "        print(row[\"gmap_id\"],cat)\n",
    "category_dict_str"
   ]
  },
  {
   "cell_type": "code",
   "execution_count": 26,
   "id": "3f8635a6-c820-4080-b2d0-69401017f086",
   "metadata": {},
   "outputs": [],
   "source": [
    "# Crear una lista de diccionarios con los datos del DataFrame\n",
    "category_dict_str = []\n",
    "for i in range(len(df)):\n",
    "    row = df.iloc[i]\n",
    "    category_list = row[\"category\"]\n",
    "    if category_list is not None:\n",
    "        for cat in category_list:\n",
    "            category_dict_str.append({\n",
    "                \"gmapid\": row[\"gmap_id\"],\n",
    "                \"categoria\": cat                \n",
    "            })\n",
    "\n",
    "# Crear un DataFrame a partir de la lista de diccionarios\n",
    "df_categoria = pd.DataFrame(category_dict_str)\n",
    "\n",
    "# Eliminar duplicados\n",
    "df_categoria = df_categoria.drop_duplicates([\"gmapid\", \"categoria\"])\n",
    "\n",
    "# Guardar el DataFrame en un CSV\n",
    "df_categoria.to_csv(bucket.blob(\"etl/metadata-sitios-category-detalle.csv\").open(\"w\"), index=False)\n",
    "# Guardar el DataFrame en un parquet\n",
    "df_categoria.to_parquet(bucket.blob(\"etl/metadata-sitios-category-detalle.parquet\").open(\"wb\"))\n",
    " "
   ]
  },
  {
   "cell_type": "code",
   "execution_count": 27,
   "id": "de2ea35b-d257-4afa-8faa-fd7f9b6306fd",
   "metadata": {},
   "outputs": [
    {
     "data": {
      "text/html": [
       "<div>\n",
       "<style scoped>\n",
       "    .dataframe tbody tr th:only-of-type {\n",
       "        vertical-align: middle;\n",
       "    }\n",
       "\n",
       "    .dataframe tbody tr th {\n",
       "        vertical-align: top;\n",
       "    }\n",
       "\n",
       "    .dataframe thead th {\n",
       "        text-align: right;\n",
       "    }\n",
       "</style>\n",
       "<table border=\"1\" class=\"dataframe\">\n",
       "  <thead>\n",
       "    <tr style=\"text-align: right;\">\n",
       "      <th></th>\n",
       "      <th>gmapid</th>\n",
       "      <th>categoria</th>\n",
       "    </tr>\n",
       "  </thead>\n",
       "  <tbody>\n",
       "    <tr>\n",
       "      <th>0</th>\n",
       "      <td>0x88f16e41928ff687:0x883dad4fd048e8f8</td>\n",
       "      <td>Pharmacy</td>\n",
       "    </tr>\n",
       "    <tr>\n",
       "      <th>1</th>\n",
       "      <td>0x80c2c98c0e3c16fd:0x29ec8a728764fdf9</td>\n",
       "      <td>Textile exporter</td>\n",
       "    </tr>\n",
       "    <tr>\n",
       "      <th>2</th>\n",
       "      <td>0x80c2c778e3b73d33:0xbdc58662a4a97d49</td>\n",
       "      <td>Korean restaurant</td>\n",
       "    </tr>\n",
       "    <tr>\n",
       "      <th>3</th>\n",
       "      <td>0x80c2c89923b27a41:0x32041559418d447</td>\n",
       "      <td>Fabric store</td>\n",
       "    </tr>\n",
       "    <tr>\n",
       "      <th>4</th>\n",
       "      <td>0x80c2c632f933b073:0xc31785961fe826a6</td>\n",
       "      <td>Fabric store</td>\n",
       "    </tr>\n",
       "    <tr>\n",
       "      <th>...</th>\n",
       "      <td>...</td>\n",
       "      <td>...</td>\n",
       "    </tr>\n",
       "    <tr>\n",
       "      <th>6262691</th>\n",
       "      <td>0x89c6c74f43a49b55:0x6be6995921c58b12</td>\n",
       "      <td>Seafood restaurant</td>\n",
       "    </tr>\n",
       "    <tr>\n",
       "      <th>6262692</th>\n",
       "      <td>0x89da1787d3fdc4a5:0xce92ea6e3cd4d1cc</td>\n",
       "      <td>Chevrolet dealer</td>\n",
       "    </tr>\n",
       "    <tr>\n",
       "      <th>6262693</th>\n",
       "      <td>0x89da6b9ce832726f:0xbd0d3630f1e3b42e</td>\n",
       "      <td>Veterinarian</td>\n",
       "    </tr>\n",
       "    <tr>\n",
       "      <th>6262694</th>\n",
       "      <td>0x88d9e872a9e39f3d:0x5de29f50507e5d73</td>\n",
       "      <td>Animal feed store</td>\n",
       "    </tr>\n",
       "    <tr>\n",
       "      <th>6262695</th>\n",
       "      <td>0x54956b3944b1654d:0x7797cead9a485c22</td>\n",
       "      <td>Lodging</td>\n",
       "    </tr>\n",
       "  </tbody>\n",
       "</table>\n",
       "<p>6211324 rows × 2 columns</p>\n",
       "</div>"
      ],
      "text/plain": [
       "                                        gmapid           categoria\n",
       "0        0x88f16e41928ff687:0x883dad4fd048e8f8            Pharmacy\n",
       "1        0x80c2c98c0e3c16fd:0x29ec8a728764fdf9    Textile exporter\n",
       "2        0x80c2c778e3b73d33:0xbdc58662a4a97d49   Korean restaurant\n",
       "3         0x80c2c89923b27a41:0x32041559418d447        Fabric store\n",
       "4        0x80c2c632f933b073:0xc31785961fe826a6        Fabric store\n",
       "...                                        ...                 ...\n",
       "6262691  0x89c6c74f43a49b55:0x6be6995921c58b12  Seafood restaurant\n",
       "6262692  0x89da1787d3fdc4a5:0xce92ea6e3cd4d1cc    Chevrolet dealer\n",
       "6262693  0x89da6b9ce832726f:0xbd0d3630f1e3b42e        Veterinarian\n",
       "6262694  0x88d9e872a9e39f3d:0x5de29f50507e5d73   Animal feed store\n",
       "6262695  0x54956b3944b1654d:0x7797cead9a485c22             Lodging\n",
       "\n",
       "[6211324 rows x 2 columns]"
      ]
     },
     "execution_count": 27,
     "metadata": {},
     "output_type": "execute_result"
    }
   ],
   "source": [
    "df_categoria"
   ]
  },
  {
   "cell_type": "code",
   "execution_count": 28,
   "id": "a19e9646-c091-4f47-9b1e-ce3d3db79b40",
   "metadata": {},
   "outputs": [
    {
     "name": "stdout",
     "output_type": "stream",
     "text": [
      "<class 'pandas.core.frame.DataFrame'>\n",
      "Index: 6211324 entries, 0 to 6262695\n",
      "Data columns (total 2 columns):\n",
      " #   Column     Dtype \n",
      "---  ------     ----- \n",
      " 0   gmapid     object\n",
      " 1   categoria  object\n",
      "dtypes: object(2)\n",
      "memory usage: 142.2+ MB\n"
     ]
    }
   ],
   "source": [
    "df_categoria.info()"
   ]
  },
  {
   "cell_type": "code",
   "execution_count": 29,
   "id": "5ce6c1ab-7bf0-4dd0-bf0a-8c696b78ef2b",
   "metadata": {},
   "outputs": [
    {
     "data": {
      "text/html": [
       "<div>\n",
       "<style scoped>\n",
       "    .dataframe tbody tr th:only-of-type {\n",
       "        vertical-align: middle;\n",
       "    }\n",
       "\n",
       "    .dataframe tbody tr th {\n",
       "        vertical-align: top;\n",
       "    }\n",
       "\n",
       "    .dataframe thead th {\n",
       "        text-align: right;\n",
       "    }\n",
       "</style>\n",
       "<table border=\"1\" class=\"dataframe\">\n",
       "  <thead>\n",
       "    <tr style=\"text-align: right;\">\n",
       "      <th></th>\n",
       "      <th>gmapid</th>\n",
       "      <th>categoria</th>\n",
       "    </tr>\n",
       "  </thead>\n",
       "  <tbody>\n",
       "    <tr>\n",
       "      <th>count</th>\n",
       "      <td>6211324</td>\n",
       "      <td>6211324</td>\n",
       "    </tr>\n",
       "    <tr>\n",
       "      <th>unique</th>\n",
       "      <td>2981245</td>\n",
       "      <td>4471</td>\n",
       "    </tr>\n",
       "    <tr>\n",
       "      <th>top</th>\n",
       "      <td>0x89c24484b823fed3:0x74f6329f85c4f381</td>\n",
       "      <td>Restaurant</td>\n",
       "    </tr>\n",
       "    <tr>\n",
       "      <th>freq</th>\n",
       "      <td>32</td>\n",
       "      <td>96738</td>\n",
       "    </tr>\n",
       "  </tbody>\n",
       "</table>\n",
       "</div>"
      ],
      "text/plain": [
       "                                       gmapid   categoria\n",
       "count                                 6211324     6211324\n",
       "unique                                2981245        4471\n",
       "top     0x89c24484b823fed3:0x74f6329f85c4f381  Restaurant\n",
       "freq                                       32       96738"
      ]
     },
     "execution_count": 29,
     "metadata": {},
     "output_type": "execute_result"
    }
   ],
   "source": [
    "df_categoria.describe()"
   ]
  },
  {
   "cell_type": "code",
   "execution_count": 30,
   "id": "b810154d-85d0-4e5a-968d-3916488d5ddb",
   "metadata": {},
   "outputs": [
    {
     "data": {
      "application/vnd.jupyter.widget-view+json": {
       "model_id": "099aaad7f7e24eb8aef4298fae0ade62",
       "version_major": 2,
       "version_minor": 0
      },
      "text/plain": [
       "Summarize dataset:   0%|          | 0/5 [00:00<?, ?it/s]"
      ]
     },
     "metadata": {},
     "output_type": "display_data"
    },
    {
     "data": {
      "application/vnd.jupyter.widget-view+json": {
       "model_id": "cb490fe3158a4517a28f5159c500437a",
       "version_major": 2,
       "version_minor": 0
      },
      "text/plain": [
       "Generate report structure:   0%|          | 0/1 [00:00<?, ?it/s]"
      ]
     },
     "metadata": {},
     "output_type": "display_data"
    },
    {
     "data": {
      "application/vnd.jupyter.widget-view+json": {
       "model_id": "0549004905ac4bcc955336edd08c27f9",
       "version_major": 2,
       "version_minor": 0
      },
      "text/plain": [
       "Render HTML:   0%|          | 0/1 [00:00<?, ?it/s]"
      ]
     },
     "metadata": {},
     "output_type": "display_data"
    },
    {
     "data": {
      "application/vnd.jupyter.widget-view+json": {
       "model_id": "83e3e85fab244fb18750381162b132ad",
       "version_major": 2,
       "version_minor": 0
      },
      "text/plain": [
       "Export report to file:   0%|          | 0/1 [00:00<?, ?it/s]"
      ]
     },
     "metadata": {},
     "output_type": "display_data"
    },
    {
     "data": {
      "text/plain": [
       "False"
      ]
     },
     "execution_count": 30,
     "metadata": {},
     "output_type": "execute_result"
    }
   ],
   "source": [
    "# Generar el informe de análisis\n",
    "profile = pandas_profiling.ProfileReport(df_categoria)\n",
    "\n",
    "# Mostrar el informe\n",
    "profile.to_file(\"metadata-sitios-category-detalle.html\")\n",
    "webbrowser.open(\"metadata-sitios-category-detalle.html\")"
   ]
  }
 ],
 "metadata": {
  "environment": {
   "kernel": "conda-root-py",
   "name": "workbench-notebooks.m111",
   "type": "gcloud",
   "uri": "gcr.io/deeplearning-platform-release/workbench-notebooks:m111"
  },
  "kernelspec": {
   "display_name": "Python 3",
   "language": "python",
   "name": "conda-root-py"
  },
  "language_info": {
   "codemirror_mode": {
    "name": "ipython",
    "version": 3
   },
   "file_extension": ".py",
   "mimetype": "text/x-python",
   "name": "python",
   "nbconvert_exporter": "python",
   "pygments_lexer": "ipython3",
   "version": "3.10.12"
  }
 },
 "nbformat": 4,
 "nbformat_minor": 5
}
